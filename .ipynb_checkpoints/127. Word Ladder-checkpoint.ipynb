{
 "cells": [
  {
   "cell_type": "code",
   "execution_count": 27,
   "metadata": {
    "collapsed": true
   },
   "outputs": [],
   "source": [
    "def ladderLength(beginWord, endWord, wordList):\n",
    "    def construct_dict(wordList):\n",
    "        d = {}\n",
    "        #\n",
    "        # o(n)\n",
    "        #if beginWord not in wordList:\n",
    "        #    wordList.append(beginWord)\n",
    "        for word in wordList:\n",
    "            for i in range(len(word)):\n",
    "                s = word[:i] + \"_\" + word[i+1:]\n",
    "                if s not in d:\n",
    "                    d[s]={word}\n",
    "                else:\n",
    "                    d[s].add(word)\n",
    "                    #d[s] = d.get(s, ) + [word]\n",
    "        return d\n",
    "        \n",
    "    queue = [beginWord]\n",
    "    unseen = set(wordList)\n",
    "    unseen.add(beginWord)\n",
    "    seen = set()\n",
    "    wordDict = construct_dict(unseen)\n",
    "    #print(wordDict)\n",
    "    #return wordDict\n",
    "    #minTrans = float('inf')\n",
    "    count=1\n",
    "    while len(queue)!=0:\n",
    "        count += 1\n",
    "        curLen = len(queue)\n",
    "        temp = []\n",
    "        for _ in range(curLen):\n",
    "            curWord=queue.pop()\n",
    "            seen.add(curWord)\n",
    "            temp.append(curWord)\n",
    "        for curWord in temp:\n",
    "            neighWords = set()\n",
    "            for i in range(len(curWord)):\n",
    "                \n",
    "                s = curWord[:i] + \"_\" + curWord[i+1:]\n",
    "                #print(wordDict[s])\n",
    "                if s in wordDict:\n",
    "                    neighWords = neighWords | wordDict[s]\n",
    "            \n",
    "            #if curWord not in wordDict:\n",
    "            #    continue\n",
    "            #print(neighWords)\n",
    "            for elem in neighWords-seen:\n",
    "                if elem==endWord:\n",
    "                    return count\n",
    "                else:\n",
    "                    queue.append(elem)\n",
    "    return 0"
   ]
  },
  {
   "cell_type": "code",
   "execution_count": 26,
   "metadata": {
    "collapsed": false
   },
   "outputs": [
    {
     "data": {
      "text/plain": [
       "5"
      ]
     },
     "execution_count": 26,
     "metadata": {},
     "output_type": "execute_result"
    }
   ],
   "source": [
    "ladderLength(\"hit\",\"cog\",[\"hot\",\"dot\",\"dog\",\"lot\",\"log\",\"cog\"])"
   ]
  },
  {
   "cell_type": "code",
   "execution_count": null,
   "metadata": {
    "collapsed": true
   },
   "outputs": [],
   "source": []
  }
 ],
 "metadata": {
  "anaconda-cloud": {},
  "kernelspec": {
   "display_name": "Python [conda root]",
   "language": "python",
   "name": "conda-root-py"
  },
  "language_info": {
   "codemirror_mode": {
    "name": "ipython",
    "version": 3
   },
   "file_extension": ".py",
   "mimetype": "text/x-python",
   "name": "python",
   "nbconvert_exporter": "python",
   "pygments_lexer": "ipython3",
   "version": "3.5.2"
  }
 },
 "nbformat": 4,
 "nbformat_minor": 2
}
