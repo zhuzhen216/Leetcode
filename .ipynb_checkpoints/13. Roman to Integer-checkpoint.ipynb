{
 "cells": [
  {
   "cell_type": "code",
   "execution_count": 7,
   "metadata": {
    "collapsed": true
   },
   "outputs": [],
   "source": [
    "def roman2int(string):\n",
    "    values = {'I':1,'V':5,'X':10,'L':50, 'C':100, 'D':500, 'M':1000}\n",
    "    res = 0\n",
    "    pre = values[string[0].upper()]\n",
    "    for char in string[1:]:\n",
    "        cur = values[char.upper()]\n",
    "        if pre < cur:\n",
    "            res -= pre\n",
    "        else:\n",
    "            res += pre\n",
    "        pre = cur\n",
    "    return res + pre"
   ]
  },
  {
   "cell_type": "code",
   "execution_count": 11,
   "metadata": {
    "collapsed": false
   },
   "outputs": [
    {
     "data": {
      "text/plain": [
       "'ABC'"
      ]
     },
     "execution_count": 11,
     "metadata": {},
     "output_type": "execute_result"
    }
   ],
   "source": [
    "'abc'.upper()"
   ]
  },
  {
   "cell_type": "code",
   "execution_count": 10,
   "metadata": {
    "collapsed": false
   },
   "outputs": [
    {
     "data": {
      "text/plain": [
       "1504"
      ]
     },
     "execution_count": 10,
     "metadata": {},
     "output_type": "execute_result"
    }
   ],
   "source": [
    "roman2int('MDIV')"
   ]
  },
  {
   "cell_type": "code",
   "execution_count": 13,
   "metadata": {
    "collapsed": false
   },
   "outputs": [],
   "source": [
    "def roman2int_pra(string):\n",
    "    values = {'I':1,'V':5,'X':10,'L':50, 'C':100, 'D':500, 'M':1000}\n",
    "    ret = 0\n",
    "    pre = values[string[0].upper()]\n",
    "    for char in string.upper()[1:]:\n",
    "        cur = values[char]\n",
    "        if pre < cur:\n",
    "            ret -= pre\n",
    "        else:\n",
    "            ret += pre\n",
    "        pre = cur\n",
    "    return ret + pre"
   ]
  },
  {
   "cell_type": "code",
   "execution_count": null,
   "metadata": {
    "collapsed": true
   },
   "outputs": [],
   "source": []
  }
 ],
 "metadata": {
  "anaconda-cloud": {},
  "kernelspec": {
   "display_name": "Python [conda root]",
   "language": "python",
   "name": "conda-root-py"
  },
  "language_info": {
   "codemirror_mode": {
    "name": "ipython",
    "version": 3
   },
   "file_extension": ".py",
   "mimetype": "text/x-python",
   "name": "python",
   "nbconvert_exporter": "python",
   "pygments_lexer": "ipython3",
   "version": "3.5.2"
  }
 },
 "nbformat": 4,
 "nbformat_minor": 2
}
