{
 "cells": [
  {
   "cell_type": "code",
   "execution_count": 1,
   "metadata": {
    "collapsed": true
   },
   "outputs": [],
   "source": [
    "def evalRPN(tokens):\n",
    "    stack = []\n",
    "    for token in tokens:\n",
    "        if token not in ['+','-','*','/']:\n",
    "            stack.append(token)\n",
    "        else:\n",
    "            right = int(stack.pop())\n",
    "            left = int(stack.pop())\n",
    "            if token == '+':\n",
    "                stack.append(right+left)\n",
    "            elif token == '-':\n",
    "                stack.append(left-right)\n",
    "            elif token == '*':\n",
    "                stack.append(left*right)\n",
    "            else:\n",
    "                if left*right < 0 and left%right !=0:\n",
    "                    stack.append(left//right+1)\n",
    "                else:\n",
    "                    stack.append(left//right)\n",
    "    return stack[0]"
   ]
  },
  {
   "cell_type": "code",
   "execution_count": null,
   "metadata": {
    "collapsed": true
   },
   "outputs": [],
   "source": [
    "evalRPN()"
   ]
  }
 ],
 "metadata": {
  "kernelspec": {
   "display_name": "Python [conda root]",
   "language": "python",
   "name": "conda-root-py"
  },
  "language_info": {
   "codemirror_mode": {
    "name": "ipython",
    "version": 3
   },
   "file_extension": ".py",
   "mimetype": "text/x-python",
   "name": "python",
   "nbconvert_exporter": "python",
   "pygments_lexer": "ipython3",
   "version": "3.5.2"
  }
 },
 "nbformat": 4,
 "nbformat_minor": 2
}
