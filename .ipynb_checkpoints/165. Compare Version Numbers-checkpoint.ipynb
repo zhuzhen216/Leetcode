{
 "cells": [
  {
   "cell_type": "code",
   "execution_count": 3,
   "metadata": {
    "collapsed": true
   },
   "outputs": [],
   "source": [
    "def compareVersion(version1,version2):\n",
    "    \"\"\"\n",
    "    version1 = '0.0.10'\n",
    "    version2 = '0.1'\n",
    "    The traps here is 1. multiple '.'; 2. not equal length\n",
    "    \"\"\"\n",
    "    versionOne = [int(elem) for elem in version1.split('.')]\n",
    "    versionTwo = [int(elem) for elem in version2.split('.')]\n",
    "    if len(versionOne)< len(versionTwo):\n",
    "        for _ in range(len(versionTwo)-len(versionOne)):\n",
    "            versionOne.append(0)\n",
    "    else:\n",
    "        for _ in range(len(versionOne)-len(versionTwo)):\n",
    "            versionTwo.append(0)\n",
    "    for i in range(len(versionOne)):\n",
    "        if versionOne[i]==versionTwo[i]:\n",
    "            continue\n",
    "        elif versionOne[i]>versionTwo[i]:\n",
    "            return 1\n",
    "        else:\n",
    "            return -1\n",
    "    return 0"
   ]
  },
  {
   "cell_type": "code",
   "execution_count": null,
   "metadata": {
    "collapsed": true
   },
   "outputs": [],
   "source": []
  }
 ],
 "metadata": {
  "anaconda-cloud": {},
  "kernelspec": {
   "display_name": "Python [conda root]",
   "language": "python",
   "name": "conda-root-py"
  },
  "language_info": {
   "codemirror_mode": {
    "name": "ipython",
    "version": 3
   },
   "file_extension": ".py",
   "mimetype": "text/x-python",
   "name": "python",
   "nbconvert_exporter": "python",
   "pygments_lexer": "ipython3",
   "version": "3.5.2"
  }
 },
 "nbformat": 4,
 "nbformat_minor": 2
}
