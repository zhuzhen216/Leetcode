{
 "cells": [
  {
   "cell_type": "code",
   "execution_count": 5,
   "metadata": {
    "collapsed": true
   },
   "outputs": [],
   "source": [
    "def letterCombinations(digits):\n",
    "    \"\"\"\n",
    "    dynamic programing;\n",
    "    save every solution in the array db\n",
    "    db[i+1] =[elem + char for elem in db[i] for char in dictNum[numChar]]\n",
    "    \"\"\"\n",
    "    dictNum ={'1':[''],'2':['a','b','c'],'3':['d','e','f'],'4':['g','h','i'],'5':['j','k','l'],'6':['m','n','o'],'7':['p','q','r','s'],'8':['t','u','v'],'9':['w','x','y','z'],'0':[' ']}\n",
    "    if digits is None or len(digits)==0:\n",
    "        return []\n",
    "    db = [[] for _ in range(len(digits)+1)]\n",
    "    db[0].append('')\n",
    "    for i,numChar in enumerate(digits):\n",
    "        for char in dictNum[numChar]:\n",
    "            for elem in db[i]:\n",
    "                db[i+1].append(elem+char)\n",
    "    return db[len(digits)]"
   ]
  },
  {
   "cell_type": "code",
   "execution_count": 4,
   "metadata": {
    "collapsed": false
   },
   "outputs": [
    {
     "data": {
      "text/plain": [
       "['da', 'ea', 'fa', 'db', 'eb', 'fb', 'dc', 'ec', 'fc']"
      ]
     },
     "execution_count": 4,
     "metadata": {},
     "output_type": "execute_result"
    }
   ],
   "source": [
    "letterCombinations('321')"
   ]
  },
  {
   "cell_type": "code",
   "execution_count": null,
   "metadata": {
    "collapsed": true
   },
   "outputs": [],
   "source": []
  }
 ],
 "metadata": {
  "kernelspec": {
   "display_name": "Python [conda root]",
   "language": "python",
   "name": "conda-root-py"
  },
  "language_info": {
   "codemirror_mode": {
    "name": "ipython",
    "version": 3
   },
   "file_extension": ".py",
   "mimetype": "text/x-python",
   "name": "python",
   "nbconvert_exporter": "python",
   "pygments_lexer": "ipython3",
   "version": "3.5.2"
  }
 },
 "nbformat": 4,
 "nbformat_minor": 2
}
