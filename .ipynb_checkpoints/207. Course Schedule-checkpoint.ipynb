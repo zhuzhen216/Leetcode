{
 "cells": [
  {
   "cell_type": "code",
   "execution_count": 17,
   "metadata": {
    "collapsed": false
   },
   "outputs": [],
   "source": [
    "def canFinish(numCourses, prerequisites):\n",
    "    graph = {}\n",
    "    for x,y in prerequisites:\n",
    "        if x in graph:\n",
    "            graph[x].append(y)\n",
    "        else:\n",
    "            graph[x]=[y]\n",
    "    course = [0 for _ in range(numCourses)]\n",
    "    \n",
    "    def dfs(i):\n",
    "        if course[i]==1:\n",
    "            return True\n",
    "        if course[i]==-1:\n",
    "            return False\n",
    "        if i not in graph:\n",
    "            course[i]=1\n",
    "            return True\n",
    "        course[i]=-1\n",
    "        for j in graph[i]:\n",
    "            if not dfs(j):\n",
    "                return False\n",
    "        else:\n",
    "            course[i]=1\n",
    "            return True\n",
    "    \n",
    "    for i in range(numCourses):\n",
    "        if not dfs(i):\n",
    "            return False\n",
    "    else:\n",
    "        return True"
   ]
  },
  {
   "cell_type": "code",
   "execution_count": 18,
   "metadata": {
    "collapsed": false
   },
   "outputs": [
    {
     "data": {
      "text/plain": [
       "True"
      ]
     },
     "execution_count": 18,
     "metadata": {},
     "output_type": "execute_result"
    }
   ],
   "source": [
    "canFinish(3,[[1,0],[0,2]])"
   ]
  },
  {
   "cell_type": "code",
   "execution_count": 27,
   "metadata": {
    "collapsed": true
   },
   "outputs": [],
   "source": [
    "def canFinish2(numCourse,prerequisites):\n",
    "    graph = {}\n",
    "    req = {}\n",
    "    for x,y in prerequisites:\n",
    "        if x in graph:\n",
    "            graph[x].append(y)\n",
    "        else:\n",
    "            graph[x]=[y]\n",
    "        if y in req:\n",
    "            req[y].append(x)\n",
    "        else:\n",
    "            req[y]=[x]\n",
    "    stack = [i for i in range(numCourse) if i not in graph]\n",
    "    count = 0\n",
    "    ret = []\n",
    "    print(stack)\n",
    "    while stack:\n",
    "        node = stack.pop(0)\n",
    "        ret.append(node)\n",
    "        count += 1\n",
    "        if node not in req:\n",
    "            continue\n",
    "        #ret.append\n",
    "        for i in req[node]:\n",
    "            graph[i].remove(node)\n",
    "            if not graph[i]:\n",
    "                stack.append(i)\n",
    "    print\n",
    "    return ret if count == numCourse else []"
   ]
  },
  {
   "cell_type": "code",
   "execution_count": 26,
   "metadata": {
    "collapsed": false
   },
   "outputs": [
    {
     "name": "stdout",
     "output_type": "stream",
     "text": [
      "[2]\n"
     ]
    },
    {
     "data": {
      "text/plain": [
       "[2, 0, 1]"
      ]
     },
     "execution_count": 26,
     "metadata": {},
     "output_type": "execute_result"
    }
   ],
   "source": [
    "canFinish2(3,[[1,0],[0,2]])"
   ]
  },
  {
   "cell_type": "code",
   "execution_count": null,
   "metadata": {
    "collapsed": true
   },
   "outputs": [],
   "source": []
  }
 ],
 "metadata": {
  "kernelspec": {
   "display_name": "Python [conda root]",
   "language": "python",
   "name": "conda-root-py"
  },
  "language_info": {
   "codemirror_mode": {
    "name": "ipython",
    "version": 3
   },
   "file_extension": ".py",
   "mimetype": "text/x-python",
   "name": "python",
   "nbconvert_exporter": "python",
   "pygments_lexer": "ipython3",
   "version": "3.5.2"
  }
 },
 "nbformat": 4,
 "nbformat_minor": 2
}
