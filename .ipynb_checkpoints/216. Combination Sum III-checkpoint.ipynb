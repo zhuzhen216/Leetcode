{
 "cells": [
  {
   "cell_type": "code",
   "execution_count": 6,
   "metadata": {
    "collapsed": true
   },
   "outputs": [],
   "source": [
    "def findComb(k,n):\n",
    "    \"\"\"\n",
    "    the pitfall here is: exclude duplicated sets. One way to achieve this is\n",
    "    setting a 'start' value. Then, we will always add small numbers first and larger numbers\n",
    "    later.\n",
    "    \"\"\"\n",
    "    ret = []\n",
    "    visited = {}\n",
    "    for i in range(1,10):\n",
    "        visited[i]=False\n",
    "    nums = []\n",
    "    def getComb(ret,nums,visited,start,k,n):\n",
    "        if n<0:\n",
    "            return\n",
    "        if k==0:\n",
    "            if n==0:\n",
    "                ret.append(list(nums))\n",
    "            return\n",
    "        for i in range(start,10):\n",
    "            if visited[i]:\n",
    "                return\n",
    "            visited[i]=True\n",
    "            nums.append(i)\n",
    "            getComb(ret,nums,visited,i+1,k-1,n-i)\n",
    "            nums.pop()\n",
    "            visited[i]=False\n",
    "    getComb(ret,nums,visited,1,k,n)\n",
    "    return ret"
   ]
  },
  {
   "cell_type": "code",
   "execution_count": 3,
   "metadata": {
    "collapsed": false
   },
   "outputs": [
    {
     "data": {
      "text/plain": [
       "[[1, 4], [2, 3]]"
      ]
     },
     "execution_count": 3,
     "metadata": {},
     "output_type": "execute_result"
    }
   ],
   "source": [
    "findComb(2,5)"
   ]
  },
  {
   "cell_type": "code",
   "execution_count": null,
   "metadata": {
    "collapsed": true
   },
   "outputs": [],
   "source": []
  }
 ],
 "metadata": {
  "kernelspec": {
   "display_name": "Python [conda root]",
   "language": "python",
   "name": "conda-root-py"
  },
  "language_info": {
   "codemirror_mode": {
    "name": "ipython",
    "version": 3
   },
   "file_extension": ".py",
   "mimetype": "text/x-python",
   "name": "python",
   "nbconvert_exporter": "python",
   "pygments_lexer": "ipython3",
   "version": "3.5.2"
  }
 },
 "nbformat": 4,
 "nbformat_minor": 2
}
