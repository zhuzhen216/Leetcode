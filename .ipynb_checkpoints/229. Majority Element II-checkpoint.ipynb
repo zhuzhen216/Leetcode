{
 "cells": [
  {
   "cell_type": "code",
   "execution_count": 1,
   "metadata": {
    "collapsed": true
   },
   "outputs": [],
   "source": [
    "def findMaj(nums):\n",
    "    countOne, countTwo, candOne, candTwo = 0,0,0,1\n",
    "    for num in nums:\n",
    "        if num == candOne:\n",
    "            countOne += 1\n",
    "        elif num == candTwo:\n",
    "            countTwo += 1\n",
    "        elif countOne == 0:\n",
    "            countOne, candOne = 1, num\n",
    "        elif countTwo == 0:\n",
    "            countTwo, candTwo = 1, num\n",
    "        else:\n",
    "            countOne -= 1\n",
    "            countTwo -= 1\n",
    "    return [num for num in (candOne,candTwo) if nums.count(num)>len(nums)//3]"
   ]
  },
  {
   "cell_type": "code",
   "execution_count": null,
   "metadata": {
    "collapsed": true
   },
   "outputs": [],
   "source": []
  }
 ],
 "metadata": {
  "anaconda-cloud": {},
  "kernelspec": {
   "display_name": "Python [conda root]",
   "language": "python",
   "name": "conda-root-py"
  },
  "language_info": {
   "codemirror_mode": {
    "name": "ipython",
    "version": 3
   },
   "file_extension": ".py",
   "mimetype": "text/x-python",
   "name": "python",
   "nbconvert_exporter": "python",
   "pygments_lexer": "ipython3",
   "version": "3.5.2"
  }
 },
 "nbformat": 4,
 "nbformat_minor": 2
}
