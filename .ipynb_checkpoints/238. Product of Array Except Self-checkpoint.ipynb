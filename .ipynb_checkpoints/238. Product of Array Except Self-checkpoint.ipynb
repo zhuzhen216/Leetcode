{
 "cells": [
  {
   "cell_type": "code",
   "execution_count": 1,
   "metadata": {
    "collapsed": true
   },
   "outputs": [],
   "source": [
    "def productExceptSelf(nums):\n",
    "    \"\"\"\n",
    "    forward multiply, then multiply backward\n",
    "    \"\"\"\n",
    "    ret = [1 for _ in range(len(nums))]\n",
    "    for i in range(1,len(nums)):\n",
    "        ret[i]=ret[i-1]*nums[i-1]\n",
    "    p = 1\n",
    "    for i in reversed(range(len(nums))):\n",
    "        ret[i]=ret[i]*p\n",
    "        p = p * nums[i]\n",
    "    return ret"
   ]
  },
  {
   "cell_type": "code",
   "execution_count": 2,
   "metadata": {
    "collapsed": false
   },
   "outputs": [
    {
     "data": {
      "text/plain": [
       "[60, 20, 15, 12]"
      ]
     },
     "execution_count": 2,
     "metadata": {},
     "output_type": "execute_result"
    }
   ],
   "source": [
    "productExceptSelf([1,3,4,5])"
   ]
  },
  {
   "cell_type": "code",
   "execution_count": 7,
   "metadata": {
    "collapsed": true
   },
   "outputs": [],
   "source": [
    "def productExceptSelf2(nums):\n",
    "    \"\"\"\n",
    "    try dynamic programming\n",
    "    initialize a dictionary to store [the results + the total multiply]\n",
    "    for example:\n",
    "    {0:[1,1],1:[3,1,3],2:[12,4,3,12]...}\n",
    "    \"\"\"\n",
    "    dp = {0:[1,nums[0]]}\n",
    "    for i in range(1,len(nums)):\n",
    "        dp[i]=[]\n",
    "        for j in range(len(dp[i-1])-1):\n",
    "            dp[i].append(dp[i-1][j]*nums[i])\n",
    "        dp[i].append(dp[i-1][-1])\n",
    "        dp[i].append(dp[i-1][-1]*nums[i])\n",
    "    return dp[len(nums)-1][0:-1]"
   ]
  },
  {
   "cell_type": "code",
   "execution_count": 6,
   "metadata": {
    "collapsed": false
   },
   "outputs": [
    {
     "data": {
      "text/plain": [
       "[0, 0, 0, 0]"
      ]
     },
     "execution_count": 6,
     "metadata": {},
     "output_type": "execute_result"
    }
   ],
   "source": [
    "productExceptSelf2([1,3,0,0])"
   ]
  },
  {
   "cell_type": "code",
   "execution_count": null,
   "metadata": {
    "collapsed": true
   },
   "outputs": [],
   "source": []
  }
 ],
 "metadata": {
  "kernelspec": {
   "display_name": "Python [conda root]",
   "language": "python",
   "name": "conda-root-py"
  },
  "language_info": {
   "codemirror_mode": {
    "name": "ipython",
    "version": 3
   },
   "file_extension": ".py",
   "mimetype": "text/x-python",
   "name": "python",
   "nbconvert_exporter": "python",
   "pygments_lexer": "ipython3",
   "version": "3.5.2"
  }
 },
 "nbformat": 4,
 "nbformat_minor": 2
}
