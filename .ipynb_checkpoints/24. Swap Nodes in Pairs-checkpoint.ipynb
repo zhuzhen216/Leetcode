{
 "cells": [
  {
   "cell_type": "code",
   "execution_count": 1,
   "metadata": {
    "collapsed": true
   },
   "outputs": [],
   "source": [
    "def swapNodePair(head):\n",
    "    dummy = ListNode(0)\n",
    "    if head is None or head.next is None:\n",
    "        return head\n",
    "    pre = dummy\n",
    "    while head and head.next:\n",
    "        temp = head.next.next\n",
    "        pre.next = head.next\n",
    "        head.next.next = head\n",
    "        head.next = temp\n",
    "        pre = head\n",
    "        head = head.next\n",
    "    return dummy.next"
   ]
  },
  {
   "cell_type": "code",
   "execution_count": null,
   "metadata": {
    "collapsed": true
   },
   "outputs": [],
   "source": []
  }
 ],
 "metadata": {
  "kernelspec": {
   "display_name": "Python [conda root]",
   "language": "python",
   "name": "conda-root-py"
  },
  "language_info": {
   "codemirror_mode": {
    "name": "ipython",
    "version": 3
   },
   "file_extension": ".py",
   "mimetype": "text/x-python",
   "name": "python",
   "nbconvert_exporter": "python",
   "pygments_lexer": "ipython3",
   "version": "3.5.2"
  }
 },
 "nbformat": 4,
 "nbformat_minor": 2
}
