{
 "cells": [
  {
   "cell_type": "code",
   "execution_count": 1,
   "metadata": {
    "collapsed": true
   },
   "outputs": [],
   "source": [
    "def confRooms(intervals):\n",
    "    start = []\n",
    "    end = []\n",
    "    for i in intervals:\n",
    "        start.append(i[0])\n",
    "        end.append(i[1])\n",
    "    s = 0\n",
    "    e = 0\n",
    "    available = 0\n",
    "    roomCount = 0\n",
    "    while s < len(start):\n",
    "        if start[s]<end[e]:\n",
    "            if available == 0:\n",
    "                roomCount += 1\n",
    "            else:\n",
    "                available -= 1\n",
    "            s += 1\n",
    "        else:\n",
    "            available += 1\n",
    "            e += 1\n",
    "    return roomCount"
   ]
  },
  {
   "cell_type": "code",
   "execution_count": 3,
   "metadata": {
    "collapsed": false
   },
   "outputs": [
    {
     "data": {
      "text/plain": [
       "2"
      ]
     },
     "execution_count": 3,
     "metadata": {},
     "output_type": "execute_result"
    }
   ],
   "source": [
    "confRooms([[1,4],[2,3],[5,6]])"
   ]
  },
  {
   "cell_type": "code",
   "execution_count": null,
   "metadata": {
    "collapsed": true
   },
   "outputs": [],
   "source": []
  }
 ],
 "metadata": {
  "anaconda-cloud": {},
  "kernelspec": {
   "display_name": "Python [conda root]",
   "language": "python",
   "name": "conda-root-py"
  },
  "language_info": {
   "codemirror_mode": {
    "name": "ipython",
    "version": 3
   },
   "file_extension": ".py",
   "mimetype": "text/x-python",
   "name": "python",
   "nbconvert_exporter": "python",
   "pygments_lexer": "ipython3",
   "version": "3.5.2"
  }
 },
 "nbformat": 4,
 "nbformat_minor": 2
}
