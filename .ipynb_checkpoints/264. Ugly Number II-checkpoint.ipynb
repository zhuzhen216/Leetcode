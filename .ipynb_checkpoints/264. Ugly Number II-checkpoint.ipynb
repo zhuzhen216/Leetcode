{
 "cells": [
  {
   "cell_type": "code",
   "execution_count": 1,
   "metadata": {
    "collapsed": true
   },
   "outputs": [],
   "source": [
    "def uglyNum(n):\n",
    "    ugly = [1 for _ in range(n)]\n",
    "    p2 = 0\n",
    "    p3 = 0\n",
    "    p5 = 0\n",
    "    for i in range(1,n):\n",
    "        ugly[i] = min(ugly[p2]*2,ugly[p3]*3,ugly[p5]*5)\n",
    "        if ugly[i]==ugly[p2]*2:\n",
    "            p2 += 1\n",
    "        if ugly[i]==ugly[p3]*3:\n",
    "            p3 += 1\n",
    "        if ugly[i]==ugly[p5]*5:\n",
    "            p5 += 1\n",
    "    return ugly[n-1]"
   ]
  },
  {
   "cell_type": "code",
   "execution_count": 6,
   "metadata": {
    "collapsed": false
   },
   "outputs": [
    {
     "data": {
      "text/plain": [
       "12"
      ]
     },
     "execution_count": 6,
     "metadata": {},
     "output_type": "execute_result"
    }
   ],
   "source": [
    "uglyNum(10)"
   ]
  },
  {
   "cell_type": "code",
   "execution_count": null,
   "metadata": {
    "collapsed": true
   },
   "outputs": [],
   "source": []
  }
 ],
 "metadata": {
  "kernelspec": {
   "display_name": "Python [conda root]",
   "language": "python",
   "name": "conda-root-py"
  },
  "language_info": {
   "codemirror_mode": {
    "name": "ipython",
    "version": 3
   },
   "file_extension": ".py",
   "mimetype": "text/x-python",
   "name": "python",
   "nbconvert_exporter": "python",
   "pygments_lexer": "ipython3",
   "version": "3.5.2"
  }
 },
 "nbformat": 4,
 "nbformat_minor": 2
}
