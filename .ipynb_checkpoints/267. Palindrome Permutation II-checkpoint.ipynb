{
 "cells": [
  {
   "cell_type": "code",
   "execution_count": 12,
   "metadata": {
    "collapsed": true
   },
   "outputs": [],
   "source": [
    "def generatePalindromes(s):\n",
    "        \"\"\"\n",
    "        :type s: str\n",
    "        :rtype: List[str]\n",
    "        \"\"\"\n",
    "        def formPalind(string):\n",
    "            member = set()\n",
    "            for char in string:\n",
    "                if len(member)==0:\n",
    "                    member.add(char)\n",
    "                else:\n",
    "                    if char in member:\n",
    "                        member = member - {char}\n",
    "                    else:\n",
    "                        member.add(char)\n",
    "            return len(member)==0 or len(member)==1\n",
    "        \n",
    "        if not formPalind(s):\n",
    "            return []\n",
    "            \n",
    "        # set up dictionary\n",
    "        dict = {}\n",
    "        for char in s:\n",
    "            if char in dict:\n",
    "                dict[char]+=1\n",
    "            else:\n",
    "                dict[char]=1\n",
    "        \"\"\"\n",
    "        print(dict)\n",
    "        \"\"\"\n",
    "        odd = ''\n",
    "        charList = []\n",
    "        for elem in dict:\n",
    "            count = dict[elem]\n",
    "            if count%2:\n",
    "                odd = odd + elem\n",
    "                charList += [elem]*((count-1)//2)\n",
    "            else:\n",
    "                charList += [elem]*(count//2)\n",
    "        \"\"\"\n",
    "        print(charList)\n",
    "        \"\"\"\n",
    "        ret = ['']\n",
    "        for char in charList:\n",
    "            cur = []\n",
    "            for elemRet in ret:\n",
    "                \"\"\"\n",
    "                here, be careful!\n",
    "                i in range(len(elemRet)+1): there is +1 here because you also\n",
    "                want to add the new char to the end of the string.\n",
    "                \"\"\"\n",
    "                for i in range(len(elemRet)+1):\n",
    "                    cur.append(elemRet[0:i]+char+elemRet[i:])\n",
    "                    if i < len(elemRet) and elemRet[i]==char:\n",
    "                        break\n",
    "            ret = cur\n",
    "            print(ret)\n",
    "        for i in range(len(ret)):\n",
    "            ret[i]=ret[i]+odd+ret[i][::-1]\n",
    "        return ret"
   ]
  },
  {
   "cell_type": "code",
   "execution_count": 13,
   "metadata": {
    "collapsed": false
   },
   "outputs": [
    {
     "name": "stdout",
     "output_type": "stream",
     "text": [
      "['b']\n",
      "['ab', 'ba']\n"
     ]
    },
    {
     "data": {
      "text/plain": [
       "['abcba', 'bacab']"
      ]
     },
     "execution_count": 13,
     "metadata": {},
     "output_type": "execute_result"
    }
   ],
   "source": [
    "generatePalindromes('ababc')"
   ]
  },
  {
   "cell_type": "code",
   "execution_count": null,
   "metadata": {
    "collapsed": true
   },
   "outputs": [],
   "source": []
  }
 ],
 "metadata": {
  "anaconda-cloud": {},
  "kernelspec": {
   "display_name": "Python [conda root]",
   "language": "python",
   "name": "conda-root-py"
  },
  "language_info": {
   "codemirror_mode": {
    "name": "ipython",
    "version": 3
   },
   "file_extension": ".py",
   "mimetype": "text/x-python",
   "name": "python",
   "nbconvert_exporter": "python",
   "pygments_lexer": "ipython3",
   "version": "3.5.2"
  }
 },
 "nbformat": 4,
 "nbformat_minor": 2
}
