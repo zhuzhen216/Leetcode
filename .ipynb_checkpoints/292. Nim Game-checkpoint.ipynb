{
 "cells": [
  {
   "cell_type": "code",
   "execution_count": 3,
   "metadata": {
    "collapsed": true
   },
   "outputs": [],
   "source": [
    "def toWin(n):\n",
    "    \"\"\"\n",
    "    1. if n % 4 == 0: the first picker can never win; No matter how many nims he pick \n",
    "    (1,2,or 3), the second player will pick 4 - x nims;\n",
    "    2. if n%4!=0, then the first picker will pick n%4 for the first step.\n",
    "    \"\"\"\n",
    "    if n%4 == 0:\n",
    "        return False\n",
    "    else:\n",
    "        return True"
   ]
  },
  {
   "cell_type": "code",
   "execution_count": null,
   "metadata": {
    "collapsed": true
   },
   "outputs": [],
   "source": []
  }
 ],
 "metadata": {
  "anaconda-cloud": {},
  "kernelspec": {
   "display_name": "Python [conda root]",
   "language": "python",
   "name": "conda-root-py"
  },
  "language_info": {
   "codemirror_mode": {
    "name": "ipython",
    "version": 3
   },
   "file_extension": ".py",
   "mimetype": "text/x-python",
   "name": "python",
   "nbconvert_exporter": "python",
   "pygments_lexer": "ipython3",
   "version": "3.5.2"
  }
 },
 "nbformat": 4,
 "nbformat_minor": 2
}
