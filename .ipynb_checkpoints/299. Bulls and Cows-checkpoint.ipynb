{
 "cells": [
  {
   "cell_type": "code",
   "execution_count": 3,
   "metadata": {
    "collapsed": true
   },
   "outputs": [],
   "source": [
    "def bullsAndCows(secret,guess):\n",
    "    dictSecret = {}\n",
    "    dictGuess = {}\n",
    "    bull = 0\n",
    "    cow = 0\n",
    "    for i in range(len(secret)):\n",
    "        if secret[i]== guess[i]:\n",
    "            bull += 1\n",
    "            continue\n",
    "        dictSecret[secret[i]] = dictSecret.get(secret[i],0)+1\n",
    "        dictGuess[guess[i]] = dictGuess.get(guess[i],0)+1\n",
    "    \n",
    "    for elem in dictSecret:\n",
    "        if elem in dictGuess:\n",
    "            cow += min(dictSecret[elem],dictGuess[elem])\n",
    "    \n",
    "    return str(bull)+'A'+str(cow)+'B'\n",
    "        "
   ]
  },
  {
   "cell_type": "code",
   "execution_count": 4,
   "metadata": {
    "collapsed": false
   },
   "outputs": [
    {
     "data": {
      "text/plain": [
       "'0A4B'"
      ]
     },
     "execution_count": 4,
     "metadata": {},
     "output_type": "execute_result"
    }
   ],
   "source": [
    "bullsAndCows('1234','2143')"
   ]
  },
  {
   "cell_type": "code",
   "execution_count": null,
   "metadata": {
    "collapsed": true
   },
   "outputs": [],
   "source": []
  }
 ],
 "metadata": {
  "anaconda-cloud": {},
  "kernelspec": {
   "display_name": "Python [conda root]",
   "language": "python",
   "name": "conda-root-py"
  },
  "language_info": {
   "codemirror_mode": {
    "name": "ipython",
    "version": 3
   },
   "file_extension": ".py",
   "mimetype": "text/x-python",
   "name": "python",
   "nbconvert_exporter": "python",
   "pygments_lexer": "ipython3",
   "version": "3.5.2"
  }
 },
 "nbformat": 4,
 "nbformat_minor": 2
}
