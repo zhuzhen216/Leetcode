{
 "cells": [
  {
   "cell_type": "code",
   "execution_count": 3,
   "metadata": {
    "collapsed": true
   },
   "outputs": [],
   "source": [
    "def longestIncSub(nums):\n",
    "    \"\"\"\n",
    "    dynamic programming: o(n^2)\n",
    "    \"\"\"\n",
    "    if nums is None or len(nums)==0:\n",
    "        return 0\n",
    "    dp = [1 for _ in range(len(nums))]\n",
    "    for i in range(len(nums)):\n",
    "        for j in range(0,i):\n",
    "            if nums[j]<nums[i]:\n",
    "                dp[i]=max(dp[j]+1,dp[i])\n",
    "    return max(dp)"
   ]
  },
  {
   "cell_type": "code",
   "execution_count": 2,
   "metadata": {
    "collapsed": false
   },
   "outputs": [
    {
     "data": {
      "text/plain": [
       "4"
      ]
     },
     "execution_count": 2,
     "metadata": {},
     "output_type": "execute_result"
    }
   ],
   "source": [
    "longestIncSub([1,2,3,5,4])"
   ]
  },
  {
   "cell_type": "code",
   "execution_count": 4,
   "metadata": {
    "collapsed": true
   },
   "outputs": [],
   "source": [
    "def binarySearch(nums,target):\n",
    "    if nums is None or len(nums)==0:\n",
    "        return 0\n",
    "    i = 0\n",
    "    j = len(nums)-1\n",
    "    if target < nums[0]:\n",
    "        return 0\n",
    "    if target > nums[-1]:\n",
    "        return len(nums)\n",
    "    while i < j:\n",
    "        mid = (i+j)//2\n",
    "        if nums[mid]==target:\n",
    "            return mid\n",
    "        elif nums[mid]<target:\n",
    "            i = mid + 1\n",
    "        else:\n",
    "            j = mid"
   ]
  },
  {
   "cell_type": "code",
   "execution_count": 12,
   "metadata": {
    "collapsed": true
   },
   "outputs": [],
   "source": [
    "def longestIncSeq2(nums):\n",
    "    \"\"\"\n",
    "    1. the new num needs to be taken care of only when it is larger than some\n",
    "    of the elements in `tails`.\n",
    "    2. tails is ordered in a acending order\n",
    "    3. for binary search, the lower bound needs to go up by one\n",
    "    \"\"\"\n",
    "    tails = [0 for _ in range(len(nums))]\n",
    "    size = 0\n",
    "    for num in nums:\n",
    "        i = 0\n",
    "        j = size\n",
    "        while i != j:\n",
    "            mid =(i+j)//2\n",
    "            if tails[mid] == num:\n",
    "                i = mid\n",
    "                break\n",
    "            elif tails[mid]< num:\n",
    "                i = mid +1\n",
    "            else:\n",
    "                j = mid\n",
    "        tails[i]=num\n",
    "        size = max(i+1,size)\n",
    "    return size"
   ]
  },
  {
   "cell_type": "code",
   "execution_count": 13,
   "metadata": {
    "collapsed": false
   },
   "outputs": [
    {
     "data": {
      "text/plain": [
       "4"
      ]
     },
     "execution_count": 13,
     "metadata": {},
     "output_type": "execute_result"
    }
   ],
   "source": [
    "longestIncSeq2([10,9,2,5,3,7,101,18])"
   ]
  },
  {
   "cell_type": "code",
   "execution_count": null,
   "metadata": {
    "collapsed": true
   },
   "outputs": [],
   "source": []
  }
 ],
 "metadata": {
  "kernelspec": {
   "display_name": "Python [conda root]",
   "language": "python",
   "name": "conda-root-py"
  },
  "language_info": {
   "codemirror_mode": {
    "name": "ipython",
    "version": 3
   },
   "file_extension": ".py",
   "mimetype": "text/x-python",
   "name": "python",
   "nbconvert_exporter": "python",
   "pygments_lexer": "ipython3",
   "version": "3.5.2"
  }
 },
 "nbformat": 4,
 "nbformat_minor": 2
}
