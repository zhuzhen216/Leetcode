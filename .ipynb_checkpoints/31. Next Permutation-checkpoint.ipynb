{
 "cells": [
  {
   "cell_type": "code",
   "execution_count": 28,
   "metadata": {
    "collapsed": false
   },
   "outputs": [],
   "source": [
    "    def nextPermutation(nums):\n",
    "        \"\"\"\n",
    "        :type nums: List[int]\n",
    "        :rtype: void Do not return anything, modify nums in-place instead.\n",
    "        \"\"\"\n",
    "        #for i in reversed(range(1,len(nums))):\n",
    "        def reverseSort(nums,start,end):\n",
    "            length = end+start\n",
    "            while start < (length+1)//2:\n",
    "                nums[start],nums[end]=nums[end],nums[start]\n",
    "                start += 1\n",
    "                end -= 1\n",
    "        index = len(nums) - 1\n",
    "        while index > 0:\n",
    "            if nums[index]>nums[index-1]:\n",
    "                break\n",
    "            index -= 1\n",
    "        drop = index - 1\n",
    "        #print(nums)\n",
    "        #print(drop)\n",
    "        if drop == -1:\n",
    "            reverseSort(nums,0,len(nums)-1)\n",
    "            return\n",
    "        #print(nums)\n",
    "        else:\n",
    "            val = nums[drop]\n",
    "            print(val)\n",
    "            i = len(nums)-1\n",
    "            while i>drop:\n",
    "                if nums[i]>val:\n",
    "                    nums[i],nums[drop]=nums[drop],nums[i]\n",
    "                    break\n",
    "                i -= 1\n",
    "            print(nums)\n",
    "            reverseSort(nums,drop+1,len(nums)-1)\n",
    "            return"
   ]
  },
  {
   "cell_type": "code",
   "execution_count": 29,
   "metadata": {
    "collapsed": true
   },
   "outputs": [],
   "source": [
    "nums=[1,3,2]"
   ]
  },
  {
   "cell_type": "code",
   "execution_count": 30,
   "metadata": {
    "collapsed": false
   },
   "outputs": [
    {
     "name": "stdout",
     "output_type": "stream",
     "text": [
      "1\n",
      "[2, 3, 1]\n"
     ]
    }
   ],
   "source": [
    "nextPermutation(nums)"
   ]
  },
  {
   "cell_type": "code",
   "execution_count": 31,
   "metadata": {
    "collapsed": false
   },
   "outputs": [
    {
     "data": {
      "text/plain": [
       "[2, 1, 3]"
      ]
     },
     "execution_count": 31,
     "metadata": {},
     "output_type": "execute_result"
    }
   ],
   "source": [
    "nums"
   ]
  },
  {
   "cell_type": "code",
   "execution_count": null,
   "metadata": {
    "collapsed": true
   },
   "outputs": [],
   "source": []
  }
 ],
 "metadata": {
  "anaconda-cloud": {},
  "kernelspec": {
   "display_name": "Python [conda root]",
   "language": "python",
   "name": "conda-root-py"
  },
  "language_info": {
   "codemirror_mode": {
    "name": "ipython",
    "version": 3
   },
   "file_extension": ".py",
   "mimetype": "text/x-python",
   "name": "python",
   "nbconvert_exporter": "python",
   "pygments_lexer": "ipython3",
   "version": "3.5.2"
  }
 },
 "nbformat": 4,
 "nbformat_minor": 2
}
