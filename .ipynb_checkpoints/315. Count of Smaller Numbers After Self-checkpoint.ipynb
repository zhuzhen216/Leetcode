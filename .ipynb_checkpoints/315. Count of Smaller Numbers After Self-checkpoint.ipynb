{
 "cells": [
  {
   "cell_type": "code",
   "execution_count": 59,
   "metadata": {
    "collapsed": false
   },
   "outputs": [],
   "source": [
    "def countLeftSmall(nums):\n",
    "    def merge(enums):\n",
    "    #nonlocal results\n",
    "        half = len(enums)//2\n",
    "        if half:\n",
    "            left, right = merge(enums[0:half]),merge(enums[half:])\n",
    "            for i in reversed(range(len(enums))):\n",
    "                if not right or (left and left[-1][1]>right[-1][1]):\n",
    "                    results[left[-1][0]]+=len(right)\n",
    "                    enums[i]=left.pop()\n",
    "                else:\n",
    "                    enums[i]=right.pop()\n",
    "        return enums\n",
    "    results = [0 for _ in range(len(nums))]\n",
    "    enums = list(enumerate(nums))\n",
    "    merge(enums)\n",
    "    return results"
   ]
  },
  {
   "cell_type": "code",
   "execution_count": 60,
   "metadata": {
    "collapsed": false
   },
   "outputs": [
    {
     "data": {
      "text/plain": [
       "[5, 2, 2, 0, 2, 0, 0]"
      ]
     },
     "execution_count": 60,
     "metadata": {},
     "output_type": "execute_result"
    }
   ],
   "source": [
    "nums=[5, 2,2,1,6, 1,3]\n",
    "countLeftSmall(nums)\n",
    "#print(nums)"
   ]
  },
  {
   "cell_type": "code",
   "execution_count": 32,
   "metadata": {
    "collapsed": true
   },
   "outputs": [],
   "source": [
    "nums=[1,2,3,3,4]"
   ]
  },
  {
   "cell_type": "code",
   "execution_count": 34,
   "metadata": {
    "collapsed": false
   },
   "outputs": [
    {
     "data": {
      "text/plain": [
       "[(0, 1), (1, 2), (2, 3), (3, 3), (4, 4)]"
      ]
     },
     "execution_count": 34,
     "metadata": {},
     "output_type": "execute_result"
    }
   ],
   "source": [
    "list(enumerate(nums))"
   ]
  },
  {
   "cell_type": "code",
   "execution_count": null,
   "metadata": {
    "collapsed": true
   },
   "outputs": [],
   "source": []
  },
  {
   "cell_type": "code",
   "execution_count": 30,
   "metadata": {
    "collapsed": true
   },
   "outputs": [],
   "source": [
    "def countSmaller(nums):\n",
    "        \"\"\"\n",
    "        :type nums: List[int]\n",
    "        :rtype: List[int]\n",
    "        \"\"\"\n",
    "        #\n",
    "        # method 1:\n",
    "        #\n",
    "        if nums is None or len(nums)==0:\n",
    "            return []\n",
    "        results = [0 for _ in range(len(nums))]\n",
    "        def binarySearch(nums,curIndex):\n",
    "            #if nums[curIndex]<=nums[curIndex+1]:\n",
    "            #    return curIndex\n",
    "            left = curIndex+1\n",
    "            right = len(nums)\n",
    "            target = nums[curIndex]\n",
    "            while left < right:\n",
    "                mid =(left+right)//2\n",
    "                if nums[mid]>=target:\n",
    "                    right = mid\n",
    "                else:\n",
    "                    left = mid + 1\n",
    "            return left\n",
    "        def findReverse(nums,curIndex,results):\n",
    "            insertPos = binarySearch(nums,curIndex)\n",
    "            results[curIndex] = insertPos - curIndex - 1\n",
    "            \n",
    "            if insertPos == curIndex+1:\n",
    "                return\n",
    "            \n",
    "            temp = nums[curIndex]\n",
    "            i = curIndex\n",
    "            while i < insertPos-1:\n",
    "            #for i in range(curIndex,insertPos):\n",
    "                nums[i]=nums[i+1]\n",
    "                i += 1\n",
    "            nums[insertPos-1]=temp\n",
    "        for i in reversed(range(len(nums)-1)):\n",
    "            #print(nums)\n",
    "            findReverse(nums,i,results)\n",
    "        #print(nums)\n",
    "        return results"
   ]
  },
  {
   "cell_type": "code",
   "execution_count": 43,
   "metadata": {
    "collapsed": false
   },
   "outputs": [
    {
     "name": "stdout",
     "output_type": "stream",
     "text": [
      "[5, 2, 2, 1, 6, 1, 3]\n",
      "[5, 2, 2, 1, 6, 1, 3]\n",
      "[5, 2, 2, 1, 1, 3, 6]\n",
      "[5, 2, 2, 1, 1, 3, 6]\n",
      "[5, 2, 1, 1, 2, 3, 6]\n",
      "[5, 1, 1, 2, 2, 3, 6]\n",
      "[1, 1, 2, 2, 3, 5, 6]\n"
     ]
    },
    {
     "data": {
      "text/plain": [
       "[5, 2, 2, 0, 2, 0, 0]"
      ]
     },
     "execution_count": 43,
     "metadata": {},
     "output_type": "execute_result"
    }
   ],
   "source": [
    "nums=[5, 2,2,1,6, 1,3]\n",
    "countSmaller(nums)"
   ]
  },
  {
   "cell_type": "code",
   "execution_count": null,
   "metadata": {
    "collapsed": true
   },
   "outputs": [],
   "source": [
    "def binarySearch(nums,curIndex,start):\n",
    "            left = curIndex + 1\n",
    "            right = len(nums)-1\n",
    "            target = nums[curIndex]\n",
    "            while left < right:\n",
    "                mid =(left+right)//2\n",
    "                if nums[mid]>=target:\n",
    "                    right = mid\n",
    "                else:\n",
    "                    left = mid + 1\n",
    "            return left"
   ]
  },
  {
   "cell_type": "code",
   "execution_count": 63,
   "metadata": {
    "collapsed": true
   },
   "outputs": [],
   "source": [
    "a={1,2,3}"
   ]
  },
  {
   "cell_type": "code",
   "execution_count": 64,
   "metadata": {
    "collapsed": false
   },
   "outputs": [
    {
     "data": {
      "text/plain": [
       "{1, 2, 3}"
      ]
     },
     "execution_count": 64,
     "metadata": {},
     "output_type": "execute_result"
    }
   ],
   "source": [
    "a"
   ]
  },
  {
   "cell_type": "code",
   "execution_count": null,
   "metadata": {
    "collapsed": true
   },
   "outputs": [],
   "source": []
  }
 ],
 "metadata": {
  "anaconda-cloud": {},
  "kernelspec": {
   "display_name": "Python [conda root]",
   "language": "python",
   "name": "conda-root-py"
  },
  "language_info": {
   "codemirror_mode": {
    "name": "ipython",
    "version": 3
   },
   "file_extension": ".py",
   "mimetype": "text/x-python",
   "name": "python",
   "nbconvert_exporter": "python",
   "pygments_lexer": "ipython3",
   "version": "3.5.2"
  }
 },
 "nbformat": 4,
 "nbformat_minor": 2
}
