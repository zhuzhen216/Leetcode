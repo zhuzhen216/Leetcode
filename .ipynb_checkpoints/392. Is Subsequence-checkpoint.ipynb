{
 "cells": [
  {
   "cell_type": "code",
   "execution_count": 11,
   "metadata": {
    "collapsed": true
   },
   "outputs": [],
   "source": [
    "def isSubseq(s,t):\n",
    "    \"\"\"\n",
    "    1. time complexity O(len(t)) for each search;\n",
    "    2. when t is very long and you need to search multiple times, the method is not very efficient.\n",
    "    \"\"\"\n",
    "    i = 0\n",
    "    j = 0\n",
    "    while i < len(s) and j < len(t):\n",
    "        if s[i]==s[j]:\n",
    "            i += 1\n",
    "            j += 1\n",
    "        else:\n",
    "            j += 1\n",
    "    if i == len(s):\n",
    "        return True\n",
    "    else:\n",
    "        return False"
   ]
  },
  {
   "cell_type": "code",
   "execution_count": 10,
   "metadata": {
    "collapsed": false
   },
   "outputs": [
    {
     "data": {
      "text/plain": [
       "True"
      ]
     },
     "execution_count": 10,
     "metadata": {},
     "output_type": "execute_result"
    }
   ],
   "source": [
    "isSubseq('abc','daabacb')"
   ]
  },
  {
   "cell_type": "code",
   "execution_count": 3,
   "metadata": {
    "collapsed": true
   },
   "outputs": [],
   "source": [
    "a='abc'"
   ]
  },
  {
   "cell_type": "code",
   "execution_count": 6,
   "metadata": {
    "collapsed": false
   },
   "outputs": [
    {
     "name": "stdout",
     "output_type": "stream",
     "text": [
      "a\n",
      "b\n",
      "c\n"
     ]
    }
   ],
   "source": [
    "for char in iter(a):\n",
    "    print(char)"
   ]
  },
  {
   "cell_type": "code",
   "execution_count": 7,
   "metadata": {
    "collapsed": true
   },
   "outputs": [],
   "source": [
    "import bisect\n",
    "def isSubseq2(s,t):\n",
    "    \"\"\"\n",
    "    1. build the hash table: O(len(t)) for only once\n",
    "    2. each search needs O(len(s)*log(len(t)))\n",
    "    3. when t is large and you need to search words repeatly, it is more efficient\n",
    "    \"\"\"\n",
    "    def creatMap(s):\n",
    "        dict = {}\n",
    "        for i, char in enumerate(s):\n",
    "            if char not in dict:\n",
    "                dict[char]=[i]\n",
    "            else:\n",
    "                dict[char].append(i)\n",
    "        return dict\n",
    "    tMap = creatMap(t)\n",
    "    lowBound = 0\n",
    "    for char in s:\n",
    "        if char not in tMap:\n",
    "            return False\n",
    "        tempList = tMap[char]\n",
    "        #i = bisect.bisect_left(tempList,lowBound)\n",
    "        # binary search block\n",
    "        \n",
    "        i = 0\n",
    "        j = len(tempList)\n",
    "        while i!=j:\n",
    "            mid = (i+j)//2\n",
    "            if tempList[mid] < lowBound:\n",
    "                i = mid + 1\n",
    "            else:\n",
    "                j = mid\n",
    "        ###\n",
    "        if i == len(tempList):\n",
    "            return False\n",
    "        lowBound = tempList[i]\n",
    "    return True"
   ]
  },
  {
   "cell_type": "code",
   "execution_count": 3,
   "metadata": {
    "collapsed": false
   },
   "outputs": [
    {
     "data": {
      "text/plain": [
       "True"
      ]
     },
     "execution_count": 3,
     "metadata": {},
     "output_type": "execute_result"
    }
   ],
   "source": [
    "isSubseq2('acb',)"
   ]
  },
  {
   "cell_type": "code",
   "execution_count": 12,
   "metadata": {
    "collapsed": true
   },
   "outputs": [],
   "source": [
    "t='adbcfdddsbkkkkkkkkfdafgqgkdbjavgasdddpksiestsa'"
   ]
  },
  {
   "cell_type": "code",
   "execution_count": 13,
   "metadata": {
    "collapsed": true
   },
   "outputs": [],
   "source": [
    "code =['vasp','siesta','qe','qbox']"
   ]
  },
  {
   "cell_type": "code",
   "execution_count": 14,
   "metadata": {
    "collapsed": false
   },
   "outputs": [
    {
     "name": "stdout",
     "output_type": "stream",
     "text": [
      "vasp\n",
      "siesta\n",
      "qe\n"
     ]
    }
   ],
   "source": [
    "for string in code:\n",
    "    if isSubseq2(string,t):\n",
    "        print(string)"
   ]
  },
  {
   "cell_type": "code",
   "execution_count": null,
   "metadata": {
    "collapsed": true
   },
   "outputs": [],
   "source": []
  }
 ],
 "metadata": {
  "anaconda-cloud": {},
  "kernelspec": {
   "display_name": "Python [conda root]",
   "language": "python",
   "name": "conda-root-py"
  },
  "language_info": {
   "codemirror_mode": {
    "name": "ipython",
    "version": 3
   },
   "file_extension": ".py",
   "mimetype": "text/x-python",
   "name": "python",
   "nbconvert_exporter": "python",
   "pygments_lexer": "ipython3",
   "version": "3.5.2"
  }
 },
 "nbformat": 4,
 "nbformat_minor": 2
}
