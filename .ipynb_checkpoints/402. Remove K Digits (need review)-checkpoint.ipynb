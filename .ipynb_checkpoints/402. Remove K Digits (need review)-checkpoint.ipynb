{
 "cells": [
  {
   "cell_type": "code",
   "execution_count": 23,
   "metadata": {
    "collapsed": true
   },
   "outputs": [],
   "source": [
    "def rmKDigits(strNum,k):\n",
    "    \"\"\"\n",
    "    1. the idea is to find the peak in the num: namely strNum[i]>strNum[i+1]\n",
    "    2. time complexity: O(k*n)\n",
    "    \"\"\"\n",
    "    posNum = list(strNum)\n",
    "    if k >= len(posNum):\n",
    "        return '0'\n",
    "    #rmIndex = {}\n",
    "    \n",
    "    while k > 0:\n",
    "        i = 0\n",
    "        while i < len(posNum)-1 and ord(posNum[i]) <= ord(posNum[i+1]):\n",
    "            i += 1\n",
    "        #print(i)\n",
    "        posNum.pop(i)\n",
    "        k -= 1\n",
    "    i = 0\n",
    "    while i < len(posNum) and posNum[i]=='0':\n",
    "        i += 1\n",
    "        \n",
    "    res = ''\n",
    "    \n",
    "    if i == len(posNum):\n",
    "        return '0'\n",
    "    \n",
    "    for j in range(i,len(posNum)):\n",
    "        res = res + posNum[j]\n",
    "    return res"
   ]
  },
  {
   "cell_type": "code",
   "execution_count": 25,
   "metadata": {
    "collapsed": false
   },
   "outputs": [
    {
     "data": {
      "text/plain": [
       "'302630'"
      ]
     },
     "execution_count": 25,
     "metadata": {},
     "output_type": "execute_result"
    }
   ],
   "source": [
    "rmKDigits('34502630',2)"
   ]
  },
  {
   "cell_type": "code",
   "execution_count": 26,
   "metadata": {
    "collapsed": true
   },
   "outputs": [],
   "source": [
    "rmIndex ={}"
   ]
  },
  {
   "cell_type": "code",
   "execution_count": 7,
   "metadata": {
    "collapsed": false
   },
   "outputs": [],
   "source": [
    "rmIndex[1]=0"
   ]
  },
  {
   "cell_type": "code",
   "execution_count": 8,
   "metadata": {
    "collapsed": false
   },
   "outputs": [
    {
     "data": {
      "text/plain": [
       "{1: 0}"
      ]
     },
     "execution_count": 8,
     "metadata": {},
     "output_type": "execute_result"
    }
   ],
   "source": [
    "rmIndex"
   ]
  },
  {
   "cell_type": "code",
   "execution_count": null,
   "metadata": {
    "collapsed": true
   },
   "outputs": [],
   "source": []
  }
 ],
 "metadata": {
  "kernelspec": {
   "display_name": "Python [conda root]",
   "language": "python",
   "name": "conda-root-py"
  },
  "language_info": {
   "codemirror_mode": {
    "name": "ipython",
    "version": 3
   },
   "file_extension": ".py",
   "mimetype": "text/x-python",
   "name": "python",
   "nbconvert_exporter": "python",
   "pygments_lexer": "ipython3",
   "version": "3.5.2"
  }
 },
 "nbformat": 4,
 "nbformat_minor": 2
}
