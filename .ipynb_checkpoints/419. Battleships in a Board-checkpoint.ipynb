{
 "cells": [
  {
   "cell_type": "code",
   "execution_count": 8,
   "metadata": {
    "collapsed": true
   },
   "outputs": [],
   "source": [
    "def countBattleShip(matrix):\n",
    "    \"\"\"\n",
    "    countOne: count how many 'x' in the matrix\n",
    "    countTwo: count how many adjacent 'x' in the matrix\n",
    "    num of battleship: countOne - countTwo\n",
    "    \"\"\"\n",
    "    countOne = 0\n",
    "    countTwo = 0\n",
    "    width = len(matrix[0])\n",
    "    length = len(matrix)\n",
    "    for i in range(length):\n",
    "        for j in range(width):\n",
    "            if matrix[i][j]=='x':\n",
    "                countOne += 1\n",
    "    for i in range(length-1):\n",
    "        for j in range(width):\n",
    "            if matrix[i][j]=='x' and matrix[i+1][j]=='x':\n",
    "                countTwo += 1\n",
    "    \n",
    "    for i in range(length):\n",
    "        for j in range(width-1):\n",
    "            if matrix[i][j]=='x' and matrix[i][j+1]=='x':\n",
    "                countTwo += 1\n",
    "    \n",
    "    return countOne - countTwo"
   ]
  },
  {
   "cell_type": "code",
   "execution_count": 7,
   "metadata": {
    "collapsed": false
   },
   "outputs": [
    {
     "data": {
      "text/plain": [
       "2"
      ]
     },
     "execution_count": 7,
     "metadata": {},
     "output_type": "execute_result"
    }
   ],
   "source": [
    "countBattleShip([['x','x','x','x'],['.','.','.','.'],['x','x','.','.']])"
   ]
  },
  {
   "cell_type": "code",
   "execution_count": null,
   "metadata": {
    "collapsed": true
   },
   "outputs": [],
   "source": []
  }
 ],
 "metadata": {
  "anaconda-cloud": {},
  "kernelspec": {
   "display_name": "Python [conda root]",
   "language": "python",
   "name": "conda-root-py"
  },
  "language_info": {
   "codemirror_mode": {
    "name": "ipython",
    "version": 3
   },
   "file_extension": ".py",
   "mimetype": "text/x-python",
   "name": "python",
   "nbconvert_exporter": "python",
   "pygments_lexer": "ipython3",
   "version": "3.5.2"
  }
 },
 "nbformat": 4,
 "nbformat_minor": 2
}
