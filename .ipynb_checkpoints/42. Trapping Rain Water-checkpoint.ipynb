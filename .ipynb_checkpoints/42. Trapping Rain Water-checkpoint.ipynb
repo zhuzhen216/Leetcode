{
 "cells": [
  {
   "cell_type": "code",
   "execution_count": 2,
   "metadata": {
    "collapsed": true
   },
   "outputs": [],
   "source": [
    "def trapRainWater(height):\n",
    "    \"\"\"\n",
    "    1. similar to bucket problem, but here they are boxes;\n",
    "    2. keep tract of maxLeft and maxRight\n",
    "    3. only when current position is not maxLeft or maxRight, water can be trapped.\n",
    "    \"\"\"\n",
    "    maxLeft = 0\n",
    "    maxRight = 0\n",
    "    trapedWater = 0\n",
    "    left = 0\n",
    "    right = len(height) - 1\n",
    "    while left < right:\n",
    "        maxLeft = max(maxLeft, height[left])\n",
    "        maxRight = max(maxRight, height[right])\n",
    "        if maxLeft < maxRight:\n",
    "            trapedWater += maxLeft - height[left]\n",
    "            left += 1\n",
    "        else:\n",
    "            trapedWater += maxRight - height[right]\n",
    "            right -= 1\n",
    "    \n",
    "    return trapedWater"
   ]
  },
  {
   "cell_type": "code",
   "execution_count": null,
   "metadata": {
    "collapsed": true
   },
   "outputs": [],
   "source": []
  }
 ],
 "metadata": {
  "kernelspec": {
   "display_name": "Python [conda root]",
   "language": "python",
   "name": "conda-root-py"
  },
  "language_info": {
   "codemirror_mode": {
    "name": "ipython",
    "version": 3
   },
   "file_extension": ".py",
   "mimetype": "text/x-python",
   "name": "python",
   "nbconvert_exporter": "python",
   "pygments_lexer": "ipython3",
   "version": "3.5.2"
  }
 },
 "nbformat": 4,
 "nbformat_minor": 2
}
