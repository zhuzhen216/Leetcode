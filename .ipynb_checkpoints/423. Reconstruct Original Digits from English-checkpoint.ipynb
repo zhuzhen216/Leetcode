{
 "cells": [
  {
   "cell_type": "code",
   "execution_count": 6,
   "metadata": {
    "collapsed": false
   },
   "outputs": [
    {
     "data": {
      "text/plain": [
       "{'e': 9,\n",
       " 'f': 2,\n",
       " 'g': 1,\n",
       " 'h': 2,\n",
       " 'i': 4,\n",
       " 'n': 4,\n",
       " 'o': 4,\n",
       " 'r': 3,\n",
       " 's': 2,\n",
       " 't': 3,\n",
       " 'u': 1,\n",
       " 'v': 2,\n",
       " 'w': 1,\n",
       " 'x': 1,\n",
       " 'z': 1}"
      ]
     },
     "execution_count": 6,
     "metadata": {},
     "output_type": "execute_result"
    }
   ],
   "source": [
    "dict_num"
   ]
  },
  {
   "cell_type": "code",
   "execution_count": 8,
   "metadata": {
    "collapsed": false
   },
   "outputs": [
    {
     "data": {
      "text/plain": [
       "{'eight': 'g', 'four': 'u', 'six': 'x', 'two': 'w', 'zero': 'z'}"
      ]
     },
     "execution_count": 8,
     "metadata": {},
     "output_type": "execute_result"
    }
   ],
   "source": [
    "{'two': 'w', 'six':'x','four':'u','eight':'g','zero':'z'} # 1 to 1"
   ]
  },
  {
   "cell_type": "code",
   "execution_count": 9,
   "metadata": {
    "collapsed": false
   },
   "outputs": [
    {
     "data": {
      "text/plain": [
       "{'five': 'f', 'seven': 's'}"
      ]
     },
     "execution_count": 9,
     "metadata": {},
     "output_type": "execute_result"
    }
   ],
   "source": [
    "# next\n",
    "{'five':'f','seven':'s'}"
   ]
  },
  {
   "cell_type": "code",
   "execution_count": 10,
   "metadata": {
    "collapsed": false
   },
   "outputs": [
    {
     "data": {
      "text/plain": [
       "{'three': 'r'}"
      ]
     },
     "execution_count": 10,
     "metadata": {},
     "output_type": "execute_result"
    }
   ],
   "source": [
    "# next\n",
    "{'three':'r'}"
   ]
  },
  {
   "cell_type": "code",
   "execution_count": 11,
   "metadata": {
    "collapsed": false
   },
   "outputs": [
    {
     "data": {
      "text/plain": [
       "{'nine': 'i', 'one': 'o'}"
      ]
     },
     "execution_count": 11,
     "metadata": {},
     "output_type": "execute_result"
    }
   ],
   "source": [
    "# next\n",
    "{'nine':'i','one':'o'}"
   ]
  },
  {
   "cell_type": "code",
   "execution_count": 26,
   "metadata": {
    "collapsed": true
   },
   "outputs": [],
   "source": [
    "def originalDigits(s):\n",
    "    dict_string = {}\n",
    "    numbers = []\n",
    "    for char in s:\n",
    "        dict_string[char] = dict_string.get(char,0) + 1\n",
    "    # 0\n",
    "    if 'z' in dict_string:\n",
    "        numbers.extend([0]*dict_string['z'])\n",
    "        dict_string['e']-=dict_string['z']\n",
    "        dict_string['r']-=dict_string['z']\n",
    "        dict_string['o']-=dict_string['z']\n",
    "        dict_string['z']-=dict_string['z']\n",
    "    if 'g' in dict_string:\n",
    "        numbers.extend([8]*dict_string['g'])\n",
    "        dict_string['e']-=dict_string['g']\n",
    "        dict_string['i']-=dict_string['g']\n",
    "        dict_string['h']-=dict_string['g']\n",
    "        dict_string['t']-=dict_string['g']\n",
    "        dict_string['g']-=dict_string['g']\n",
    "    if 'u' in dict_string:\n",
    "        numbers.extend([4]*dict_string['u'])\n",
    "        count = dict_string['u']\n",
    "        for char in 'four':\n",
    "            dict_string[char]-=count\n",
    "    if 'x' in dict_string:\n",
    "        numbers.extend([6]*dict_string['x'])\n",
    "        count = dict_string['x']\n",
    "        for char in 'six':\n",
    "            dict_string[char]-=count\n",
    "    if 'w' in dict_string:\n",
    "        numbers.extend([2]*dict_string['w'])\n",
    "        count = dict_string['w']\n",
    "        for char in 'two':\n",
    "            dict_string[char]-=count\n",
    "    if 'f' in dict_string and dict_string['f']!=0:\n",
    "        numbers.extend([5]*dict_string['f'])\n",
    "        count = dict_string['f']\n",
    "        for char in 'five':\n",
    "            dict_string[char]-=count\n",
    "    if 's' in dict_string and dict_string['s']!=0:\n",
    "        numbers.extend([7]*dict_string['s'])\n",
    "        count = dict_string['s']\n",
    "        for char in 'seven':\n",
    "            dict_string[char]-=count\n",
    "    if 'r' in dict_string and dict_string['r']!=0:\n",
    "        numbers.extend([3]*dict_string['r'])\n",
    "        count = dict_string['r']\n",
    "        for char in 'three':\n",
    "            dict_string[char]-=count\n",
    "    if 'i' in dict_string and dict_string['i']!=0:\n",
    "        numbers.extend([9]*dict_string['i'])\n",
    "        count = dict_string['i']\n",
    "        for char in 'nine':\n",
    "            dict_string[char]-=count\n",
    "    if 'o' in dict_string and dict_string['o']!=0:\n",
    "        numbers.extend([1]*dict_string['o'])\n",
    "        count = dict_string['o']\n",
    "        for char in 'one':\n",
    "            dict_string[char]-=count\n",
    "    numbers.sort()\n",
    "    return_s = ''\n",
    "    for i in range(len(numbers)):\n",
    "        return_s += str(numbers[i])\n",
    "    return return_s"
   ]
  },
  {
   "cell_type": "code",
   "execution_count": 27,
   "metadata": {
    "collapsed": false
   },
   "outputs": [
    {
     "data": {
      "text/plain": [
       "'234455'"
      ]
     },
     "execution_count": 27,
     "metadata": {},
     "output_type": "execute_result"
    }
   ],
   "source": [
    "originalDigits('fivefourfivefourthreetwo')"
   ]
  },
  {
   "cell_type": "code",
   "execution_count": null,
   "metadata": {
    "collapsed": true
   },
   "outputs": [],
   "source": []
  }
 ],
 "metadata": {
  "kernelspec": {
   "display_name": "Python [conda root]",
   "language": "python",
   "name": "conda-root-py"
  },
  "language_info": {
   "codemirror_mode": {
    "name": "ipython",
    "version": 3
   },
   "file_extension": ".py",
   "mimetype": "text/x-python",
   "name": "python",
   "nbconvert_exporter": "python",
   "pygments_lexer": "ipython3",
   "version": "3.5.2"
  }
 },
 "nbformat": 4,
 "nbformat_minor": 2
}
