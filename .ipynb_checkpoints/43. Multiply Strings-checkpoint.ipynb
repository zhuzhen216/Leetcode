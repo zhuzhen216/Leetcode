{
 "cells": [
  {
   "cell_type": "code",
   "execution_count": 3,
   "metadata": {
    "collapsed": true
   },
   "outputs": [],
   "source": [
    "def mulString(num1,num2):\n",
    "    res = ''\n",
    "    if num1=='0' or num2=='0':\n",
    "        return '0'\n",
    "    multed = [0 for _ in range(len(num1)+len(num2))]\n",
    "    for i in reversed(range(len(num1))):\n",
    "        carry = 0\n",
    "        for j in reversed(range(len(num2))):\n",
    "            val = (ord(num1[i])-ord('0'))*(ord(num2[j])-ord('0')) + multed[i+j+1] + carry\n",
    "            multed[i+j+1] = val%10\n",
    "            carry = val//10\n",
    "    \n",
    "    pos = i\n",
    "    while carry != 0:\n",
    "        val = multed[pos] + carry\n",
    "        multed[pos] = val%10\n",
    "        carry = val//10\n",
    "        pos = pos - 1\n",
    "    \n",
    "    i = 0\n",
    "    while multed[i]==0:\n",
    "        i += 1\n",
    "    while i < len(multed):\n",
    "        res = res + str(multed[i])\n",
    "        i += 1\n",
    "    \n",
    "    return res"
   ]
  },
  {
   "cell_type": "code",
   "execution_count": 5,
   "metadata": {
    "collapsed": false
   },
   "outputs": [
    {
     "data": {
      "text/plain": [
       "'15'"
      ]
     },
     "execution_count": 5,
     "metadata": {},
     "output_type": "execute_result"
    }
   ],
   "source": [
    "mulString('3','5')"
   ]
  },
  {
   "cell_type": "code",
   "execution_count": null,
   "metadata": {
    "collapsed": true
   },
   "outputs": [],
   "source": []
  }
 ],
 "metadata": {
  "kernelspec": {
   "display_name": "Python [conda root]",
   "language": "python",
   "name": "conda-root-py"
  },
  "language_info": {
   "codemirror_mode": {
    "name": "ipython",
    "version": 3
   },
   "file_extension": ".py",
   "mimetype": "text/x-python",
   "name": "python",
   "nbconvert_exporter": "python",
   "pygments_lexer": "ipython3",
   "version": "3.5.2"
  }
 },
 "nbformat": 4,
 "nbformat_minor": 2
}
