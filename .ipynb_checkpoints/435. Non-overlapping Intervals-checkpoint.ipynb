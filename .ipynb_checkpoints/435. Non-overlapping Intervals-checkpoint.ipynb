{
 "cells": [
  {
   "cell_type": "code",
   "execution_count": 23,
   "metadata": {
    "collapsed": true
   },
   "outputs": [],
   "source": [
    "def eraseOverlapIntervals(intervals):\n",
    "    \"\"\"\n",
    "    Note: pay attnetion to i[0]>= end, rather than i[0] > end\n",
    "    1. sort the array with the end point in accending order\n",
    "    2. compare the starting point of the interval with end\n",
    "    3. update end or update erased\n",
    "    \"\"\"\n",
    "    intervals.sort(key=lambda x:x[1])\n",
    "    erased = 0\n",
    "    end = float('-inf')\n",
    "    for i in intervals:\n",
    "        if i[0] >= end:\n",
    "            end = i[1]\n",
    "        else:\n",
    "            erased += 1\n",
    "    return erased"
   ]
  },
  {
   "cell_type": "code",
   "execution_count": 22,
   "metadata": {
    "collapsed": false
   },
   "outputs": [
    {
     "data": {
      "text/plain": [
       "1"
      ]
     },
     "execution_count": 22,
     "metadata": {},
     "output_type": "execute_result"
    }
   ],
   "source": [
    "eraseOverlapIntervals([[1,2],[2,3],[3,4],[1,3]])"
   ]
  },
  {
   "cell_type": "code",
   "execution_count": null,
   "metadata": {
    "collapsed": true
   },
   "outputs": [],
   "source": []
  }
 ],
 "metadata": {
  "kernelspec": {
   "display_name": "Python [conda root]",
   "language": "python",
   "name": "conda-root-py"
  },
  "language_info": {
   "codemirror_mode": {
    "name": "ipython",
    "version": 3
   },
   "file_extension": ".py",
   "mimetype": "text/x-python",
   "name": "python",
   "nbconvert_exporter": "python",
   "pygments_lexer": "ipython3",
   "version": "3.5.2"
  }
 },
 "nbformat": 4,
 "nbformat_minor": 2
}
