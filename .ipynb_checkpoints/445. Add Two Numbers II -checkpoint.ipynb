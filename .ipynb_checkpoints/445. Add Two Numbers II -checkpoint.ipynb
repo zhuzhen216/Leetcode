{
 "cells": [
  {
   "cell_type": "code",
   "execution_count": 2,
   "metadata": {
    "collapsed": false
   },
   "outputs": [
    {
     "data": {
      "text/plain": [
       "7"
      ]
     },
     "execution_count": 2,
     "metadata": {},
     "output_type": "execute_result"
    }
   ],
   "source": [
    "class ListNode(object):\n",
    "    def __init__(self, x):\n",
    "        self.val = x\n",
    "        self.next = None\n",
    "def addTwoNumbers(l1_list, l2_list):\n",
    "    \"\"\"\n",
    "    :type l1: ListNode\n",
    "    :type l2: ListNode\n",
    "    :rtype: ListNode\n",
    "    \"\"\"\n",
    "    #l1_list = []\n",
    "    #l2_list = []\n",
    "    l3_list = []\n",
    "    #node_l1 = l1\n",
    "    #node_l2 = l2\n",
    "    #while node_l1:\n",
    "    #    l1_list.append(node_l1.val)\n",
    "    #    node_l1 = node_l1.next\n",
    "    #while node_l2:\n",
    "    #    l2_list.append(node_l2.val)\n",
    "    #    node_l2 = node_l2.next\n",
    "    carry = 0\n",
    "    i = 0\n",
    "    while i < len(l1_list) or i < len(l2_list) or carry:\n",
    "        if i < len(l1_list):\n",
    "            part1 = l1_list[len(l1_list)-i-1]\n",
    "        else:\n",
    "            part1 = 0\n",
    "        if i < len(l2_list):\n",
    "            part2 = l2_list[len(l2_list)-i-1]\n",
    "        else:\n",
    "            part2 = 0\n",
    "        l3_list.append((part1+part2+carry)%10)\n",
    "        carry = (part1+part2+carry)//10\n",
    "        i = i + 1\n",
    "    #return l3_list\n",
    "    dummy = ListNode(0)\n",
    "    head = dummy\n",
    "    for i in reversed(range(len(l3_list))):\n",
    "        head.next = ListNode(l3_list[i])\n",
    "        head = head.next\n",
    "    return dummy.next\n",
    "addTwoNumbers([7,2,4,3],[5,6,4]).val"
   ]
  },
  {
   "cell_type": "code",
   "execution_count": 13,
   "metadata": {
    "collapsed": true
   },
   "outputs": [],
   "source": [
    "a = [1,2,3]\n",
    "b =a[:]"
   ]
  },
  {
   "cell_type": "code",
   "execution_count": 14,
   "metadata": {
    "collapsed": false
   },
   "outputs": [],
   "source": [
    "b[1]=4"
   ]
  },
  {
   "cell_type": "code",
   "execution_count": 15,
   "metadata": {
    "collapsed": false
   },
   "outputs": [
    {
     "data": {
      "text/plain": [
       "[1, 4, 3]"
      ]
     },
     "execution_count": 15,
     "metadata": {},
     "output_type": "execute_result"
    }
   ],
   "source": [
    "b"
   ]
  },
  {
   "cell_type": "code",
   "execution_count": 16,
   "metadata": {
    "collapsed": false
   },
   "outputs": [
    {
     "data": {
      "text/plain": [
       "[1, 2, 3]"
      ]
     },
     "execution_count": 16,
     "metadata": {},
     "output_type": "execute_result"
    }
   ],
   "source": [
    "a"
   ]
  },
  {
   "cell_type": "code",
   "execution_count": null,
   "metadata": {
    "collapsed": true
   },
   "outputs": [],
   "source": []
  }
 ],
 "metadata": {
  "kernelspec": {
   "display_name": "Python [conda root]",
   "language": "python",
   "name": "conda-root-py"
  },
  "language_info": {
   "codemirror_mode": {
    "name": "ipython",
    "version": 3
   },
   "file_extension": ".py",
   "mimetype": "text/x-python",
   "name": "python",
   "nbconvert_exporter": "python",
   "pygments_lexer": "ipython3",
   "version": "3.5.2"
  }
 },
 "nbformat": 4,
 "nbformat_minor": 2
}
