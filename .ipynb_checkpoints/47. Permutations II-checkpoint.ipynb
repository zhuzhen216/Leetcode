{
 "cells": [
  {
   "cell_type": "code",
   "execution_count": 3,
   "metadata": {
    "collapsed": true
   },
   "outputs": [],
   "source": [
    "def uniqPermu(nums):\n",
    "    \"\"\"\n",
    "    1. the idea is: never insert a duplicated number to the right of an existed one.\n",
    "    2. BFS\n",
    "    \"\"\"\n",
    "    ret = [[]]\n",
    "    for num in nums:\n",
    "        cur = []\n",
    "        for ans in ret:\n",
    "            for i in range(len(ans)+1):\n",
    "                cur.append(ans[0:i]+[num]+ans[i:])\n",
    "                if i<len(ans) and num==ans[i]:\n",
    "                    break\n",
    "        ret = cur\n",
    "    return ret"
   ]
  },
  {
   "cell_type": "code",
   "execution_count": 4,
   "metadata": {
    "collapsed": false
   },
   "outputs": [
    {
     "data": {
      "text/plain": [
       "[[4, 3, 1], [3, 4, 1], [3, 1, 4], [4, 1, 3], [1, 4, 3], [1, 3, 4]]"
      ]
     },
     "execution_count": 4,
     "metadata": {},
     "output_type": "execute_result"
    }
   ],
   "source": [
    "uniqPermu([1,3,4])"
   ]
  },
  {
   "cell_type": "code",
   "execution_count": null,
   "metadata": {
    "collapsed": true
   },
   "outputs": [],
   "source": []
  }
 ],
 "metadata": {
  "anaconda-cloud": {},
  "kernelspec": {
   "display_name": "Python [conda root]",
   "language": "python",
   "name": "conda-root-py"
  },
  "language_info": {
   "codemirror_mode": {
    "name": "ipython",
    "version": 3
   },
   "file_extension": ".py",
   "mimetype": "text/x-python",
   "name": "python",
   "nbconvert_exporter": "python",
   "pygments_lexer": "ipython3",
   "version": "3.5.2"
  }
 },
 "nbformat": 4,
 "nbformat_minor": 2
}
