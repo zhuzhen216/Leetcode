{
 "cells": [
  {
   "cell_type": "code",
   "execution_count": 9,
   "metadata": {
    "collapsed": true
   },
   "outputs": [],
   "source": [
    "def findTargetSumWays(nums,S):\n",
    "    \"\"\"\n",
    "    dynamic programming\n",
    "    store the results in a dictionary;\n",
    "    then update it each iteration towards the end of the list\n",
    "    \"\"\"\n",
    "    if nums is None or nums==[]:\n",
    "        return 0\n",
    "    dic_curr = {}\n",
    "    #if len(nums)==1:\n",
    "    if nums[0]==0:\n",
    "        dic_curr[0]=2\n",
    "    else:\n",
    "        dic_curr[nums[0]]=1\n",
    "        dic_curr[-nums[0]]=1\n",
    "    #return dic_curr\n",
    "    for i in range(1,len(nums)):\n",
    "        dic_next = {}\n",
    "        for sum_curr in dic_curr:\n",
    "            #if sum_curr+nums[i] not in dic_next:\n",
    "            dic_next[sum_curr+nums[i]] = dic_next.get(sum_curr+nums[i],0)+dic_curr.get(sum_curr,0)#dic_curr[sum_curr]\n",
    "            #else:\n",
    "            #    dic_next[sum_curr+nums[i]] += dic_curr[sum_curr]\n",
    "            #if sum_curr-nums[i] not in dic_next:\n",
    "            dic_next[sum_curr-nums[i]] = dic_next.get(sum_curr-nums[i],0)+dic_curr.get(sum_curr,0)#dic_curr[sum_curr]\n",
    "            #else:\n",
    "            #    dic_next[sum_curr-nums[i]] += dic_curr[sum_curr]\n",
    "        dic_curr = dic_next\n",
    "    #return dic_curr\n",
    "    return dic_curr.get(S,0)"
   ]
  },
  {
   "cell_type": "code",
   "execution_count": 10,
   "metadata": {
    "collapsed": false
   },
   "outputs": [
    {
     "data": {
      "text/plain": [
       "5"
      ]
     },
     "execution_count": 10,
     "metadata": {},
     "output_type": "execute_result"
    }
   ],
   "source": [
    "getSum([1,1,1,1,1],3)"
   ]
  },
  {
   "cell_type": "code",
   "execution_count": null,
   "metadata": {
    "collapsed": true
   },
   "outputs": [],
   "source": []
  }
 ],
 "metadata": {
  "kernelspec": {
   "display_name": "Python [conda root]",
   "language": "python",
   "name": "conda-root-py"
  },
  "language_info": {
   "codemirror_mode": {
    "name": "ipython",
    "version": 3
   },
   "file_extension": ".py",
   "mimetype": "text/x-python",
   "name": "python",
   "nbconvert_exporter": "python",
   "pygments_lexer": "ipython3",
   "version": "3.5.2"
  }
 },
 "nbformat": 4,
 "nbformat_minor": 2
}
