{
 "cells": [
  {
   "cell_type": "code",
   "execution_count": 4,
   "metadata": {
    "collapsed": false
   },
   "outputs": [],
   "source": [
    "def longestPalindrom(input):\n",
    "    \"\"\"\n",
    "    O(n^2)\n",
    "    \"\"\"\n",
    "    if len(input)==0:\n",
    "        return 0\n",
    "    maxLen = 1\n",
    "    start = 0\n",
    "    for i in range(len(input)):\n",
    "        if i-maxLen>=1 and input[i-maxLen-1:i+1]==input[i-maxLen-1:i+1][::-1]:\n",
    "            start = i - maxLen - 1\n",
    "            maxLen += 2\n",
    "            continue\n",
    "        if i-maxLen>=0 and input[i-maxLen:i+1]==input[i-maxLen:i+1][::-1]:\n",
    "            start = i - maxLen\n",
    "            maxLen += 1\n",
    "    return input[start:start+maxLen]"
   ]
  },
  {
   "cell_type": "code",
   "execution_count": 3,
   "metadata": {
    "collapsed": false
   },
   "outputs": [
    {
     "data": {
      "text/plain": [
       "'aba'"
      ]
     },
     "execution_count": 3,
     "metadata": {},
     "output_type": "execute_result"
    }
   ],
   "source": [
    "longestPalindrom('aabaca')"
   ]
  },
  {
   "cell_type": "code",
   "execution_count": 15,
   "metadata": {
    "collapsed": true
   },
   "outputs": [],
   "source": [
    "def longestPalindrom2(input):\n",
    "    \"\"\"\n",
    "    dynamic programming\n",
    "    the basic idea is from a \n",
    "    \"\"\"\n",
    "    #start = 0\n",
    "    #end = 1\n",
    "    if len(input)==0:\n",
    "        return 0\n",
    "    #ret_list = []\n",
    "    #\n",
    "    # max_pair to store the start and end of the longest Palindrom\n",
    "    max_pair = [0,0]\n",
    "    #\n",
    "    # dp matrix to store whether a substring is a palindrom\n",
    "    dp = [[0 for _ in range(len(input))] for _ in range(len(input))]\n",
    "    #return dp\n",
    "    i = len(input) - 1\n",
    "    while i >=0:\n",
    "        j = i\n",
    "        while j < len(input):\n",
    "            if input[i]==input[j] and (j-i<3 or dp[i+1][j-1]):\n",
    "                dp[i][j] = 1\n",
    "                #ret_list.append(input[i:j+1])\n",
    "                if j+1-i>max_pair[1]+1-max_pair[0]:\n",
    "                    max_pair[0]=i\n",
    "                    max_pair[1]=j\n",
    "            j += 1\n",
    "        i -= 1\n",
    "    #return dp\n",
    "    return input[max_pair[0]:max_pair[1]+1]\n",
    "    #return max_pair"
   ]
  },
  {
   "cell_type": "code",
   "execution_count": 16,
   "metadata": {
    "collapsed": false
   },
   "outputs": [
    {
     "data": {
      "text/plain": [
       "[[1, 0, 0, 0, 0, 0, 0, 0],\n",
       " [0, 1, 0, 0, 0, 0, 0, 0],\n",
       " [0, 0, 1, 0, 0, 0, 1, 0],\n",
       " [0, 0, 0, 1, 0, 1, 0, 0],\n",
       " [0, 0, 0, 0, 1, 0, 0, 0],\n",
       " [0, 0, 0, 0, 0, 1, 0, 0],\n",
       " [0, 0, 0, 0, 0, 0, 1, 0],\n",
       " [0, 0, 0, 0, 0, 0, 0, 1]]"
      ]
     },
     "execution_count": 16,
     "metadata": {},
     "output_type": "execute_result"
    }
   ],
   "source": [
    "longestPalindrom2('dcabcbad')"
   ]
  },
  {
   "cell_type": "code",
   "execution_count": 20,
   "metadata": {
    "collapsed": true
   },
   "outputs": [],
   "source": [
    "def longestPalindrom3(input):\n",
    "    if len(input)==0:\n",
    "        return 0\n",
    "    dp=[[0 for _ in range(len(input))] for _ in range(len(input))]\n",
    "    max_sub =  [0,0]\n",
    "    i = 0\n",
    "    while i < len(input):\n",
    "        j = i\n",
    "        while j >=0:\n",
    "            if input[i]==input[j] and (i-j<3 or dp[j+1][i-1]):\n",
    "                dp[j][i]=1\n",
    "                if i+1-j>max_sub[1]-max_sub[0]+1:\n",
    "                    max_sub[0]=j\n",
    "                    max_sub[1]=i\n",
    "            j -= 1\n",
    "        i += 1\n",
    "    return input[max_sub[0]:max_sub[1]+1]"
   ]
  },
  {
   "cell_type": "code",
   "execution_count": 21,
   "metadata": {
    "collapsed": false
   },
   "outputs": [
    {
     "data": {
      "text/plain": [
       "'aba'"
      ]
     },
     "execution_count": 21,
     "metadata": {},
     "output_type": "execute_result"
    }
   ],
   "source": [
    "longestPalindrom3('aba')"
   ]
  },
  {
   "cell_type": "code",
   "execution_count": null,
   "metadata": {
    "collapsed": true
   },
   "outputs": [],
   "source": []
  }
 ],
 "metadata": {
  "kernelspec": {
   "display_name": "Python [conda root]",
   "language": "python",
   "name": "conda-root-py"
  },
  "language_info": {
   "codemirror_mode": {
    "name": "ipython",
    "version": 3
   },
   "file_extension": ".py",
   "mimetype": "text/x-python",
   "name": "python",
   "nbconvert_exporter": "python",
   "pygments_lexer": "ipython3",
   "version": "3.5.2"
  }
 },
 "nbformat": 4,
 "nbformat_minor": 2
}
