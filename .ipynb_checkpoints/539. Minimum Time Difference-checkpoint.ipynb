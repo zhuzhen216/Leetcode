{
 "cells": [
  {
   "cell_type": "code",
   "execution_count": 1,
   "metadata": {
    "collapsed": true
   },
   "outputs": [],
   "source": [
    "def findMinDifference(timePoints):\n",
    "    \"\"\"\n",
    "    :type timePoints: List[str]\n",
    "    :rtype: int\n",
    "    \"\"\"\n",
    "    # compute 1\n",
    "    # this method exceed the time limit\n",
    "    def count_diff(string1, string2):\n",
    "        list_1 = [int(string1.split(':')[0]),int(string1.split(':')[1])]\n",
    "        list_2 = [int(string2.split(':')[0]),int(string2.split(':')[1])]\n",
    "        return min(max(list_1[0]*60+list_1[1],list_2[0]*60+list_2[1])-min(list_1[0]*60+list_1[1],list_2[0]*60+list_2[1]),min(list_1[0]*60+list_1[1],list_2[0]*60+list_2[1])+24*60-max(list_1[0]*60+list_1[1],list_2[0]*60+list_2[1]))\n",
    "    min_diff = 12*60\n",
    "    for i in range(len(timePoints)-1):\n",
    "        for j in range(i+1,len(timePoints)):\n",
    "            min_diff = min(min_diff,count_diff(timePoints[i],timePoints[j]))\n",
    "    return min_diff"
   ]
  },
  {
   "cell_type": "code",
   "execution_count": 2,
   "metadata": {
    "collapsed": false
   },
   "outputs": [
    {
     "data": {
      "text/plain": [
       "1"
      ]
     },
     "execution_count": 2,
     "metadata": {},
     "output_type": "execute_result"
    }
   ],
   "source": [
    "min([1,2,3])"
   ]
  },
  {
   "cell_type": "code",
   "execution_count": 1,
   "metadata": {
    "collapsed": true
   },
   "outputs": [],
   "source": [
    "def convert(string1):\n",
    "    return int(string1.split(':')[0])*60+int(string1.split(':')[1])\n",
    "def findMinDifference2(timePoints):\n",
    "    sorted_list = sorted([convert(item) for item in timePoints])\n",
    "    return min(min([sorted_list[i+1]-sorted_list[i] for i in range(len(sorted_list)-1)]),sorted_list[0]+24*60-sorted_list[-1])"
   ]
  },
  {
   "cell_type": "code",
   "execution_count": null,
   "metadata": {
    "collapsed": true
   },
   "outputs": [],
   "source": []
  }
 ],
 "metadata": {
  "kernelspec": {
   "display_name": "Python [conda root]",
   "language": "python",
   "name": "conda-root-py"
  },
  "language_info": {
   "codemirror_mode": {
    "name": "ipython",
    "version": 3
   },
   "file_extension": ".py",
   "mimetype": "text/x-python",
   "name": "python",
   "nbconvert_exporter": "python",
   "pygments_lexer": "ipython3",
   "version": "3.5.2"
  }
 },
 "nbformat": 4,
 "nbformat_minor": 2
}
