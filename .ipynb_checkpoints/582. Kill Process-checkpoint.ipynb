{
 "cells": [
  {
   "cell_type": "code",
   "execution_count": 3,
   "metadata": {
    "collapsed": true
   },
   "outputs": [],
   "source": [
    "def killJob(ppid,pid,kill):\n",
    "    if kill not in ppid and kill not in pid:\n",
    "        return []\n",
    "    if kill == 0:\n",
    "        return []\n",
    "    pid_dict = {}\n",
    "    for i, item in enumerate(ppid):\n",
    "        if item in pid_dict:\n",
    "            pid_dict[item].append(pid[i])\n",
    "        else:\n",
    "            pid_dict[item]=[pid[i]]\n",
    "    killed = []\n",
    "    toKill = [kill]\n",
    "    while toKill:\n",
    "        cur = toKill.pop()\n",
    "        killed.append(cur)\n",
    "        if cur in pid_dict:\n",
    "            toKill.extend(pid_dict[cur])\n",
    "    return killed"
   ]
  },
  {
   "cell_type": "code",
   "execution_count": 4,
   "metadata": {
    "collapsed": false
   },
   "outputs": [
    {
     "data": {
      "text/plain": [
       "[5, 10]"
      ]
     },
     "execution_count": 4,
     "metadata": {},
     "output_type": "execute_result"
    }
   ],
   "source": [
    "killJob([3, 0, 5, 3],[1, 3, 10, 5],5)"
   ]
  },
  {
   "cell_type": "code",
   "execution_count": null,
   "metadata": {
    "collapsed": true
   },
   "outputs": [],
   "source": []
  }
 ],
 "metadata": {
  "kernelspec": {
   "display_name": "Python [conda root]",
   "language": "python",
   "name": "conda-root-py"
  },
  "language_info": {
   "codemirror_mode": {
    "name": "ipython",
    "version": 3
   },
   "file_extension": ".py",
   "mimetype": "text/x-python",
   "name": "python",
   "nbconvert_exporter": "python",
   "pygments_lexer": "ipython3",
   "version": "3.5.2"
  }
 },
 "nbformat": 4,
 "nbformat_minor": 2
}
