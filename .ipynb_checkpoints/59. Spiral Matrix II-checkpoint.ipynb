{
 "cells": [
  {
   "cell_type": "code",
   "execution_count": 15,
   "metadata": {
    "collapsed": true
   },
   "outputs": [],
   "source": [
    "def generateMatrix(n):\n",
    "        \"\"\"\n",
    "        :type n: int\n",
    "        :rtype: List[List[int]]\n",
    "        \"\"\"\n",
    "        matrix = [[0 for _ in range(n)] for _ in range(n)]\n",
    "        def helper(matrix,kth,start,n):\n",
    "            if n%2==0 and kth > n//2:\n",
    "                return\n",
    "            elif n%2==1 and kth==n//2+1:\n",
    "                matrix[kth-1][kth-1]=start\n",
    "                return\n",
    "            #elif kth >\n",
    "            #    return\n",
    "            #if kth>n//2:\n",
    "            #    return\n",
    "            count = 0\n",
    "            for j in range(kth-1,n-kth+1):\n",
    "                matrix[kth-1][j]=start+count\n",
    "                count += 1\n",
    "            for i in range(kth,n-kth+1):\n",
    "                matrix[i][n-kth]=start + count\n",
    "                count += 1\n",
    "            for j in reversed(range(kth-1,n-kth)):\n",
    "                matrix[n-kth][j]=start + count\n",
    "                count += 1\n",
    "            for i in reversed(range(kth,n-kth)):\n",
    "                matrix[i][kth-1]=start + count\n",
    "                count += 1\n",
    "            helper(matrix,kth+1,start+count,n)\n",
    "        helper(matrix,1,1,n)\n",
    "        return matrix"
   ]
  },
  {
   "cell_type": "code",
   "execution_count": 20,
   "metadata": {
    "collapsed": false
   },
   "outputs": [
    {
     "data": {
      "text/plain": [
       "[[1, 2, 3, 4, 5, 6, 7],\n",
       " [24, 25, 26, 27, 28, 29, 8],\n",
       " [23, 40, 41, 42, 43, 30, 9],\n",
       " [22, 39, 48, 49, 44, 31, 10],\n",
       " [21, 38, 47, 46, 45, 32, 11],\n",
       " [20, 37, 36, 35, 34, 33, 12],\n",
       " [19, 18, 17, 16, 15, 14, 13]]"
      ]
     },
     "execution_count": 20,
     "metadata": {},
     "output_type": "execute_result"
    }
   ],
   "source": [
    "generateMatrix(7)"
   ]
  },
  {
   "cell_type": "code",
   "execution_count": null,
   "metadata": {
    "collapsed": true
   },
   "outputs": [],
   "source": []
  }
 ],
 "metadata": {
  "anaconda-cloud": {},
  "kernelspec": {
   "display_name": "Python [conda root]",
   "language": "python",
   "name": "conda-root-py"
  },
  "language_info": {
   "codemirror_mode": {
    "name": "ipython",
    "version": 3
   },
   "file_extension": ".py",
   "mimetype": "text/x-python",
   "name": "python",
   "nbconvert_exporter": "python",
   "pygments_lexer": "ipython3",
   "version": "3.5.2"
  }
 },
 "nbformat": 4,
 "nbformat_minor": 2
}
