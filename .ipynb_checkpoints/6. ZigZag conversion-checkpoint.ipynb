{
 "cells": [
  {
   "cell_type": "code",
   "execution_count": 1,
   "metadata": {
    "collapsed": true
   },
   "outputs": [],
   "source": [
    "def zigzag_cov(s,nRow):\n",
    "    if nRow == 1:\n",
    "        return s\n",
    "    block = 2*nRow - 2\n",
    "    result = ''\n",
    "    i = 0\n",
    "    while i < nRow:\n",
    "        j = i\n",
    "        while j < len(s):\n",
    "            result = result + s[j]\n",
    "            # secondJ + i = j -i + block\n",
    "            secondJ = j - i + block - i\n",
    "            if i!=0 and i!=nRow-1 and secondJ < len(s):\n",
    "                result = result + s[secondJ]\n",
    "            j = j + block\n",
    "        i = i + 1\n",
    "    return result"
   ]
  },
  {
   "cell_type": "code",
   "execution_count": 2,
   "metadata": {
    "collapsed": false
   },
   "outputs": [
    {
     "data": {
      "text/plain": [
       "'PAHNAPLSIIGYIR'"
      ]
     },
     "execution_count": 2,
     "metadata": {},
     "output_type": "execute_result"
    }
   ],
   "source": [
    "zigzag_cov('PAYPALISHIRING',3)"
   ]
  },
  {
   "cell_type": "markdown",
   "metadata": {
    "collapsed": true
   },
   "source": [
    "**Some practice**"
   ]
  },
  {
   "cell_type": "code",
   "execution_count": 1,
   "metadata": {
    "collapsed": true
   },
   "outputs": [],
   "source": [
    "def zigzag_cov(string,n):\n",
    "    if string is None or len(string)==0:\n",
    "        return ''\n",
    "    if n == 1 or n>=len(string):\n",
    "        return string\n",
    "    block = 2*n -2\n",
    "    res = ''\n",
    "    for i in range(n):\n",
    "        j = i\n",
    "        while j < len(string):\n",
    "            res += string[j]\n",
    "            secondJ = j - i + block - i\n",
    "            if i!=0 and i!=n-1 and secondJ < len(string):\n",
    "                res += string[secondJ]\n",
    "            j = j + block\n",
    "        i = i + 1\n",
    "    return res"
   ]
  },
  {
   "cell_type": "code",
   "execution_count": 2,
   "metadata": {
    "collapsed": false
   },
   "outputs": [
    {
     "data": {
      "text/plain": [
       "'acb'"
      ]
     },
     "execution_count": 2,
     "metadata": {},
     "output_type": "execute_result"
    }
   ],
   "source": [
    "zigzag_cov('abc',2)"
   ]
  },
  {
   "cell_type": "code",
   "execution_count": 6,
   "metadata": {
    "collapsed": true
   },
   "outputs": [],
   "source": [
    "def zigzag_v3(string,n):\n",
    "    if string is None or len(string)==0:\n",
    "        return ''\n",
    "    if len(string)==1 or n==1 or n>=len(string):\n",
    "        return string\n",
    "    block = 2* n - 2\n",
    "    ret = ''\n",
    "    for i in range(n):\n",
    "        j = i\n",
    "        while j < len(string):\n",
    "            ret += string[j]\n",
    "            secondJ = j - i + block - i\n",
    "            if i!=0 and i!=n-1 and secondJ < len(string):\n",
    "                ret += string[secondJ]\n",
    "            j += block\n",
    "        i += 1\n",
    "    return ret"
   ]
  },
  {
   "cell_type": "code",
   "execution_count": 5,
   "metadata": {
    "collapsed": false
   },
   "outputs": [
    {
     "data": {
      "text/plain": [
       "'aebdfc'"
      ]
     },
     "execution_count": 5,
     "metadata": {},
     "output_type": "execute_result"
    }
   ],
   "source": [
    "zigzag_v3('abcdef',3)"
   ]
  },
  {
   "cell_type": "code",
   "execution_count": null,
   "metadata": {
    "collapsed": true
   },
   "outputs": [],
   "source": []
  }
 ],
 "metadata": {
  "anaconda-cloud": {},
  "kernelspec": {
   "display_name": "Python [conda root]",
   "language": "python",
   "name": "conda-root-py"
  },
  "language_info": {
   "codemirror_mode": {
    "name": "ipython",
    "version": 3
   },
   "file_extension": ".py",
   "mimetype": "text/x-python",
   "name": "python",
   "nbconvert_exporter": "python",
   "pygments_lexer": "ipython3",
   "version": "3.5.2"
  }
 },
 "nbformat": 4,
 "nbformat_minor": 2
}
