{
 "cells": [
  {
   "cell_type": "code",
   "execution_count": 18,
   "metadata": {
    "collapsed": true
   },
   "outputs": [],
   "source": [
    "def minDistance(word1,word2):\n",
    "    #\n",
    "    # dp[i][j]\n",
    "    #\n",
    "    # there are three ways to modify the word: insert, delete, and replace\n",
    "    # insert dp[i+1][j+1]=1+dp[i][j+1]\n",
    "    # delete dp[i+1][j+1]=1+dp[i+1][j]\n",
    "    # replace dp[i+1][j+1]= 1+ dp[i][j]\n",
    "    #\n",
    "    dp = [[0 for _ in range(len(word2)+1)] for _ in range(len(word1)+1)]\n",
    "    for i in range(len(word1)+1):\n",
    "        #dp[i][0]=i\n",
    "        print(dp)\n",
    "    for j in range(len(word2)+1):\n",
    "        #print(dp)\n",
    "        dp[0][j]=j\n",
    "    for i in range(len(word1)):\n",
    "        for j in range(len(word2)):\n",
    "            if word1[i]==word2[j]:\n",
    "                dp[i+1][j+1]=dp[i][j]\n",
    "            else:\n",
    "                dp[i+1][j+1]=1 + min(dp[i][j+1],dp[i+1][j],dp[i][j])\n",
    "    print(dp)\n",
    "    return dp[len(word1)][len(word2)]"
   ]
  },
  {
   "cell_type": "code",
   "execution_count": 17,
   "metadata": {
    "collapsed": false
   },
   "outputs": [
    {
     "name": "stdout",
     "output_type": "stream",
     "text": [
      "[[0, 0, 0, 0], [0, 0, 0, 0], [0, 0, 0, 0]]\n",
      "[[0, 0, 0, 0], [0, 0, 0, 0], [0, 0, 0, 0]]\n",
      "[[0, 0, 0, 0], [0, 0, 0, 0], [0, 0, 0, 0]]\n",
      "[[0, 1, 2, 3], [0, 0, 1, 2], [0, 1, 1, 2]]\n"
     ]
    },
    {
     "data": {
      "text/plain": [
       "2"
      ]
     },
     "execution_count": 17,
     "metadata": {},
     "output_type": "execute_result"
    }
   ],
   "source": [
    "minDistance('ad','abc')"
   ]
  },
  {
   "cell_type": "code",
   "execution_count": null,
   "metadata": {
    "collapsed": true
   },
   "outputs": [],
   "source": []
  }
 ],
 "metadata": {
  "anaconda-cloud": {},
  "kernelspec": {
   "display_name": "Python [conda root]",
   "language": "python",
   "name": "conda-root-py"
  },
  "language_info": {
   "codemirror_mode": {
    "name": "ipython",
    "version": 3
   },
   "file_extension": ".py",
   "mimetype": "text/x-python",
   "name": "python",
   "nbconvert_exporter": "python",
   "pygments_lexer": "ipython3",
   "version": "3.5.2"
  }
 },
 "nbformat": 4,
 "nbformat_minor": 2
}
