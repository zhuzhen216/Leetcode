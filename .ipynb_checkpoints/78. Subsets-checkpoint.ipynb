{
 "cells": [
  {
   "cell_type": "code",
   "execution_count": 42,
   "metadata": {
    "collapsed": false
   },
   "outputs": [],
   "source": [
    "import copy\n",
    "def subsets(nums):\n",
    "        \"\"\"\n",
    "        :type nums: List[int]\n",
    "        :rtype: List[List[int]]\n",
    "        \"\"\"\n",
    "        #\n",
    "        # dynamic programming\n",
    "        #\n",
    "        # need to use deep copy\n",
    "        #\n",
    "        if nums is None:\n",
    "            return [[]]\n",
    "        dp =[[],[nums[0]]]\n",
    "        for i in range(1,len(nums)):\n",
    "            temp = copy.deepcopy(dp)\n",
    "            #temp = dp\n",
    "            for array in temp:\n",
    "                #print(array)\n",
    "                array.append(nums[i])\n",
    "                dp.append(array)\n",
    "        return dp"
   ]
  },
  {
   "cell_type": "code",
   "execution_count": 47,
   "metadata": {
    "collapsed": false
   },
   "outputs": [],
   "source": [
    "def subsets_v2(nums):\n",
    "    #\n",
    "    # dp\n",
    "    #\n",
    "    if nums is None or len(nums)==0:\n",
    "        return [[]]\n",
    "    dp = {0:[[]]}\n",
    "    for i in range(len(nums)):\n",
    "        #dp[i+1]=dp[i]\n",
    "        for array in dp[i]:\n",
    "            if i+1 in dp:\n",
    "                dp[i+1].append(array)\n",
    "                #array.append(nums[i])\n",
    "                dp[i+1].append(array+[nums[i]])\n",
    "            else:\n",
    "                dp[i+1]=[array]\n",
    "                dp[i+1].append(array+[nums[i]])\n",
    "    return dp[len(nums)]"
   ]
  },
  {
   "cell_type": "code",
   "execution_count": 48,
   "metadata": {
    "collapsed": false
   },
   "outputs": [
    {
     "data": {
      "text/plain": [
       "[[], [3], [2], [2, 3], [1], [1, 3], [1, 2], [1, 2, 3]]"
      ]
     },
     "execution_count": 48,
     "metadata": {},
     "output_type": "execute_result"
    }
   ],
   "source": [
    "subsets_v2([1,2,3])"
   ]
  },
  {
   "cell_type": "code",
   "execution_count": 16,
   "metadata": {
    "collapsed": false
   },
   "outputs": [],
   "source": [
    "a=[1,2,3]"
   ]
  },
  {
   "cell_type": "code",
   "execution_count": 17,
   "metadata": {
    "collapsed": true
   },
   "outputs": [],
   "source": [
    "b=[4,5,6]"
   ]
  },
  {
   "cell_type": "code",
   "execution_count": 18,
   "metadata": {
    "collapsed": false
   },
   "outputs": [],
   "source": [
    "a.extend(b)"
   ]
  },
  {
   "cell_type": "code",
   "execution_count": 19,
   "metadata": {
    "collapsed": false
   },
   "outputs": [
    {
     "data": {
      "text/plain": [
       "[1, 2, 3, 4, 5, 6]"
      ]
     },
     "execution_count": 19,
     "metadata": {},
     "output_type": "execute_result"
    }
   ],
   "source": [
    "a"
   ]
  },
  {
   "cell_type": "code",
   "execution_count": null,
   "metadata": {
    "collapsed": true
   },
   "outputs": [],
   "source": []
  }
 ],
 "metadata": {
  "anaconda-cloud": {},
  "kernelspec": {
   "display_name": "Python [conda root]",
   "language": "python",
   "name": "conda-root-py"
  },
  "language_info": {
   "codemirror_mode": {
    "name": "ipython",
    "version": 3
   },
   "file_extension": ".py",
   "mimetype": "text/x-python",
   "name": "python",
   "nbconvert_exporter": "python",
   "pygments_lexer": "ipython3",
   "version": "3.5.2"
  }
 },
 "nbformat": 4,
 "nbformat_minor": 2
}
