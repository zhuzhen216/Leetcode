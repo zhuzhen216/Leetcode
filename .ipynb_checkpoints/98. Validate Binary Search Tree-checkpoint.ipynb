{
 "cells": [
  {
   "cell_type": "code",
   "execution_count": 1,
   "metadata": {
    "collapsed": true
   },
   "outputs": [],
   "source": [
    "def verifyBST(root):\n",
    "    def helper(root,maximum,minimum):\n",
    "        if root is None:\n",
    "            return True\n",
    "        if root.val >= maximum or root.val <= minimum:\n",
    "            return False\n",
    "        return helper(root.left,root.val,minimum) and helper(root.right,maximum,root.val)\n",
    "    helper(root,float('inf'),float('-inf'))"
   ]
  },
  {
   "cell_type": "code",
   "execution_count": null,
   "metadata": {
    "collapsed": true
   },
   "outputs": [],
   "source": []
  }
 ],
 "metadata": {
  "kernelspec": {
   "display_name": "Python [conda root]",
   "language": "python",
   "name": "conda-root-py"
  },
  "language_info": {
   "codemirror_mode": {
    "name": "ipython",
    "version": 3
   },
   "file_extension": ".py",
   "mimetype": "text/x-python",
   "name": "python",
   "nbconvert_exporter": "python",
   "pygments_lexer": "ipython3",
   "version": "3.5.2"
  }
 },
 "nbformat": 4,
 "nbformat_minor": 2
}
