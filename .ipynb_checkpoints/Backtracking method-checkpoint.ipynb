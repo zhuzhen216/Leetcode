{
 "cells": [
  {
   "cell_type": "markdown",
   "metadata": {},
   "source": [
    "### 1. Palidrome partition\n",
    "___"
   ]
  },
  {
   "cell_type": "code",
   "execution_count": 13,
   "metadata": {
    "collapsed": true
   },
   "outputs": [],
   "source": [
    "def partition(string):\n",
    "    ret = []\n",
    "    backtrack(0,ret,[],string)\n",
    "    return ret\n",
    "\n",
    "def isPalindrome(string):\n",
    "    if len(string)==1:\n",
    "        return True\n",
    "    else:\n",
    "        start = 0\n",
    "        end = len(string) - 1\n",
    "        while start < end:\n",
    "            if string[start]!=string[end]:\n",
    "                return False\n",
    "            start += 1\n",
    "            end -= 1\n",
    "        return True\n",
    "\n",
    "def backtrack(start,ret,cur,string):\n",
    "    if start == len(string):\n",
    "        ret.append(cur)\n",
    "        return\n",
    "    for i in range(start,len(string)):\n",
    "        if isPalindrome(string[start:i+1]):\n",
    "            #cur.append(string[start:i+1])\n",
    "            backtrack(i+1,ret,cur+[string[start:i+1]],string)\n",
    "            #backtrack(i+1,ret,cur,string)\n",
    "            #cur.pop()\n",
    "    return"
   ]
  },
  {
   "cell_type": "code",
   "execution_count": 14,
   "metadata": {
    "collapsed": false
   },
   "outputs": [
    {
     "data": {
      "text/plain": [
       "[['a', 'b', 'a', 'c', 'd'], ['aba', 'c', 'd']]"
      ]
     },
     "execution_count": 14,
     "metadata": {},
     "output_type": "execute_result"
    }
   ],
   "source": [
    "partition('abacd')"
   ]
  },
  {
   "cell_type": "markdown",
   "metadata": {},
   "source": [
    "### 2. Beautiful arrangement\n",
    "___"
   ]
  },
  {
   "cell_type": "code",
   "execution_count": 17,
   "metadata": {
    "collapsed": true
   },
   "outputs": [],
   "source": [
    "def arrange(N):\n",
    "    visited = [0 for _ in range(N+1)]\n",
    "    ret = [0]\n",
    "    def helper(pos):\n",
    "        if pos == N+1:\n",
    "            ret[0]+=1\n",
    "            return\n",
    "        \n",
    "        for i in range(1,N+1):\n",
    "            if visited[i]==1 or (i%pos!=0 and pos%i!=0):\n",
    "                continue\n",
    "            visited[i]=1\n",
    "            helper(pos+1)\n",
    "            visited[i]=0\n",
    "    helper(1)\n",
    "    return ret[0]"
   ]
  },
  {
   "cell_type": "code",
   "execution_count": 31,
   "metadata": {
    "collapsed": false
   },
   "outputs": [
    {
     "data": {
      "text/plain": [
       "36"
      ]
     },
     "execution_count": 31,
     "metadata": {},
     "output_type": "execute_result"
    }
   ],
   "source": [
    "arrange(6)"
   ]
  },
  {
   "cell_type": "code",
   "execution_count": 48,
   "metadata": {
    "collapsed": true
   },
   "outputs": [],
   "source": [
    "### maybe DP method\n",
    "## no idea why these two does not give the same answer\n",
    "def arrange2(N):\n",
    "    if N==1:\n",
    "        return 1\n",
    "    prev = [[0,1]]\n",
    "    for i in range(2,N+1):\n",
    "        cur = []\n",
    "        for elem in prev:\n",
    "            cur.append(elem+[i])\n",
    "            for j in range(1,i):\n",
    "                if i%j==0 and i%elem[j]==0:\n",
    "                    cur.append(elem[0:j]+[i]+elem[j+1:]+[elem[j]])\n",
    "        prev = cur\n",
    "    prev.sort(key=lambda x:x[N])\n",
    "    print(prev)\n",
    "    return len(prev) # dp[N]"
   ]
  },
  {
   "cell_type": "code",
   "execution_count": 49,
   "metadata": {
    "collapsed": false
   },
   "outputs": [
    {
     "name": "stdout",
     "output_type": "stream",
     "text": [
      "[[0, 6, 2, 3, 4, 5, 1], [0, 6, 4, 3, 2, 5, 1], [0, 3, 2, 6, 4, 5, 1], [0, 3, 4, 6, 2, 5, 1], [0, 2, 6, 3, 4, 5, 1], [0, 4, 6, 3, 2, 5, 1], [0, 1, 6, 3, 4, 5, 2], [0, 5, 6, 3, 4, 1, 2], [0, 4, 6, 3, 1, 5, 2], [0, 3, 6, 1, 4, 5, 2], [0, 6, 1, 3, 4, 5, 2], [0, 6, 4, 3, 1, 5, 2], [0, 1, 2, 6, 4, 5, 3], [0, 5, 2, 6, 4, 1, 3], [0, 4, 2, 6, 1, 5, 3], [0, 1, 4, 6, 2, 5, 3], [0, 5, 4, 6, 2, 1, 3], [0, 6, 2, 1, 4, 5, 3], [0, 6, 4, 1, 2, 5, 3], [0, 2, 1, 6, 4, 5, 3], [0, 4, 1, 6, 2, 5, 3], [0, 2, 4, 6, 1, 5, 3], [0, 1, 2, 3, 4, 5, 6], [0, 5, 2, 3, 4, 1, 6], [0, 4, 2, 3, 1, 5, 6], [0, 1, 4, 3, 2, 5, 6], [0, 5, 4, 3, 2, 1, 6], [0, 3, 2, 1, 4, 5, 6], [0, 3, 4, 1, 2, 5, 6], [0, 2, 1, 3, 4, 5, 6], [0, 4, 1, 3, 2, 5, 6], [0, 2, 4, 3, 1, 5, 6]]\n"
     ]
    },
    {
     "data": {
      "text/plain": [
       "32"
      ]
     },
     "execution_count": 49,
     "metadata": {},
     "output_type": "execute_result"
    }
   ],
   "source": [
    "arrange2(6)"
   ]
  },
  {
   "cell_type": "markdown",
   "metadata": {},
   "source": [
    "### 3. Minimum unique word abbreviation\n",
    "___"
   ]
  },
  {
   "cell_type": "code",
   "execution_count": 50,
   "metadata": {
    "collapsed": false
   },
   "outputs": [
    {
     "ename": "SyntaxError",
     "evalue": "unexpected EOF while parsing (<ipython-input-50-6b6bbc694100>, line 15)",
     "output_type": "error",
     "traceback": [
      "\u001b[0;36m  File \u001b[0;32m\"<ipython-input-50-6b6bbc694100>\"\u001b[0;36m, line \u001b[0;32m15\u001b[0m\n\u001b[0;31m    for i in range(2**length+1):\u001b[0m\n\u001b[0m                                ^\u001b[0m\n\u001b[0;31mSyntaxError\u001b[0m\u001b[0;31m:\u001b[0m unexpected EOF while parsing\n"
     ]
    }
   ],
   "source": [
    "def MinAbre(target,stringSet):\n",
    "    # we assume all the strings in stringset have the same length as target\n",
    "    #\n",
    "    length = len(target)\n",
    "    binStrings = set()\n",
    "    for string in stringSet:\n",
    "        binList = []\n",
    "        for i in range(length):\n",
    "            if string[i]==target[i]:\n",
    "                binList.append(0)\n",
    "            else:\n",
    "                binList.append(1)\n",
    "        binStrings.add(list(binList))\n",
    "    \n",
    "    for i in range(2**length+1):\n",
    "        "
   ]
  },
  {
   "cell_type": "markdown",
   "metadata": {},
   "source": [
    "### 4. Combination sum\n",
    "___"
   ]
  },
  {
   "cell_type": "code",
   "execution_count": 51,
   "metadata": {
    "collapsed": true
   },
   "outputs": [],
   "source": [
    "def combine(n,k):\n",
    "    ret = []\n",
    "    def helper(pos,k,sumVal,comb):\n",
    "        if k==0:\n",
    "            if sumVal == 0:\n",
    "                ret.append(comb)\n",
    "            return\n",
    "        for i in range(pos,10):\n",
    "            if sumVal < pos:\n",
    "                break\n",
    "            helper(i+1,k-1,sumVal-i,comb+[i])\n",
    "        return\n",
    "    helper(1,k,n,[])\n",
    "    return ret"
   ]
  },
  {
   "cell_type": "code",
   "execution_count": 58,
   "metadata": {
    "collapsed": false
   },
   "outputs": [
    {
     "data": {
      "text/plain": [
       "[[1, 2, 6], [1, 3, 5], [2, 3, 4]]"
      ]
     },
     "execution_count": 58,
     "metadata": {},
     "output_type": "execute_result"
    }
   ],
   "source": [
    "combine(9,3)"
   ]
  },
  {
   "cell_type": "markdown",
   "metadata": {},
   "source": [
    "### 5. Generalized abbreviation\n",
    "___"
   ]
  },
  {
   "cell_type": "code",
   "execution_count": 59,
   "metadata": {
    "collapsed": true
   },
   "outputs": [],
   "source": [
    "def geneAbre(string):\n",
    "    ret = []\n",
    "    def helper(count,pos,abreStr,string):\n",
    "        if pos == len(string):\n",
    "            if count!=0:\n",
    "                ret.append(abreStr+str(count))\n",
    "            else:\n",
    "                ret.append(abreStr)\n",
    "            return\n",
    "        if count == 0:\n",
    "            helper(0,pos+1,abreStr+string[pos],string)\n",
    "        else:\n",
    "            helper(0,pos+1,abreStr+str(count)+string[pos],string)\n",
    "        helper(count+1,pos+1,abreStr,string)\n",
    "    \n",
    "    helper(0,0,'',string)\n",
    "    return ret"
   ]
  },
  {
   "cell_type": "code",
   "execution_count": 65,
   "metadata": {
    "collapsed": false
   },
   "outputs": [
    {
     "data": {
      "text/plain": [
       "['']"
      ]
     },
     "execution_count": 65,
     "metadata": {},
     "output_type": "execute_result"
    }
   ],
   "source": [
    "geneAbre('')"
   ]
  },
  {
   "cell_type": "markdown",
   "metadata": {},
   "source": [
    "### 6. Android unlock pattern\n",
    "___"
   ]
  },
  {
   "cell_type": "code",
   "execution_count": 76,
   "metadata": {
    "collapsed": true
   },
   "outputs": [],
   "source": [
    "def androidPattern(n,m):\n",
    "    # total number should >= n and <= than m\n",
    "    visited = [0 for _ in range(10)]\n",
    "    ret = [0]\n",
    "    needPass = [[-1 for _ in range(10)] for _ in range(10)]\n",
    "    needPass[1][9]=needPass[9][1]=needPass[3][7]=needPass[7][3]=5\n",
    "    needPass[1][3]=needPass[3][1]=2\n",
    "    needPass[4][6]=needPass[6][4]=5\n",
    "    needPass[7][9]=needPass[9][7]=8\n",
    "    needPass[1][7]=needPass[7][1]=4\n",
    "    needPass[3][9]=needPass[9][3]=6\n",
    "    needPass[2][8]=needPass[8][2]=5\n",
    "    def helper(visited,needPass,n,m,count,start,initial):\n",
    "        if visited[start]==1:\n",
    "            return\n",
    "        if count>m:\n",
    "            return\n",
    "        if count>=n:\n",
    "            if initial==1 or initial == 4:\n",
    "                ret[0]+=4\n",
    "            elif initial==5:\n",
    "                ret[0]+=1\n",
    "        visited[start]==1\n",
    "        for i in range(1,10):\n",
    "            if visited[i]==1 or (needPass[start][i]!=-1 and visited[needPass[start][i]]==0):\n",
    "                continue\n",
    "            helper(visited,needPass,n,m,count+1,i,initial)\n",
    "        visited[start]==0\n",
    "    helper(visited,needPass,n,m,1,1,1)\n",
    "    helper(visited,needPass,n,m,1,4,4)\n",
    "    helper(visited,needPass,n,m,1,5,5)\n",
    "    return ret[0]"
   ]
  },
  {
   "cell_type": "code",
   "execution_count": 80,
   "metadata": {
    "collapsed": false
   },
   "outputs": [
    {
     "data": {
      "text/plain": [
       "546"
      ]
     },
     "execution_count": 80,
     "metadata": {},
     "output_type": "execute_result"
    }
   ],
   "source": [
    "androidPattern(2,3)"
   ]
  },
  {
   "cell_type": "markdown",
   "metadata": {},
   "source": [
    "### 7. Flip game\n",
    "___"
   ]
  },
  {
   "cell_type": "code",
   "execution_count": 81,
   "metadata": {
    "collapsed": true
   },
   "outputs": [],
   "source": [
    "def canWin(string):\n",
    "    #stringList = list(string)\n",
    "    def helper(string):\n",
    "        if string.find('++')==-1:\n",
    "            return False\n",
    "        for i in range(len(string)-1):\n",
    "            if string[i:i+2]=='++' and not helper(string[0:i]+'--'+string[i+2:]):\n",
    "                return True\n",
    "        else:\n",
    "            return False\n",
    "    return helper(string)       "
   ]
  },
  {
   "cell_type": "code",
   "execution_count": 87,
   "metadata": {
    "collapsed": false
   },
   "outputs": [
    {
     "data": {
      "text/plain": [
       "True"
      ]
     },
     "execution_count": 87,
     "metadata": {},
     "output_type": "execute_result"
    }
   ],
   "source": [
    "canWin('++++++-')"
   ]
  },
  {
   "cell_type": "markdown",
   "metadata": {},
   "source": [
    "### 8. Palindrome permutation II\n",
    "___"
   ]
  },
  {
   "cell_type": "code",
   "execution_count": 96,
   "metadata": {
    "collapsed": true
   },
   "outputs": [],
   "source": [
    "def getPermu(string):\n",
    "    if len(string)==0:\n",
    "        return []\n",
    "    charDict = {}\n",
    "    for char in string:\n",
    "        if char in charDict:\n",
    "            charDict[char]+=1\n",
    "        else:\n",
    "            charDict[char]=1\n",
    "    oddChar = ''\n",
    "    for char in charDict:\n",
    "        if charDict[char]%2==1:\n",
    "            oddChar+=char\n",
    "        charDict[char]//=2\n",
    "    if len(oddChar)>=2:\n",
    "        return []\n",
    "    \n",
    "    ret = []\n",
    "    \n",
    "    def helper(oddChar,charDict,curStr,count,lenStr):\n",
    "        if count==lenStr//2:\n",
    "            ret.append(curStr+oddChar+curStr[::-1])\n",
    "            return\n",
    "        \n",
    "        for key in charDict:\n",
    "            if charDict[key]==0:\n",
    "                continue\n",
    "            charDict[key]-=1\n",
    "            helper(oddChar,charDict,curStr+key,count+1,lenStr)\n",
    "            charDict[key]+=1\n",
    "        return\n",
    "    \n",
    "    helper(oddChar,charDict,'',0,len(string))\n",
    "    return ret"
   ]
  },
  {
   "cell_type": "code",
   "execution_count": 97,
   "metadata": {
    "collapsed": false
   },
   "outputs": [
    {
     "data": {
      "text/plain": [
       "[]"
      ]
     },
     "execution_count": 97,
     "metadata": {},
     "output_type": "execute_result"
    }
   ],
   "source": [
    "getPermu('')"
   ]
  },
  {
   "cell_type": "markdown",
   "metadata": {},
   "source": [
    "### 9. Factor combinations\n",
    "___"
   ]
  },
  {
   "cell_type": "code",
   "execution_count": 115,
   "metadata": {
    "collapsed": true
   },
   "outputs": [],
   "source": [
    "def getFactors(n):\n",
    "    ret = []\n",
    "    if n==1:\n",
    "        return ret\n",
    "    factor = 2\n",
    "    while n > 1:\n",
    "        if n%factor==0:\n",
    "            ret.append(factor)\n",
    "            n = n//factor\n",
    "        else:\n",
    "            factor += 1\n",
    "    return ret\n",
    "\n",
    "def factorCombination(n):\n",
    "    #if n==1:\n",
    "    #    return []\n",
    "    #factorList = getFactors(n)\n",
    "    \n",
    "    ret = []\n",
    "    \n",
    "    def helper(curList,n,start):\n",
    "        if n<=1:\n",
    "            if len(curList)>1:\n",
    "                ret.append(curList)\n",
    "        \n",
    "        for i in range(start,n+1):\n",
    "            if n%i==0:\n",
    "                helper(curList+[i],n//i,i)\n",
    "    helper([],n,2)\n",
    "    return ret\n",
    "\n",
    "def factorCombination2(n):\n",
    "    #if n==1:\n",
    "    #    return []\n",
    "    #factorList = getFactors(n)\n",
    "    \n",
    "    \n",
    "    #\n",
    "    # it is much easier to do backtrack rather than doing seperation\n",
    "    # and combination\n",
    "    #\n",
    "    \n",
    "    ret = []\n",
    "    \n",
    "    def helper(curList,n,start):\n",
    "        if n<=1:\n",
    "            return\n",
    "        \n",
    "        for i in range(start,n+1):\n",
    "            if n%i==0:\n",
    "                if n//i >= i:\n",
    "                    ret.append(curList+[i,n//i])\n",
    "                helper(curList+[i],n//i,i)\n",
    "    helper([],n,2)\n",
    "    return ret"
   ]
  },
  {
   "cell_type": "code",
   "execution_count": 114,
   "metadata": {
    "collapsed": false
   },
   "outputs": [
    {
     "data": {
      "text/plain": [
       "[[2, 16], [2, 2, 8], [2, 2, 2, 4], [2, 2, 2, 2, 2], [2, 4, 4], [4, 8]]"
      ]
     },
     "execution_count": 114,
     "metadata": {},
     "output_type": "execute_result"
    }
   ],
   "source": [
    "factorCombination2(32)"
   ]
  },
  {
   "cell_type": "markdown",
   "metadata": {},
   "source": [
    "### 10. Subsets\n",
    "___"
   ]
  },
  {
   "cell_type": "code",
   "execution_count": 118,
   "metadata": {
    "collapsed": true
   },
   "outputs": [],
   "source": [
    "# if no duplicate\n",
    "def findSubsets(nums):\n",
    "    prev = [[]]\n",
    "    for i in range(len(nums)):\n",
    "        cur = []\n",
    "        for elem in prev:\n",
    "            cur.append(elem)\n",
    "            cur.append(elem+[nums[i]])\n",
    "        prev = cur\n",
    "    return prev"
   ]
  },
  {
   "cell_type": "code",
   "execution_count": 123,
   "metadata": {
    "collapsed": false
   },
   "outputs": [
    {
     "data": {
      "text/plain": [
       "[[],\n",
       " [4],\n",
       " [3],\n",
       " [3, 4],\n",
       " [2],\n",
       " [2, 4],\n",
       " [2, 3],\n",
       " [2, 3, 4],\n",
       " [1],\n",
       " [1, 4],\n",
       " [1, 3],\n",
       " [1, 3, 4],\n",
       " [1, 2],\n",
       " [1, 2, 4],\n",
       " [1, 2, 3],\n",
       " [1, 2, 3, 4]]"
      ]
     },
     "execution_count": 123,
     "metadata": {},
     "output_type": "execute_result"
    }
   ],
   "source": [
    "findSubsets([1,2,3,4])"
   ]
  },
  {
   "cell_type": "code",
   "execution_count": 124,
   "metadata": {
    "collapsed": true
   },
   "outputs": [],
   "source": [
    "# with duplicate\n",
    "def findSubset2(nums):\n",
    "    if len(nums)==0:\n",
    "        return [[]]\n",
    "    nums.sort()\n",
    "    prev = [[]]\n",
    "    for i in range(len(nums)):\n",
    "        cur = []\n",
    "        for elem in prev:\n",
    "            if len(elem)>=1 and elem[-1]==nums[i]:\n",
    "                cur.append(elem+[nums[i]])\n",
    "            else:\n",
    "                cur.append(elem)\n",
    "                cur.append(elem+[nums[i]])\n",
    "        prev= cur\n",
    "    return prev"
   ]
  },
  {
   "cell_type": "code",
   "execution_count": 126,
   "metadata": {
    "collapsed": false
   },
   "outputs": [
    {
     "data": {
      "text/plain": [
       "[[],\n",
       " [4],\n",
       " [2],\n",
       " [2, 4],\n",
       " [2, 2],\n",
       " [2, 2, 4],\n",
       " [2, 2, 2],\n",
       " [2, 2, 2, 4],\n",
       " [1],\n",
       " [1, 4],\n",
       " [1, 2],\n",
       " [1, 2, 4],\n",
       " [1, 2, 2],\n",
       " [1, 2, 2, 4],\n",
       " [1, 2, 2, 2],\n",
       " [1, 2, 2, 2, 4]]"
      ]
     },
     "execution_count": 126,
     "metadata": {},
     "output_type": "execute_result"
    }
   ],
   "source": [
    "findSubset2([1,2,2,2,4])"
   ]
  },
  {
   "cell_type": "markdown",
   "metadata": {},
   "source": [
    "### 11. Word search\n",
    "___"
   ]
  },
  {
   "cell_type": "code",
   "execution_count": 130,
   "metadata": {
    "collapsed": false
   },
   "outputs": [],
   "source": [
    "def wordSearch(board,word):\n",
    "    visited = [[0 for _ in range(len(board[0]))] for _ in range(len(board))]\n",
    "    \n",
    "    wordFound = [False]\n",
    "    def helper(visited,row,col,start,word,board):\n",
    "        \n",
    "        if wordFound[0]==True:\n",
    "            return\n",
    "        \n",
    "        if start == len(word):\n",
    "            wordFound[0] = True\n",
    "            return\n",
    "        \n",
    "        if row<0 or row>=len(board) or col < 0 or col >= len(board[0]) or board[row][col]!=word[start] or visited[row][col]==1:\n",
    "            return\n",
    "        \n",
    "        directions = {(1,0),(-1,0),(0,1),(0,-1)}\n",
    "        \n",
    "        visited[row][col]=1\n",
    "        \n",
    "        for direct in directions:\n",
    "\n",
    "            helper(visited,row+direct[0],col+direct[1],start+1,word,board)\n",
    "        \n",
    "        visited[row][col]=0\n",
    "    \n",
    "    for i in range(len(board)):\n",
    "        for j in range(len(board[0])):\n",
    "            helper(visited,i,j,0,word,board)\n",
    "            if wordFound[0]==True:\n",
    "                return True\n",
    "    else:\n",
    "        return False"
   ]
  },
  {
   "cell_type": "code",
   "execution_count": 133,
   "metadata": {
    "collapsed": false
   },
   "outputs": [
    {
     "data": {
      "text/plain": [
       "True"
      ]
     },
     "execution_count": 133,
     "metadata": {},
     "output_type": "execute_result"
    }
   ],
   "source": [
    "wordSearch(['abcd','adcd'],'abd')"
   ]
  },
  {
   "cell_type": "code",
   "execution_count": null,
   "metadata": {
    "collapsed": true
   },
   "outputs": [],
   "source": []
  }
 ],
 "metadata": {
  "anaconda-cloud": {},
  "kernelspec": {
   "display_name": "Python [conda root]",
   "language": "python",
   "name": "conda-root-py"
  },
  "language_info": {
   "codemirror_mode": {
    "name": "ipython",
    "version": 3
   },
   "file_extension": ".py",
   "mimetype": "text/x-python",
   "name": "python",
   "nbconvert_exporter": "python",
   "pygments_lexer": "ipython3",
   "version": "3.5.2"
  }
 },
 "nbformat": 4,
 "nbformat_minor": 2
}
