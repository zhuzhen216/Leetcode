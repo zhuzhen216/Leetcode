{
 "cells": [
  {
   "cell_type": "code",
   "execution_count": 12,
   "metadata": {
    "collapsed": true
   },
   "outputs": [],
   "source": [
    "def checkArray(nums):\n",
    "    \"\"\"\n",
    "    ['a','d','ar','dr']\n",
    "    return maximum value\n",
    "    1. we assume no identical element\n",
    "    2. it is an interview problem of Amazon\n",
    "    \"\"\"\n",
    "    types = ['a','d','ar','dr']\n",
    "    if nums is None or nums == []:\n",
    "        return None\n",
    "    if len(nums)==1:\n",
    "        return nums[0]\n",
    "    isAR = False\n",
    "    isA = False\n",
    "    isD = False\n",
    "    isDR = False\n",
    "    if nums[0]<nums[1]:\n",
    "        max_val = nums[1]\n",
    "        isAR = False\n",
    "        isA = True\n",
    "        i = 1\n",
    "        while i < len(nums)-1:\n",
    "            if nums[i]<nums[i+1]:\n",
    "                max_val = max(max_val,nums[i+1])\n",
    "                i = i + 1\n",
    "            else:\n",
    "                i = i + 1\n",
    "                isAR = True\n",
    "                isA = False\n",
    "        return (max_val,types[2] if isAR else types[0])\n",
    "    else:\n",
    "        max_val = nums[0]\n",
    "        isDR = False\n",
    "        isD = True\n",
    "        i = 1\n",
    "        while i < len(nums)-1:\n",
    "            if nums[i]>nums[i+1]:\n",
    "                i = i + 1\n",
    "            else:\n",
    "                max_val = max(max_val,nums[i+1])\n",
    "                i = i + 1\n",
    "                isDR = True\n",
    "                isD = False\n",
    "        return (max_val,types[3] if isDR else types[1])"
   ]
  },
  {
   "cell_type": "code",
   "execution_count": null,
   "metadata": {
    "collapsed": true
   },
   "outputs": [],
   "source": []
  },
  {
   "cell_type": "code",
   "execution_count": 13,
   "metadata": {
    "collapsed": false
   },
   "outputs": [
    {
     "data": {
      "text/plain": [
       "(5, 'd')"
      ]
     },
     "execution_count": 13,
     "metadata": {},
     "output_type": "execute_result"
    }
   ],
   "source": [
    "checkArray([5,4,3,2,1])"
   ]
  },
  {
   "cell_type": "code",
   "execution_count": 21,
   "metadata": {
    "collapsed": true
   },
   "outputs": [],
   "source": [
    "words=' hello    world'"
   ]
  },
  {
   "cell_type": "code",
   "execution_count": 25,
   "metadata": {
    "collapsed": false
   },
   "outputs": [],
   "source": [
    "listWords=words.split()"
   ]
  },
  {
   "cell_type": "code",
   "execution_count": 26,
   "metadata": {
    "collapsed": false
   },
   "outputs": [
    {
     "data": {
      "text/plain": [
       "['hello', 'world']"
      ]
     },
     "execution_count": 26,
     "metadata": {},
     "output_type": "execute_result"
    }
   ],
   "source": [
    "listWords"
   ]
  },
  {
   "cell_type": "code",
   "execution_count": 23,
   "metadata": {
    "collapsed": false
   },
   "outputs": [
    {
     "data": {
      "text/plain": [
       "' hello    world'"
      ]
     },
     "execution_count": 23,
     "metadata": {},
     "output_type": "execute_result"
    }
   ],
   "source": [
    "' '.join(listWords)"
   ]
  },
  {
   "cell_type": "code",
   "execution_count": 27,
   "metadata": {
    "collapsed": false
   },
   "outputs": [
    {
     "data": {
      "text/plain": [
       "'hello    world'"
      ]
     },
     "execution_count": 27,
     "metadata": {},
     "output_type": "execute_result"
    }
   ],
   "source": [
    "words.strip()"
   ]
  },
  {
   "cell_type": "code",
   "execution_count": 29,
   "metadata": {
    "collapsed": false
   },
   "outputs": [],
   "source": [
    "words='a'"
   ]
  },
  {
   "cell_type": "code",
   "execution_count": 31,
   "metadata": {
    "collapsed": false
   },
   "outputs": [
    {
     "data": {
      "text/plain": [
       "['a']"
      ]
     },
     "execution_count": 31,
     "metadata": {},
     "output_type": "execute_result"
    }
   ],
   "source": [
    "words.strip().split()"
   ]
  },
  {
   "cell_type": "code",
   "execution_count": null,
   "metadata": {
    "collapsed": true
   },
   "outputs": [],
   "source": []
  }
 ],
 "metadata": {
  "kernelspec": {
   "display_name": "Python [conda root]",
   "language": "python",
   "name": "conda-root-py"
  },
  "language_info": {
   "codemirror_mode": {
    "name": "ipython",
    "version": 3
   },
   "file_extension": ".py",
   "mimetype": "text/x-python",
   "name": "python",
   "nbconvert_exporter": "python",
   "pygments_lexer": "ipython3",
   "version": "3.5.2"
  }
 },
 "nbformat": 4,
 "nbformat_minor": 2
}
