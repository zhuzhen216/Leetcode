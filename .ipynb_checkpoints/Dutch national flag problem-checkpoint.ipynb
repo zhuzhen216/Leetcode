{
 "cells": [
  {
   "cell_type": "code",
   "execution_count": 3,
   "metadata": {
    "collapsed": true
   },
   "outputs": [],
   "source": [
    "def sortCatg(nums):\n",
    "    \"\"\"\n",
    "    1. nums: contains 0,1,2\n",
    "    2. three-way partition\n",
    "    3. i: for smaller number; j: for middle number; n for largest number\n",
    "    \"\"\"\n",
    "    i = 0\n",
    "    j = 0\n",
    "    n = len(nums)-1\n",
    "    mid = 1\n",
    "    while j < n:\n",
    "        if nums[j]<mid:\n",
    "            nums[i],nums[j]=nums[j],nums[i]\n",
    "            i += 1\n",
    "            j += 1\n",
    "        elif nums[j]>mid:\n",
    "            nums[j],nums[n]=nums[n],nums[j]\n",
    "            n = n-1\n",
    "        else:\n",
    "            j = j + 1"
   ]
  },
  {
   "cell_type": "code",
   "execution_count": 4,
   "metadata": {
    "collapsed": false
   },
   "outputs": [],
   "source": [
    "nums=[0,0,2,1,0,2]\n",
    "sortCatg(nums)"
   ]
  },
  {
   "cell_type": "code",
   "execution_count": 5,
   "metadata": {
    "collapsed": false
   },
   "outputs": [
    {
     "data": {
      "text/plain": [
       "[0, 0, 0, 1, 2, 2]"
      ]
     },
     "execution_count": 5,
     "metadata": {},
     "output_type": "execute_result"
    }
   ],
   "source": [
    "nums"
   ]
  },
  {
   "cell_type": "code",
   "execution_count": null,
   "metadata": {
    "collapsed": true
   },
   "outputs": [],
   "source": []
  }
 ],
 "metadata": {
  "anaconda-cloud": {},
  "kernelspec": {
   "display_name": "Python [conda root]",
   "language": "python",
   "name": "conda-root-py"
  },
  "language_info": {
   "codemirror_mode": {
    "name": "ipython",
    "version": 3
   },
   "file_extension": ".py",
   "mimetype": "text/x-python",
   "name": "python",
   "nbconvert_exporter": "python",
   "pygments_lexer": "ipython3",
   "version": "3.5.2"
  }
 },
 "nbformat": 4,
 "nbformat_minor": 2
}
