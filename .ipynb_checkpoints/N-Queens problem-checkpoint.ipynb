{
 "cells": [
  {
   "cell_type": "code",
   "execution_count": 110,
   "metadata": {
    "collapsed": true
   },
   "outputs": [],
   "source": [
    "def isAttacked(x,y,board):\n",
    "    # check rows and columns\n",
    "    if board[x][y]==1:\n",
    "        return True\n",
    "    for i in range(len(board)):\n",
    "        if board[x][i]==1:\n",
    "            return True\n",
    "        if board[i][y]==1:\n",
    "            return True\n",
    "    # check diagonals\n",
    "    for i in range(len(board)):\n",
    "        for j in range(len(board)):\n",
    "            if i+j==x+y and board[i][j]==1:\n",
    "                return True\n",
    "            if i-j==x-y and board[i][j]==1:\n",
    "                return True\n",
    "    return False"
   ]
  },
  {
   "cell_type": "markdown",
   "metadata": {},
   "source": [
    "N-Queens( board[][], N )\n",
    "    if N is 0                     //All queens have been placed\n",
    "        return true\n",
    "    for i = 1 to N {\n",
    "        for j = 1 to N {\n",
    "            if is_attacked(i, j, board, N) is true\n",
    "                skip it and move to next cell\n",
    "            board[i][j] = 1            //Place current queen at cell (i,j)\n",
    "            if N-Queens( board, N-1) is true    // Solve subproblem\n",
    "                return true                   // if solution is found return true\n",
    "            board[i][j] = 0            /* if solution is not found undo whatever changes \n",
    "                                       were made i.e., remove  current queen from (i,j)*/\n",
    "        }\n",
    "    }\n",
    "    return false"
   ]
  },
  {
   "cell_type": "code",
   "execution_count": 153,
   "metadata": {
    "collapsed": true
   },
   "outputs": [],
   "source": [
    "def N_Queens(board, N):\n",
    "    #print(len(board))\n",
    "    if N == 0:\n",
    "        #print(board)\n",
    "        return True\n",
    "    #print(len(board))\n",
    "    for i in range(len(board)):\n",
    "        for j in range(len(board)):\n",
    "            if isAttacked(i,j,board):\n",
    "                continue\n",
    "            board[i][j]=1\n",
    "            #print(board)\n",
    "            if N_Queens(board,N-1):\n",
    "                #print(board)\n",
    "                return True\n",
    "            board[i][j]=0\n",
    "    return False"
   ]
  },
  {
   "cell_type": "code",
   "execution_count": 154,
   "metadata": {
    "collapsed": false
   },
   "outputs": [],
   "source": [
    "board = [[0 for _ in range(6)] for _ in range(6)]"
   ]
  },
  {
   "cell_type": "code",
   "execution_count": 155,
   "metadata": {
    "collapsed": false
   },
   "outputs": [
    {
     "data": {
      "text/plain": [
       "[[0, 0, 0, 0, 0, 0],\n",
       " [0, 0, 0, 0, 0, 0],\n",
       " [0, 0, 0, 0, 0, 0],\n",
       " [0, 0, 0, 0, 0, 0],\n",
       " [0, 0, 0, 0, 0, 0],\n",
       " [0, 0, 0, 0, 0, 0]]"
      ]
     },
     "execution_count": 155,
     "metadata": {},
     "output_type": "execute_result"
    }
   ],
   "source": [
    "board"
   ]
  },
  {
   "cell_type": "code",
   "execution_count": 156,
   "metadata": {
    "collapsed": true
   },
   "outputs": [],
   "source": [
    "#board[2][2]=1"
   ]
  },
  {
   "cell_type": "code",
   "execution_count": 157,
   "metadata": {
    "collapsed": false
   },
   "outputs": [
    {
     "data": {
      "text/plain": [
       "True"
      ]
     },
     "execution_count": 157,
     "metadata": {},
     "output_type": "execute_result"
    }
   ],
   "source": [
    "N_Queens(board,6)"
   ]
  },
  {
   "cell_type": "code",
   "execution_count": 158,
   "metadata": {
    "collapsed": false
   },
   "outputs": [
    {
     "data": {
      "text/plain": [
       "[[0, 1, 0, 0, 0, 0],\n",
       " [0, 0, 0, 1, 0, 0],\n",
       " [0, 0, 0, 0, 0, 1],\n",
       " [1, 0, 0, 0, 0, 0],\n",
       " [0, 0, 1, 0, 0, 0],\n",
       " [0, 0, 0, 0, 1, 0]]"
      ]
     },
     "execution_count": 158,
     "metadata": {},
     "output_type": "execute_result"
    }
   ],
   "source": [
    "board"
   ]
  },
  {
   "cell_type": "code",
   "execution_count": null,
   "metadata": {
    "collapsed": true
   },
   "outputs": [],
   "source": []
  }
 ],
 "metadata": {
  "kernelspec": {
   "display_name": "Python [conda root]",
   "language": "python",
   "name": "conda-root-py"
  },
  "language_info": {
   "codemirror_mode": {
    "name": "ipython",
    "version": 3
   },
   "file_extension": ".py",
   "mimetype": "text/x-python",
   "name": "python",
   "nbconvert_exporter": "python",
   "pygments_lexer": "ipython3",
   "version": "3.5.2"
  }
 },
 "nbformat": 4,
 "nbformat_minor": 2
}
