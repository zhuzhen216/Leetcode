{
 "cells": [
  {
   "cell_type": "code",
   "execution_count": 22,
   "metadata": {
    "collapsed": false
   },
   "outputs": [],
   "source": [
    "def spiralOrder(matrix):\n",
    "    \"\"\"\n",
    "    :type matrix: List[List[int]]\n",
    "    :rtype: List[int]\n",
    "    \"\"\"\n",
    "    if matrix is None or len(matrix)==0:\n",
    "        return []\n",
    "    def generate(matrix,startRow,startCol,ret):\n",
    "        if startCol >= len(matrix[0]) - startCol or startRow >= len(matrix) - startRow:\n",
    "            return\n",
    "        elif startCol == len(matrix[0]) - startCol - 1:\n",
    "            for i in range(startRow,len(matrix)-startRow):\n",
    "                ret.append(matrix[i][startCol])\n",
    "            return\n",
    "        elif startRow == len(matrix) - startRow - 1:\n",
    "            for i in range(startCol,len(matrix[0])-startCol):\n",
    "                ret.append(matrix[startRow][i])\n",
    "            return\n",
    "        else:\n",
    "            for i in range(startCol,len(matrix[0])-startCol):\n",
    "                ret.append(matrix[startRow][i])\n",
    "            #ret.extend(matrix[startRow][startCol:(len(matrix[0])-startCol)])\n",
    "            #print(ret)\n",
    "            for i in range(startRow+1,len(matrix)-startRow):\n",
    "                ret.append(matrix[i][len(matrix[0])-startCol-1])\n",
    "            #ret.extend(matrix[(startRow+1):(len(matrix)-startRow)][len(matrix[0])-startCol-1])\n",
    "            #print(ret)\n",
    "            for i in reversed(range(startCol,len(matrix[0])-startCol-1)):\n",
    "                ret.append(matrix[len(matrix)-startRow-1][i])\n",
    "            #ret.extend(matrix[len(matrix)-startRow-1][startCol:(len(matrix[0])-startCol-1)])\n",
    "            for i in reversed(range(startRow+1,len(matrix)-startRow-1)):\n",
    "                ret.append(matrix[i][startCol])\n",
    "            #ret.extend(matrix[(startRow+1):(len(matrix)-startRow-1)][startCol])\n",
    "            generate(matrix,startRow+1,startCol+1,ret)\n",
    "    ret = []\n",
    "    generate(matrix,0,0,ret)\n",
    "    return ret"
   ]
  },
  {
   "cell_type": "code",
   "execution_count": 23,
   "metadata": {
    "collapsed": false
   },
   "outputs": [
    {
     "data": {
      "text/plain": [
       "[1, 2, 3, 6, 9, 8, 7, 4, 5]"
      ]
     },
     "execution_count": 23,
     "metadata": {},
     "output_type": "execute_result"
    }
   ],
   "source": [
    "spiralOrder([[1,2,3],[4,5,6],[7,8,9]])"
   ]
  },
  {
   "cell_type": "code",
   "execution_count": 14,
   "metadata": {
    "collapsed": true
   },
   "outputs": [],
   "source": [
    "a=[[1,2,3],[4,5,6],[7,8,9]]"
   ]
  },
  {
   "cell_type": "code",
   "execution_count": 21,
   "metadata": {
    "collapsed": false
   },
   "outputs": [
    {
     "data": {
      "text/plain": [
       "[7, 8, 9]"
      ]
     },
     "execution_count": 21,
     "metadata": {},
     "output_type": "execute_result"
    }
   ],
   "source": [
    "a[1:3][1]"
   ]
  },
  {
   "cell_type": "code",
   "execution_count": null,
   "metadata": {
    "collapsed": true
   },
   "outputs": [],
   "source": []
  }
 ],
 "metadata": {
  "kernelspec": {
   "display_name": "Python [conda root]",
   "language": "python",
   "name": "conda-root-py"
  },
  "language_info": {
   "codemirror_mode": {
    "name": "ipython",
    "version": 3
   },
   "file_extension": ".py",
   "mimetype": "text/x-python",
   "name": "python",
   "nbconvert_exporter": "python",
   "pygments_lexer": "ipython3",
   "version": "3.5.2"
  }
 },
 "nbformat": 4,
 "nbformat_minor": 2
}
