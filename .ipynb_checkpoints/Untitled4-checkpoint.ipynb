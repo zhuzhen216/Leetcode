{
 "cells": [
  {
   "cell_type": "code",
   "execution_count": 32,
   "metadata": {
    "collapsed": true
   },
   "outputs": [],
   "source": [
    "def maximalSquare_v1(matrix):\n",
    "    if matrix is None or len(matrix)==0:\n",
    "        return 0\n",
    "    M = len(matrix)\n",
    "    N = len(matrix[0])\n",
    "    dp =[[0 for _ in range(N)] for _ in range(M)]\n",
    "    maximum = 0\n",
    "    for i in range(M):\n",
    "        for j in range(N):\n",
    "            if matrix[i][j]=='1':\n",
    "                if i==0 or j ==0:\n",
    "                    dp[i][j]=1\n",
    "                else:\n",
    "                    # this relation is important\n",
    "                    dp[i][j]=min(dp[i-1][j],dp[i][j-1],dp[i-1][j-1])+1\n",
    "            maximum = max(maximum,dp[i][j])\n",
    "    return maximum**2"
   ]
  },
  {
   "cell_type": "code",
   "execution_count": 30,
   "metadata": {
    "collapsed": true
   },
   "outputs": [],
   "source": [
    "matrix=[\"11100\",\"11100\",\"11111\",\"01111\",\"01111\",\"01111\"]"
   ]
  },
  {
   "cell_type": "code",
   "execution_count": 31,
   "metadata": {
    "collapsed": false
   },
   "outputs": [
    {
     "data": {
      "text/plain": [
       "16"
      ]
     },
     "execution_count": 31,
     "metadata": {},
     "output_type": "execute_result"
    }
   ],
   "source": [
    "maximalSquare_v1(matrix)"
   ]
  },
  {
   "cell_type": "code",
   "execution_count": 22,
   "metadata": {
    "collapsed": true
   },
   "outputs": [],
   "source": [
    "def maximalSquare(matrix):\n",
    "        \"\"\"\n",
    "        :type matrix: List[List[str]]\n",
    "        :rtype: int\n",
    "        \"\"\"\n",
    "        if matrix is None or len(matrix)==0:\n",
    "            return 0\n",
    "        M = len(matrix)\n",
    "        N = len(matrix[0])\n",
    "        dp = [[int(matrix[i][j]) for j in range(len(matrix[0]))] for i in range(len(matrix))]\n",
    "        #print(dp)\n",
    "        for i in range(1,len(matrix)):\n",
    "            for j in range(1,len(matrix[0])):\n",
    "                if matrix[i][j]=='1' and matrix[i-1][j]=='1' and matrix[i][j-1]=='1' and matrix[i-1][j-1]=='1':\n",
    "                    if dp[i-1][j]==dp[i][j-1]:\n",
    "                        if dp[i-dp[i][j-1]][j-dp[i][j-1]]>0:\n",
    "                            dp[i][j]=dp[i-1][j]+1\n",
    "                        else:\n",
    "                            dp[i][j]=dp[i-1][j]\n",
    "                    else:\n",
    "                        dp[i][j]=min(dp[i-1][j],dp[i][j-1])+1\n",
    "        print(dp)\n",
    "        return (max(dp[i][j] for i in range(len(matrix)) for j in range(len(matrix[0]))))**2"
   ]
  },
  {
   "cell_type": "code",
   "execution_count": 23,
   "metadata": {
    "collapsed": true
   },
   "outputs": [],
   "source": [
    "matrix=[\"11100\",\"11100\",\"11111\",\"01111\",\"01111\",\"01111\"]"
   ]
  },
  {
   "cell_type": "code",
   "execution_count": 24,
   "metadata": {
    "collapsed": false
   },
   "outputs": [
    {
     "name": "stdout",
     "output_type": "stream",
     "text": [
      "[[1, 1, 1, 0, 0], [1, 2, 2, 0, 0], [1, 2, 3, 1, 1], [0, 1, 2, 2, 2], [0, 1, 2, 3, 3], [0, 1, 2, 3, 4]]\n"
     ]
    },
    {
     "data": {
      "text/plain": [
       "16"
      ]
     },
     "execution_count": 24,
     "metadata": {},
     "output_type": "execute_result"
    }
   ],
   "source": [
    "maximalSquare(matrix)"
   ]
  },
  {
   "cell_type": "code",
   "execution_count": 15,
   "metadata": {
    "collapsed": false
   },
   "outputs": [
    {
     "name": "stdout",
     "output_type": "stream",
     "text": [
      "['11100', '11100', '11111', '01111', '01111', '01111']\n"
     ]
    }
   ],
   "source": [
    "print(matrix)"
   ]
  },
  {
   "cell_type": "markdown",
   "metadata": {},
   "source": [
    "11100\n",
    "\n",
    "11100\n",
    "\n",
    "11111\n",
    "\n",
    "01111\n",
    "\n",
    "01111\n",
    "\n",
    "01111"
   ]
  },
  {
   "cell_type": "code",
   "execution_count": 25,
   "metadata": {
    "collapsed": true
   },
   "outputs": [],
   "source": [
    "dp = [[1,2,3,4]]"
   ]
  },
  {
   "cell_type": "code",
   "execution_count": 28,
   "metadata": {
    "collapsed": false
   },
   "outputs": [
    {
     "data": {
      "text/plain": [
       "4"
      ]
     },
     "execution_count": 28,
     "metadata": {},
     "output_type": "execute_result"
    }
   ],
   "source": [
    "max(dp[i][j] for i in range(len(dp)) for j in range(len(dp[0])))"
   ]
  },
  {
   "cell_type": "code",
   "execution_count": null,
   "metadata": {
    "collapsed": true
   },
   "outputs": [],
   "source": []
  }
 ],
 "metadata": {
  "kernelspec": {
   "display_name": "Python [conda root]",
   "language": "python",
   "name": "conda-root-py"
  },
  "language_info": {
   "codemirror_mode": {
    "name": "ipython",
    "version": 3
   },
   "file_extension": ".py",
   "mimetype": "text/x-python",
   "name": "python",
   "nbconvert_exporter": "python",
   "pygments_lexer": "ipython3",
   "version": "3.5.2"
  }
 },
 "nbformat": 4,
 "nbformat_minor": 2
}
