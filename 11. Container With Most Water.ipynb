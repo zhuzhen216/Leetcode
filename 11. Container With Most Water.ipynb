{
 "cells": [
  {
   "cell_type": "code",
   "execution_count": 6,
   "metadata": {
    "collapsed": true
   },
   "outputs": [],
   "source": [
    "def maxArea(height):\n",
    "    \"\"\"\n",
    "    find the largest area\n",
    "    time complexity: O(n)\n",
    "    two pointer\n",
    "    \"\"\"\n",
    "    max_area = 0\n",
    "    i = 0\n",
    "    j = len(height) - 1\n",
    "    while i < j:\n",
    "        cur_height = min(height[i],height[j])\n",
    "        cur_area = (j-i)*cur_height\n",
    "        max_area = max(cur_area,max_area)\n",
    "        while height[i]<=cur_height and i < j:\n",
    "            i += 1\n",
    "        while height[j]<=cur_height and i < j:\n",
    "            j -= 1\n",
    "    return max_area"
   ]
  },
  {
   "cell_type": "code",
   "execution_count": 4,
   "metadata": {
    "collapsed": false
   },
   "outputs": [
    {
     "data": {
      "text/plain": [
       "12"
      ]
     },
     "execution_count": 4,
     "metadata": {},
     "output_type": "execute_result"
    }
   ],
   "source": [
    "maxArea([2,1,3,4,5,2,6])"
   ]
  },
  {
   "cell_type": "code",
   "execution_count": null,
   "metadata": {
    "collapsed": true
   },
   "outputs": [],
   "source": []
  }
 ],
 "metadata": {
  "anaconda-cloud": {},
  "kernelspec": {
   "display_name": "Python [conda root]",
   "language": "python",
   "name": "conda-root-py"
  },
  "language_info": {
   "codemirror_mode": {
    "name": "ipython",
    "version": 3
   },
   "file_extension": ".py",
   "mimetype": "text/x-python",
   "name": "python",
   "nbconvert_exporter": "python",
   "pygments_lexer": "ipython3",
   "version": "3.5.2"
  }
 },
 "nbformat": 4,
 "nbformat_minor": 2
}
