{
 "cells": [
  {
   "cell_type": "code",
   "execution_count": 11,
   "metadata": {
    "collapsed": true
   },
   "outputs": [],
   "source": [
    "def solve(board):\n",
    "    \"\"\"\n",
    "    :type board: List[List[str]]\n",
    "    :rtype: void Do not return anything, modify board in-place instead.\n",
    "    \"\"\"\n",
    "    #\n",
    "    #\n",
    "    # find empty spots connected with initial empty site and change it to '1'\n",
    "    #\n",
    "    def cover(board,i,j):\n",
    "        if i < 0 or i >= len(board) or j < 0 or j >= len(board[0]) or board[i][j]!='O':\n",
    "            return\n",
    "        board[i][j]='1'\n",
    "        cover(board,i-1,j)\n",
    "        cover(board,i+1,j)\n",
    "        cover(board,i,j-1)\n",
    "        cover(board,i,j+1)\n",
    "    #\n",
    "    if board is None:\n",
    "        return 0\n",
    "    newBoard = [[board[i][j] for j in range(len(board[0]))] for i in range(len(board))]\n",
    "    count = 0\n",
    "    for i in range(len(newBoard)):\n",
    "        # only start from the edge\n",
    "        # colNum = 0, colLen - 1\n",
    "        cover(newBoard,i,0)\n",
    "        cover(newBoard,i,len(newBoard[0])-1)\n",
    "    for i in range(len(newBoard)):\n",
    "        # only start from the edge\n",
    "        # rowNum = 0, rowLen - 1\n",
    "        cover(newBoard,0,i)\n",
    "        cover(newBoard,len(newBoard)-1,i)\n",
    "    #\n",
    "    # change the inside 'O's to 'X's\n",
    "    #\n",
    "    for i in range(len(newBoard)):\n",
    "        for j in range(len(newBoard[0])):\n",
    "            if newBoard[i][j]=='O':\n",
    "                newBoard[i][j]='X'\n",
    "    #\n",
    "    # change outside '1's to 'O's\n",
    "    #\n",
    "    for i in range(len(newBoard)):\n",
    "        for j in range(len(newBoard[0])):\n",
    "            if newBoard[i][j]=='1':\n",
    "                newBoard[i][j]='O'\n",
    "    return newBoard"
   ]
  },
  {
   "cell_type": "code",
   "execution_count": 12,
   "metadata": {
    "collapsed": false
   },
   "outputs": [
    {
     "data": {
      "text/plain": [
       "[['X', 'X', 'X', 'X'],\n",
       " ['X', 'X', 'X', 'X'],\n",
       " ['X', 'X', 'X', 'X'],\n",
       " ['X', 'O', 'O', 'X']]"
      ]
     },
     "execution_count": 12,
     "metadata": {},
     "output_type": "execute_result"
    }
   ],
   "source": [
    "solve(['XXXX','XOOX','XXXX','XOOX'])"
   ]
  },
  {
   "cell_type": "code",
   "execution_count": null,
   "metadata": {
    "collapsed": true
   },
   "outputs": [],
   "source": []
  }
 ],
 "metadata": {
  "anaconda-cloud": {},
  "kernelspec": {
   "display_name": "Python [conda root]",
   "language": "python",
   "name": "conda-root-py"
  },
  "language_info": {
   "codemirror_mode": {
    "name": "ipython",
    "version": 3
   },
   "file_extension": ".py",
   "mimetype": "text/x-python",
   "name": "python",
   "nbconvert_exporter": "python",
   "pygments_lexer": "ipython3",
   "version": "3.5.2"
  }
 },
 "nbformat": 4,
 "nbformat_minor": 2
}
