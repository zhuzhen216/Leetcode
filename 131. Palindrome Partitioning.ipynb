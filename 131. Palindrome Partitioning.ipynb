{
 "cells": [
  {
   "cell_type": "code",
   "execution_count": 14,
   "metadata": {
    "collapsed": true
   },
   "outputs": [],
   "source": [
    "def addPala(ret,path,string,pos,dp):\n",
    "    if pos == len(string):\n",
    "        ret.append(list(path))\n",
    "        return\n",
    "    for i in range(pos,len(string)):\n",
    "        if dp[i][pos]:\n",
    "            path.append(string[pos:i+1])\n",
    "            addPala(ret,path,string,i+1,dp)\n",
    "            path.pop()\n",
    "        \n",
    "def paladrone(string):\n",
    "    dp = [[False for _ in range(len(string))] for _ in range(len(string))]\n",
    "    for i in range(len(string)):\n",
    "        for j in range(i+1):\n",
    "            if string[i]==string[j] and (i-j<2 or dp[i-1][j+1]):\n",
    "                dp[i][j]=True\n",
    "    ret = []\n",
    "    path = []\n",
    "    #print(dp)\n",
    "    addPala(ret,path,string,0,dp)\n",
    "    return ret"
   ]
  },
  {
   "cell_type": "code",
   "execution_count": 17,
   "metadata": {
    "collapsed": false
   },
   "outputs": [
    {
     "data": {
      "text/plain": [
       "[['a', 'b', 'a', 'b', 'a', 'd', 'f', 'd'],\n",
       " ['a', 'b', 'a', 'b', 'a', 'dfd'],\n",
       " ['a', 'b', 'aba', 'd', 'f', 'd'],\n",
       " ['a', 'b', 'aba', 'dfd'],\n",
       " ['a', 'bab', 'a', 'd', 'f', 'd'],\n",
       " ['a', 'bab', 'a', 'dfd'],\n",
       " ['aba', 'b', 'a', 'd', 'f', 'd'],\n",
       " ['aba', 'b', 'a', 'dfd'],\n",
       " ['ababa', 'd', 'f', 'd'],\n",
       " ['ababa', 'dfd']]"
      ]
     },
     "execution_count": 17,
     "metadata": {},
     "output_type": "execute_result"
    }
   ],
   "source": [
    "paladrone('ababadfd')"
   ]
  },
  {
   "cell_type": "code",
   "execution_count": null,
   "metadata": {
    "collapsed": true
   },
   "outputs": [],
   "source": []
  }
 ],
 "metadata": {
  "anaconda-cloud": {},
  "kernelspec": {
   "display_name": "Python [conda root]",
   "language": "python",
   "name": "conda-root-py"
  },
  "language_info": {
   "codemirror_mode": {
    "name": "ipython",
    "version": 3
   },
   "file_extension": ".py",
   "mimetype": "text/x-python",
   "name": "python",
   "nbconvert_exporter": "python",
   "pygments_lexer": "ipython3",
   "version": "3.5.2"
  }
 },
 "nbformat": 4,
 "nbformat_minor": 2
}
