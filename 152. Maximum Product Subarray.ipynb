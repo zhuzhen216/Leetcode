{
 "cells": [
  {
   "cell_type": "code",
   "execution_count": 1,
   "metadata": {
    "collapsed": true
   },
   "outputs": [],
   "source": [
    "def maxProduct(nums):\n",
    "    \"\"\"\n",
    "    dp1: store the maximum product\n",
    "    dp2: store the minimum product\n",
    "    note: it is important to include nums[i] to compare\n",
    "    \"\"\"\n",
    "    dp1 = [1 for i in range(len(nums))]\n",
    "    dp2 = [1 for i in range(len(nums))]\n",
    "    dp1[0]=nums[0]\n",
    "    dp2[0]=nums[0]\n",
    "    maxPro = nums[0]\n",
    "    for i in range(1,len(nums)):\n",
    "        dp1[i] = max(dp1[i-1]*nums[i],dp2[i-1]*nums[i],nums[i])\n",
    "        dp2[i] = min(dp1[i-1]*nums[i],dp2[i-1]*nums[i],nums[i])\n",
    "        maxPro = max(maxPro,dp1[i])\n",
    "    return maxPro"
   ]
  },
  {
   "cell_type": "code",
   "execution_count": 3,
   "metadata": {
    "collapsed": false
   },
   "outputs": [
    {
     "data": {
      "text/plain": [
       "120"
      ]
     },
     "execution_count": 3,
     "metadata": {},
     "output_type": "execute_result"
    }
   ],
   "source": [
    "maxProduct([1,2,-3,-4,-5,6])"
   ]
  },
  {
   "cell_type": "code",
   "execution_count": 4,
   "metadata": {
    "collapsed": true
   },
   "outputs": [],
   "source": [
    "def maxProduct2(nums):\n",
    "    \"\"\"\n",
    "    instead of using two arrays, we can just use two nums\n",
    "    \"\"\"\n",
    "    curMin = nums[0]\n",
    "    curMax = nums[0]\n",
    "    maxPro = nums[0]\n",
    "    for i in range(1,len(nums)):\n",
    "        preMin = curMin\n",
    "        preMax = curMax\n",
    "        curMin = min(preMin*nums[i],preMax*nums[i],nums[i])\n",
    "        curMax = max(preMin*nums[i],preMax*nums[i],nums[i])\n",
    "        maxPro = max(maxPro,curMax)\n",
    "    return maxPro"
   ]
  },
  {
   "cell_type": "code",
   "execution_count": 5,
   "metadata": {
    "collapsed": false
   },
   "outputs": [
    {
     "data": {
      "text/plain": [
       "120"
      ]
     },
     "execution_count": 5,
     "metadata": {},
     "output_type": "execute_result"
    }
   ],
   "source": [
    "maxProduct2([1,2,-3,-4,-5,6])"
   ]
  },
  {
   "cell_type": "code",
   "execution_count": null,
   "metadata": {
    "collapsed": true
   },
   "outputs": [],
   "source": []
  }
 ],
 "metadata": {
  "kernelspec": {
   "display_name": "Python [conda root]",
   "language": "python",
   "name": "conda-root-py"
  },
  "language_info": {
   "codemirror_mode": {
    "name": "ipython",
    "version": 3
   },
   "file_extension": ".py",
   "mimetype": "text/x-python",
   "name": "python",
   "nbconvert_exporter": "python",
   "pygments_lexer": "ipython3",
   "version": "3.5.2"
  }
 },
 "nbformat": 4,
 "nbformat_minor": 2
}
