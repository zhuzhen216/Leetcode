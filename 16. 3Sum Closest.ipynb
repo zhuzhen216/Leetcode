{
 "cells": [
  {
   "cell_type": "code",
   "execution_count": 1,
   "metadata": {
    "collapsed": true
   },
   "outputs": [],
   "source": [
    "def sumClose(nums,target):\n",
    "    closeSum = nums[0]+nums[1]+nums[2]\n",
    "    for i in range(0,len(nums)-2):\n",
    "        left = i + 1\n",
    "        right = len(nums)-1\n",
    "        while left < right:\n",
    "            curSum = nums[i]+nums[left]+nums[right]\n",
    "            diff = curSum - target\n",
    "            closeSum = closeSum if abs(closeSum - target) < abs(diff) else curSum\n",
    "            if diff == 0:\n",
    "                return closeSum\n",
    "            elif diff < 0:\n",
    "                left += 1\n",
    "            else:\n",
    "                right -= 1\n",
    "    return closeSum"
   ]
  },
  {
   "cell_type": "code",
   "execution_count": 5,
   "metadata": {
    "collapsed": false
   },
   "outputs": [
    {
     "data": {
      "text/plain": [
       "13"
      ]
     },
     "execution_count": 5,
     "metadata": {},
     "output_type": "execute_result"
    }
   ],
   "source": [
    "sumClose([1,2,3,4,4,5],16)"
   ]
  },
  {
   "cell_type": "code",
   "execution_count": null,
   "metadata": {
    "collapsed": true
   },
   "outputs": [],
   "source": []
  }
 ],
 "metadata": {
  "kernelspec": {
   "display_name": "Python [conda root]",
   "language": "python",
   "name": "conda-root-py"
  },
  "language_info": {
   "codemirror_mode": {
    "name": "ipython",
    "version": 3
   },
   "file_extension": ".py",
   "mimetype": "text/x-python",
   "name": "python",
   "nbconvert_exporter": "python",
   "pygments_lexer": "ipython3",
   "version": "3.5.2"
  }
 },
 "nbformat": 4,
 "nbformat_minor": 2
}
