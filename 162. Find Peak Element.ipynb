{
 "cells": [
  {
   "cell_type": "code",
   "execution_count": 4,
   "metadata": {
    "collapsed": false
   },
   "outputs": [],
   "source": [
    "def findPeak(nums):\n",
    "    #\n",
    "    # o(log(n))\n",
    "    #\n",
    "    def helper(start,end):\n",
    "        if start == end:\n",
    "            return start\n",
    "        elif start + 1 == end:\n",
    "            if nums[start]<nums[end]:\n",
    "                return end\n",
    "            else:\n",
    "                return start\n",
    "        else:\n",
    "            mid = (start+end)//2\n",
    "            if nums[mid]>nums[mid-1] and nums[mid]>nums[mid+1]:\n",
    "                return mid\n",
    "            elif nums[mid]>nums[mid-1] and nums[mid+1] > nums[mid]:\n",
    "                return helper(mid+1,end)\n",
    "            elif nums[mid]<nums[mid-1] and nums[mid] > nums[mid+1]:\n",
    "                return helper(start,mid-1)\n",
    "            else:\n",
    "                return helper(mid+1,end)\n",
    "    helper(0,len(nums))"
   ]
  },
  {
   "cell_type": "code",
   "execution_count": null,
   "metadata": {
    "collapsed": true
   },
   "outputs": [],
   "source": []
  }
 ],
 "metadata": {
  "anaconda-cloud": {},
  "kernelspec": {
   "display_name": "Python [conda root]",
   "language": "python",
   "name": "conda-root-py"
  },
  "language_info": {
   "codemirror_mode": {
    "name": "ipython",
    "version": 3
   },
   "file_extension": ".py",
   "mimetype": "text/x-python",
   "name": "python",
   "nbconvert_exporter": "python",
   "pygments_lexer": "ipython3",
   "version": "3.5.2"
  }
 },
 "nbformat": 4,
 "nbformat_minor": 2
}
