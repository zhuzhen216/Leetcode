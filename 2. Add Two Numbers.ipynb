{
 "cells": [
  {
   "cell_type": "markdown",
   "metadata": {},
   "source": [
    "### For linked list or list\n",
    "\n",
    "You are given two non-empty linked lists representing two non-negative integers. The digits are stored in reverse order and each of their nodes contain a single digit. Add the two numbers and return it as a linked list.\n",
    "\n",
    "You may assume the two numbers do not contain any leading zero, except the number 0 itself."
   ]
  },
  {
   "cell_type": "code",
   "execution_count": 1,
   "metadata": {
    "collapsed": true
   },
   "outputs": [],
   "source": [
    "def addTwo(listOne, listTwo):\n",
    "    \"\"\"\n",
    "    version of list\n",
    "    \"\"\"\n",
    "    carry = 0\n",
    "    lenOne = len(listOne)\n",
    "    lenTwo = len(listTwo)\n",
    "    i = 0\n",
    "    j = 0\n",
    "    ret = []\n",
    "    while i < lenOne or j < lenTwo or carry:\n",
    "        val1 = 0\n",
    "        val2 = 0\n",
    "        if i < lenOne:\n",
    "            val1 = listOne[i]\n",
    "            i += 1\n",
    "        if j < lenTwo:\n",
    "            val2 = listTwo[j]\n",
    "            j += 1\n",
    "        ret.append((val1+val2+carry)%10)\n",
    "        carry = (val1+val2+carry)//10\n",
    "    return ret"
   ]
  },
  {
   "cell_type": "code",
   "execution_count": 3,
   "metadata": {
    "collapsed": false
   },
   "outputs": [
    {
     "data": {
      "text/plain": [
       "[5, 1, 4]"
      ]
     },
     "execution_count": 3,
     "metadata": {},
     "output_type": "execute_result"
    }
   ],
   "source": [
    "addTwo([1,2,3],[4,9])"
   ]
  },
  {
   "cell_type": "code",
   "execution_count": null,
   "metadata": {
    "collapsed": true
   },
   "outputs": [],
   "source": [
    "def addTwo_v2(listOne,listTwo):\n",
    "    carry = 0\n",
    "    dummy = ListNode(-1)\n",
    "    pre = dummy\n",
    "    while listOne or listTwo or carry:\n",
    "        valOne = 0\n",
    "        valTwo = 0\n",
    "        if listOne:\n",
    "            valOne = listOne.val\n",
    "            listOne = listOne.next\n",
    "        if listTwo:\n",
    "            valTwo = listTwo.val\n",
    "            listTwo = listTwo.next\n",
    "        cur = ListNode((valOne+valTwo+carry)%10)\n",
    "        pre.next = cur\n",
    "        pre = cur\n",
    "        carry = (valOne+valTwo+carry)//10\n",
    "    return dummy.next"
   ]
  },
  {
   "cell_type": "markdown",
   "metadata": {},
   "source": [
    "**if not reversed?**\n",
    "\n",
    "For list, it is easy to achieve."
   ]
  },
  {
   "cell_type": "code",
   "execution_count": 4,
   "metadata": {
    "collapsed": true
   },
   "outputs": [],
   "source": [
    "def addTwo_v3(listOne,listTwo):\n",
    "    carry = 0\n",
    "    lenOne = len(listOne)\n",
    "    lenTwo = len(listTwo)\n",
    "    i = lenOne -1\n",
    "    j = lenTwo - 1\n",
    "    ret = []\n",
    "    while i >= 0 or j >= 0 or carry:\n",
    "        valOne = 0\n",
    "        valTwo = 0\n",
    "        if i>=0:\n",
    "            valOne = listOne[i]\n",
    "            i -= 1\n",
    "        if j >= 0:\n",
    "            valTwo = listTwo[j]\n",
    "            j -= 1\n",
    "        \n",
    "        ret.append((valOne+valTwo+carry)%10)\n",
    "        carry = (valOne+valTwo+carry)//10\n",
    "    return ret[::-1]"
   ]
  },
  {
   "cell_type": "code",
   "execution_count": 5,
   "metadata": {
    "collapsed": false
   },
   "outputs": [
    {
     "data": {
      "text/plain": [
       "[5, 1]"
      ]
     },
     "execution_count": 5,
     "metadata": {},
     "output_type": "execute_result"
    }
   ],
   "source": [
    "addTwo_v3([1,2],[3,9])"
   ]
  },
  {
   "cell_type": "code",
   "execution_count": null,
   "metadata": {
    "collapsed": true
   },
   "outputs": [],
   "source": []
  }
 ],
 "metadata": {
  "anaconda-cloud": {},
  "kernelspec": {
   "display_name": "Python [conda root]",
   "language": "python",
   "name": "conda-root-py"
  },
  "language_info": {
   "codemirror_mode": {
    "name": "ipython",
    "version": 3
   },
   "file_extension": ".py",
   "mimetype": "text/x-python",
   "name": "python",
   "nbconvert_exporter": "python",
   "pygments_lexer": "ipython3",
   "version": "3.5.2"
  }
 },
 "nbformat": 4,
 "nbformat_minor": 2
}
