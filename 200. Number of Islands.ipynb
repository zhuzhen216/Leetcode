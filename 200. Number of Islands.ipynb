{
 "cells": [
  {
   "cell_type": "code",
   "execution_count": 7,
   "metadata": {
    "collapsed": true
   },
   "outputs": [],
   "source": [
    "def sink(newGrid,i,j):\n",
    "    if i < 0 or i >= len(newGrid) or j < 0 or j > len(newGrid[0]) or newGrid[i][j]=='0':\n",
    "        return\n",
    "    newGrid[i][j]='0'\n",
    "    sink(newGrid,i-1,j)\n",
    "    sink(newGrid,i+1,j)\n",
    "    sink(newGrid,i,j-1)\n",
    "    sink(newGrid,i,j+1)\n",
    "def numIslands(grid):\n",
    "    newGrid =[[grid[i][j] for j in range(len(grid[0]))] for i in range(len(grid))]\n",
    "    print(newGrid)\n",
    "    if newGrid is None:\n",
    "        return 0\n",
    "    count = 0\n",
    "    for i in range(len(newGrid)):\n",
    "        for j in range(len(newGrid[0])):\n",
    "            if newGrid[i][j]=='1':\n",
    "                count += 1\n",
    "                sink(newGrid,i,j)\n",
    "    return count"
   ]
  },
  {
   "cell_type": "code",
   "execution_count": 8,
   "metadata": {
    "collapsed": false
   },
   "outputs": [
    {
     "name": "stdout",
     "output_type": "stream",
     "text": [
      "[['1', '1', '1', '1', '0'], ['1', '1', '0', '1', '0'], ['1', '1', '0', '0', '0'], ['0', '0', '0', '0', '0']]\n"
     ]
    },
    {
     "data": {
      "text/plain": [
       "1"
      ]
     },
     "execution_count": 8,
     "metadata": {},
     "output_type": "execute_result"
    }
   ],
   "source": [
    "numIslands(['11110','11010','11000','00000'])"
   ]
  },
  {
   "cell_type": "code",
   "execution_count": null,
   "metadata": {
    "collapsed": true
   },
   "outputs": [],
   "source": []
  }
 ],
 "metadata": {
  "anaconda-cloud": {},
  "kernelspec": {
   "display_name": "Python [conda root]",
   "language": "python",
   "name": "conda-root-py"
  },
  "language_info": {
   "codemirror_mode": {
    "name": "ipython",
    "version": 3
   },
   "file_extension": ".py",
   "mimetype": "text/x-python",
   "name": "python",
   "nbconvert_exporter": "python",
   "pygments_lexer": "ipython3",
   "version": "3.5.2"
  }
 },
 "nbformat": 4,
 "nbformat_minor": 2
}
