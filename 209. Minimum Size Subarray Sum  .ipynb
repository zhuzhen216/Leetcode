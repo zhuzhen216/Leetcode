{
 "cells": [
  {
   "cell_type": "code",
   "execution_count": 21,
   "metadata": {
    "collapsed": true
   },
   "outputs": [],
   "source": [
    "def minSubArrayLen(s, nums):\n",
    "        \"\"\"\n",
    "        :type s: int\n",
    "        :type nums: List[int]\n",
    "        :rtype: int\n",
    "        \"\"\"\n",
    "        \n",
    "        if nums is None or len(nums)==0:\n",
    "            return 0\n",
    "        left = 0\n",
    "        right = 1\n",
    "        minLen = len(nums)+1\n",
    "        sumval = nums[0]\n",
    "\n",
    "        while right < len(nums):\n",
    "            \n",
    "            while sumval < s and right < len(nums):\n",
    "                sumval += nums[right]\n",
    "                right += 1\n",
    "            print(right)\n",
    "            print(sumval)\n",
    "            \n",
    "            while sumval >= s and left < right:\n",
    "                sumval -= nums[left]\n",
    "                left += 1\n",
    "            print(sumval)\n",
    "            minLen = min(right-left+1,minLen)\n",
    "            \n",
    "            if minLen == 1:\n",
    "                return minLen\n",
    "        if minLen==len(nums)+1:\n",
    "            return 0\n",
    "        else:\n",
    "            return minLen"
   ]
  },
  {
   "cell_type": "code",
   "execution_count": 22,
   "metadata": {
    "collapsed": false
   },
   "outputs": [
    {
     "name": "stdout",
     "output_type": "stream",
     "text": [
      "4\n",
      "4\n",
      "4\n"
     ]
    },
    {
     "data": {
      "text/plain": [
       "0"
      ]
     },
     "execution_count": 22,
     "metadata": {},
     "output_type": "execute_result"
    }
   ],
   "source": [
    "minSubArrayLen(7,[1,1,1,1])"
   ]
  },
  {
   "cell_type": "code",
   "execution_count": null,
   "metadata": {
    "collapsed": true
   },
   "outputs": [],
   "source": []
  }
 ],
 "metadata": {
  "anaconda-cloud": {},
  "kernelspec": {
   "display_name": "Python [conda root]",
   "language": "python",
   "name": "conda-root-py"
  },
  "language_info": {
   "codemirror_mode": {
    "name": "ipython",
    "version": 3
   },
   "file_extension": ".py",
   "mimetype": "text/x-python",
   "name": "python",
   "nbconvert_exporter": "python",
   "pygments_lexer": "ipython3",
   "version": "3.5.2"
  }
 },
 "nbformat": 4,
 "nbformat_minor": 2
}
