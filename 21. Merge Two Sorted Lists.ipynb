{
 "cells": [
  {
   "cell_type": "code",
   "execution_count": 1,
   "metadata": {
    "collapsed": true
   },
   "outputs": [],
   "source": [
    "def mergeSortedList(LinkedOne,LinkedTwo):\n",
    "    if LinkedOne is None:\n",
    "        return LinkedTwo\n",
    "    if LinkedTwo is None:\n",
    "        return LinkedOne\n",
    "    if LinkedOne.val < LinkedTwo.val:\n",
    "        LinkedOne.next=mergeSortedList(LinkedOne.next,LinkedTwo)\n",
    "        return LinkedOne\n",
    "    else:\n",
    "        LinkedTwo.next=mergeSortedList(LinkedOne,LinkedTwo.next)\n",
    "        return LinkedTwo"
   ]
  },
  {
   "cell_type": "code",
   "execution_count": null,
   "metadata": {
    "collapsed": true
   },
   "outputs": [],
   "source": []
  }
 ],
 "metadata": {
  "kernelspec": {
   "display_name": "Python [conda root]",
   "language": "python",
   "name": "conda-root-py"
  },
  "language_info": {
   "codemirror_mode": {
    "name": "ipython",
    "version": 3
   },
   "file_extension": ".py",
   "mimetype": "text/x-python",
   "name": "python",
   "nbconvert_exporter": "python",
   "pygments_lexer": "ipython3",
   "version": "3.5.2"
  }
 },
 "nbformat": 4,
 "nbformat_minor": 2
}
