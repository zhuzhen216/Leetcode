{
 "cells": [
  {
   "cell_type": "markdown",
   "metadata": {},
   "source": [
    "**Given an array of integers, find out whether there are two distinct indices i and j in the array such that the absolute difference between nums[i] and nums[j] is at most t and the absolute difference between i and j is at most k.**\n"
   ]
  },
  {
   "cell_type": "code",
   "execution_count": 3,
   "metadata": {
    "collapsed": true
   },
   "outputs": [],
   "source": [
    "def contDup(nums,k,t):\n",
    "    \"\"\"\n",
    "    bucket sorting: time complexity o(n)\n",
    "    \"\"\"\n",
    "    if nums is None or len(nums)==0:\n",
    "        return False\n",
    "    # dict is our buckets\n",
    "    dict = {}\n",
    "    m = t + 1\n",
    "    for i,num in enumerate(nums):\n",
    "        elem = num//m\n",
    "        if elem in dict:\n",
    "            return True\n",
    "        if elem - 1 in dict and abs(dict[elem-1]-num)<m:\n",
    "            return True\n",
    "        if elem + 1 in dict and abs(dict[elem+1]-num)<m:\n",
    "            return True\n",
    "        dict[elem] = num\n",
    "        if i>=k:\n",
    "            del dict[nums[i-k]//m]\n",
    "    return False"
   ]
  },
  {
   "cell_type": "code",
   "execution_count": null,
   "metadata": {
    "collapsed": true
   },
   "outputs": [],
   "source": []
  }
 ],
 "metadata": {
  "kernelspec": {
   "display_name": "Python [conda root]",
   "language": "python",
   "name": "conda-root-py"
  },
  "language_info": {
   "codemirror_mode": {
    "name": "ipython",
    "version": 3
   },
   "file_extension": ".py",
   "mimetype": "text/x-python",
   "name": "python",
   "nbconvert_exporter": "python",
   "pygments_lexer": "ipython3",
   "version": "3.5.2"
  }
 },
 "nbformat": 4,
 "nbformat_minor": 2
}
