{
 "cells": [
  {
   "cell_type": "code",
   "execution_count": 1,
   "metadata": {
    "collapsed": true
   },
   "outputs": [],
   "source": [
    "def maximalSquare(matrix):\n",
    "    \"\"\"\n",
    "    111\n",
    "    110 output: 4\n",
    "    \"\"\"\n",
    "    if matrix is None or len(matrix)==0 or len(matrix[0])==0:\n",
    "        return 0\n",
    "    dp = [[0 for _ in range(len(matrix))] for _ in range(len(matrix[0]))]\n",
    "    maximum = 0\n",
    "    for i in range(len(matrix)):\n",
    "        for j in range(len(matrix[0])):\n",
    "            if matrix[i][j]=='1':\n",
    "                if i==0 or j ==0:\n",
    "                    dp[i][j]=1\n",
    "                else:\n",
    "                    dp[i][j]=min(dp[i-1][j],dp[i][j-1],dp[i-1][j-1])+1\n",
    "            maximum = max(maximum,dp[i][j])\n",
    "    return maximum**2"
   ]
  },
  {
   "cell_type": "code",
   "execution_count": 4,
   "metadata": {
    "collapsed": false
   },
   "outputs": [
    {
     "data": {
      "text/plain": [
       "4"
      ]
     },
     "execution_count": 4,
     "metadata": {},
     "output_type": "execute_result"
    }
   ],
   "source": [
    "maximalSquare(['111','110','000'])"
   ]
  },
  {
   "cell_type": "code",
   "execution_count": null,
   "metadata": {
    "collapsed": true
   },
   "outputs": [],
   "source": []
  }
 ],
 "metadata": {
  "kernelspec": {
   "display_name": "Python [conda root]",
   "language": "python",
   "name": "conda-root-py"
  },
  "language_info": {
   "codemirror_mode": {
    "name": "ipython",
    "version": 3
   },
   "file_extension": ".py",
   "mimetype": "text/x-python",
   "name": "python",
   "nbconvert_exporter": "python",
   "pygments_lexer": "ipython3",
   "version": "3.5.2"
  }
 },
 "nbformat": 4,
 "nbformat_minor": 2
}
