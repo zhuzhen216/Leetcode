{
 "cells": [
  {
   "cell_type": "code",
   "execution_count": 21,
   "metadata": {
    "collapsed": false
   },
   "outputs": [],
   "source": [
    "def isDigit(char):\n",
    "    if ord(char) >= ord('0') and ord(char) <= ord('9'):\n",
    "        return True\n",
    "    else:\n",
    "        return False\n",
    "def calculator(string):\n",
    "    \"\"\"\n",
    "    pay attention to the (-3//4)\n",
    "    \"\"\"\n",
    "    ret = 0\n",
    "    temp = 0\n",
    "    stack = []\n",
    "    sign = '+'\n",
    "    for i, char in enumerate(string):\n",
    "        if isDigit(char):\n",
    "            temp = temp*10 + ord(char)-ord('0')\n",
    "        if not isDigit(char) and char != ' ' or i==len(string)-1:\n",
    "            \n",
    "            if sign == '+':\n",
    "                stack.append(temp)\n",
    "            elif sign == '-':\n",
    "                stack.append(-temp)\n",
    "            else:\n",
    "                prev = stack.pop()\n",
    "                if sign == '*':\n",
    "                    stack.append(prev*temp)\n",
    "                else:\n",
    "                    if prev < 0:\n",
    "                        stack.append(-(abs(prev)//temp))\n",
    "                    else:\n",
    "                        stack.append(prev//temp)\n",
    "            temp = 0\n",
    "            sign = char\n",
    "    for num in stack:\n",
    "        ret += num\n",
    "    return ret\n",
    "                    "
   ]
  },
  {
   "cell_type": "code",
   "execution_count": 20,
   "metadata": {
    "collapsed": false
   },
   "outputs": [
    {
     "data": {
      "text/plain": [
       "10"
      ]
     },
     "execution_count": 20,
     "metadata": {},
     "output_type": "execute_result"
    }
   ],
   "source": [
    "calculator('3 * 4 -2')"
   ]
  },
  {
   "cell_type": "code",
   "execution_count": 15,
   "metadata": {
    "collapsed": false
   },
   "outputs": [
    {
     "data": {
      "text/plain": [
       "-2"
      ]
     },
     "execution_count": 15,
     "metadata": {},
     "output_type": "execute_result"
    }
   ],
   "source": [
    "-4//3"
   ]
  },
  {
   "cell_type": "code",
   "execution_count": null,
   "metadata": {
    "collapsed": true
   },
   "outputs": [],
   "source": []
  }
 ],
 "metadata": {
  "anaconda-cloud": {},
  "kernelspec": {
   "display_name": "Python [conda root]",
   "language": "python",
   "name": "conda-root-py"
  },
  "language_info": {
   "codemirror_mode": {
    "name": "ipython",
    "version": 3
   },
   "file_extension": ".py",
   "mimetype": "text/x-python",
   "name": "python",
   "nbconvert_exporter": "python",
   "pygments_lexer": "ipython3",
   "version": "3.5.2"
  }
 },
 "nbformat": 4,
 "nbformat_minor": 2
}
