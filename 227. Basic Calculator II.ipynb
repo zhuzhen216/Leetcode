{
 "cells": [
  {
   "cell_type": "code",
   "execution_count": null,
   "metadata": {
    "collapsed": true
   },
   "outputs": [],
   "source": [
    "def isDigit(char):\n",
    "    if ord(char) >= ord('0') and ord(char) <= ord('9'):\n",
    "def calculator(string):\n",
    "    ret = 0\n",
    "    tmp = 0\n",
    "    stack = []\n",
    "    for i, char in enumerate(string):\n",
    "        if isDigit(char):\n",
    "            tmp = tmp*10 + ord(char)-ord('0')\n",
    "        if not isDigit and char != ' ' or i==len(sring)-1:\n",
    "            prev = stack.pop()"
   ]
  }
 ],
 "metadata": {
  "anaconda-cloud": {},
  "kernelspec": {
   "display_name": "Python [conda root]",
   "language": "python",
   "name": "conda-root-py"
  },
  "language_info": {
   "codemirror_mode": {
    "name": "ipython",
    "version": 3
   },
   "file_extension": ".py",
   "mimetype": "text/x-python",
   "name": "python",
   "nbconvert_exporter": "python",
   "pygments_lexer": "ipython3",
   "version": "3.5.2"
  }
 },
 "nbformat": 4,
 "nbformat_minor": 2
}
