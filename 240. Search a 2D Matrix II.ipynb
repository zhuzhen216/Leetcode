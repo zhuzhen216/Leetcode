{
 "cells": [
  {
   "cell_type": "code",
   "execution_count": 2,
   "metadata": {
    "collapsed": true
   },
   "outputs": [],
   "source": [
    "def searchMatrix(matrix,target):\n",
    "    \"\"\"\n",
    "    O(m+n)\n",
    "    \"\"\"\n",
    "    def search(i,j,target):\n",
    "        if i >= len(matrix) or j < 0:\n",
    "            return False\n",
    "        elif matrix[i][j]==target:\n",
    "            return True\n",
    "        elif matrix[i][j]>target:\n",
    "            return search(i,j-1,target)\n",
    "        else:\n",
    "            return search(i+1,j,target)\n",
    "    if matrix is None or len(matrix)==0:\n",
    "        return False\n",
    "    return search(0,len(matrix[0])-1,target)"
   ]
  },
  {
   "cell_type": "code",
   "execution_count": null,
   "metadata": {
    "collapsed": true
   },
   "outputs": [],
   "source": []
  }
 ],
 "metadata": {
  "kernelspec": {
   "display_name": "Python [conda root]",
   "language": "python",
   "name": "conda-root-py"
  },
  "language_info": {
   "codemirror_mode": {
    "name": "ipython",
    "version": 3
   },
   "file_extension": ".py",
   "mimetype": "text/x-python",
   "name": "python",
   "nbconvert_exporter": "python",
   "pygments_lexer": "ipython3",
   "version": "3.5.2"
  }
 },
 "nbformat": 4,
 "nbformat_minor": 2
}
