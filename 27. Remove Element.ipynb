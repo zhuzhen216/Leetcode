{
 "cells": [
  {
   "cell_type": "code",
   "execution_count": 5,
   "metadata": {
    "collapsed": true
   },
   "outputs": [],
   "source": [
    "def rmElem(nums,elem):\n",
    "    \"\"\"\n",
    "    O(N K)\n",
    "    \"\"\"\n",
    "    if nums is None or len(nums)==0:\n",
    "        return nums\n",
    "    i = 0\n",
    "    while i < len(nums):\n",
    "        if nums[i]==elem:\n",
    "            nums.pop(i)\n",
    "        else:\n",
    "            i += 1\n",
    "    return nums"
   ]
  },
  {
   "cell_type": "code",
   "execution_count": 11,
   "metadata": {
    "collapsed": false
   },
   "outputs": [
    {
     "data": {
      "text/plain": [
       "[3, 2, 4]"
      ]
     },
     "execution_count": 11,
     "metadata": {},
     "output_type": "execute_result"
    }
   ],
   "source": [
    "rmElem([1,1,3,1,2,4],1)"
   ]
  },
  {
   "cell_type": "code",
   "execution_count": 18,
   "metadata": {
    "collapsed": true
   },
   "outputs": [],
   "source": [
    "def rmElem2(nums,elem):\n",
    "    \"\"\"\n",
    "    two pointer\n",
    "    O(N)\n",
    "    \"\"\"\n",
    "    if nums is None or len(nums)==0:\n",
    "        return nums\n",
    "    end = len(nums)-1\n",
    "    i = 0\n",
    "    \"\"\"\n",
    "    be careful when i == end; you still need to\n",
    "    check whether nums[i]=nums[end] == elem or not\n",
    "    \"\"\"\n",
    "    while i <= end:\n",
    "        if nums[i]==elem:\n",
    "            nums[i]=nums[end]\n",
    "            end = end -1\n",
    "        else:\n",
    "            i = i + 1\n",
    "    return end + 1"
   ]
  },
  {
   "cell_type": "code",
   "execution_count": 21,
   "metadata": {
    "collapsed": false
   },
   "outputs": [
    {
     "data": {
      "text/plain": [
       "5"
      ]
     },
     "execution_count": 21,
     "metadata": {},
     "output_type": "execute_result"
    }
   ],
   "source": [
    "rmElem2([1,1,3,1,2,4,1,1,35,6],1)"
   ]
  },
  {
   "cell_type": "code",
   "execution_count": null,
   "metadata": {
    "collapsed": true
   },
   "outputs": [],
   "source": []
  }
 ],
 "metadata": {
  "anaconda-cloud": {},
  "kernelspec": {
   "display_name": "Python [conda root]",
   "language": "python",
   "name": "conda-root-py"
  },
  "language_info": {
   "codemirror_mode": {
    "name": "ipython",
    "version": 3
   },
   "file_extension": ".py",
   "mimetype": "text/x-python",
   "name": "python",
   "nbconvert_exporter": "python",
   "pygments_lexer": "ipython3",
   "version": "3.5.2"
  }
 },
 "nbformat": 4,
 "nbformat_minor": 2
}
