{
 "cells": [
  {
   "cell_type": "code",
   "execution_count": 1,
   "metadata": {
    "collapsed": true
   },
   "outputs": [],
   "source": [
    "def distToGate(rooms,i,j,distance):\n",
    "    if i<0 or i >=len(rooms) or j < 0 or j >= len(rooms[0]) or rooms[i][j]<distance:\n",
    "        return\n",
    "    rooms[i][j]=distance\n",
    "    distToGate(rooms,i+1,j,distance+1)\n",
    "    distToGate(rooms,i-1,j,distance+1)\n",
    "    distToGate(rooms,i,j+1,distance+1)\n",
    "    distToGate(rooms,i,j-1,distance+1)\n",
    "def wallsAndGates(rooms):\n",
    "    if rooms is None:\n",
    "        return\n",
    "    for i in range(len(rooms)):\n",
    "        for j in range(len(rooms[0])):\n",
    "            if rooms[i][j]==0:\n",
    "                distToGate(rooms,i,j,0)\n",
    "    return      "
   ]
  },
  {
   "cell_type": "code",
   "execution_count": 4,
   "metadata": {
    "collapsed": false
   },
   "outputs": [],
   "source": [
    "INF =20000000\n",
    "rooms=[[INF,-1,0,INF],[INF,INF,INF,-1],[INF,-1,INF,-1],[0,-1,INF,INF]]\n",
    "wallsAndGates(rooms)"
   ]
  },
  {
   "cell_type": "code",
   "execution_count": 5,
   "metadata": {
    "collapsed": false
   },
   "outputs": [
    {
     "data": {
      "text/plain": [
       "[[3, -1, 0, 1], [2, 2, 1, -1], [1, -1, 2, -1], [0, -1, 3, 4]]"
      ]
     },
     "execution_count": 5,
     "metadata": {},
     "output_type": "execute_result"
    }
   ],
   "source": [
    "rooms"
   ]
  },
  {
   "cell_type": "code",
   "execution_count": 1,
   "metadata": {
    "collapsed": false
   },
   "outputs": [
    {
     "data": {
      "text/plain": [
       "4294967295"
      ]
     },
     "execution_count": 1,
     "metadata": {},
     "output_type": "execute_result"
    }
   ],
   "source": [
    "0xFFFFFFFF"
   ]
  },
  {
   "cell_type": "code",
   "execution_count": 16,
   "metadata": {
    "collapsed": true
   },
   "outputs": [],
   "source": [
    "def wallsAndGates2(rooms):\n",
    "    #\n",
    "    # BFS: time complexity (O(n^2))\n",
    "    #\n",
    "    maxInt = 0xFFFFFFFF\n",
    "    d = [1,0,-1,0,1]\n",
    "    queue = []\n",
    "    if rooms is None or len(rooms)==0:\n",
    "        return None\n",
    "    for i in range(len(rooms)):\n",
    "        for j in range(len(rooms[0])):\n",
    "            if rooms[i][j]==0:\n",
    "                queue.append((i,j))\n",
    "    while len(queue)>0:\n",
    "        #print(queue)\n",
    "        cur = queue.pop(0)\n",
    "        #print(queue)\n",
    "        for k in range(len(d)-1):\n",
    "            i = cur[0] + d[k]\n",
    "            j = cur[1] + d[k + 1]\n",
    "            if i>=0 and i < len(rooms) and j>=0 and j < len(rooms[0]) and rooms[i][j]==maxInt:\n",
    "                rooms[i][j]=rooms[cur[0]][cur[1]]+1\n",
    "                queue.append((i,j))"
   ]
  },
  {
   "cell_type": "code",
   "execution_count": 13,
   "metadata": {
    "collapsed": false
   },
   "outputs": [
    {
     "name": "stdout",
     "output_type": "stream",
     "text": [
      "[(0, 2), (3, 0)]\n",
      "[(3, 0), (1, 2), (0, 3)]\n",
      "[(1, 2), (0, 3), (2, 0)]\n",
      "[(0, 3), (2, 0), (2, 2), (1, 1)]\n",
      "[(2, 0), (2, 2), (1, 1)]\n",
      "[(2, 2), (1, 1), (1, 0)]\n",
      "[(1, 1), (1, 0), (3, 2)]\n",
      "[(1, 0), (3, 2)]\n",
      "[(3, 2), (0, 0)]\n",
      "[(0, 0), (3, 3)]\n",
      "[(3, 3)]\n"
     ]
    }
   ],
   "source": [
    "maxInt = 0xFFFFFFFF\n",
    "rooms=[[maxInt,-1,0,maxInt],[maxInt,maxInt,maxInt,-1],[maxInt,-1,maxInt,-1],[0,-1,maxInt,maxInt]]\n",
    "wallsAndGates2(rooms)"
   ]
  },
  {
   "cell_type": "code",
   "execution_count": 14,
   "metadata": {
    "collapsed": false
   },
   "outputs": [
    {
     "data": {
      "text/plain": [
       "[[3, -1, 0, 1], [2, 2, 1, -1], [1, -1, 2, -1], [0, -1, 3, 4]]"
      ]
     },
     "execution_count": 14,
     "metadata": {},
     "output_type": "execute_result"
    }
   ],
   "source": [
    "rooms"
   ]
  },
  {
   "cell_type": "code",
   "execution_count": null,
   "metadata": {
    "collapsed": true
   },
   "outputs": [],
   "source": []
  }
 ],
 "metadata": {
  "anaconda-cloud": {},
  "kernelspec": {
   "display_name": "Python [conda root]",
   "language": "python",
   "name": "conda-root-py"
  },
  "language_info": {
   "codemirror_mode": {
    "name": "ipython",
    "version": 3
   },
   "file_extension": ".py",
   "mimetype": "text/x-python",
   "name": "python",
   "nbconvert_exporter": "python",
   "pygments_lexer": "ipython3",
   "version": "3.5.2"
  }
 },
 "nbformat": 4,
 "nbformat_minor": 2
}
