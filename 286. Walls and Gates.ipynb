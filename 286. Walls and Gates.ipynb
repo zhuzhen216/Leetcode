{
 "cells": [
  {
   "cell_type": "code",
   "execution_count": 1,
   "metadata": {
    "collapsed": true
   },
   "outputs": [],
   "source": [
    "def distToGate(rooms,i,j,distance):\n",
    "    if i<0 or i >=len(rooms) or j < 0 or j >= len(rooms[0]) or rooms[i][j]<distance:\n",
    "        return\n",
    "    rooms[i][j]=distance\n",
    "    distToGate(rooms,i+1,j,distance+1)\n",
    "    distToGate(rooms,i-1,j,distance+1)\n",
    "    distToGate(rooms,i,j+1,distance+1)\n",
    "    distToGate(rooms,i,j-1,distance+1)\n",
    "def wallsAndGates(rooms):\n",
    "    if rooms is None:\n",
    "        return\n",
    "    for i in range(len(rooms)):\n",
    "        for j in range(len(rooms[0])):\n",
    "            if rooms[i][j]==0:\n",
    "                distToGate(rooms,i,j,0)\n",
    "    return      "
   ]
  },
  {
   "cell_type": "code",
   "execution_count": 4,
   "metadata": {
    "collapsed": false
   },
   "outputs": [],
   "source": [
    "INF =20000000\n",
    "rooms=[[INF,-1,0,INF],[INF,INF,INF,-1],[INF,-1,INF,-1],[0,-1,INF,INF]]\n",
    "wallsAndGates(rooms)"
   ]
  },
  {
   "cell_type": "code",
   "execution_count": 5,
   "metadata": {
    "collapsed": false
   },
   "outputs": [
    {
     "data": {
      "text/plain": [
       "[[3, -1, 0, 1], [2, 2, 1, -1], [1, -1, 2, -1], [0, -1, 3, 4]]"
      ]
     },
     "execution_count": 5,
     "metadata": {},
     "output_type": "execute_result"
    }
   ],
   "source": [
    "rooms"
   ]
  },
  {
   "cell_type": "code",
   "execution_count": null,
   "metadata": {
    "collapsed": true
   },
   "outputs": [],
   "source": []
  }
 ],
 "metadata": {
  "kernelspec": {
   "display_name": "Python [conda root]",
   "language": "python",
   "name": "conda-root-py"
  },
  "language_info": {
   "codemirror_mode": {
    "name": "ipython",
    "version": 3
   },
   "file_extension": ".py",
   "mimetype": "text/x-python",
   "name": "python",
   "nbconvert_exporter": "python",
   "pygments_lexer": "ipython3",
   "version": "3.5.2"
  }
 },
 "nbformat": 4,
 "nbformat_minor": 2
}
