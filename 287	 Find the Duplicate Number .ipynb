{
 "cells": [
  {
   "cell_type": "code",
   "execution_count": 8,
   "metadata": {
    "collapsed": true
   },
   "outputs": [],
   "source": [
    "def findDup(nums):\n",
    "    low = 1\n",
    "    high = len(nums) - 1\n",
    "    \n",
    "    while low < high:\n",
    "        mid = (low+high)//2\n",
    "        count = 0\n",
    "        for i in nums:\n",
    "            if i <= mid:\n",
    "                count += 1\n",
    "        if count < mid:\n",
    "            low = mid + 1\n",
    "        else:\n",
    "            high = mid\n",
    "    return nums[low]"
   ]
  },
  {
   "cell_type": "code",
   "execution_count": 9,
   "metadata": {
    "collapsed": true
   },
   "outputs": [],
   "source": [
    "nums = [1,2,2,3,4,5,6]"
   ]
  },
  {
   "cell_type": "code",
   "execution_count": 10,
   "metadata": {
    "collapsed": false
   },
   "outputs": [
    {
     "data": {
      "text/plain": [
       "2"
      ]
     },
     "execution_count": 10,
     "metadata": {},
     "output_type": "execute_result"
    }
   ],
   "source": [
    "findDup(nums)"
   ]
  },
  {
   "cell_type": "code",
   "execution_count": 12,
   "metadata": {
    "collapsed": true
   },
   "outputs": [],
   "source": [
    "def findDup2(nums):\n",
    "    \"\"\"\n",
    "    use dictionary\n",
    "    O(n) time and O(n) space\n",
    "    \"\"\"\n",
    "    dict = {}\n",
    "    for i in nums:\n",
    "        if i not in dict:\n",
    "            dict[i] = 1\n",
    "        else:\n",
    "            return i\n",
    "    else:\n",
    "        return -1"
   ]
  },
  {
   "cell_type": "code",
   "execution_count": 13,
   "metadata": {
    "collapsed": false
   },
   "outputs": [
    {
     "data": {
      "text/plain": [
       "2"
      ]
     },
     "execution_count": 13,
     "metadata": {},
     "output_type": "execute_result"
    }
   ],
   "source": [
    "findDup2(nums)"
   ]
  },
  {
   "cell_type": "code",
   "execution_count": 16,
   "metadata": {
    "collapsed": true
   },
   "outputs": [],
   "source": [
    "def findDup3(nums):\n",
    "    \"\"\"\n",
    "    1. similar to circular linked list\n",
    "    2. there are similarity between list and linked list if the index and value are in the same range;\n",
    "    \"\"\"\n",
    "    if nums is None or len(nums)==0 or len(nums)==1:\n",
    "        return -1\n",
    "    slow = nums[0]\n",
    "    fast = nums[nums[0]]\n",
    "    finder = 0\n",
    "    while slow != fast:\n",
    "        slow = nums[slow]\n",
    "        fast = nums[nums[fast]]\n",
    "    while finder != slow:\n",
    "        finder = nums[finder]\n",
    "        slow = nums[slow]\n",
    "    return slow"
   ]
  },
  {
   "cell_type": "code",
   "execution_count": 15,
   "metadata": {
    "collapsed": false
   },
   "outputs": [
    {
     "data": {
      "text/plain": [
       "2"
      ]
     },
     "execution_count": 15,
     "metadata": {},
     "output_type": "execute_result"
    }
   ],
   "source": [
    "findDup3(nums)"
   ]
  },
  {
   "cell_type": "code",
   "execution_count": null,
   "metadata": {
    "collapsed": true
   },
   "outputs": [],
   "source": []
  }
 ],
 "metadata": {
  "anaconda-cloud": {},
  "kernelspec": {
   "display_name": "Python [conda root]",
   "language": "python",
   "name": "conda-root-py"
  },
  "language_info": {
   "codemirror_mode": {
    "name": "ipython",
    "version": 3
   },
   "file_extension": ".py",
   "mimetype": "text/x-python",
   "name": "python",
   "nbconvert_exporter": "python",
   "pygments_lexer": "ipython3",
   "version": "3.5.2"
  }
 },
 "nbformat": 4,
 "nbformat_minor": 2
}
