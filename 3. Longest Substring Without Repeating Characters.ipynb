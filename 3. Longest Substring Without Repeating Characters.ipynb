{
 "cells": [
  {
   "cell_type": "code",
   "execution_count": 1,
   "metadata": {
    "collapsed": true
   },
   "outputs": [],
   "source": [
    "def longestSubNoRepeat(s):\n",
    "    start=maxLength=0\n",
    "    seen = {}\n",
    "    for i in range(len(s)):\n",
    "        if s[i] in seen and start <=seen[s[i]]:\n",
    "            start = seen[s[i]]+1\n",
    "        else:\n",
    "            maxLength = max(maxLength,i-start+1)\n",
    "        seen[s[i]]=i\n",
    "    return maxLength"
   ]
  },
  {
   "cell_type": "code",
   "execution_count": 4,
   "metadata": {
    "collapsed": false
   },
   "outputs": [
    {
     "data": {
      "text/plain": [
       "4"
      ]
     },
     "execution_count": 4,
     "metadata": {},
     "output_type": "execute_result"
    }
   ],
   "source": [
    "longestSubNoRepeat('abacdbd')"
   ]
  },
  {
   "cell_type": "markdown",
   "metadata": {
    "collapsed": true
   },
   "source": [
    "**second round practice on June 10th 2017**"
   ]
  },
  {
   "cell_type": "code",
   "execution_count": 1,
   "metadata": {
    "collapsed": true
   },
   "outputs": [],
   "source": [
    "def uniqSubstring(string):\n",
    "    \"\"\"\n",
    "    1. seen: dictionary; \n",
    "    - it will store the present character in string (as key) and its latest\n",
    "    index (as value)\n",
    "    - what really matters is: the index is larger than start and here comes the same char again.\n",
    "    2. start: the start of current substring\n",
    "    3. maxLen: the longest substring length up to now\n",
    "    4. loop around the current string\n",
    "    \"\"\"\n",
    "    start = 0\n",
    "    # setting maxLength to 0 would include string='' case\n",
    "    maxLength = 0\n",
    "    seen = {}\n",
    "    for i, char in enumerate(string):\n",
    "        if char in seen and seen[char]>=start:\n",
    "            #seen[char]=i\n",
    "            start = seen[char]+1\n",
    "        else:\n",
    "            maxLength = max(maxLength,i-start+1)\n",
    "        seen[char]=i\n",
    "    return maxLength"
   ]
  },
  {
   "cell_type": "code",
   "execution_count": 12,
   "metadata": {
    "collapsed": false
   },
   "outputs": [
    {
     "data": {
      "text/plain": [
       "0"
      ]
     },
     "execution_count": 12,
     "metadata": {},
     "output_type": "execute_result"
    }
   ],
   "source": [
    "uniqSubstring('')"
   ]
  },
  {
   "cell_type": "code",
   "execution_count": 15,
   "metadata": {
    "collapsed": true
   },
   "outputs": [],
   "source": [
    "def uniqsub(string):\n",
    "    maxLen = 0\n",
    "    start = 0\n",
    "    seen = {}\n",
    "    for i,char in enumerate(string):\n",
    "        if char in seen and seen[char]>=start:\n",
    "            start = seen[char]+1\n",
    "        else:\n",
    "            maxLen = max(maxLen,i-start+1)\n",
    "        seen[char]=i\n",
    "    return maxLen"
   ]
  },
  {
   "cell_type": "code",
   "execution_count": 17,
   "metadata": {
    "collapsed": false
   },
   "outputs": [
    {
     "data": {
      "text/plain": [
       "2"
      ]
     },
     "execution_count": 17,
     "metadata": {},
     "output_type": "execute_result"
    }
   ],
   "source": [
    "uniqsub('aaab')"
   ]
  },
  {
   "cell_type": "code",
   "execution_count": null,
   "metadata": {
    "collapsed": true
   },
   "outputs": [],
   "source": []
  }
 ],
 "metadata": {
  "anaconda-cloud": {},
  "kernelspec": {
   "display_name": "Python [conda root]",
   "language": "python",
   "name": "conda-root-py"
  },
  "language_info": {
   "codemirror_mode": {
    "name": "ipython",
    "version": 3
   },
   "file_extension": ".py",
   "mimetype": "text/x-python",
   "name": "python",
   "nbconvert_exporter": "python",
   "pygments_lexer": "ipython3",
   "version": "3.5.2"
  }
 },
 "nbformat": 4,
 "nbformat_minor": 2
}
