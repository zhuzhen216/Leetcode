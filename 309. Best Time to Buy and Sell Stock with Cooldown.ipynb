{
 "cells": [
  {
   "cell_type": "code",
   "execution_count": 21,
   "metadata": {
    "collapsed": true
   },
   "outputs": [],
   "source": [
    "def sellStock(nums):\n",
    "    \"\"\"\n",
    "    sell[i]=max(buy[i-1]+nums[i],sell[i-1])\n",
    "    buy[i]=max(buy[i-1],sell[i-2]-nums[i])\n",
    "    \"\"\"\n",
    "    \n",
    "    sell = [0 for i in range(len(nums)+1)]\n",
    "    buy = [0 for i in range(len(nums)+1)]\n",
    "    buy[1]=-nums[0]\n",
    "    sell[1]=0\n",
    "    #buy[1]=max(-nums[1],buy[0])\n",
    "    for i in range(2,len(nums)+1):\n",
    "        sell[i]=max(buy[i-1]+nums[i-1],sell[i-1])\n",
    "        buy[i]=max(buy[i-1],sell[i-2]-nums[i-1])\n",
    "    print(buy)\n",
    "    print(sell)\n",
    "    return sell[-1]"
   ]
  },
  {
   "cell_type": "code",
   "execution_count": 22,
   "metadata": {
    "collapsed": false
   },
   "outputs": [
    {
     "name": "stdout",
     "output_type": "stream",
     "text": [
      "[0, -1, -1, -1, 1, 1]\n",
      "[0, 0, 1, 2, 2, 3]\n"
     ]
    },
    {
     "data": {
      "text/plain": [
       "3"
      ]
     },
     "execution_count": 22,
     "metadata": {},
     "output_type": "execute_result"
    }
   ],
   "source": [
    "sellStock([1, 2, 3, 0, 2])"
   ]
  },
  {
   "cell_type": "code",
   "execution_count": null,
   "metadata": {
    "collapsed": true
   },
   "outputs": [],
   "source": [
    "#buy[i] = max(sell[i-2]-price, buy[i-1])\n",
    "#sell[i] = max(buy[i-1]+price, sell[i-1])"
   ]
  }
 ],
 "metadata": {
  "kernelspec": {
   "display_name": "Python [conda root]",
   "language": "python",
   "name": "conda-root-py"
  },
  "language_info": {
   "codemirror_mode": {
    "name": "ipython",
    "version": 3
   },
   "file_extension": ".py",
   "mimetype": "text/x-python",
   "name": "python",
   "nbconvert_exporter": "python",
   "pygments_lexer": "ipython3",
   "version": "3.5.2"
  }
 },
 "nbformat": 4,
 "nbformat_minor": 2
}
