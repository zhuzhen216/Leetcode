{
 "cells": [
  {
   "cell_type": "code",
   "execution_count": 37,
   "metadata": {
    "collapsed": false
   },
   "outputs": [],
   "source": [
    "def maxProduct(words):\n",
    "    \"\"\"\n",
    "    a: 00000000000000000000000001\n",
    "    b: 00000000000000000000000010 \n",
    "    c: 00000000000000000000000100\n",
    "    ...\n",
    "    z: 10000000000000000000000000\n",
    "    \"\"\"\n",
    "    dict_char = {}\n",
    "    for i in range(26):\n",
    "        dict_char[chr(i+ord('a'))] = 2**i\n",
    "    \n",
    "    dict_word = {}\n",
    "    \n",
    "    for word in words:\n",
    "        set_word = set(word)\n",
    "        signature = 0\n",
    "        for char in set_word:\n",
    "            signature |= dict_char[char]\n",
    "        dict_word[signature]=max(dict_word.get(signature,0),len(word))\n",
    "    \n",
    "    return max([dict_word[x]*dict_word[y] for x in dict_word for y in dict_word if not x&y] or [0])"
   ]
  },
  {
   "cell_type": "code",
   "execution_count": 38,
   "metadata": {
    "collapsed": false
   },
   "outputs": [
    {
     "data": {
      "text/plain": [
       "16"
      ]
     },
     "execution_count": 38,
     "metadata": {},
     "output_type": "execute_result"
    }
   ],
   "source": [
    "maxProduct([\"abcw\", \"baz\", \"foo\", \"bar\", \"xtfn\", \"abcdef\"])"
   ]
  },
  {
   "cell_type": "code",
   "execution_count": 25,
   "metadata": {
    "collapsed": false
   },
   "outputs": [],
   "source": [
    "def maxProduct_wrong(words):\n",
    "    \"\"\"\n",
    "    :type words: List[str]\n",
    "    :rtype: int\n",
    "    This solution is wrong\n",
    "    \"\"\"\n",
    "    def containSame(word1,word2):\n",
    "        return (set(word1)-set(word2))!=set(word1)\n",
    "    dict_str = {}\n",
    "    #for word in words:\n",
    "    #    if word in dict_str:\n",
    "    #        continue\n",
    "    #    else:\n",
    "    #        dict_str[word]=0\n",
    "        \n",
    "    #set_words = set(words)\n",
    "        \n",
    "    seen = set()\n",
    "    i = 0\n",
    "    while i < len(words):\n",
    "        if words[i] not in seen:\n",
    "            seen.add(words[i])\n",
    "            j = i + 1\n",
    "            dict_str[words[i]] = len(words[i])\n",
    "            while j < len(words):\n",
    "                if words[j] not in seen:\n",
    "                    if containSame(words[i],words[j]):\n",
    "                        dict_str[words[i]]=max(dict_str[words[i]],len(words[j]))\n",
    "                        seen.add(words[j])\n",
    "                j = j + 1\n",
    "        i = i + 1\n",
    "    list_unic = [list(dict_str.items())[i][1] for i in range(len(dict_str))]\n",
    "    if len(list_unic)==1:\n",
    "        return 0\n",
    "    max_mult = 0\n",
    "    print(dict_str)\n",
    "    for i in range(len(list_unic)-1):\n",
    "        max_mult = max(max_mult,list_unic[i]*list_unic[i+1])\n",
    "    return max_mult"
   ]
  },
  {
   "cell_type": "code",
   "execution_count": 26,
   "metadata": {
    "collapsed": false
   },
   "outputs": [
    {
     "name": "stdout",
     "output_type": "stream",
     "text": [
      "{'foo': 4, 'abcw': 6}\n"
     ]
    },
    {
     "data": {
      "text/plain": [
       "24"
      ]
     },
     "execution_count": 26,
     "metadata": {},
     "output_type": "execute_result"
    }
   ],
   "source": [
    "maxProduct([\"abcw\",\"baz\",\"foo\",\"bar\",\"xtfn\",\"abcdef\"])"
   ]
  },
  {
   "cell_type": "code",
   "execution_count": 27,
   "metadata": {
    "collapsed": false
   },
   "outputs": [
    {
     "data": {
      "text/plain": [
       "0"
      ]
     },
     "execution_count": 27,
     "metadata": {},
     "output_type": "execute_result"
    }
   ],
   "source": [
    "1&2"
   ]
  },
  {
   "cell_type": "code",
   "execution_count": 28,
   "metadata": {
    "collapsed": false
   },
   "outputs": [
    {
     "data": {
      "text/plain": [
       "2"
      ]
     },
     "execution_count": 28,
     "metadata": {},
     "output_type": "execute_result"
    }
   ],
   "source": [
    "11&2"
   ]
  },
  {
   "cell_type": "code",
   "execution_count": 31,
   "metadata": {
    "collapsed": false
   },
   "outputs": [],
   "source": [
    "dict_char = {}\n",
    "for i in range(26):\n",
    "    dict_char[chr(i+ord('a'))] = 2**i"
   ]
  },
  {
   "cell_type": "code",
   "execution_count": 32,
   "metadata": {
    "collapsed": false
   },
   "outputs": [
    {
     "data": {
      "text/plain": [
       "{'a': 1,\n",
       " 'b': 2,\n",
       " 'c': 4,\n",
       " 'd': 8,\n",
       " 'e': 16,\n",
       " 'f': 32,\n",
       " 'g': 64,\n",
       " 'h': 128,\n",
       " 'i': 256,\n",
       " 'j': 512,\n",
       " 'k': 1024,\n",
       " 'l': 2048,\n",
       " 'm': 4096,\n",
       " 'n': 8192,\n",
       " 'o': 16384,\n",
       " 'p': 32768,\n",
       " 'q': 65536,\n",
       " 'r': 131072,\n",
       " 's': 262144,\n",
       " 't': 524288,\n",
       " 'u': 1048576,\n",
       " 'v': 2097152,\n",
       " 'w': 4194304,\n",
       " 'x': 8388608,\n",
       " 'y': 16777216,\n",
       " 'z': 33554432}"
      ]
     },
     "execution_count": 32,
     "metadata": {},
     "output_type": "execute_result"
    }
   ],
   "source": [
    "dict_char"
   ]
  },
  {
   "cell_type": "code",
   "execution_count": 34,
   "metadata": {
    "collapsed": false
   },
   "outputs": [
    {
     "data": {
      "text/plain": [
       "4"
      ]
     },
     "execution_count": 34,
     "metadata": {},
     "output_type": "execute_result"
    }
   ],
   "source": [
    "2<<dict_char['a']"
   ]
  },
  {
   "cell_type": "code",
   "execution_count": null,
   "metadata": {
    "collapsed": true
   },
   "outputs": [],
   "source": []
  }
 ],
 "metadata": {
  "kernelspec": {
   "display_name": "Python [conda root]",
   "language": "python",
   "name": "conda-root-py"
  },
  "language_info": {
   "codemirror_mode": {
    "name": "ipython",
    "version": 3
   },
   "file_extension": ".py",
   "mimetype": "text/x-python",
   "name": "python",
   "nbconvert_exporter": "python",
   "pygments_lexer": "ipython3",
   "version": "3.5.2"
  }
 },
 "nbformat": 4,
 "nbformat_minor": 2
}
