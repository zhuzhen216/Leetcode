{
 "cells": [
  {
   "cell_type": "code",
   "execution_count": 52,
   "metadata": {
    "collapsed": false
   },
   "outputs": [],
   "source": [
    "def longestIncreasingPath(matrix):\n",
    "    \"\"\"\n",
    "    :type matrix: List[List[int]]\n",
    "    :rtype: int\n",
    "    this method ETL, not efficient\n",
    "    \"\"\"\n",
    "    def countLen(i,j,matrix,pre):\n",
    "        count = 0\n",
    "        if i < 0 or i >= len(matrix) or j < 0 or j >= len(matrix[0]):\n",
    "            return 0\n",
    "        elif matrix[i][j]<=pre or (i,j) in seen:\n",
    "            return 0\n",
    "        else:\n",
    "            #print((i,j))\n",
    "            a = countLen(i+1,j,matrix,matrix[i][j])\n",
    "            b = countLen(i-1,j,matrix,matrix[i][j])\n",
    "            c = countLen(i,j+1,matrix,matrix[i][j])\n",
    "            d = countLen(i,j-1,matrix,matrix[i][j])\n",
    "            #if a > 0:\n",
    "            #    seen.add((i+1,j))\n",
    "            #if b > 0:\n",
    "            #    seen.add((i-1,j))\n",
    "            #if c > 0:\n",
    "            #    seen.add((i,j-1))\n",
    "            #if d > 0:\n",
    "            #    seen.add((i,j+1))\n",
    "            count = 1 + max(a,b,c,d)\n",
    "            #print(seen)\n",
    "            #print(count)\n",
    "        return count\n",
    "    maxLen = 0\n",
    "    seen = set()\n",
    "    for i in range(len(matrix)):\n",
    "        for j in range(len(matrix[0])):\n",
    "            if (i,j) in seen:\n",
    "                continue\n",
    "            maxLen = max(maxLen,countLen(i,j,matrix,float('-inf')))\n",
    "    return maxLen"
   ]
  },
  {
   "cell_type": "code",
   "execution_count": 53,
   "metadata": {
    "collapsed": false
   },
   "outputs": [
    {
     "data": {
      "text/plain": [
       "3"
      ]
     },
     "execution_count": 53,
     "metadata": {},
     "output_type": "execute_result"
    }
   ],
   "source": [
    "matrix=[[3,3,14,2,17,12,5]]\n",
    "longestIncreasingPath(matrix)"
   ]
  },
  {
   "cell_type": "code",
   "execution_count": 14,
   "metadata": {
    "collapsed": false
   },
   "outputs": [
    {
     "data": {
      "text/plain": [
       "False"
      ]
     },
     "execution_count": 14,
     "metadata": {},
     "output_type": "execute_result"
    }
   ],
   "source": [
    "0<float('-inf')"
   ]
  },
  {
   "cell_type": "code",
   "execution_count": 69,
   "metadata": {
    "collapsed": true
   },
   "outputs": [],
   "source": [
    "def longestIncreasingPath2(matrix):\n",
    "    \"\"\"\n",
    "    :type matrix: List[List[int]]\n",
    "    :rtype: int\n",
    "    this method ETL, not efficient\n",
    "    \"\"\"\n",
    "    def dfs(i,j):\n",
    "        #count = 0\n",
    "        #if i < 0 or i >= len(matrix) or j < 0 or j >= len(matrix[0]):\n",
    "        #    return 0\n",
    "        #elif matrix[i][j]<=pre or (i,j) in seen:\n",
    "        #    return 0\n",
    "        #else:\n",
    "        if not dp[i][j]:\n",
    "            #print((i,j))\n",
    "            val = dp[i][j]\n",
    "            a = dp[i+1][j] if i+1<len(matrix) and matrix[i+1][j]>matrix[i][j] else 0\n",
    "            b = dp[i-1][j] if i-1>=0 and matrix[i-1][j]>matrix[i][j] else 0\n",
    "            c = dp[i][j+1] if j+1<len(matrix[0]) and matrix[i][j+1]>matrix[i][j] else 0\n",
    "            d = dp[i][j-1] if j-1>=0 and matrix[i][j-1]>matrix[i][j] else 0\n",
    "            #if a > 0:\n",
    "            #    seen.add((i+1,j))\n",
    "            #if b > 0:\n",
    "            #    seen.add((i-1,j))\n",
    "            #if c > 0:\n",
    "            #    seen.add((i,j-1))\n",
    "            #if d > 0:\n",
    "            #    seen.add((i,j+1))\n",
    "            dp[i][j] = 1 + max(a,b,c,d)\n",
    "            #print(seen)\n",
    "            #print(count)\n",
    "        return dp[i][j]\n",
    "    maxLen = 0\n",
    "    if matrix is None or len(matrix)==0:\n",
    "        return 0\n",
    "    dp = [[0 for _ in range(len(matrix[0]))] for _ in range(len(matrix))]\n",
    "    #for i in range(len(matrix)):\n",
    "    #    for j in range(len(matrix[0])):\n",
    "    #        #maxLen = max(maxLen,dfs(i,j))\n",
    "    #        dfs(i,j)\n",
    "    return max(dfs(x, y) for x in range(len(matrix)) for y in range(len(matrix[0])))\n",
    "    return dp"
   ]
  },
  {
   "cell_type": "code",
   "execution_count": 70,
   "metadata": {
    "collapsed": false
   },
   "outputs": [
    {
     "data": {
      "text/plain": [
       "2"
      ]
     },
     "execution_count": 70,
     "metadata": {},
     "output_type": "execute_result"
    }
   ],
   "source": [
    "matrix = [[3,4,5],[3,2,6],[2,2,1]]\n",
    "longestIncreasingPath2(matrix)"
   ]
  },
  {
   "cell_type": "code",
   "execution_count": 71,
   "metadata": {
    "collapsed": true
   },
   "outputs": [],
   "source": [
    "def longestIncreasingPath3(matrix):\n",
    "    def dfs(i, j):\n",
    "        if not dp[i][j]:\n",
    "            val = matrix[i][j]\n",
    "            dp[i][j] = 1 + max(\n",
    "                dfs(i - 1, j) if i and val > matrix[i - 1][j] else 0,\n",
    "                dfs(i + 1, j) if i < M - 1 and val > matrix[i + 1][j] else 0,\n",
    "                dfs(i, j - 1) if j and val > matrix[i][j - 1] else 0,\n",
    "                dfs(i, j + 1) if j < N - 1 and val > matrix[i][j + 1] else 0)\n",
    "        return dp[i][j]\n",
    "\n",
    "    if not matrix or not matrix[0]: return 0\n",
    "    M, N = len(matrix), len(matrix[0])\n",
    "    dp = [[0] * N for i in range(M)]\n",
    "    return max(dfs(x, y) for x in range(M) for y in range(N))"
   ]
  },
  {
   "cell_type": "code",
   "execution_count": 73,
   "metadata": {
    "collapsed": false
   },
   "outputs": [
    {
     "data": {
      "text/plain": [
       "4"
      ]
     },
     "execution_count": 73,
     "metadata": {},
     "output_type": "execute_result"
    }
   ],
   "source": [
    "matrix2=[[9,9,4],[6,6,8],[2,1,1]]\n",
    "longestIncreasingPath3(matrix2)"
   ]
  },
  {
   "cell_type": "code",
   "execution_count": 75,
   "metadata": {
    "collapsed": true
   },
   "outputs": [],
   "source": [
    "M = len(matrix2)\n",
    "N =len(matrix2[0])"
   ]
  },
  {
   "cell_type": "code",
   "execution_count": 76,
   "metadata": {
    "collapsed": true
   },
   "outputs": [],
   "source": [
    "dp = [[0 for _ in range(N)] for _ in range(M)]"
   ]
  },
  {
   "cell_type": "code",
   "execution_count": 77,
   "metadata": {
    "collapsed": false
   },
   "outputs": [
    {
     "data": {
      "text/plain": [
       "[0, 0, 0, 0, 0, 0, 0, 0, 0]"
      ]
     },
     "execution_count": 77,
     "metadata": {},
     "output_type": "execute_result"
    }
   ],
   "source": [
    "[dp[i][j] for i in range(M) for j in range(N)]"
   ]
  },
  {
   "cell_type": "code",
   "execution_count": 78,
   "metadata": {
    "collapsed": true
   },
   "outputs": [],
   "source": [
    "a=[1,2,3]"
   ]
  },
  {
   "cell_type": "code",
   "execution_count": 82,
   "metadata": {
    "collapsed": false
   },
   "outputs": [
    {
     "data": {
      "text/plain": [
       "[3]"
      ]
     },
     "execution_count": 82,
     "metadata": {},
     "output_type": "execute_result"
    }
   ],
   "source": [
    "a[2:1:-1]"
   ]
  },
  {
   "cell_type": "code",
   "execution_count": 83,
   "metadata": {
    "collapsed": true
   },
   "outputs": [],
   "source": [
    "def binarySort(inputList,target):\n",
    "    left = 0\n",
    "    right = len(inputList)\n",
    "    while left < right:\n",
    "        mid = (left+right)//2\n",
    "        if inputList[mid]<target:\n",
    "            left = mid + 1\n",
    "        else:\n",
    "            right = mid\n",
    "    return left"
   ]
  },
  {
   "cell_type": "code",
   "execution_count": 84,
   "metadata": {
    "collapsed": false
   },
   "outputs": [
    {
     "data": {
      "text/plain": [
       "1"
      ]
     },
     "execution_count": 84,
     "metadata": {},
     "output_type": "execute_result"
    }
   ],
   "source": [
    "binarySort([1],4.0)"
   ]
  },
  {
   "cell_type": "code",
   "execution_count": 85,
   "metadata": {
    "collapsed": true
   },
   "outputs": [],
   "source": [
    "a=[1]"
   ]
  },
  {
   "cell_type": "code",
   "execution_count": 86,
   "metadata": {
    "collapsed": false
   },
   "outputs": [
    {
     "data": {
      "text/plain": [
       "[]"
      ]
     },
     "execution_count": 86,
     "metadata": {},
     "output_type": "execute_result"
    }
   ],
   "source": [
    "a[0:-1:-1]"
   ]
  },
  {
   "cell_type": "code",
   "execution_count": 87,
   "metadata": {
    "collapsed": true
   },
   "outputs": [],
   "source": [
    "ret = [1,2,3]"
   ]
  },
  {
   "cell_type": "code",
   "execution_count": 88,
   "metadata": {
    "collapsed": true
   },
   "outputs": [],
   "source": [
    "ret2=[2]"
   ]
  },
  {
   "cell_type": "code",
   "execution_count": null,
   "metadata": {
    "collapsed": true
   },
   "outputs": [],
   "source": [
    "ret.extend()"
   ]
  }
 ],
 "metadata": {
  "kernelspec": {
   "display_name": "Python [conda root]",
   "language": "python",
   "name": "conda-root-py"
  },
  "language_info": {
   "codemirror_mode": {
    "name": "ipython",
    "version": 3
   },
   "file_extension": ".py",
   "mimetype": "text/x-python",
   "name": "python",
   "nbconvert_exporter": "python",
   "pygments_lexer": "ipython3",
   "version": "3.5.2"
  }
 },
 "nbformat": 4,
 "nbformat_minor": 2
}
