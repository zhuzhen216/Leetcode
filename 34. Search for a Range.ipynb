{
 "cells": [
  {
   "cell_type": "code",
   "execution_count": 1,
   "metadata": {
    "collapsed": true
   },
   "outputs": [],
   "source": [
    "def searchRange(nums,target):\n",
    "    \"\"\"\n",
    "    first check several speacial cases:\n",
    "    1. empty list and None list\n",
    "    2. target not within the range\n",
    "    3. len(list)==1: a. target in, then return [0,0]; b. target not in, then return [-1,-1]\n",
    "    \"\"\"\n",
    "    if nums is None or len(nums)==0:\n",
    "        return [-1,-1]\n",
    "    if nums[0]>target or nums[-1]<target:\n",
    "        return [-1,-1]\n",
    "    if len(nums)==1:\n",
    "        if nums[0]==target:\n",
    "            return [0,0]\n",
    "        else:\n",
    "            return [-1,-1]\n",
    "    \"\"\"\n",
    "    use divide and conquer to obtain left\n",
    "    \"\"\"\n",
    "    start = 0\n",
    "    end = len(nums)-1\n",
    "    while start != end - 1:\n",
    "        mid = (start+end)//2\n",
    "        if nums[mid]<target:\n",
    "            start = mid\n",
    "        else:\n",
    "            end = mid\n",
    "    if nums[start]==target:\n",
    "        left = start\n",
    "    else:\n",
    "        if nums[end] < target:\n",
    "            return [-1,-1]\n",
    "        else:\n",
    "            left = end\n",
    "    \"\"\"\n",
    "    use divide and conquer to obtain right\n",
    "    \"\"\"\n",
    "    end = len(nums) - 1\n",
    "    while start != end - 1:\n",
    "        mid = (start+end)//2\n",
    "        if nums[mid]>target:\n",
    "            end = mid\n",
    "        else:\n",
    "            start = mid\n",
    "    \n",
    "    if nums[end] == target:\n",
    "        right = end\n",
    "    else:\n",
    "        right = start\n",
    "    \n",
    "    return [left,right]"
   ]
  },
  {
   "cell_type": "code",
   "execution_count": 2,
   "metadata": {
    "collapsed": false
   },
   "outputs": [
    {
     "data": {
      "text/plain": [
       "[1, 3]"
      ]
     },
     "execution_count": 2,
     "metadata": {},
     "output_type": "execute_result"
    }
   ],
   "source": [
    "searchRange([1,2,2,2,3,4],2)"
   ]
  },
  {
   "cell_type": "code",
   "execution_count": null,
   "metadata": {
    "collapsed": true
   },
   "outputs": [],
   "source": []
  }
 ],
 "metadata": {
  "anaconda-cloud": {},
  "kernelspec": {
   "display_name": "Python [conda root]",
   "language": "python",
   "name": "conda-root-py"
  },
  "language_info": {
   "codemirror_mode": {
    "name": "ipython",
    "version": 3
   },
   "file_extension": ".py",
   "mimetype": "text/x-python",
   "name": "python",
   "nbconvert_exporter": "python",
   "pygments_lexer": "ipython3",
   "version": "3.5.2"
  }
 },
 "nbformat": 4,
 "nbformat_minor": 2
}
