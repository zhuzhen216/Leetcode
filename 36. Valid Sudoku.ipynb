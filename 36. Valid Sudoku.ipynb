{
 "cells": [
  {
   "cell_type": "code",
   "execution_count": 1,
   "metadata": {
    "collapsed": true
   },
   "outputs": [],
   "source": [
    "def validSudoku(board):\n",
    "    '''\n",
    "    board: sudoku board, a 9 by 9 matrix partially filled with numbers in the type of charector\n",
    "    empty squire: '.'\n",
    "    '''\n",
    "    row = [[0 for _ in range(9)] for _ in range(9)]\n",
    "    col = [[0 for _ in range(9)] for _ in range(9)]\n",
    "    sqr = [[0 for _ in range(9)] for _ in range(9)]\n",
    "    \n",
    "    for i in range(9):\n",
    "        for j in range(9):\n",
    "            sqrIndex = i/3*3 + j/3\n",
    "            if board[i][j]!='.':\n",
    "                element = ord(board[i][j])-ord('0')-1\n",
    "                if element < 0 or element > 8:\n",
    "                    return False\n",
    "                if row[i][element]==1:\n",
    "                    return False\n",
    "                else:\n",
    "                    row[i][element]=1\n",
    "                if col[j][element]==1:\n",
    "                    return False\n",
    "                else:\n",
    "                    col[j][element]=1\n",
    "                if sqr[sqrIndex][element]==1:\n",
    "                    return False\n",
    "                else:\n",
    "                    sqr[sqrIndex][element]=1\n",
    "    return True"
   ]
  },
  {
   "cell_type": "code",
   "execution_count": null,
   "metadata": {
    "collapsed": true
   },
   "outputs": [],
   "source": []
  }
 ],
 "metadata": {
  "anaconda-cloud": {},
  "kernelspec": {
   "display_name": "Python [conda root]",
   "language": "python",
   "name": "conda-root-py"
  },
  "language_info": {
   "codemirror_mode": {
    "name": "ipython",
    "version": 3
   },
   "file_extension": ".py",
   "mimetype": "text/x-python",
   "name": "python",
   "nbconvert_exporter": "python",
   "pygments_lexer": "ipython3",
   "version": "3.5.2"
  }
 },
 "nbformat": 4,
 "nbformat_minor": 2
}
