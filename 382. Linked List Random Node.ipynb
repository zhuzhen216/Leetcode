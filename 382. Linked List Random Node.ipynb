{
 "cells": [
  {
   "cell_type": "markdown",
   "metadata": {},
   "source": [
    "___\n",
    "### Reservoir sampling\n",
    "http://www.geeksforgeeks.org/reservoir-sampling/\n",
    "___"
   ]
  },
  {
   "cell_type": "code",
   "execution_count": 1,
   "metadata": {
    "collapsed": true
   },
   "outputs": [],
   "source": [
    "# Definition for singly-linked list.\n",
    "# class ListNode(object):\n",
    "#     def __init__(self, x):\n",
    "#         self.val = x\n",
    "#         self.next = None\n",
    "\n",
    "class Solution(object):\n",
    "\n",
    "    def __init__(self, head):\n",
    "        \"\"\"\n",
    "        @param head The linked list's head.\n",
    "        Note that the head is guaranteed to be not null, so it contains at least one node.\n",
    "        :type head: ListNode\n",
    "        \"\"\"\n",
    "        # method 1\n",
    "        #self.cont = [head.val]\n",
    "        #self.next = head.next\n",
    "        #temp_next = head.next\n",
    "        #while temp_next is not None:\n",
    "        #    self.cont.append(temp_next.val)\n",
    "        #    temp_next = temp_next.next\n",
    "        # \n",
    "        # method 2\n",
    "        self.head = head\n",
    "\n",
    "    def getRandom(self):\n",
    "        \"\"\"\n",
    "        Returns a random node's value.\n",
    "        :rtype: int\n",
    "        \"\"\"\n",
    "        # method 1\n",
    "        #return random.choice(self.cont)\n",
    "        #\n",
    "        # method 2\n",
    "        index = 1\n",
    "        node = self.head.next\n",
    "        ret = self.head\n",
    "        while node:\n",
    "            if random.randint(0, index)==0:\n",
    "                ret = node\n",
    "            index = index + 1\n",
    "            node = node.next\n",
    "        return ret.val"
   ]
  },
  {
   "cell_type": "code",
   "execution_count": null,
   "metadata": {
    "collapsed": true
   },
   "outputs": [],
   "source": []
  }
 ],
 "metadata": {
  "anaconda-cloud": {},
  "kernelspec": {
   "display_name": "Python [conda root]",
   "language": "python",
   "name": "conda-root-py"
  },
  "language_info": {
   "codemirror_mode": {
    "name": "ipython",
    "version": 3
   },
   "file_extension": ".py",
   "mimetype": "text/x-python",
   "name": "python",
   "nbconvert_exporter": "python",
   "pygments_lexer": "ipython3",
   "version": "3.5.2"
  }
 },
 "nbformat": 4,
 "nbformat_minor": 2
}
