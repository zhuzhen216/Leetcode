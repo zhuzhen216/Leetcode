{
 "cells": [
  {
   "cell_type": "code",
   "execution_count": 14,
   "metadata": {
    "collapsed": false
   },
   "outputs": [],
   "source": [
    "def dfs(nums,target,index,path,res):\n",
    "    if target < 0:\n",
    "        return\n",
    "    if target == 0:\n",
    "        res.append(path)\n",
    "        return\n",
    "    else:\n",
    "        for i in range(index,len(nums)):\n",
    "            dfs(nums,target-nums[i],i,path+[nums[i]],res)\n",
    "def combinationSum(candidates,target):\n",
    "    candidates.sort()\n",
    "    res = []\n",
    "    dfs(candidates,target,0,[],res)\n",
    "    return res"
   ]
  },
  {
   "cell_type": "code",
   "execution_count": 15,
   "metadata": {
    "collapsed": false
   },
   "outputs": [
    {
     "data": {
      "text/plain": [
       "[[2, 2, 2, 2, 2, 2, 2, 2, 3],\n",
       " [2, 2, 2, 2, 2, 2, 2, 5],\n",
       " [2, 2, 2, 2, 2, 2, 7],\n",
       " [2, 2, 2, 2, 2, 3, 3, 3],\n",
       " [2, 2, 2, 2, 3, 3, 5],\n",
       " [2, 2, 2, 3, 3, 7],\n",
       " [2, 2, 2, 3, 5, 5],\n",
       " [2, 2, 3, 3, 3, 3, 3],\n",
       " [2, 2, 3, 5, 7],\n",
       " [2, 2, 5, 5, 5],\n",
       " [2, 3, 3, 3, 3, 5],\n",
       " [2, 3, 7, 7],\n",
       " [2, 5, 5, 7],\n",
       " [3, 3, 3, 3, 7],\n",
       " [3, 3, 3, 5, 5],\n",
       " [5, 7, 7]]"
      ]
     },
     "execution_count": 15,
     "metadata": {},
     "output_type": "execute_result"
    }
   ],
   "source": [
    "combinationSum([2,3,5,7],19)"
   ]
  },
  {
   "cell_type": "code",
   "execution_count": 19,
   "metadata": {
    "collapsed": false
   },
   "outputs": [
    {
     "data": {
      "text/plain": [
       "[3]"
      ]
     },
     "execution_count": 19,
     "metadata": {},
     "output_type": "execute_result"
    }
   ],
   "source": [
    "[]+[3]"
   ]
  },
  {
   "cell_type": "code",
   "execution_count": 18,
   "metadata": {
    "collapsed": true
   },
   "outputs": [],
   "source": [
    "s"
   ]
  },
  {
   "cell_type": "code",
   "execution_count": null,
   "metadata": {
    "collapsed": true
   },
   "outputs": [],
   "source": []
  }
 ],
 "metadata": {
  "anaconda-cloud": {},
  "kernelspec": {
   "display_name": "Python [conda root]",
   "language": "python",
   "name": "conda-root-py"
  },
  "language_info": {
   "codemirror_mode": {
    "name": "ipython",
    "version": 3
   },
   "file_extension": ".py",
   "mimetype": "text/x-python",
   "name": "python",
   "nbconvert_exporter": "python",
   "pygments_lexer": "ipython3",
   "version": "3.5.2"
  }
 },
 "nbformat": 4,
 "nbformat_minor": 2
}
