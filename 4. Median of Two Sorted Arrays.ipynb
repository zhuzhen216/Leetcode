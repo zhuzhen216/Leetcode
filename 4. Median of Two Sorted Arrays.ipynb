{
 "cells": [
  {
   "cell_type": "code",
   "execution_count": 10,
   "metadata": {
    "collapsed": true
   },
   "outputs": [],
   "source": [
    "def findKth(nums1,nums2,k):\n",
    "    if nums1 is None and nums2 is None:\n",
    "        return None\n",
    "    if len(nums1)==0:\n",
    "        return nums2[k]\n",
    "    if len(nums2)==0:\n",
    "        return nums1[k]\n",
    "    mid_1 = len(nums1)//2\n",
    "    mid_2 = len(nums2)//2\n",
    "    val_1 = nums1[mid_1]\n",
    "    val_2 = nums2[mid_2]\n",
    "    if mid_1+mid_2 < k:\n",
    "        if val_1> val_2:\n",
    "            return findKth(nums1,nums2[mid_2+1:],k-mid_2-1)\n",
    "        else:\n",
    "            return findKth(nums1[mid_1+1:],nums2,k-mid_1-1)\n",
    "    else:\n",
    "        if val_1 > val_2:\n",
    "            return findKth(nums1[:mid_1],nums2,k)\n",
    "        else:\n",
    "            return findKth(nums1,nums2[:mid_2],k)\n",
    "def findMed(nums1,nums2):\n",
    "    if (len(nums1)+len(nums2))%2 == 0:\n",
    "        return (findKth(nums1,nums2,(len(nums1)+len(nums2))//2)+findKth(nums1,nums2,(len(nums1)+len(nums2))//2-1))/2\n",
    "    else:\n",
    "        return findKth(nums1,nums2,(len(nums1)+len(nums2))//2)"
   ]
  },
  {
   "cell_type": "code",
   "execution_count": 11,
   "metadata": {
    "collapsed": false
   },
   "outputs": [
    {
     "data": {
      "text/plain": [
       "3"
      ]
     },
     "execution_count": 11,
     "metadata": {},
     "output_type": "execute_result"
    }
   ],
   "source": [
    "nums1=[1,2,3,3,5]\n",
    "nums2=[3,3,5,6]\n",
    "findMed(nums1,nums2)"
   ]
  },
  {
   "cell_type": "code",
   "execution_count": 9,
   "metadata": {
    "collapsed": true
   },
   "outputs": [],
   "source": []
  },
  {
   "cell_type": "code",
   "execution_count": null,
   "metadata": {
    "collapsed": true
   },
   "outputs": [],
   "source": []
  }
 ],
 "metadata": {
  "anaconda-cloud": {},
  "kernelspec": {
   "display_name": "Python [conda root]",
   "language": "python",
   "name": "conda-root-py"
  },
  "language_info": {
   "codemirror_mode": {
    "name": "ipython",
    "version": 3
   },
   "file_extension": ".py",
   "mimetype": "text/x-python",
   "name": "python",
   "nbconvert_exporter": "python",
   "pygments_lexer": "ipython3",
   "version": "3.5.2"
  }
 },
 "nbformat": 4,
 "nbformat_minor": 2
}
