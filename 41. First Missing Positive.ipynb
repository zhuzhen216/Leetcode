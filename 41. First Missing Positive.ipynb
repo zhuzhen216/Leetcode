{
 "cells": [
  {
   "cell_type": "code",
   "execution_count": 7,
   "metadata": {
    "collapsed": true
   },
   "outputs": [],
   "source": [
    "def findMissingPos(nums):\n",
    "    #if nums is None or len(nums)==0:\n",
    "    #    return 1\n",
    "    for i in range(len(nums)):\n",
    "        #print(nums[i])\n",
    "        #print(nums)\n",
    "        \"\"\"\n",
    "        here, 'while' is important (not just 'if')\n",
    "        using if: only one swap; you may have swaped a valid positive number to\n",
    "        the position; you come back to the main loop and this positive number\n",
    "        is incorretly escaped.\n",
    "        \"\"\"\n",
    "        while nums[i]>0 and nums[i]<=len(nums) and nums[i]!=nums[nums[i]-1]:\n",
    "            temp = nums[i]\n",
    "            nums[i] = nums[temp-1]\n",
    "            nums[temp-1]=temp\n",
    "            #nums[i], nums[nums[i]-1] = nums[nums[i]-1], nums[i]\n",
    "        \n",
    "    for i in range(len(nums)):\n",
    "        if nums[i]!=i+1:\n",
    "            return i+1\n",
    "    else:\n",
    "        return len(nums)+1"
   ]
  },
  {
   "cell_type": "code",
   "execution_count": 6,
   "metadata": {
    "collapsed": false
   },
   "outputs": [
    {
     "data": {
      "text/plain": [
       "5"
      ]
     },
     "execution_count": 6,
     "metadata": {},
     "output_type": "execute_result"
    }
   ],
   "source": [
    "findMissingPos([3,1,2,4,6,-9])"
   ]
  },
  {
   "cell_type": "code",
   "execution_count": null,
   "metadata": {
    "collapsed": true
   },
   "outputs": [],
   "source": []
  }
 ],
 "metadata": {
  "kernelspec": {
   "display_name": "Python [conda root]",
   "language": "python",
   "name": "conda-root-py"
  },
  "language_info": {
   "codemirror_mode": {
    "name": "ipython",
    "version": 3
   },
   "file_extension": ".py",
   "mimetype": "text/x-python",
   "name": "python",
   "nbconvert_exporter": "python",
   "pygments_lexer": "ipython3",
   "version": "3.5.2"
  }
 },
 "nbformat": 4,
 "nbformat_minor": 2
}
