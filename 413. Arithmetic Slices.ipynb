{
 "cells": [
  {
   "cell_type": "code",
   "execution_count": 5,
   "metadata": {
    "collapsed": true
   },
   "outputs": [],
   "source": [
    "def numberOfArithmeticSlices(A):\n",
    "    if len(A)<3:\n",
    "        return 0\n",
    "    i = 0\n",
    "    count = 0\n",
    "    while i < len(A) - 1:\n",
    "        j = i + 1\n",
    "        diff = A[j]-A[i]\n",
    "        j = j + 1\n",
    "        while j < len(A):\n",
    "            if A[j]-A[j-1]==diff:\n",
    "                j = j + 1\n",
    "            else:\n",
    "                break\n",
    "        count = count + (j-i-1)*(j-i-2)//2\n",
    "        i = j - 1\n",
    "    return count"
   ]
  },
  {
   "cell_type": "code",
   "execution_count": 6,
   "metadata": {
    "collapsed": false
   },
   "outputs": [
    {
     "data": {
      "text/plain": [
       "6"
      ]
     },
     "execution_count": 6,
     "metadata": {},
     "output_type": "execute_result"
    }
   ],
   "source": [
    "numberOfArithmeticSlices([1,2,3,4,7,8,9,10])"
   ]
  },
  {
   "cell_type": "code",
   "execution_count": null,
   "metadata": {
    "collapsed": true
   },
   "outputs": [],
   "source": []
  }
 ],
 "metadata": {
  "kernelspec": {
   "display_name": "Python [conda root]",
   "language": "python",
   "name": "conda-root-py"
  },
  "language_info": {
   "codemirror_mode": {
    "name": "ipython",
    "version": 3
   },
   "file_extension": ".py",
   "mimetype": "text/x-python",
   "name": "python",
   "nbconvert_exporter": "python",
   "pygments_lexer": "ipython3",
   "version": "3.5.2"
  }
 },
 "nbformat": 4,
 "nbformat_minor": 2
}
