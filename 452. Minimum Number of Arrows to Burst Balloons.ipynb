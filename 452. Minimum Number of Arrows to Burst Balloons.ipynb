{
 "cells": [
  {
   "cell_type": "code",
   "execution_count": 19,
   "metadata": {
    "collapsed": false
   },
   "outputs": [],
   "source": [
    "def findMinArrowShots(points):\n",
    "    arrowCounts = 0\n",
    "    points.sort(key=lambda x:(x[0],x[1]))\n",
    "    i = 0\n",
    "    while i < len(points):\n",
    "        max_x = points[i][1]\n",
    "        min_x = points[i][0]\n",
    "        j = i + 1\n",
    "        while j < len(points) and points[j][0]<=max_x:\n",
    "            max_x = min(max_x,points[j][1])\n",
    "            min_x = points[j][0]\n",
    "            j = j + 1\n",
    "        i = j\n",
    "        arrowCounts += 1\n",
    "    return arrowCounts"
   ]
  },
  {
   "cell_type": "code",
   "execution_count": null,
   "metadata": {
    "collapsed": true
   },
   "outputs": [],
   "source": []
  }
 ],
 "metadata": {
  "anaconda-cloud": {},
  "kernelspec": {
   "display_name": "Python [conda root]",
   "language": "python",
   "name": "conda-root-py"
  },
  "language_info": {
   "codemirror_mode": {
    "name": "ipython",
    "version": 3
   },
   "file_extension": ".py",
   "mimetype": "text/x-python",
   "name": "python",
   "nbconvert_exporter": "python",
   "pygments_lexer": "ipython3",
   "version": "3.5.2"
  }
 },
 "nbformat": 4,
 "nbformat_minor": 2
}
