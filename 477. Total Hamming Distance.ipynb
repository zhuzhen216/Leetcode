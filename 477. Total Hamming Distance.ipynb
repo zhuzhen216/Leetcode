{
 "cells": [
  {
   "cell_type": "code",
   "execution_count": 9,
   "metadata": {
    "collapsed": false
   },
   "outputs": [],
   "source": [
    "import random\n",
    "bits = [ [0,0] for _ in range(32) ]"
   ]
  },
  {
   "cell_type": "code",
   "execution_count": 24,
   "metadata": {
    "collapsed": false
   },
   "outputs": [
    {
     "data": {
      "text/plain": [
       "6"
      ]
     },
     "execution_count": 24,
     "metadata": {},
     "output_type": "execute_result"
    }
   ],
   "source": [
    "nums=[3,4,6]\n",
    "max_digit = len(bin(max(nums)))-2\n",
    "bits=[]\n",
    "for i in range(len(s)):\n",
    "    bits.append([])\n",
    "    for j in reversed(range(max_digit)):\n",
    "        bits[i].append(0)\n",
    "\n",
    "for i in range(len(s)):\n",
    "    temp = s[i]\n",
    "    for j in reversed(range(max_digit)):\n",
    "        bits[i][j]=temp%2\n",
    "        temp = temp//2\n",
    "count = 0\n",
    "for j in range(max_digit):\n",
    "    num_0 = 0\n",
    "    num_1 = 0\n",
    "    for i in range(len(s)):\n",
    "        if bits[i][j]==0:\n",
    "            num_0+=1\n",
    "        else:\n",
    "            num_1+=1\n",
    "    count = count + num_0 * num_1\n",
    "count"
   ]
  },
  {
   "cell_type": "code",
   "execution_count": 19,
   "metadata": {
    "collapsed": true
   },
   "outputs": [],
   "source": [
    "bits=[]\n",
    "for i in range(3):\n",
    "    bits.append([])"
   ]
  },
  {
   "cell_type": "code",
   "execution_count": 21,
   "metadata": {
    "collapsed": false
   },
   "outputs": [
    {
     "data": {
      "text/plain": [
       "[]"
      ]
     },
     "execution_count": 21,
     "metadata": {},
     "output_type": "execute_result"
    }
   ],
   "source": [
    "bits[0]"
   ]
  },
  {
   "cell_type": "code",
   "execution_count": 27,
   "metadata": {
    "collapsed": false
   },
   "outputs": [
    {
     "data": {
      "text/plain": [
       "5"
      ]
     },
     "execution_count": 27,
     "metadata": {},
     "output_type": "execute_result"
    }
   ],
   "source": [
    "s=[27,30]\n",
    "len(bin(max(s)))-2"
   ]
  },
  {
   "cell_type": "code",
   "execution_count": null,
   "metadata": {
    "collapsed": true
   },
   "outputs": [],
   "source": []
  }
 ],
 "metadata": {
  "anaconda-cloud": {},
  "kernelspec": {
   "display_name": "Python [conda root]",
   "language": "python",
   "name": "conda-root-py"
  },
  "language_info": {
   "codemirror_mode": {
    "name": "ipython",
    "version": 3
   },
   "file_extension": ".py",
   "mimetype": "text/x-python",
   "name": "python",
   "nbconvert_exporter": "python",
   "pygments_lexer": "ipython3",
   "version": "3.5.2"
  }
 },
 "nbformat": 4,
 "nbformat_minor": 2
}
