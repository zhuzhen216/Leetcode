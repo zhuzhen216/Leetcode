{
 "cells": [
  {
   "cell_type": "code",
   "execution_count": 2,
   "metadata": {
    "collapsed": true
   },
   "outputs": [],
   "source": [
    "def rotateImage(matrix):\n",
    "    \"\"\"\n",
    "    two steps:\n",
    "    1. switch rows\n",
    "    2. swith [i][j] and [j][i]\n",
    "    \"\"\"\n",
    "    if matrix is None or len(matrix)==1:\n",
    "        return\n",
    "    for i in range(len(matrix)//2):\n",
    "        for j in range(len(matrix)):\n",
    "            matrix[i][j],matrix[len(matrix)-i-1][j] = matrix[len(matrix)-i-1][j], matrix[i][j]\n",
    "    \n",
    "    for i in range(len(matrix)):\n",
    "        for j in range(i):\n",
    "            matrix[i][j], matrix[j][i] = matrix[j][i], matrix[i][j]"
   ]
  },
  {
   "cell_type": "code",
   "execution_count": null,
   "metadata": {
    "collapsed": true
   },
   "outputs": [],
   "source": []
  }
 ],
 "metadata": {
  "anaconda-cloud": {},
  "kernelspec": {
   "display_name": "Python [conda root]",
   "language": "python",
   "name": "conda-root-py"
  },
  "language_info": {
   "codemirror_mode": {
    "name": "ipython",
    "version": 3
   },
   "file_extension": ".py",
   "mimetype": "text/x-python",
   "name": "python",
   "nbconvert_exporter": "python",
   "pygments_lexer": "ipython3",
   "version": "3.5.2"
  }
 },
 "nbformat": 4,
 "nbformat_minor": 2
}
