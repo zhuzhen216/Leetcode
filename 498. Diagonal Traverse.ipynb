{
 "cells": [
  {
   "cell_type": "code",
   "execution_count": 1,
   "metadata": {
    "collapsed": true
   },
   "outputs": [],
   "source": [
    "def findDiagonalOrder(matrix):\n",
    "    \"\"\"\n",
    "    :type matrix: List[List[int]]\n",
    "    :rtype: List[int]\n",
    "    \"\"\"\n",
    "    if len(matrix)==0:\n",
    "        return []\n",
    "    count = 0\n",
    "    # M: number of rows\n",
    "    # N: number of columns\n",
    "    M = len(matrix)\n",
    "    N = len(matrix[0])\n",
    "    i = 0\n",
    "    j = 0\n",
    "    ret = []\n",
    "    right_up = True\n",
    "    while count < M * N:\n",
    "        ret.append(matrix[i][j])\n",
    "        if right_up:\n",
    "            if i-1 < 0 and j + 1 == N:\n",
    "                i = i + 1\n",
    "                j = j\n",
    "                right_up = False\n",
    "            elif i-1 < 0 and j + 1 < N:\n",
    "                i = i\n",
    "                j = j + 1\n",
    "                right_up = False\n",
    "            elif i-1>=0 and j + 1 == N:\n",
    "                i = i + 1\n",
    "                j = j\n",
    "                right_up = False\n",
    "            else:\n",
    "                i = i - 1\n",
    "                j = j + 1\n",
    "        else:\n",
    "            if i+1 == M and j - 1 < 0:\n",
    "                i = i\n",
    "                j = j + 1\n",
    "                right_up = True\n",
    "            elif i+1 == M and j - 1 >=0:\n",
    "                i = i\n",
    "                j = j + 1\n",
    "                right_up = True\n",
    "            elif i+1<M and j - 1 < 0:\n",
    "                i = i + 1\n",
    "                j = j\n",
    "                right_up = True\n",
    "            else:\n",
    "                i = i + 1\n",
    "                j = j - 1\n",
    "        count = count + 1\n",
    "    return ret"
   ]
  },
  {
   "cell_type": "code",
   "execution_count": null,
   "metadata": {
    "collapsed": true
   },
   "outputs": [],
   "source": []
  }
 ],
 "metadata": {
  "kernelspec": {
   "display_name": "Python [conda root]",
   "language": "python",
   "name": "conda-root-py"
  },
  "language_info": {
   "codemirror_mode": {
    "name": "ipython",
    "version": 3
   },
   "file_extension": ".py",
   "mimetype": "text/x-python",
   "name": "python",
   "nbconvert_exporter": "python",
   "pygments_lexer": "ipython3",
   "version": "3.5.2"
  }
 },
 "nbformat": 4,
 "nbformat_minor": 2
}
