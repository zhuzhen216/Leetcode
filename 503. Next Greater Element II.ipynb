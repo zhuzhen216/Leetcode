{
 "cells": [
  {
   "cell_type": "code",
   "execution_count": 3,
   "metadata": {
    "collapsed": true
   },
   "outputs": [],
   "source": [
    "def nextGreaterElements(nums):\n",
    "    \"\"\"\n",
    "    :type nums: List[int]\n",
    "    :rtype: List[int]\n",
    "    \"\"\"\n",
    "    # periodict boundary condition\n",
    "    ret = [-1]*len(nums)\n",
    "    def find(i,nums):\n",
    "        for j in range(len(nums)):\n",
    "            if i < nums[j]:\n",
    "                return (nums[j],True)\n",
    "        else:\n",
    "            return (-1,False)\n",
    "    #max_val = max(nums)\n",
    "    for i in range(len(nums)):\n",
    "        #if nums[i]!=max_val:\n",
    "        judge = False\n",
    "        if len(nums)-i-1>0:\n",
    "            ret[i]=find(nums[i],nums[i+1:])[0]\n",
    "            judge = find(nums[i],nums[i+1:])[1]\n",
    "        if not judge and i>0:\n",
    "            ret[i]=find(nums[i],nums[0:i])[0]\n",
    "    return ret"
   ]
  },
  {
   "cell_type": "code",
   "execution_count": 4,
   "metadata": {
    "collapsed": false
   },
   "outputs": [
    {
     "data": {
      "text/plain": [
       "[2, -1, 2]"
      ]
     },
     "execution_count": 4,
     "metadata": {},
     "output_type": "execute_result"
    }
   ],
   "source": [
    "nextGreaterElements([1,2,1])"
   ]
  },
  {
   "cell_type": "code",
   "execution_count": 12,
   "metadata": {
    "collapsed": true
   },
   "outputs": [],
   "source": [
    "def nextGreater(nums):\n",
    "    \"\"\"\n",
    "    \"\"\"\n",
    "    dict_next = {}\n",
    "    stack = []\n",
    "    for i, val in enumerate(nums):\n",
    "        while stack and nums[stack[-1]]<val:\n",
    "            dict_next[stack.pop()]=val\n",
    "        stack.append(i)\n",
    "    for i, val in enumerate(nums):\n",
    "        while stack and nums[stack[-1]]<val:\n",
    "            dict_next[stack.pop()]=val\n",
    "        stack.append(i)\n",
    "    \n",
    "    ret = [-1]*len(nums)\n",
    "    for i in range(len(nums)):\n",
    "        if i in dict_next:\n",
    "            ret[i]=dict_next[i]\n",
    "    return ret"
   ]
  },
  {
   "cell_type": "code",
   "execution_count": 13,
   "metadata": {
    "collapsed": false
   },
   "outputs": [
    {
     "data": {
      "text/plain": [
       "[2, -1, 2]"
      ]
     },
     "execution_count": 13,
     "metadata": {},
     "output_type": "execute_result"
    }
   ],
   "source": [
    "nextGreater([1,2,1])"
   ]
  },
  {
   "cell_type": "code",
   "execution_count": 20,
   "metadata": {
    "collapsed": true
   },
   "outputs": [],
   "source": [
    "s=[1,2,1]"
   ]
  },
  {
   "cell_type": "code",
   "execution_count": 21,
   "metadata": {
    "collapsed": false
   },
   "outputs": [],
   "source": [
    "s.extend(s)"
   ]
  },
  {
   "cell_type": "code",
   "execution_count": 22,
   "metadata": {
    "collapsed": false
   },
   "outputs": [
    {
     "data": {
      "text/plain": [
       "[1, 2, 1, 1, 2, 1]"
      ]
     },
     "execution_count": 22,
     "metadata": {},
     "output_type": "execute_result"
    }
   ],
   "source": [
    "s"
   ]
  },
  {
   "cell_type": "code",
   "execution_count": 23,
   "metadata": {
    "collapsed": false
   },
   "outputs": [
    {
     "data": {
      "text/plain": [
       "[1, 2, 1, 1, 2, 1, 1, 2, 1, 1, 2, 1]"
      ]
     },
     "execution_count": 23,
     "metadata": {},
     "output_type": "execute_result"
    }
   ],
   "source": [
    "s+s"
   ]
  },
  {
   "cell_type": "code",
   "execution_count": null,
   "metadata": {
    "collapsed": true
   },
   "outputs": [],
   "source": []
  }
 ],
 "metadata": {
  "kernelspec": {
   "display_name": "Python [conda root]",
   "language": "python",
   "name": "conda-root-py"
  },
  "language_info": {
   "codemirror_mode": {
    "name": "ipython",
    "version": 3
   },
   "file_extension": ".py",
   "mimetype": "text/x-python",
   "name": "python",
   "nbconvert_exporter": "python",
   "pygments_lexer": "ipython3",
   "version": "3.5.2"
  }
 },
 "nbformat": 4,
 "nbformat_minor": 2
}
