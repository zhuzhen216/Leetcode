{
 "cells": [
  {
   "cell_type": "code",
   "execution_count": 21,
   "metadata": {
    "collapsed": true
   },
   "outputs": [],
   "source": [
    "def friendCircle(M):\n",
    "    friend = set()\n",
    "    #circle_path = {}\n",
    "    num_people = len(M)\n",
    "    def dfs(person):\n",
    "        #friend_initial = friend.copy()\n",
    "        for adj, neib in enumerate(M[person]):\n",
    "            if neib and adj not in friend:\n",
    "                friend.add(adj)\n",
    "                dfs(adj)\n",
    "        #circle_path[person]=friend - friend_initial\n",
    "    num_circle = 0\n",
    "    for i in range(num_people):\n",
    "        if i not in friend:\n",
    "            num_circle += 1\n",
    "            dfs(i)\n",
    "    return num_people#,circle_path"
   ]
  },
  {
   "cell_type": "code",
   "execution_count": 46,
   "metadata": {
    "collapsed": false
   },
   "outputs": [],
   "source": [
    "M=[[1,1,0],[1,1,0],[0,0,1]]"
   ]
  },
  {
   "cell_type": "code",
   "execution_count": 87,
   "metadata": {
    "collapsed": true
   },
   "outputs": [],
   "source": [
    "def friendCircle2(M):\n",
    "    \"\"\"\n",
    "    this function also outpust the friend circle.\n",
    "    \"\"\"\n",
    "    friend = set()\n",
    "    circle_path = {}\n",
    "    num_people = len(M)\n",
    "    def dfs(person):\n",
    "        friend_initial = friend.copy()\n",
    "        for adj, neib in enumerate(M[person]):\n",
    "            if neib and adj not in friend:\n",
    "                friend.add(adj)\n",
    "                dfs(adj)\n",
    "        circle_path[person]=friend - friend_initial\n",
    "    num_circle = 0\n",
    "    for i in range(num_people):\n",
    "        if i not in friend:\n",
    "            num_circle += 1\n",
    "            dfs(i)\n",
    "    return num_circle,circle_path"
   ]
  },
  {
   "cell_type": "code",
   "execution_count": 32,
   "metadata": {
    "collapsed": false
   },
   "outputs": [
    {
     "data": {
      "text/plain": [
       "(1, {0: {0, 1, 2}, 1: {2}, 2: set()})"
      ]
     },
     "execution_count": 32,
     "metadata": {},
     "output_type": "execute_result"
    }
   ],
   "source": [
    "# there are some bugs in friendCircle2\n",
    "friendCircle2(M)"
   ]
  },
  {
   "cell_type": "code",
   "execution_count": 47,
   "metadata": {
    "collapsed": false
   },
   "outputs": [],
   "source": [
    "def dfs(M,person_index):\n",
    "    friend, stack = set(), [person_index]\n",
    "    while stack:\n",
    "        for adj_index, adj_val in enumerate(M[stack.pop()]):\n",
    "            if adj_index not in friend and adj_val:\n",
    "                friend.add(adj_index)\n",
    "                stack.append(adj_index)\n",
    "    return friend"
   ]
  },
  {
   "cell_type": "code",
   "execution_count": 50,
   "metadata": {
    "collapsed": false
   },
   "outputs": [
    {
     "data": {
      "text/plain": [
       "{2}"
      ]
     },
     "execution_count": 50,
     "metadata": {},
     "output_type": "execute_result"
    }
   ],
   "source": [
    "dfs(M,2)"
   ]
  },
  {
   "cell_type": "code",
   "execution_count": 84,
   "metadata": {
    "collapsed": false
   },
   "outputs": [],
   "source": [
    "def count_circle(M):\n",
    "    dict_person = {}\n",
    "    dict_count = []\n",
    "    for i in range(len(M)):\n",
    "        dict_person[i]=dfs(M,i)\n",
    "    for i in dict_person.values():\n",
    "        if i not in dict_count:\n",
    "            dict_count.append(i)\n",
    "            print(dict_count)\n",
    "    return len(dict_count)"
   ]
  },
  {
   "cell_type": "code",
   "execution_count": 85,
   "metadata": {
    "collapsed": false
   },
   "outputs": [
    {
     "name": "stdout",
     "output_type": "stream",
     "text": [
      "[{0, 1}]\n",
      "[{0, 1}, {2}]\n"
     ]
    },
    {
     "data": {
      "text/plain": [
       "2"
      ]
     },
     "execution_count": 85,
     "metadata": {},
     "output_type": "execute_result"
    }
   ],
   "source": [
    "count_circle(M)"
   ]
  },
  {
   "cell_type": "code",
   "execution_count": 81,
   "metadata": {
    "collapsed": false
   },
   "outputs": [
    {
     "data": {
      "text/plain": [
       "True"
      ]
     },
     "execution_count": 81,
     "metadata": {},
     "output_type": "execute_result"
    }
   ],
   "source": [
    "{1,2} in [{1,2}]"
   ]
  },
  {
   "cell_type": "code",
   "execution_count": null,
   "metadata": {
    "collapsed": false
   },
   "outputs": [],
   "source": []
  },
  {
   "cell_type": "code",
   "execution_count": null,
   "metadata": {
    "collapsed": true
   },
   "outputs": [],
   "source": []
  }
 ],
 "metadata": {
  "anaconda-cloud": {},
  "kernelspec": {
   "display_name": "Python [conda root]",
   "language": "python",
   "name": "conda-root-py"
  },
  "language_info": {
   "codemirror_mode": {
    "name": "ipython",
    "version": 3
   },
   "file_extension": ".py",
   "mimetype": "text/x-python",
   "name": "python",
   "nbconvert_exporter": "python",
   "pygments_lexer": "ipython3",
   "version": "3.5.2"
  }
 },
 "nbformat": 4,
 "nbformat_minor": 2
}
