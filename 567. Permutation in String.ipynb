{
 "cells": [
  {
   "cell_type": "code",
   "execution_count": 10,
   "metadata": {
    "collapsed": true
   },
   "outputs": [],
   "source": [
    "def checkInclusion(s1, s2):\n",
    "        \"\"\"\n",
    "        :type s1: str\n",
    "        :type s2: str\n",
    "        :rtype: bool\n",
    "        \"\"\"\n",
    "        def isZero(dict):\n",
    "            for elem in dict:\n",
    "                if dict[elem] != 0:\n",
    "                    return False\n",
    "            else:\n",
    "                return True\n",
    "        if len(s1)> len(s2):\n",
    "            return False\n",
    "        dict = {}\n",
    "        for i in range(26):\n",
    "            dict[i]=0\n",
    "        for char in s1:\n",
    "            dict[ord(char)-ord('a')]+=1\n",
    "        for i in range(len(s1)):\n",
    "            dict[ord(s2[i])-ord('a')]-=1\n",
    "        if isZero(dict):\n",
    "            return True\n",
    "        print(dict)\n",
    "        for i in range(1,len(s2)-len(s1)+1):\n",
    "            dict[ord(s2[i+len(s1)-1])-ord('a')]-=1\n",
    "            dict[ord(s2[i-1])-ord('a')]+=1\n",
    "            #print(dict)\n",
    "            if isZero(dict):\n",
    "                return True\n",
    "        else:\n",
    "            return False"
   ]
  },
  {
   "cell_type": "code",
   "execution_count": 11,
   "metadata": {
    "collapsed": false
   },
   "outputs": [
    {
     "name": "stdout",
     "output_type": "stream",
     "text": [
      "{0: 1, 1: 0, 2: 0, 3: -1, 4: 0, 5: 0, 6: 0, 7: 0, 8: 0, 9: 0, 10: 0, 11: 0, 12: 0, 13: 0, 14: 0, 15: 0, 16: 0, 17: 0, 18: 0, 19: 0, 20: 0, 21: 0, 22: 0, 23: 0, 24: 0, 25: 0}\n"
     ]
    },
    {
     "data": {
      "text/plain": [
       "True"
      ]
     },
     "execution_count": 11,
     "metadata": {},
     "output_type": "execute_result"
    }
   ],
   "source": [
    "checkInclusion('abc','bcdbac')"
   ]
  },
  {
   "cell_type": "code",
   "execution_count": null,
   "metadata": {
    "collapsed": true
   },
   "outputs": [],
   "source": []
  }
 ],
 "metadata": {
  "anaconda-cloud": {},
  "kernelspec": {
   "display_name": "Python [conda root]",
   "language": "python",
   "name": "conda-root-py"
  },
  "language_info": {
   "codemirror_mode": {
    "name": "ipython",
    "version": 3
   },
   "file_extension": ".py",
   "mimetype": "text/x-python",
   "name": "python",
   "nbconvert_exporter": "python",
   "pygments_lexer": "ipython3",
   "version": "3.5.2"
  }
 },
 "nbformat": 4,
 "nbformat_minor": 2
}
