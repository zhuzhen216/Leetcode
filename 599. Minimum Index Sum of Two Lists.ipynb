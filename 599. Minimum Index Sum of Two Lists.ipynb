{
 "cells": [
  {
   "cell_type": "code",
   "execution_count": 1,
   "metadata": {
    "collapsed": true
   },
   "outputs": [],
   "source": [
    "def findFood(listOne,listTwo):\n",
    "    dictOne = {}\n",
    "    dictCommon = {}\n",
    "    for i,elem in enumerate(listOne):\n",
    "        dictOne[elem]=i\n",
    "    for j,elem in enumerate(listTwo):\n",
    "        if elem in dictOne:\n",
    "            sumIndex = dictOne[elem] + j\n",
    "            if sumIndex not in dictCommon:\n",
    "                dictCommon[sumIndex]= [elem]\n",
    "            else:\n",
    "                dictCommon[sumIndex].append(elem)\n",
    "    return dictCommon[min([i for i in dictCommon])]"
   ]
  },
  {
   "cell_type": "code",
   "execution_count": 2,
   "metadata": {
    "collapsed": true
   },
   "outputs": [],
   "source": [
    "jack=[\"Shogun\", \"Tapioca Express\", \"Burger King\", \"KFC\"]\n",
    "jim=[\"Piatti\", \"The Grill at Torrey Pines\", \"Hungry Hunter Steakhouse\", \"Shogun\"]"
   ]
  },
  {
   "cell_type": "code",
   "execution_count": 3,
   "metadata": {
    "collapsed": false
   },
   "outputs": [
    {
     "data": {
      "text/plain": [
       "['Shogun']"
      ]
     },
     "execution_count": 3,
     "metadata": {},
     "output_type": "execute_result"
    }
   ],
   "source": [
    "findFood(jack,jim)"
   ]
  },
  {
   "cell_type": "code",
   "execution_count": null,
   "metadata": {
    "collapsed": true
   },
   "outputs": [],
   "source": []
  }
 ],
 "metadata": {
  "kernelspec": {
   "display_name": "Python [conda root]",
   "language": "python",
   "name": "conda-root-py"
  },
  "language_info": {
   "codemirror_mode": {
    "name": "ipython",
    "version": 3
   },
   "file_extension": ".py",
   "mimetype": "text/x-python",
   "name": "python",
   "nbconvert_exporter": "python",
   "pygments_lexer": "ipython3",
   "version": "3.5.2"
  }
 },
 "nbformat": 4,
 "nbformat_minor": 2
}
