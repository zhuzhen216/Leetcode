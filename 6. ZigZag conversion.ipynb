{
 "cells": [
  {
   "cell_type": "code",
   "execution_count": 1,
   "metadata": {
    "collapsed": true
   },
   "outputs": [],
   "source": [
    "def zigzag_cov(s,nRow):\n",
    "    if nRow == 1:\n",
    "        return s\n",
    "    block = 2*nRow - 2\n",
    "    result = ''\n",
    "    i = 0\n",
    "    while i < nRow:\n",
    "        j = i\n",
    "        while j < len(s):\n",
    "            result = result + s[j]\n",
    "            secondJ = j - i + block - i\n",
    "            if i!=0 and i!=nRow-1 and secondJ < len(s):\n",
    "                result = result + s[secondJ]\n",
    "            j = j + block\n",
    "        i = i + 1\n",
    "    return result"
   ]
  },
  {
   "cell_type": "code",
   "execution_count": 2,
   "metadata": {
    "collapsed": false
   },
   "outputs": [
    {
     "data": {
      "text/plain": [
       "'PAHNAPLSIIGYIR'"
      ]
     },
     "execution_count": 2,
     "metadata": {},
     "output_type": "execute_result"
    }
   ],
   "source": [
    "zigzag_cov('PAYPALISHIRING',3)"
   ]
  },
  {
   "cell_type": "code",
   "execution_count": null,
   "metadata": {
    "collapsed": true
   },
   "outputs": [],
   "source": []
  }
 ],
 "metadata": {
  "anaconda-cloud": {},
  "kernelspec": {
   "display_name": "Python [conda root]",
   "language": "python",
   "name": "conda-root-py"
  },
  "language_info": {
   "codemirror_mode": {
    "name": "ipython",
    "version": 3
   },
   "file_extension": ".py",
   "mimetype": "text/x-python",
   "name": "python",
   "nbconvert_exporter": "python",
   "pygments_lexer": "ipython3",
   "version": "3.5.2"
  }
 },
 "nbformat": 4,
 "nbformat_minor": 2
}
