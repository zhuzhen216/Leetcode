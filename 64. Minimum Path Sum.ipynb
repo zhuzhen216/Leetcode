{
 "cells": [
  {
   "cell_type": "code",
   "execution_count": 39,
   "metadata": {
    "collapsed": true
   },
   "outputs": [],
   "source": [
    "def minPathSum2(grid):\n",
    "    m = len(grid)\n",
    "    n = len(grid[0])\n",
    "    dp = [[0 for _ in range(n)] for _ in range(m)]\n",
    "    dp[0][0] = grid[0][0]\n",
    "    for i in range(1,m):\n",
    "        dp[i][0]=grid[i][0]+dp[i-1][0]\n",
    "    for j in range(1,n):\n",
    "        dp[0][j]=grid[0][j]+dp[0][j-1]\n",
    "    for i in range(1,m):\n",
    "        for j in range(1,n):\n",
    "            dp[i][j]=grid[i][j]+min(dp[i-1][j],dp[i][j-1])\n",
    "    return dp[-1][-1]"
   ]
  },
  {
   "cell_type": "code",
   "execution_count": 40,
   "metadata": {
    "collapsed": true
   },
   "outputs": [],
   "source": [
    "matrix = [[1,2],[1,1]]"
   ]
  },
  {
   "cell_type": "code",
   "execution_count": 41,
   "metadata": {
    "collapsed": false
   },
   "outputs": [
    {
     "data": {
      "text/plain": [
       "3"
      ]
     },
     "execution_count": 41,
     "metadata": {},
     "output_type": "execute_result"
    }
   ],
   "source": [
    "minPathSum2(matrix)"
   ]
  },
  {
   "cell_type": "code",
   "execution_count": 36,
   "metadata": {
    "collapsed": true
   },
   "outputs": [],
   "source": [
    "def minPathSum(grid):\n",
    "    \"\"\"\n",
    "    :type grid: List[List[int]]\n",
    "    :rtype: int\n",
    "    \"\"\"\n",
    "    dp = [[0 for _ in range(len(grid[0]))] for _ in range(len(grid))]\n",
    "    print(dp)\n",
    "    def compDP(i,j):\n",
    "        if i==len(grid)-1 and j==len(grid[0])-1:\n",
    "            #print(i)\n",
    "            #print(j)\n",
    "            dp[i][j] = grid[i][j]\n",
    "            #return\n",
    "        elif i==len(grid)-1 and j<len(grid[0])-1:\n",
    "            #print(i)\n",
    "            #print(j)\n",
    "            compDP(i,j+1)\n",
    "            dp[i][j]=grid[i][j]+dp[i][j+1]\n",
    "            #return\n",
    "        elif i<len(grid)-1 and j==len(grid[0])-1:\n",
    "            #print(j)\n",
    "            compDP(i+1,j)\n",
    "            dp[i][j]= grid[i][j]+dp[i+1][j]\n",
    "            #return\n",
    "        else:\n",
    "            #print((i,j))\n",
    "            compDP(i+1,j)\n",
    "            compDP(i,j+1)\n",
    "            dp[i][j]=grid[i][j]+min(dp[i+1][j],dp[i][j+1])\n",
    "        return\n",
    "    #for i in range(len(grid)):\n",
    "    #    for j in range(len(grid[0])):\n",
    "    compDP(0,0)\n",
    "    return dp[0][0]"
   ]
  },
  {
   "cell_type": "code",
   "execution_count": 38,
   "metadata": {
    "collapsed": false
   },
   "outputs": [
    {
     "name": "stdout",
     "output_type": "stream",
     "text": [
      "[[0, 0], [0, 0]]\n"
     ]
    },
    {
     "data": {
      "text/plain": [
       "3"
      ]
     },
     "execution_count": 38,
     "metadata": {},
     "output_type": "execute_result"
    }
   ],
   "source": [
    "minPathSum([[1,2],[1,1]])"
   ]
  },
  {
   "cell_type": "code",
   "execution_count": null,
   "metadata": {
    "collapsed": true
   },
   "outputs": [],
   "source": []
  }
 ],
 "metadata": {
  "kernelspec": {
   "display_name": "Python [conda root]",
   "language": "python",
   "name": "conda-root-py"
  },
  "language_info": {
   "codemirror_mode": {
    "name": "ipython",
    "version": 3
   },
   "file_extension": ".py",
   "mimetype": "text/x-python",
   "name": "python",
   "nbconvert_exporter": "python",
   "pygments_lexer": "ipython3",
   "version": "3.5.2"
  }
 },
 "nbformat": 4,
 "nbformat_minor": 2
}
