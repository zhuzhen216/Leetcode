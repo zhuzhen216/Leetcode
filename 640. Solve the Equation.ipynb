{
 "cells": [
  {
   "cell_type": "code",
   "execution_count": 3,
   "metadata": {
    "collapsed": true
   },
   "outputs": [],
   "source": [
    "def convert(left):\n",
    "            val_left = 0\n",
    "            coef_left = 0\n",
    "            i = 0\n",
    "            while i < len(left):\n",
    "                temp = ''\n",
    "                if left[i]=='+' or left[i]=='-':\n",
    "                    temp+=left[i]\n",
    "                    i+=1\n",
    "                #print(i)\n",
    "                count = 0\n",
    "                #i+=1\n",
    "                while i<len(left) and left[i]!='+' and left[i]!='-' and left[i]!='x':\n",
    "                    temp+=left[i]\n",
    "                    i+=1\n",
    "                if i==len(left):\n",
    "                    val_left += int(temp)\n",
    "                    break\n",
    "                elif left[i]=='x':\n",
    "                    if len(temp)==0:\n",
    "                        coef_left +=1\n",
    "                    elif temp[-1]=='+' or temp[-1]=='-':\n",
    "                        coef_left += int(temp[-1]+'1')\n",
    "                    else:\n",
    "                        coef_left += int(temp)\n",
    "                    i+=1\n",
    "                else:\n",
    "                    val_left+=int(temp)\n",
    "            return coef_left,val_left"
   ]
  },
  {
   "cell_type": "code",
   "execution_count": 4,
   "metadata": {
    "collapsed": false
   },
   "outputs": [
    {
     "data": {
      "text/plain": [
       "(4, -5)"
      ]
     },
     "execution_count": 4,
     "metadata": {},
     "output_type": "execute_result"
    }
   ],
   "source": [
    "convert('+2x-5+3x-x')"
   ]
  },
  {
   "cell_type": "code",
   "execution_count": 5,
   "metadata": {
    "collapsed": true
   },
   "outputs": [],
   "source": [
    "class Solution(object):\n",
    "    def solveEquation(self, equation):\n",
    "        \"\"\"\n",
    "        :type equation: str\n",
    "        :rtype: str\n",
    "        \"\"\"\n",
    "        def convert(left):\n",
    "            val_left = 0\n",
    "            coef_left = 0\n",
    "            i = 0\n",
    "            while i < len(left):\n",
    "                temp = ''\n",
    "                if left[i]=='+' or left[i]=='-':\n",
    "                    temp+=left[i]\n",
    "                    i+=1\n",
    "                #count = 0\n",
    "                #i+=1\n",
    "                while i<len(left) and left[i]!='+' and left[i]!='-' and left[i]!='x':\n",
    "                    temp+=left[i]\n",
    "                    i+=1\n",
    "                if i==len(left):\n",
    "                    val_left += int(temp)\n",
    "                    break\n",
    "                elif left[i]=='x':\n",
    "                    if len(temp)==0:\n",
    "                        coef_left +=1\n",
    "                    elif temp[-1]=='+' or temp[-1]=='-':\n",
    "                        coef_left += int(temp[-1]+'1')\n",
    "                    else:\n",
    "                        coef_left += int(temp)\n",
    "                    i+=1\n",
    "                else:\n",
    "                    val_left+=int(temp)\n",
    "            return coef_left,val_left\n",
    "        left,right = equation.split('=')\n",
    "        coef_left,val_left=convert(left)\n",
    "        coef_right,val_right=convert(right)\n",
    "        if coef_left == coef_right:\n",
    "            if val_left == val_right:\n",
    "                return \"Infinite solutions\"\n",
    "            else:\n",
    "                return \"No solution\"\n",
    "        else:\n",
    "            return \"x=\"+str((val_right-val_left)/(coef_left-coef_right))"
   ]
  },
  {
   "cell_type": "code",
   "execution_count": null,
   "metadata": {
    "collapsed": true
   },
   "outputs": [],
   "source": []
  }
 ],
 "metadata": {
  "anaconda-cloud": {},
  "kernelspec": {
   "display_name": "Python [conda root]",
   "language": "python",
   "name": "conda-root-py"
  },
  "language_info": {
   "codemirror_mode": {
    "name": "ipython",
    "version": 3
   },
   "file_extension": ".py",
   "mimetype": "text/x-python",
   "name": "python",
   "nbconvert_exporter": "python",
   "pygments_lexer": "ipython3",
   "version": "3.5.2"
  }
 },
 "nbformat": 4,
 "nbformat_minor": 2
}
