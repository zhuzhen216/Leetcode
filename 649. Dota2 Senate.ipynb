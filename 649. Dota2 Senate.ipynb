{
 "cells": [
  {
   "cell_type": "code",
   "execution_count": 7,
   "metadata": {
    "collapsed": true
   },
   "outputs": [],
   "source": [
    "def predictPartyVictory(senate):\n",
    "        \"\"\"\n",
    "        :type senate: str\n",
    "        :rtype: str\n",
    "        \"\"\"\n",
    "        stack_D = []\n",
    "        stack_R = []\n",
    "        period = len(senate)\n",
    "        for i,char in enumerate(senate):\n",
    "            if char == 'D':\n",
    "                stack_D.append(i)\n",
    "            else:\n",
    "                stack_R.append(i)\n",
    "        #if len(stack_D)>len(stack_R):\n",
    "        #    return \"Dire\"\n",
    "        #elif len(stack_D)<len(stack_R):\n",
    "        #    return \"Radiant\"\n",
    "        while stack_D and stack_R:\n",
    "                indexD = stack_D.pop(0)\n",
    "                indexR = stack_R.pop(0)\n",
    "                if indexD < indexR:\n",
    "                    stack_D.append(indexD+period)\n",
    "                else:\n",
    "                    stack_R.append(indexR+period)\n",
    "        return 'Dire' if len(stack_R)==0 else \"Radiant\""
   ]
  },
  {
   "cell_type": "code",
   "execution_count": 9,
   "metadata": {
    "collapsed": false
   },
   "outputs": [
    {
     "data": {
      "text/plain": [
       "'Radiant'"
      ]
     },
     "execution_count": 9,
     "metadata": {},
     "output_type": "execute_result"
    }
   ],
   "source": [
    "predictPartyVictory('RRDDD')"
   ]
  },
  {
   "cell_type": "code",
   "execution_count": null,
   "metadata": {
    "collapsed": true
   },
   "outputs": [],
   "source": []
  }
 ],
 "metadata": {
  "anaconda-cloud": {},
  "kernelspec": {
   "display_name": "Python [conda root]",
   "language": "python",
   "name": "conda-root-py"
  },
  "language_info": {
   "codemirror_mode": {
    "name": "ipython",
    "version": 3
   },
   "file_extension": ".py",
   "mimetype": "text/x-python",
   "name": "python",
   "nbconvert_exporter": "python",
   "pygments_lexer": "ipython3",
   "version": "3.5.2"
  }
 },
 "nbformat": 4,
 "nbformat_minor": 2
}
