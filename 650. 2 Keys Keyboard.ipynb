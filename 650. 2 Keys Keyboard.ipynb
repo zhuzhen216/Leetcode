{
 "cells": [
  {
   "cell_type": "code",
   "execution_count": 28,
   "metadata": {
    "collapsed": true
   },
   "outputs": [],
   "source": [
    "def minSteps_slow(n):\n",
    "        \"\"\"\n",
    "        :type n: int\n",
    "        :rtype: int\n",
    "        \"\"\"\n",
    "        minStep = [n]\n",
    "        if n==1:\n",
    "            return 0\n",
    "        def helper(countA,countMove,canCopy):\n",
    "            if countA >= n:\n",
    "                if countA == n:\n",
    "                    minStep[0] = min(minStep[0],countMove)\n",
    "                return\n",
    "            if countMove > n:\n",
    "                return\n",
    "            helper(countA+canCopy,countMove+1,canCopy)\n",
    "            helper(countA,countMove+1,countA)\n",
    "        helper(1,1,1)\n",
    "        return minStep[0]"
   ]
  },
  {
   "cell_type": "code",
   "execution_count": 36,
   "metadata": {
    "collapsed": false
   },
   "outputs": [
    {
     "data": {
      "text/plain": [
       "6"
      ]
     },
     "execution_count": 36,
     "metadata": {},
     "output_type": "execute_result"
    }
   ],
   "source": [
    "minSteps_slow(8)"
   ]
  },
  {
   "cell_type": "code",
   "execution_count": 19,
   "metadata": {
    "collapsed": false
   },
   "outputs": [
    {
     "data": {
      "text/plain": [
       "10"
      ]
     },
     "execution_count": 19,
     "metadata": {},
     "output_type": "execute_result"
    }
   ],
   "source": [
    "minSteps(32)"
   ]
  },
  {
   "cell_type": "code",
   "execution_count": 21,
   "metadata": {
    "collapsed": true
   },
   "outputs": [],
   "source": [
    "## we can factorization the num\n",
    "## num = a1^n_a1 * a2^n_a2 * ...\n",
    "## a1*(n_a1)+a2*(n_a2)+...\n",
    "## 40 = 5 * 2^3 -> 5 + 6 = 11\n",
    "## 4 = 2^2 -> 2*2 = 4\n",
    "## then come to the question: how to do factorization"
   ]
  },
  {
   "cell_type": "code",
   "execution_count": 24,
   "metadata": {
    "collapsed": true
   },
   "outputs": [],
   "source": [
    "def factorization(n):\n",
    "    factor_dict = {}\n",
    "    start = 2\n",
    "    while n>=start:\n",
    "        while n%start!=0:\n",
    "            start += 1\n",
    "        count = 1\n",
    "        n = n//start\n",
    "        if start in factor_dict:\n",
    "            factor_dict[start]+=1\n",
    "        else:\n",
    "            factor_dict[start]=1\n",
    "    return factor_dict"
   ]
  },
  {
   "cell_type": "code",
   "execution_count": 27,
   "metadata": {
    "collapsed": false
   },
   "outputs": [
    {
     "data": {
      "text/plain": [
       "{7: 1}"
      ]
     },
     "execution_count": 27,
     "metadata": {},
     "output_type": "execute_result"
    }
   ],
   "source": [
    "factorization(7)"
   ]
  },
  {
   "cell_type": "code",
   "execution_count": 29,
   "metadata": {
    "collapsed": true
   },
   "outputs": [],
   "source": [
    "def minSteps(n):\n",
    "    if n==1:\n",
    "        return 0\n",
    "    factor_dict = factorization(n)\n",
    "    ret = 0\n",
    "    for key in factor_dict:\n",
    "        ret += key*factor_dict[key]\n",
    "    return ret"
   ]
  },
  {
   "cell_type": "code",
   "execution_count": 35,
   "metadata": {
    "collapsed": false
   },
   "outputs": [
    {
     "data": {
      "text/plain": [
       "6"
      ]
     },
     "execution_count": 35,
     "metadata": {},
     "output_type": "execute_result"
    }
   ],
   "source": [
    "minSteps(8)"
   ]
  },
  {
   "cell_type": "code",
   "execution_count": 39,
   "metadata": {
    "collapsed": false
   },
   "outputs": [
    {
     "name": "stdout",
     "output_type": "stream",
     "text": [
      "True\n"
     ]
    }
   ],
   "source": [
    "for i in range(1,10):\n",
    "    if minSteps_slow(i)!=minSteps(i):\n",
    "        print(False)\n",
    "else:\n",
    "    print(True)"
   ]
  },
  {
   "cell_type": "code",
   "execution_count": null,
   "metadata": {
    "collapsed": true
   },
   "outputs": [],
   "source": []
  }
 ],
 "metadata": {
  "anaconda-cloud": {},
  "kernelspec": {
   "display_name": "Python [conda root]",
   "language": "python",
   "name": "conda-root-py"
  },
  "language_info": {
   "codemirror_mode": {
    "name": "ipython",
    "version": 3
   },
   "file_extension": ".py",
   "mimetype": "text/x-python",
   "name": "python",
   "nbconvert_exporter": "python",
   "pygments_lexer": "ipython3",
   "version": "3.5.2"
  }
 },
 "nbformat": 4,
 "nbformat_minor": 2
}
