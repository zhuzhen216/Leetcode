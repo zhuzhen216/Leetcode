{
 "cells": [
  {
   "cell_type": "code",
   "execution_count": 11,
   "metadata": {
    "collapsed": false
   },
   "outputs": [],
   "source": [
    "import heapq\n",
    "import collections\n",
    "def coinPath(nums,step):\n",
    "    dp = collections.defaultdict(list)\n",
    "    heapq.heappush(dp[0],(nums[0],[1]))\n",
    "    for i in range(1,len(nums)):\n",
    "        if nums[i]==-1:\n",
    "            continue\n",
    "        j = i - 1\n",
    "        print(dp)\n",
    "        while j>=0 and i - j <=step:\n",
    "            if nums[j]==-1 or len(dp[j])==0:\n",
    "                j-=1\n",
    "                continue\n",
    "            heapq.heappush(dp[i],(dp[j][0][0]+nums[i],dp[j][0][1]+[i+1]))\n",
    "            j-=1\n",
    "    if len(dp[len(nums)-1])==0:\n",
    "        return []\n",
    "    else:\n",
    "        return dp[len(nums)-1][0][1]"
   ]
  },
  {
   "cell_type": "code",
   "execution_count": 12,
   "metadata": {
    "collapsed": false
   },
   "outputs": [
    {
     "name": "stdout",
     "output_type": "stream",
     "text": [
      "defaultdict(<class 'list'>, {0: [(1, [1])]})\n",
      "defaultdict(<class 'list'>, {0: [(1, [1])], 1: [(3, [1, 2])]})\n",
      "defaultdict(<class 'list'>, {0: [(1, [1])], 1: [(3, [1, 2])], 2: [(5, [1, 3]), (7, [1, 2, 3])]})\n"
     ]
    },
    {
     "data": {
      "text/plain": [
       "[1, 3, 5]"
      ]
     },
     "execution_count": 12,
     "metadata": {},
     "output_type": "execute_result"
    }
   ],
   "source": [
    "coinPath([1,2,4,-1,2], 2)"
   ]
  },
  {
   "cell_type": "code",
   "execution_count": 13,
   "metadata": {
    "collapsed": false
   },
   "outputs": [
    {
     "data": {
      "text/plain": [
       "3"
      ]
     },
     "execution_count": 13,
     "metadata": {},
     "output_type": "execute_result"
    }
   ],
   "source": [
    "int(+3)"
   ]
  },
  {
   "cell_type": "code",
   "execution_count": null,
   "metadata": {
    "collapsed": true
   },
   "outputs": [],
   "source": []
  }
 ],
 "metadata": {
  "anaconda-cloud": {},
  "kernelspec": {
   "display_name": "Python [conda root]",
   "language": "python",
   "name": "conda-root-py"
  },
  "language_info": {
   "codemirror_mode": {
    "name": "ipython",
    "version": 3
   },
   "file_extension": ".py",
   "mimetype": "text/x-python",
   "name": "python",
   "nbconvert_exporter": "python",
   "pygments_lexer": "ipython3",
   "version": "3.5.2"
  }
 },
 "nbformat": 4,
 "nbformat_minor": 2
}
