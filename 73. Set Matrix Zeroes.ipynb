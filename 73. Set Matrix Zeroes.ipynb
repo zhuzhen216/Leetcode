{
 "cells": [
  {
   "cell_type": "code",
   "execution_count": 26,
   "metadata": {
    "collapsed": false
   },
   "outputs": [],
   "source": [
    "def setZeroes(matrix):\n",
    "        \"\"\"\n",
    "        :type matrix: List[List[int]]\n",
    "        :rtype: void Do not return anything, modify matrix in-place instead.\n",
    "        \"\"\"\n",
    "        #\n",
    "        # method 1\n",
    "        #\n",
    "        if matrix is None:\n",
    "            return\n",
    "        endRow = -1\n",
    "        endCol = -1\n",
    "        for i in reversed(range(len(matrix))):\n",
    "            for j in reversed(range(len(matrix[0]))):\n",
    "                if matrix[i][j]==0:\n",
    "                    endRow = i\n",
    "                    endCol = j\n",
    "                    break\n",
    "            if matrix[i][j]==0:\n",
    "                break\n",
    "        #for i in reversed(range(len(matrix[0]))):\n",
    "        #    for j in reversed(range(len(matrix))):\n",
    "        #        print(i)\n",
    "        #        if matrix[j][i]==0:\n",
    "        #            endCol = i\n",
    "        #            #endCol = j\n",
    "        #            break\n",
    "        #    if matrix[i][j]==0:\n",
    "        #        break\n",
    "        #print((endRow,endCol))\n",
    "        if endRow == -1:\n",
    "            return\n",
    "        for i in range(len(matrix)):\n",
    "            if i == endRow:\n",
    "                continue\n",
    "            for j in range(len(matrix[0])):\n",
    "                if j == endCol:\n",
    "                    continue\n",
    "                if matrix[i][j]==0:\n",
    "                    matrix[endRow][j]=0\n",
    "                    matrix[i][endCol]=0\n",
    "        for i in range(len(matrix)):\n",
    "            if i == endRow:\n",
    "                continue\n",
    "            if matrix[i][endCol]==0:\n",
    "                for j in range(len(matrix[0])):\n",
    "                    #if j == endCol:\n",
    "                    #    continue\n",
    "                    matrix[i][j]=0\n",
    "        for i in range(len(matrix[0])):\n",
    "            if i == endCol:\n",
    "                continue\n",
    "            if matrix[endRow][i]==0:\n",
    "                for j in range(len(matrix)):\n",
    "                    matrix[j][i]=0\n",
    "        for i in range(len(matrix)):\n",
    "            matrix[i][endCol]=0\n",
    "        for j in range(len(matrix[0])):\n",
    "            matrix[endRow][j]=0"
   ]
  },
  {
   "cell_type": "code",
   "execution_count": 27,
   "metadata": {
    "collapsed": true
   },
   "outputs": [],
   "source": [
    "matrix=[[0,0,0,5],[4,3,1,4],[0,1,1,4],[1,2,1,3],[0,0,1,1]]"
   ]
  },
  {
   "cell_type": "code",
   "execution_count": 28,
   "metadata": {
    "collapsed": false
   },
   "outputs": [],
   "source": [
    "setZeroes(matrix)"
   ]
  },
  {
   "cell_type": "code",
   "execution_count": 29,
   "metadata": {
    "collapsed": false
   },
   "outputs": [
    {
     "data": {
      "text/plain": [
       "[[0, 0, 0, 0], [0, 0, 0, 4], [0, 0, 0, 0], [0, 0, 0, 3], [0, 0, 0, 0]]"
      ]
     },
     "execution_count": 29,
     "metadata": {},
     "output_type": "execute_result"
    }
   ],
   "source": [
    "matrix"
   ]
  },
  {
   "cell_type": "code",
   "execution_count": null,
   "metadata": {
    "collapsed": true
   },
   "outputs": [],
   "source": []
  }
 ],
 "metadata": {
  "anaconda-cloud": {},
  "kernelspec": {
   "display_name": "Python [conda root]",
   "language": "python",
   "name": "conda-root-py"
  },
  "language_info": {
   "codemirror_mode": {
    "name": "ipython",
    "version": 3
   },
   "file_extension": ".py",
   "mimetype": "text/x-python",
   "name": "python",
   "nbconvert_exporter": "python",
   "pygments_lexer": "ipython3",
   "version": "3.5.2"
  }
 },
 "nbformat": 4,
 "nbformat_minor": 2
}
