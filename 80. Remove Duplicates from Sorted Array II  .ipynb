{
 "cells": [
  {
   "cell_type": "code",
   "execution_count": 2,
   "metadata": {
    "collapsed": true
   },
   "outputs": [],
   "source": [
    "def removeDuplicates(nums):\n",
    "        \"\"\"\n",
    "        :type nums: List[int]\n",
    "        :rtype: int\n",
    "        \"\"\"\n",
    "        if nums is None or len(nums)==0:\n",
    "            return 0\n",
    "        if len(nums)==1:\n",
    "            return 1\n",
    "        if len(nums)==2:\n",
    "            return 2\n",
    "        i = 1\n",
    "        count = 0\n",
    "        curLen = len(nums)\n",
    "        while i < len(nums):\n",
    "            if nums[i]==nums[i-1]:\n",
    "                #start=i\n",
    "                i = i + 1\n",
    "                start = i\n",
    "                while i < len(nums) and nums[i]==nums[i-1]:\n",
    "                    count += 1\n",
    "                    i = i + 1\n",
    "                if i == len(nums):\n",
    "                    break\n",
    "                nums[start]=nums[i]\n",
    "            i  = i + 1\n",
    "        return curLen - count"
   ]
  },
  {
   "cell_type": "code",
   "execution_count": 7,
   "metadata": {
    "collapsed": false
   },
   "outputs": [
    {
     "data": {
      "text/plain": [
       "0"
      ]
     },
     "execution_count": 7,
     "metadata": {},
     "output_type": "execute_result"
    }
   ],
   "source": [
    "removeDuplicates([])"
   ]
  },
  {
   "cell_type": "code",
   "execution_count": 27,
   "metadata": {
    "collapsed": false
   },
   "outputs": [],
   "source": [
    "def removeDuplicates2(nums):\n",
    "        \"\"\"\n",
    "        :type nums: List[int]\n",
    "        :rtype: int\n",
    "        \"\"\"\n",
    "        if nums is None or len(nums)==0:\n",
    "            return 0\n",
    "        if len(nums)==1:\n",
    "            return 1\n",
    "        if len(nums)==2:\n",
    "            return 2\n",
    "        i = 1\n",
    "        count = 0\n",
    "        curLen = len(nums)\n",
    "        start = 1\n",
    "        while i < len(nums):\n",
    "            if nums[i]!=nums[i-1]: \n",
    "                nums[start]=nums[i]\n",
    "                i = i + 1\n",
    "                start = start + 1\n",
    "            else:\n",
    "                nums[start]=nums[i]\n",
    "                i = i + 1\n",
    "                start = start + 1\n",
    "                while i < len(nums) and nums[i]==nums[i-1]:\n",
    "                    i += 1\n",
    "                    count += 1\n",
    "                if i < len(nums):\n",
    "                    nums[start] = nums[i]\n",
    "                    i = i + 1\n",
    "                    start = start + 1\n",
    "                else:\n",
    "                    break\n",
    "        return curLen - count"
   ]
  },
  {
   "cell_type": "code",
   "execution_count": 28,
   "metadata": {
    "collapsed": false
   },
   "outputs": [
    {
     "data": {
      "text/plain": [
       "4"
      ]
     },
     "execution_count": 28,
     "metadata": {},
     "output_type": "execute_result"
    }
   ],
   "source": [
    "nums=[1,1,1,1,3,3]\n",
    "removeDuplicates2(nums)"
   ]
  },
  {
   "cell_type": "code",
   "execution_count": 29,
   "metadata": {
    "collapsed": false
   },
   "outputs": [
    {
     "data": {
      "text/plain": [
       "[1, 1, 3, 3, 3, 3]"
      ]
     },
     "execution_count": 29,
     "metadata": {},
     "output_type": "execute_result"
    }
   ],
   "source": [
    "nums"
   ]
  },
  {
   "cell_type": "code",
   "execution_count": null,
   "metadata": {
    "collapsed": true
   },
   "outputs": [],
   "source": []
  }
 ],
 "metadata": {
  "anaconda-cloud": {},
  "kernelspec": {
   "display_name": "Python [conda root]",
   "language": "python",
   "name": "conda-root-py"
  },
  "language_info": {
   "codemirror_mode": {
    "name": "ipython",
    "version": 3
   },
   "file_extension": ".py",
   "mimetype": "text/x-python",
   "name": "python",
   "nbconvert_exporter": "python",
   "pygments_lexer": "ipython3",
   "version": "3.5.2"
  }
 },
 "nbformat": 4,
 "nbformat_minor": 2
}
