{
 "cells": [
  {
   "cell_type": "code",
   "execution_count": 62,
   "metadata": {
    "collapsed": false
   },
   "outputs": [],
   "source": [
    "#import\n",
    "def listSubsets(nums):\n",
    "    \"\"\"\n",
    "    nums: a list with distinct elements\n",
    "    \"\"\"\n",
    "    subsets=[[]]\n",
    "    nums.sort()\n",
    "    for i in range(len(nums)):\n",
    "        tempsets = []\n",
    "        for elem in subsets:\n",
    "            tempsets.append(elem+[nums[i]])\n",
    "        subsets.extend(tempsets)\n",
    "    return [list(elem_tuple) for elem_tuple in {tuple(elem) for elem in subsets}]"
   ]
  },
  {
   "cell_type": "code",
   "execution_count": 63,
   "metadata": {
    "collapsed": false
   },
   "outputs": [
    {
     "data": {
      "text/plain": [
       "[[1, 2],\n",
       " [2, 2, 2],\n",
       " [1, 3],\n",
       " [1],\n",
       " [1, 2, 2],\n",
       " [2],\n",
       " [3],\n",
       " [1, 2, 3],\n",
       " [1, 2, 2, 2, 3],\n",
       " [],\n",
       " [2, 3],\n",
       " [1, 2, 2, 2],\n",
       " [2, 2],\n",
       " [2, 2, 3],\n",
       " [2, 2, 2, 3],\n",
       " [1, 2, 2, 3]]"
      ]
     },
     "execution_count": 63,
     "metadata": {},
     "output_type": "execute_result"
    }
   ],
   "source": [
    "listSubsets([1,2,2,3,2])"
   ]
  },
  {
   "cell_type": "code",
   "execution_count": 50,
   "metadata": {
    "collapsed": true
   },
   "outputs": [],
   "source": [
    "def listSubsets2(nums):\n",
    "    \"\"\"\n",
    "    nums: contains duplicate elements\n",
    "    \"\"\"\n",
    "    subsets = [[]]\n",
    "    i = 0\n",
    "    nums.sort()\n",
    "    #print(nums)\n",
    "    while i < len(nums):\n",
    "        count = 1\n",
    "        while i+count < len(nums) and nums[i]==nums[i+count]:\n",
    "            count = count + 1\n",
    "        tempsets = []\n",
    "        for elem in subsets:\n",
    "            for j in range(count):\n",
    "                tempsets.append(elem+(j+1)*[nums[i]])\n",
    "        subsets.extend(tempsets)\n",
    "        i = i + count\n",
    "    return subsets"
   ]
  },
  {
   "cell_type": "code",
   "execution_count": 52,
   "metadata": {
    "collapsed": false
   },
   "outputs": [
    {
     "data": {
      "text/plain": [
       "[[],\n",
       " [1],\n",
       " [2],\n",
       " [2, 2],\n",
       " [1, 2],\n",
       " [1, 2, 2],\n",
       " [3],\n",
       " [1, 3],\n",
       " [2, 3],\n",
       " [2, 2, 3],\n",
       " [1, 2, 3],\n",
       " [1, 2, 2, 3]]"
      ]
     },
     "execution_count": 52,
     "metadata": {},
     "output_type": "execute_result"
    }
   ],
   "source": [
    "listSubsets2([1,2,2,3])"
   ]
  },
  {
   "cell_type": "code",
   "execution_count": 66,
   "metadata": {
    "collapsed": false
   },
   "outputs": [
    {
     "data": {
      "text/plain": [
       "0"
      ]
     },
     "execution_count": 66,
     "metadata": {},
     "output_type": "execute_result"
    }
   ],
   "source": [
    "1^0^1"
   ]
  },
  {
   "cell_type": "code",
   "execution_count": null,
   "metadata": {
    "collapsed": true
   },
   "outputs": [],
   "source": []
  }
 ],
 "metadata": {
  "anaconda-cloud": {},
  "kernelspec": {
   "display_name": "Python [conda root]",
   "language": "python",
   "name": "conda-root-py"
  },
  "language_info": {
   "codemirror_mode": {
    "name": "ipython",
    "version": 3
   },
   "file_extension": ".py",
   "mimetype": "text/x-python",
   "name": "python",
   "nbconvert_exporter": "python",
   "pygments_lexer": "ipython3",
   "version": "3.5.2"
  }
 },
 "nbformat": 4,
 "nbformat_minor": 2
}
