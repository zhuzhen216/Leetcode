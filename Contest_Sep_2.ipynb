{
 "cells": [
  {
   "cell_type": "code",
   "execution_count": 1,
   "metadata": {
    "collapsed": true
   },
   "outputs": [],
   "source": [
    "def findSecondMinimumValue(root):\n",
    "        \"\"\"\n",
    "        :type root: TreeNode\n",
    "        :rtype: int\n",
    "        \"\"\"\n",
    "        # bfs\n",
    "        if not root:\n",
    "            return -1\n",
    "        if not root.left or not root.right:\n",
    "            return -1\n",
    "        #isSame = True\n",
    "        stack = [root]\n",
    "        #pre = []\n",
    "        #first_val = root.val\n",
    "        ret = [root.val,root.val]\n",
    "        while stack:\n",
    "            #cur = []\n",
    "            #cur_length = len(stack)\n",
    "            #for i in range(cur_length):\n",
    "            cur_node=stack.pop(0)\n",
    "            #if cur_node.val != first_val:\n",
    "            #    isSame = False\n",
    "            if cur_node.val < ret[0]:\n",
    "                ret[1]=ret[0]\n",
    "                ret[0]=cur_node.val\n",
    "            elif cur_node.val>ret[0] and cur_node.val < ret[1]:\n",
    "                ret[1]=cur_node.val\n",
    "            if cur_node.left:\n",
    "                stack.append(cur_node.left)\n",
    "            if cur_node.right:\n",
    "                stack.append(cur_node.right)\n",
    "        if ret[0]==ret[1]:\n",
    "            return -1\n",
    "        else:\n",
    "            return ret[1]"
   ]
  },
  {
   "cell_type": "code",
   "execution_count": 2,
   "metadata": {
    "collapsed": false
   },
   "outputs": [
    {
     "data": {
      "text/plain": [
       "(1, 2, 3, 4)"
      ]
     },
     "execution_count": 2,
     "metadata": {},
     "output_type": "execute_result"
    }
   ],
   "source": [
    "tuple([1,2,3,4])"
   ]
  },
  {
   "cell_type": "code",
   "execution_count": 3,
   "metadata": {
    "collapsed": false
   },
   "outputs": [
    {
     "data": {
      "text/plain": [
       "1"
      ]
     },
     "execution_count": 3,
     "metadata": {},
     "output_type": "execute_result"
    }
   ],
   "source": [
    "0^1"
   ]
  },
  {
   "cell_type": "code",
   "execution_count": 4,
   "metadata": {
    "collapsed": false
   },
   "outputs": [
    {
     "data": {
      "text/plain": [
       "1"
      ]
     },
     "execution_count": 4,
     "metadata": {},
     "output_type": "execute_result"
    }
   ],
   "source": [
    "1^0"
   ]
  },
  {
   "cell_type": "code",
   "execution_count": 5,
   "metadata": {
    "collapsed": false
   },
   "outputs": [
    {
     "data": {
      "text/plain": [
       "0"
      ]
     },
     "execution_count": 5,
     "metadata": {},
     "output_type": "execute_result"
    }
   ],
   "source": [
    "1^1"
   ]
  },
  {
   "cell_type": "code",
   "execution_count": 6,
   "metadata": {
    "collapsed": true
   },
   "outputs": [],
   "source": [
    "dp = set()"
   ]
  },
  {
   "cell_type": "code",
   "execution_count": 7,
   "metadata": {
    "collapsed": true
   },
   "outputs": [],
   "source": [
    "dp.add(1)"
   ]
  },
  {
   "cell_type": "code",
   "execution_count": 9,
   "metadata": {
    "collapsed": false
   },
   "outputs": [],
   "source": [
    "temp = set()"
   ]
  },
  {
   "cell_type": "code",
   "execution_count": 10,
   "metadata": {
    "collapsed": true
   },
   "outputs": [],
   "source": [
    "temp.add(2)"
   ]
  },
  {
   "cell_type": "code",
   "execution_count": 11,
   "metadata": {
    "collapsed": true
   },
   "outputs": [],
   "source": [
    "dp = temp"
   ]
  },
  {
   "cell_type": "code",
   "execution_count": 12,
   "metadata": {
    "collapsed": true
   },
   "outputs": [],
   "source": [
    "temp = set()"
   ]
  },
  {
   "cell_type": "code",
   "execution_count": 13,
   "metadata": {
    "collapsed": false
   },
   "outputs": [
    {
     "data": {
      "text/plain": [
       "{2}"
      ]
     },
     "execution_count": 13,
     "metadata": {},
     "output_type": "execute_result"
    }
   ],
   "source": [
    "dp"
   ]
  },
  {
   "cell_type": "code",
   "execution_count": 15,
   "metadata": {
    "collapsed": true
   },
   "outputs": [],
   "source": [
    "def flipLights(n, m):\n",
    "        \"\"\"\n",
    "        :type n: int\n",
    "        :type m: int\n",
    "        :rtype: int\n",
    "        \"\"\"\n",
    "        def helper(status,option):\n",
    "            # option could be 0,1,2,3\n",
    "            ret = []\n",
    "            if option == 0:\n",
    "                for bulb in status:\n",
    "                    ret.append(bulb^1)\n",
    "            elif option == 1:\n",
    "                for i,bulb in enumerate(status):\n",
    "                    if (i+1)%2==0:\n",
    "                        ret.append(bulb^1)\n",
    "                    else:\n",
    "                        ret.append(bulb)\n",
    "            elif option==2:\n",
    "                for i,bulb in enumerate(status):\n",
    "                    if i%2==0:\n",
    "                        ret.append(bulb^1)\n",
    "                    else:\n",
    "                        ret.append(bulb)\n",
    "            else:\n",
    "                for i,bulb in enumerate(status):\n",
    "                    if (i+1)%3==1:\n",
    "                        ret.append(bulb^1)\n",
    "                    else:\n",
    "                        ret.append(bulb)\n",
    "            return tuple(ret)\n",
    "        dp = set()\n",
    "        initial = tuple([1 for _ in range(n)])\n",
    "        \n",
    "        dp.add(initial)\n",
    "        for i in range(m):\n",
    "            cur = set()\n",
    "            for elem in dp:\n",
    "                for option in [0,1,2,3]:\n",
    "                    cur.add(helper(elem,option))\n",
    "            dp = cur\n",
    "        return len(dp)"
   ]
  },
  {
   "cell_type": "code",
   "execution_count": 39,
   "metadata": {
    "collapsed": false
   },
   "outputs": [],
   "source": [
    "#for i in range(1,10):\n",
    "#    for j in range(1,10):\n",
    "#        print(i,j,flipLights(i,j))"
   ]
  },
  {
   "cell_type": "code",
   "execution_count": 40,
   "metadata": {
    "collapsed": true
   },
   "outputs": [],
   "source": [
    "def checkPossibility(nums):\n",
    "        \"\"\"\n",
    "        :type nums: List[int]\n",
    "        :rtype: bool\n",
    "        \"\"\"\n",
    "        count = 0\n",
    "        if len(nums)==1:\n",
    "            return True\n",
    "        for i in range(len(nums)-1):\n",
    "            if nums[i]<= nums[i+1]:\n",
    "                continue\n",
    "            else:\n",
    "                count += 1\n",
    "                if count >= 2:\n",
    "                    return False\n",
    "                else:\n",
    "                    if i==0 or i==len(nums)-2 or nums[i]<=nums[i+2] or nums[i-1]<=nums[i+1]:\n",
    "                        continue\n",
    "                    else:\n",
    "                        return False\n",
    "        else:\n",
    "            return True"
   ]
  },
  {
   "cell_type": "code",
   "execution_count": 43,
   "metadata": {
    "collapsed": false
   },
   "outputs": [
    {
     "data": {
      "text/plain": [
       "False"
      ]
     },
     "execution_count": 43,
     "metadata": {},
     "output_type": "execute_result"
    }
   ],
   "source": [
    "checkPossibility([1,2,1,1,3,2])"
   ]
  },
  {
   "cell_type": "code",
   "execution_count": 83,
   "metadata": {
    "collapsed": true
   },
   "outputs": [],
   "source": [
    "def pathSum(nums):\n",
    "        \"\"\"\n",
    "        :type nums: List[int]\n",
    "        :rtype: int\n",
    "        \"\"\"\n",
    "        if len(nums)==0:\n",
    "            return 0\n",
    "        dict_tree = {}\n",
    "        for num in nums:\n",
    "            if num//100 not in dict_tree:\n",
    "                dict_tree[num//100]=[num]\n",
    "            else:\n",
    "                dict_tree[num//100].append(num)\n",
    "        #print(dict_tree)\n",
    "        dp=[[] for _ in range(nums[-1]//100)]\n",
    "        dp[0]=[dict_tree[1]]\n",
    "        for i in range(1,nums[-1]//100):\n",
    "            check = [0 for _ in range(len(dp[i-1]))]\n",
    "            for j,path in enumerate(dp[i-1]):\n",
    "                \n",
    "                if path[-1]//100!=i:\n",
    "                    dp[i].append(path)\n",
    "                    check[j]=1\n",
    "                    continue\n",
    "                for elem in dict_tree[i+1]:\n",
    "                    if path[-1]//10%10-1==(elem//10%10-1)//2:\n",
    "                        temp = list(path)\n",
    "                        temp.append(elem)\n",
    "                        dp[i].append(temp)\n",
    "                        check[j]=1\n",
    "            for k in range(len(check)):\n",
    "                if check[k]==0:\n",
    "                    dp[i].append(dp[i-1][k])\n",
    "        ret = 0\n",
    "        print(dp)\n",
    "        for path in dp[-1]:\n",
    "            #print(path)\n",
    "            for num in path:\n",
    "                ret += num%10\n",
    "        return ret"
   ]
  },
  {
   "cell_type": "code",
   "execution_count": 84,
   "metadata": {
    "collapsed": false
   },
   "outputs": [
    {
     "name": "stdout",
     "output_type": "stream",
     "text": [
      "[[[111]], [[111, 217], [111, 221]], [[111, 217, 315], [111, 221]], [[111, 217, 315, 415], [111, 221]]]\n"
     ]
    },
    {
     "data": {
      "text/plain": [
       "20"
      ]
     },
     "execution_count": 84,
     "metadata": {},
     "output_type": "execute_result"
    }
   ],
   "source": [
    "pathSum([111,217,221,315,415])"
   ]
  },
  {
   "cell_type": "code",
   "execution_count": 86,
   "metadata": {
    "collapsed": false
   },
   "outputs": [
    {
     "data": {
      "text/plain": [
       "2"
      ]
     },
     "execution_count": 86,
     "metadata": {},
     "output_type": "execute_result"
    }
   ],
   "source": [
    "len(set([1,2]))"
   ]
  },
  {
   "cell_type": "code",
   "execution_count": 87,
   "metadata": {
    "collapsed": false
   },
   "outputs": [
    {
     "data": {
      "text/plain": [
       "{2}"
      ]
     },
     "execution_count": 87,
     "metadata": {},
     "output_type": "execute_result"
    }
   ],
   "source": [
    "{1,2}-{1}"
   ]
  },
  {
   "cell_type": "code",
   "execution_count": 102,
   "metadata": {
    "collapsed": false
   },
   "outputs": [],
   "source": [
    "def find(n,k):\n",
    "    ret = [i+1 for i in range(n-k-1)]\n",
    "    i = n-k\n",
    "    j = n\n",
    "    while i <= j:\n",
    "        if i==j:\n",
    "            ret.append(i)\n",
    "        else:\n",
    "            ret.append(i)\n",
    "            ret.append(j)\n",
    "        i+=1\n",
    "        j-=1\n",
    "    return ret"
   ]
  },
  {
   "cell_type": "code",
   "execution_count": 105,
   "metadata": {
    "collapsed": false
   },
   "outputs": [
    {
     "data": {
      "text/plain": [
       "[1, 2, 3, 4, 5, 6, 7, 8]"
      ]
     },
     "execution_count": 105,
     "metadata": {},
     "output_type": "execute_result"
    }
   ],
   "source": [
    "find(8,1)"
   ]
  },
  {
   "cell_type": "code",
   "execution_count": 106,
   "metadata": {
    "collapsed": false
   },
   "outputs": [
    {
     "data": {
      "text/plain": [
       "'5'"
      ]
     },
     "execution_count": 106,
     "metadata": {},
     "output_type": "execute_result"
    }
   ],
   "source": [
    "\"\"+\"5\""
   ]
  },
  {
   "cell_type": "code",
   "execution_count": 111,
   "metadata": {
    "collapsed": true
   },
   "outputs": [],
   "source": [
    "ret_mat = [['' ]*4]*3"
   ]
  },
  {
   "cell_type": "code",
   "execution_count": 112,
   "metadata": {
    "collapsed": false
   },
   "outputs": [
    {
     "data": {
      "text/plain": [
       "[['', '', '', ''], ['', '', '', ''], ['', '', '', '']]"
      ]
     },
     "execution_count": 112,
     "metadata": {},
     "output_type": "execute_result"
    }
   ],
   "source": [
    "ret_mat"
   ]
  },
  {
   "cell_type": "code",
   "execution_count": null,
   "metadata": {
    "collapsed": true
   },
   "outputs": [],
   "source": []
  }
 ],
 "metadata": {
  "anaconda-cloud": {},
  "kernelspec": {
   "display_name": "Python [conda root]",
   "language": "python",
   "name": "conda-root-py"
  },
  "language_info": {
   "codemirror_mode": {
    "name": "ipython",
    "version": 3
   },
   "file_extension": ".py",
   "mimetype": "text/x-python",
   "name": "python",
   "nbconvert_exporter": "python",
   "pygments_lexer": "ipython3",
   "version": "3.5.2"
  }
 },
 "nbformat": 4,
 "nbformat_minor": 2
}
