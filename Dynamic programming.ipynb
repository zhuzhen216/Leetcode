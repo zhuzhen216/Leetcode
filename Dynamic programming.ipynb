{
 "cells": [
  {
   "cell_type": "markdown",
   "metadata": {},
   "source": [
    "### 1. Paint fence"
   ]
  },
  {
   "cell_type": "code",
   "execution_count": 5,
   "metadata": {
    "collapsed": true
   },
   "outputs": [],
   "source": [
    "def paintFence(n,k):\n",
    "    \"\"\"\n",
    "    always alternating color\n",
    "    \"\"\"\n",
    "    if n<=0:\n",
    "        return 0\n",
    "    if n==1:\n",
    "        return k\n",
    "    if k==1:\n",
    "        return 0\n",
    "    dp = [k]\n",
    "    for i in range(1,n):\n",
    "        dp.append(dp[-1]*(k-1))\n",
    "    return dp[-1]"
   ]
  },
  {
   "cell_type": "code",
   "execution_count": 4,
   "metadata": {
    "collapsed": false
   },
   "outputs": [
    {
     "data": {
      "text/plain": [
       "78732"
      ]
     },
     "execution_count": 4,
     "metadata": {},
     "output_type": "execute_result"
    }
   ],
   "source": [
    "paintFence(10,4)"
   ]
  },
  {
   "cell_type": "code",
   "execution_count": 7,
   "metadata": {
    "collapsed": false
   },
   "outputs": [],
   "source": [
    "def paintFence(n,k):\n",
    "    if k == 0:\n",
    "        return 0\n",
    "    if k==1:\n",
    "        if n>2 or n<=0:\n",
    "            return 0\n",
    "        else:\n",
    "            return 1\n",
    "    if n<=1:\n",
    "        return n*k\n",
    "    # diff color\n",
    "    dp_1=[k,k*(k-1)]\n",
    "    dp_2=[0,k]\n",
    "    for i in range(2,n):\n",
    "        temp_1 = dp_1[-1]*(k-1)+dp_2[-1]*(k-1)\n",
    "        temp_2 = dp_1[-1]\n",
    "        dp_1.append(temp_1)\n",
    "        dp_2.append(temp_2)\n",
    "    return dp_1[-1]+dp_2[-2]"
   ]
  },
  {
   "cell_type": "code",
   "execution_count": 8,
   "metadata": {
    "collapsed": false
   },
   "outputs": [
    {
     "data": {
      "text/plain": [
       "0"
      ]
     },
     "execution_count": 8,
     "metadata": {},
     "output_type": "execute_result"
    }
   ],
   "source": [
    "paintFence(3,1)"
   ]
  },
  {
   "cell_type": "markdown",
   "metadata": {},
   "source": [
    "### 2. House robber\n",
    "___"
   ]
  },
  {
   "cell_type": "code",
   "execution_count": 9,
   "metadata": {
    "collapsed": true
   },
   "outputs": [],
   "source": [
    "# to get the maximum amount of money\n",
    "def maxRob(array):\n",
    "    if len(array)<0:\n",
    "        return 0\n",
    "    if len(array)==1:\n",
    "        return array[0]\n",
    "    dp = [array[0]]\n",
    "    dp.append(max(array[0],array[1]))\n",
    "    for i in range(2,len(array)):\n",
    "        dp[i]=max(dp[i-1],dp[i-2]+array[i])\n",
    "    return dp[-1]"
   ]
  },
  {
   "cell_type": "markdown",
   "metadata": {},
   "source": [
    "### 3. Climbing stairs\n",
    "___"
   ]
  },
  {
   "cell_type": "code",
   "execution_count": 11,
   "metadata": {
    "collapsed": true
   },
   "outputs": [],
   "source": [
    "def climbWays(n):\n",
    "    if n==1:\n",
    "        return 1\n",
    "    if n==2:\n",
    "        return 2\n",
    "    prevPrev = 1\n",
    "    prev = 2\n",
    "    for i in range(2,n):\n",
    "        temp = prev + prevPrev\n",
    "        prevPrev = prev\n",
    "        prev = temp\n",
    "    return prev"
   ]
  },
  {
   "cell_type": "code",
   "execution_count": 13,
   "metadata": {
    "collapsed": false
   },
   "outputs": [
    {
     "data": {
      "text/plain": [
       "5"
      ]
     },
     "execution_count": 13,
     "metadata": {},
     "output_type": "execute_result"
    }
   ],
   "source": [
    "climbWays(4)"
   ]
  },
  {
   "cell_type": "markdown",
   "metadata": {},
   "source": [
    "### 4. Number of longest increasing subsequense\n",
    "___"
   ]
  },
  {
   "cell_type": "code",
   "execution_count": 14,
   "metadata": {
    "collapsed": true
   },
   "outputs": [],
   "source": [
    "def findLongest(array):\n",
    "    # [length,count]\n",
    "    dp = [[1,1] for _ in range(len(array))]\n",
    "    maxLength = 1\n",
    "    for i in range(1,len(array)):\n",
    "        for j in range(0,i):\n",
    "            if array[j]>=array[i]:\n",
    "                continue\n",
    "            if dp[j][0]+1>dp[i][0]:\n",
    "                dp[i][0]=dp[j][0]+1\n",
    "                dp[i][1]=dp[j][1]\n",
    "            elif dp[j][0]+1==dp[i][0]:\n",
    "                dp[i][1]+=dp[j][1]\n",
    "            maxLength = max(maxLength,dp[i][0])\n",
    "    ret = 0\n",
    "    for i in range(len(array)):\n",
    "        if dp[i][0]==maxLength:\n",
    "            ret+=dp[i][1]\n",
    "    return ret"
   ]
  },
  {
   "cell_type": "code",
   "execution_count": 17,
   "metadata": {
    "collapsed": false
   },
   "outputs": [
    {
     "data": {
      "text/plain": [
       "5"
      ]
     },
     "execution_count": 17,
     "metadata": {},
     "output_type": "execute_result"
    }
   ],
   "source": [
    "findLongest([2,2,2,2,2])"
   ]
  },
  {
   "cell_type": "markdown",
   "metadata": {},
   "source": [
    "### 5. Palindromic substrings\n",
    "___"
   ]
  },
  {
   "cell_type": "code",
   "execution_count": 20,
   "metadata": {
    "collapsed": false
   },
   "outputs": [],
   "source": [
    "def extendString(string,i,j):\n",
    "    count = 0\n",
    "    while i>=0 and j<len(string) and string[i]==string[j]:\n",
    "        count+=1\n",
    "        i-=1\n",
    "        j+=1\n",
    "    return count\n",
    "\n",
    "def findPalindrom(string):\n",
    "    if len(string)==0:\n",
    "        return 0\n",
    "    ret = 0\n",
    "    for i in range(len(string)):\n",
    "        ret+=extendString(string,i,i)\n",
    "        ret+=extendString(string,i,i+1)\n",
    "    return ret"
   ]
  },
  {
   "cell_type": "code",
   "execution_count": 22,
   "metadata": {
    "collapsed": false
   },
   "outputs": [
    {
     "data": {
      "text/plain": [
       "6"
      ]
     },
     "execution_count": 22,
     "metadata": {},
     "output_type": "execute_result"
    }
   ],
   "source": [
    "findPalindrom('aaa')"
   ]
  },
  {
   "cell_type": "markdown",
   "metadata": {},
   "source": [
    "### 6. Maximum length of pair chain\n",
    "___"
   ]
  },
  {
   "cell_type": "code",
   "execution_count": 23,
   "metadata": {
    "collapsed": true
   },
   "outputs": [],
   "source": [
    "array = [[1,2],[3,4]]"
   ]
  },
  {
   "cell_type": "code",
   "execution_count": 24,
   "metadata": {
    "collapsed": true
   },
   "outputs": [],
   "source": [
    "array.sort(key=lambda x:x[1])"
   ]
  },
  {
   "cell_type": "code",
   "execution_count": 25,
   "metadata": {
    "collapsed": false
   },
   "outputs": [
    {
     "data": {
      "text/plain": [
       "[[1, 2], [3, 4]]"
      ]
     },
     "execution_count": 25,
     "metadata": {},
     "output_type": "execute_result"
    }
   ],
   "source": [
    "array"
   ]
  },
  {
   "cell_type": "code",
   "execution_count": 26,
   "metadata": {
    "collapsed": true
   },
   "outputs": [],
   "source": [
    "def maxPairChain(array):\n",
    "    array.sort(key=lambda x:x[1])\n",
    "    dp = [1 for _ in range(len(array))]\n",
    "    ret = 1\n",
    "    for i in range(1,len(array)):\n",
    "        for j in range(i):\n",
    "            if array[i][0]==array[j][1]+1:\n",
    "                dp[i]=max(dp[i],dp[j]+1)\n",
    "        ret = max(dp[i],ret)\n",
    "    \n",
    "    return ret"
   ]
  },
  {
   "cell_type": "code",
   "execution_count": 29,
   "metadata": {
    "collapsed": false
   },
   "outputs": [
    {
     "data": {
      "text/plain": [
       "2"
      ]
     },
     "execution_count": 29,
     "metadata": {},
     "output_type": "execute_result"
    }
   ],
   "source": [
    "maxPairChain([[1,2],[1,3],[3,4]])"
   ]
  },
  {
   "cell_type": "code",
   "execution_count": 30,
   "metadata": {
    "collapsed": false
   },
   "outputs": [
    {
     "data": {
      "text/plain": [
       "100"
      ]
     },
     "execution_count": 30,
     "metadata": {},
     "output_type": "execute_result"
    }
   ],
   "source": [
    "10**2"
   ]
  },
  {
   "cell_type": "markdown",
   "metadata": {},
   "source": [
    "### 7. K inverse pairs array\n",
    "___"
   ]
  },
  {
   "cell_type": "code",
   "execution_count": 33,
   "metadata": {
    "collapsed": true
   },
   "outputs": [],
   "source": [
    "def inversePair(n,k):\n",
    "    \"\"\"\n",
    "    dynamic programming:\n",
    "    dp(n,k) = dp(n-1,k) + dp(n-1,k-1) +dp(n-1,k-2)+...+dp(n-1,k-n-1)\n",
    "    dp(n,k+1) = dp(n-1,k+1) + dp(n-1,k) + ... + dp(n-1,k-n)\n",
    "    dp(n,k+1) - dp(n,k) = dp(n-1,k+1) - dp(n-1,k-n-1)\n",
    "    dp(n,k+1) = dp(n,k) + dp(n-1,k+1) - dp(n-1,k-n-1)\n",
    "    \"\"\"\n",
    "    mod = 10**9+7\n",
    "    if k> n*(n-1)//2:\n",
    "        return 0\n",
    "    if k==0 or k==n*(n-1)//2:\n",
    "        return 1\n",
    "    dp = [[0 for _ in range(k+1)] for _ in range(n+1)]\n",
    "    dp[2][0]=1\n",
    "    dp[2][1]=1\n",
    "    for i in range(3,n+1):\n",
    "        dp[i][0]=1\n",
    "        for j in range(1,min(k,i*(i-1)//2)+1):\n",
    "            dp[i][j]=dp[i][j-1]+dp[i-1][j]\n",
    "            if j>=i+2:\n",
    "                dp[i][j]-=dp[i-1][j-i]\n",
    "            dp[i][j]=(dp[i][j]+mod)%mod\n",
    "    return dp[n][k]"
   ]
  },
  {
   "cell_type": "code",
   "execution_count": 43,
   "metadata": {
    "collapsed": false
   },
   "outputs": [
    {
     "data": {
      "text/plain": [
       "2"
      ]
     },
     "execution_count": 43,
     "metadata": {},
     "output_type": "execute_result"
    }
   ],
   "source": [
    "inversePair(3,2)"
   ]
  },
  {
   "cell_type": "markdown",
   "metadata": {},
   "source": [
    "### 8. Continuous subarray sum\n",
    "___"
   ]
  },
  {
   "cell_type": "code",
   "execution_count": 50,
   "metadata": {
    "collapsed": true
   },
   "outputs": [],
   "source": [
    "def subArraySum(array,k):\n",
    "    if len(array)==0:\n",
    "        return False\n",
    "    modDict = set()\n",
    "    sumArray = [array[0]]\n",
    "    #if array[0]%k==0:\n",
    "    #    return True\n",
    "    modDict.add(array[0]%k)\n",
    "    for i in range(1,len(array)):\n",
    "        sumArray.append(sumArray[-1]+array[i])\n",
    "        if sumArray[-1]%k == 0 or sumArray[-1]%k in modDict and (array[i]%k!=0 or array[i-1]%k==0):\n",
    "            return True\n",
    "        modDict.add(sumArray[-1]%k)\n",
    "    else:\n",
    "        return False"
   ]
  },
  {
   "cell_type": "code",
   "execution_count": 56,
   "metadata": {
    "collapsed": false
   },
   "outputs": [
    {
     "data": {
      "text/plain": [
       "False"
      ]
     },
     "execution_count": 56,
     "metadata": {},
     "output_type": "execute_result"
    }
   ],
   "source": [
    "subArraySum([7],7)"
   ]
  },
  {
   "cell_type": "markdown",
   "metadata": {},
   "source": [
    "### 9. Longest palindromic subsequence\n",
    "___"
   ]
  },
  {
   "cell_type": "code",
   "execution_count": 59,
   "metadata": {
    "collapsed": true
   },
   "outputs": [],
   "source": [
    "def findPalind(string):\n",
    "    \"\"\"\n",
    "    dp(i,j) = dp(i+1,j-1)+2 if string[i]==string[j] else max(dp(i,j-1),dp(i-1,j))\n",
    "    \"\"\"\n",
    "    dp = [[0 for _ in range(len(string))] for _ in range(len(string))]\n",
    "    for i in range(len(string)):\n",
    "        dp[i][i]=1\n",
    "    ret = 1\n",
    "    for i in reversed(range(len(string)-1)):\n",
    "        for j in range(i+1,len(string)):\n",
    "            if string[i]==string[j]:\n",
    "                dp[i][j]=dp[i+1][j-1]+2\n",
    "            else:\n",
    "                dp[i][j]=max(dp[i-1][j],dp[i][j-1])\n",
    "            \n",
    "            ret = max(ret,dp[i][j])\n",
    "    return ret\n",
    "    "
   ]
  },
  {
   "cell_type": "code",
   "execution_count": 64,
   "metadata": {
    "collapsed": false
   },
   "outputs": [
    {
     "data": {
      "text/plain": [
       "6"
      ]
     },
     "execution_count": 64,
     "metadata": {},
     "output_type": "execute_result"
    }
   ],
   "source": [
    "findPalind('aabccaaccc')"
   ]
  },
  {
   "cell_type": "markdown",
   "metadata": {},
   "source": [
    "### 10. Target sum\n",
    "___"
   ]
  },
  {
   "cell_type": "code",
   "execution_count": 65,
   "metadata": {
    "collapsed": true
   },
   "outputs": [],
   "source": [
    "def targetSum(array,target):\n",
    "    if len(array)==0:\n",
    "        return 0\n",
    "    curDict = {array[0]:1,-array[0]:1}\n",
    "    for i in range(1,len(array)):\n",
    "        temp = {}\n",
    "        for key in curDict:\n",
    "            if key-array[i] in temp:\n",
    "                temp[key-array[i]]+=curDict[key]\n",
    "            else:\n",
    "                temp[key-array[i]]=curDict[key]\n",
    "            \n",
    "            if key+array[i] in temp:\n",
    "                temp[key+array[i]]+=curDict[key]\n",
    "            else:\n",
    "                temp[key+array[i]]=curDict[key]\n",
    "        curDict = temp\n",
    "    if target in curDict:\n",
    "        return curDict[target]\n",
    "    else:\n",
    "        return 0"
   ]
  },
  {
   "cell_type": "code",
   "execution_count": 68,
   "metadata": {
    "collapsed": false
   },
   "outputs": [
    {
     "data": {
      "text/plain": [
       "3"
      ]
     },
     "execution_count": 68,
     "metadata": {},
     "output_type": "execute_result"
    }
   ],
   "source": [
    "targetSum([1,2,3,4,5],3)"
   ]
  },
  {
   "cell_type": "markdown",
   "metadata": {},
   "source": [
    "### 11. Predict the winner\n",
    "___"
   ]
  },
  {
   "cell_type": "code",
   "execution_count": 101,
   "metadata": {
    "collapsed": false
   },
   "outputs": [],
   "source": [
    "## should assume both players are smart enough\n",
    "def winOrNot(array):\n",
    "    def findMax(i,j,array):\n",
    "        if i==j:\n",
    "            dp[i][j]=array[i]\n",
    "            return array[i]\n",
    "        else:\n",
    "            if dp[i][j]!=-1:\n",
    "                return dp[i][j]\n",
    "            else:\n",
    "                dp[i][j]=max(array[i]-findMax(i+1,j,array),array[j]-findMax(i,j-1,array))\n",
    "            return dp[i][j]\n",
    "    dp = [[-1 for _ in range(len(array))] for _ in range(len(array))]\n",
    "    findMax(0,len(array)-1,array)\n",
    "    return dp[0][-1]>0"
   ]
  },
  {
   "cell_type": "code",
   "execution_count": 100,
   "metadata": {
    "collapsed": false
   },
   "outputs": [
    {
     "data": {
      "text/plain": [
       "True"
      ]
     },
     "execution_count": 100,
     "metadata": {},
     "output_type": "execute_result"
    }
   ],
   "source": [
    "winOrNot([1,5,2,3])"
   ]
  },
  {
   "cell_type": "markdown",
   "metadata": {},
   "source": [
    "### 12. Ones and Zeros\n",
    "___"
   ]
  },
  {
   "cell_type": "code",
   "execution_count": 112,
   "metadata": {
    "collapsed": true
   },
   "outputs": [],
   "source": [
    "def maxOneAndZero(array,m,n):\n",
    "    \"\"\"\n",
    "    array = ['10','110','1']\n",
    "    m: numbers of 0s available\n",
    "    n: numbers of 1s available\n",
    "    depth first search method\n",
    "    \"\"\"\n",
    "    # first convert the string to a tuple\n",
    "    countString = [(elem.count('0'),elem.count('1')) for elem in array]\n",
    "    countString.sort(key=lambda elem: elem[0])\n",
    "    maxRet = [0]\n",
    "    print(countString)\n",
    "    def findAvailable(start,count,left0,left1):\n",
    "        if start==len(countString) or countString[start][0]>left0 or countString[start][1]>left1:\n",
    "            maxRet[0] = max(maxRet[0],count)\n",
    "            return\n",
    "        for i in range(start+1,len(countString)+1):\n",
    "            findAvailable(i,count+1,left0-countString[start][0],left1-countString[start][1])\n",
    "        return\n",
    "    for i in range(len(array)):\n",
    "        findAvailable(i,0,m,n)\n",
    "    return maxRet[0]"
   ]
  },
  {
   "cell_type": "code",
   "execution_count": 111,
   "metadata": {
    "collapsed": false
   },
   "outputs": [
    {
     "name": "stdout",
     "output_type": "stream",
     "text": [
      "[(0, 1), (1, 1), (1, 0), (2, 4), (3, 1)]\n"
     ]
    },
    {
     "data": {
      "text/plain": [
       "4"
      ]
     },
     "execution_count": 111,
     "metadata": {},
     "output_type": "execute_result"
    }
   ],
   "source": [
    "maxOneAndZero(['01','0001','111001','1','0'],5,3)"
   ]
  },
  {
   "cell_type": "code",
   "execution_count": 117,
   "metadata": {
    "collapsed": true
   },
   "outputs": [],
   "source": [
    "## do dynamic programming\n",
    "def maxOneAndZero2(array,m,n):\n",
    "    countString = [(elem.count('0'),elem.count('1')) for elem in array]\n",
    "    countString.sort(key=lambda elem: elem[0])\n",
    "    dp = [[0 for _ in range(n+1)] for _ in range(m+1)]\n",
    "    for count in countString:\n",
    "        i = m\n",
    "        while i>=count[0]:\n",
    "            j = n\n",
    "            while j>=count[1]:\n",
    "                dp[i][j]=max(1+dp[i-count[0]][j-count[1]],dp[i][j])\n",
    "                j-=1\n",
    "            i-=1\n",
    "    return dp[m][n]"
   ]
  },
  {
   "cell_type": "code",
   "execution_count": 118,
   "metadata": {
    "collapsed": false
   },
   "outputs": [
    {
     "data": {
      "text/plain": [
       "4"
      ]
     },
     "execution_count": 118,
     "metadata": {},
     "output_type": "execute_result"
    }
   ],
   "source": [
    "maxOneAndZero2(['01','0001','111001','1','0'],5,3)"
   ]
  },
  {
   "cell_type": "code",
   "execution_count": null,
   "metadata": {
    "collapsed": true
   },
   "outputs": [],
   "source": []
  }
 ],
 "metadata": {
  "anaconda-cloud": {},
  "kernelspec": {
   "display_name": "Python [conda root]",
   "language": "python",
   "name": "conda-root-py"
  },
  "language_info": {
   "codemirror_mode": {
    "name": "ipython",
    "version": 3
   },
   "file_extension": ".py",
   "mimetype": "text/x-python",
   "name": "python",
   "nbconvert_exporter": "python",
   "pygments_lexer": "ipython3",
   "version": "3.5.2"
  }
 },
 "nbformat": 4,
 "nbformat_minor": 2
}
