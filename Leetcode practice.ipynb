{
 "cells": [
  {
   "cell_type": "code",
   "execution_count": 1,
   "metadata": {
    "collapsed": true
   },
   "outputs": [],
   "source": [
    "nums=[1,2,3,4]"
   ]
  },
  {
   "cell_type": "code",
   "execution_count": 5,
   "metadata": {
    "collapsed": false
   },
   "outputs": [],
   "source": [
    "nums_2=list(map(lambda x:x**2,nums))"
   ]
  },
  {
   "cell_type": "code",
   "execution_count": 11,
   "metadata": {
    "collapsed": false
   },
   "outputs": [
    {
     "data": {
      "text/plain": [
       "{1: 1, 2: 4, 3: 9, 4: 16}"
      ]
     },
     "execution_count": 11,
     "metadata": {},
     "output_type": "execute_result"
    }
   ],
   "source": [
    "dict(zip(nums,nums_2))"
   ]
  },
  {
   "cell_type": "code",
   "execution_count": 13,
   "metadata": {
    "collapsed": true
   },
   "outputs": [],
   "source": [
    "s='abb'"
   ]
  },
  {
   "cell_type": "code",
   "execution_count": 14,
   "metadata": {
    "collapsed": false
   },
   "outputs": [
    {
     "data": {
      "text/plain": [
       "0"
      ]
     },
     "execution_count": 14,
     "metadata": {},
     "output_type": "execute_result"
    }
   ],
   "source": [
    "s.index('a')"
   ]
  },
  {
   "cell_type": "markdown",
   "metadata": {},
   "source": [
    "### How to find the kth largest number in two sorted arrays:\n",
    "___"
   ]
  },
  {
   "cell_type": "code",
   "execution_count": 1,
   "metadata": {
    "collapsed": true
   },
   "outputs": [],
   "source": [
    "def findKth(nums1,nums2,k):\n",
    "    # nums1 and nums2 are sorted arrays\n",
    "    if k > len(nums1)+len(nums2):\n",
    "        return None\n",
    "    if len(nums1)==0:\n",
    "        return nums2[k]\n",
    "    if len(nums2)==0:\n",
    "        return nums1[k]\n",
    "    ia, ib = len(nums1)//2, len(nums2)//2\n",
    "    num_a, num_b = nums1[ia], nums2[ib]\n",
    "    if ia + ib < k:\n",
    "        if num_a > num_b:\n",
    "            return findKth(nums1,nums2[ib+1:],k-ib-1)\n",
    "        else:\n",
    "            return findKth(nums1[ia+1:],nums2,k-ia-1)\n",
    "    else:\n",
    "        if num_a > num_b:\n",
    "            return findKth(nums1[:ia],nums2,k)\n",
    "        else:\n",
    "            return findKth(nums1,nums2[:ib],k)\n",
    "def findMed(nums1,nums2):\n",
    "    half = (len(nums1)+len(nums2))//2\n",
    "    if (len(nums1)+len(nums2))%2 == 0:\n",
    "        return (findKth(nums1,nums2,half)+findKth(nums1,nums2,half-1))/2\n",
    "    else:\n",
    "        return findKth(nums1,nums2,half)/1.0"
   ]
  },
  {
   "cell_type": "code",
   "execution_count": 2,
   "metadata": {
    "collapsed": false
   },
   "outputs": [
    {
     "data": {
      "text/plain": [
       "2.5"
      ]
     },
     "execution_count": 2,
     "metadata": {},
     "output_type": "execute_result"
    }
   ],
   "source": [
    "nums1 = [1,2]\n",
    "nums2 = [3,4]\n",
    "findMed(nums1,nums2)"
   ]
  },
  {
   "cell_type": "code",
   "execution_count": 2,
   "metadata": {
    "collapsed": true
   },
   "outputs": [],
   "source": [
    "def findKth1(nums1,nums2,k):\n",
    "    # nums1 and nums2 are sorted arrays\n",
    "    if k > len(nums1)+len(nums2):\n",
    "        return None\n",
    "    if len(nums1)==0:\n",
    "        return nums2[k]\n",
    "    if len(nums2)==0:\n",
    "        return nums1[k]\n",
    "    ia, ib = len(nums1)//2, len(nums2)//2\n",
    "    num_a, num_b = nums1[ia], nums2[ib]\n",
    "    if ia + ib < k:\n",
    "        if num_a > num_b:\n",
    "            return findKth1(nums1,nums2[ib+1:],k-ib-1)\n",
    "        else:\n",
    "            return findKth1(nums1[ia+1:],nums2,k-ia-1)\n",
    "    else:\n",
    "        if num_a > num_b:\n",
    "            return findKth1(nums1[:ia],nums2,k)\n",
    "        else:\n",
    "            return findKth1(nums1,nums2[:ib],k)\n",
    "def findMed1(nums1,nums2):\n",
    "    half = (len(nums1)+len(nums2))//2\n",
    "    if (len(nums1)+len(nums2))%2 == 0:\n",
    "        return (findKth1(nums1,nums2,half)+findKth1(nums1,nums2,half-1))/2\n",
    "    else:\n",
    "        return findKth1(nums1,nums2,half)/1.0"
   ]
  },
  {
   "cell_type": "code",
   "execution_count": 3,
   "metadata": {
    "collapsed": false
   },
   "outputs": [
    {
     "data": {
      "text/plain": [
       "4.0"
      ]
     },
     "execution_count": 3,
     "metadata": {},
     "output_type": "execute_result"
    }
   ],
   "source": [
    "nums1 = [1,2,4,5,6,7]\n",
    "nums2 = [3,4]\n",
    "findMed1(nums1,nums2)"
   ]
  },
  {
   "cell_type": "code",
   "execution_count": 15,
   "metadata": {
    "collapsed": false
   },
   "outputs": [],
   "source": [
    "def findMed_1list(num1):\n",
    "    if len(num1) == 0:\n",
    "        return None\n",
    "    elif len(num1) == 1:\n",
    "        return num1[0]\n",
    "    else:\n",
    "        return sorted(num1)[len(num1)//2] if len(num1)%2!=0 else (sorted(num1)[len(num1)//2]+sorted(num1)[len(num1)//2-1])/2"
   ]
  },
  {
   "cell_type": "code",
   "execution_count": 16,
   "metadata": {
    "collapsed": false
   },
   "outputs": [],
   "source": [
    "nums1=[1,2]\n",
    "nums2=[3,4]\n",
    "nums1.sort()"
   ]
  },
  {
   "cell_type": "code",
   "execution_count": 17,
   "metadata": {
    "collapsed": false
   },
   "outputs": [
    {
     "data": {
      "text/plain": [
       "1.5"
      ]
     },
     "execution_count": 17,
     "metadata": {},
     "output_type": "execute_result"
    }
   ],
   "source": [
    "findMed_1list(nums1)"
   ]
  },
  {
   "cell_type": "markdown",
   "metadata": {},
   "source": [
    "___\n",
    "### Zig-Zag conversion\n",
    "___"
   ]
  },
  {
   "cell_type": "code",
   "execution_count": 21,
   "metadata": {
    "collapsed": true
   },
   "outputs": [],
   "source": [
    "def convert_zigzag(s,nRow):\n",
    "    if nRow==1:\n",
    "        return s\n",
    "    result = ''\n",
    "    block = 2*nRow - 2\n",
    "    i = 0\n",
    "    while i < nRow:\n",
    "        j = i\n",
    "        while j < len(s):\n",
    "            result = result + s[j]\n",
    "            secondJ = j - i + block - i\n",
    "            if i!=0 and i!=nRow-1 and secondJ < len(s):\n",
    "                result = result + s[secondJ]\n",
    "            j = j + block\n",
    "        i = i + 1\n",
    "    return result"
   ]
  },
  {
   "cell_type": "code",
   "execution_count": 22,
   "metadata": {
    "collapsed": false
   },
   "outputs": [
    {
     "data": {
      "text/plain": [
       "'PAHNAPLSIIGYIR'"
      ]
     },
     "execution_count": 22,
     "metadata": {},
     "output_type": "execute_result"
    }
   ],
   "source": [
    "convert_zigzag('PAYPALISHIRING',3)"
   ]
  },
  {
   "cell_type": "code",
   "execution_count": 25,
   "metadata": {
    "collapsed": true
   },
   "outputs": [],
   "source": [
    "def convert_zz(s,nRow):\n",
    "    if nRow == 1:\n",
    "        return s\n",
    "    block = 2*nRow - 2\n",
    "    i = 0\n",
    "    result = ''\n",
    "    while i < nRow:\n",
    "        j = i\n",
    "        while j < len(s):\n",
    "            result = result + s[j]\n",
    "            secondJ = j - i + block - i\n",
    "            if i!=0 and i!=nRow-1 and secondJ < len(s):\n",
    "                result = result + s[secondJ]\n",
    "            j = j + block\n",
    "        i = i + 1\n",
    "    return result"
   ]
  },
  {
   "cell_type": "code",
   "execution_count": 26,
   "metadata": {
    "collapsed": false
   },
   "outputs": [
    {
     "data": {
      "text/plain": [
       "'PAHNAPLSIIGYIR'"
      ]
     },
     "execution_count": 26,
     "metadata": {},
     "output_type": "execute_result"
    }
   ],
   "source": [
    "convert_zz('PAYPALISHIRING',3)"
   ]
  },
  {
   "cell_type": "code",
   "execution_count": null,
   "metadata": {
    "collapsed": true
   },
   "outputs": [],
   "source": []
  }
 ],
 "metadata": {
  "anaconda-cloud": {},
  "kernelspec": {
   "display_name": "Python [conda root]",
   "language": "python",
   "name": "conda-root-py"
  },
  "language_info": {
   "codemirror_mode": {
    "name": "ipython",
    "version": 3
   },
   "file_extension": ".py",
   "mimetype": "text/x-python",
   "name": "python",
   "nbconvert_exporter": "python",
   "pygments_lexer": "ipython3",
   "version": "3.5.2"
  }
 },
 "nbformat": 4,
 "nbformat_minor": 2
}
