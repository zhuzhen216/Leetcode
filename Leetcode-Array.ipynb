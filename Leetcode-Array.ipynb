{
 "cells": [
  {
   "cell_type": "markdown",
   "metadata": {},
   "source": [
    "### 1. Longest continuous increasing subsequence\n",
    "___"
   ]
  },
  {
   "cell_type": "code",
   "execution_count": 1,
   "metadata": {
    "collapsed": true
   },
   "outputs": [],
   "source": [
    "def findCont(array):\n",
    "    \"\"\"\n",
    "    t: O(N)\n",
    "    space: constant\n",
    "    \"\"\"\n",
    "    full_length = len(array)\n",
    "    if full_length==0:\n",
    "        return 0\n",
    "    elif full_length==1:\n",
    "        return 1\n",
    "    else:\n",
    "        max_length = 1\n",
    "        start = 0\n",
    "\n",
    "        while start < full_length:\n",
    "            end = start + 1\n",
    "            while end<full_length and array[end]>array[end-1]:\n",
    "                end+=1\n",
    "            max_length = max(max_length,end-start)\n",
    "            start = end\n",
    "        return max_length"
   ]
  },
  {
   "cell_type": "code",
   "execution_count": 3,
   "metadata": {
    "collapsed": false
   },
   "outputs": [
    {
     "data": {
      "text/plain": [
       "5"
      ]
     },
     "execution_count": 3,
     "metadata": {},
     "output_type": "execute_result"
    }
   ],
   "source": [
    "findCont([1,2,3,4,1,2,3,4,5])"
   ]
  },
  {
   "cell_type": "markdown",
   "metadata": {},
   "source": [
    "### 2. Non-decreasing array (by modifying at most 1 element)\n",
    "___"
   ]
  },
  {
   "cell_type": "code",
   "execution_count": 5,
   "metadata": {
    "collapsed": false
   },
   "outputs": [],
   "source": [
    "def checkValid(array):\n",
    "    fullLen = len(array)\n",
    "    if fullLen == 0 or fullLen == 1 or fullLen==2:\n",
    "        return True\n",
    "    else:\n",
    "        count = 0\n",
    "        index = 1\n",
    "        while index < fullLen:\n",
    "            if array[index]>=array[index-1]:\n",
    "                index+=1\n",
    "                continue\n",
    "            count +=1\n",
    "            if count>=2:\n",
    "                return False\n",
    "            if index != 1 and array[index]<array[index-2]:\n",
    "                array[index] = array[index-1]\n",
    "            else:\n",
    "                array[index-1] = array[index]\n",
    "            index+=1\n",
    "        return True"
   ]
  },
  {
   "cell_type": "code",
   "execution_count": 8,
   "metadata": {
    "collapsed": false
   },
   "outputs": [
    {
     "data": {
      "text/plain": [
       "False"
      ]
     },
     "execution_count": 8,
     "metadata": {},
     "output_type": "execute_result"
    }
   ],
   "source": [
    "checkValid([1,0,-1,3,4,5])"
   ]
  },
  {
   "cell_type": "markdown",
   "metadata": {},
   "source": [
    "### 3. Maximum average subarray I\n",
    "___"
   ]
  },
  {
   "cell_type": "code",
   "execution_count": 9,
   "metadata": {
    "collapsed": true
   },
   "outputs": [],
   "source": [
    "def maxAvg(array,k):\n",
    "    \"\"\"\n",
    "    find the maximum subarray with length k\n",
    "    \"\"\"\n",
    "    fullLen = len(array)\n",
    "    if k > fullLen:\n",
    "        raise ValueError('k is larger than the range of the array')\n",
    "    if k <=0 :\n",
    "        raise ValueError('k is smaller or equal to zero')\n",
    "    sum_k = 0\n",
    "    for i in range(k):\n",
    "        sum_k += array[i]\n",
    "    for i in range(k,fullLen):\n",
    "        sum_k = max(sum_k,sum_k+array[i]-array[i-k])\n",
    "    return sum_k*1.0/k"
   ]
  },
  {
   "cell_type": "code",
   "execution_count": 10,
   "metadata": {
    "collapsed": false
   },
   "outputs": [
    {
     "data": {
      "text/plain": [
       "4.0"
      ]
     },
     "execution_count": 10,
     "metadata": {},
     "output_type": "execute_result"
    }
   ],
   "source": [
    "maxAvg([1,1,4,3,5],2)"
   ]
  },
  {
   "cell_type": "markdown",
   "metadata": {},
   "source": [
    "### 4. Maxmimum product of three numbers\n",
    "___"
   ]
  },
  {
   "cell_type": "code",
   "execution_count": 11,
   "metadata": {
    "collapsed": true
   },
   "outputs": [],
   "source": [
    "def max3Prod(array):\n",
    "    fullLen = len(array)\n",
    "    if fullLen < 3:\n",
    "        raise ValueError('length of array smaller than 3')\n",
    "    return max(array[0]*array[1]*array[-1],array[-1]*array[-2]*array[-3])"
   ]
  },
  {
   "cell_type": "markdown",
   "metadata": {},
   "source": [
    "### 5. Can place flowers\n",
    "___"
   ]
  },
  {
   "cell_type": "code",
   "execution_count": 15,
   "metadata": {
    "collapsed": false
   },
   "outputs": [],
   "source": [
    "# greedy\n",
    "def canPlaceFlowers(array):\n",
    "    \"\"\"\n",
    "    return how many flowers can be placed\n",
    "    t: o(n)\n",
    "    space: 1\n",
    "    \"\"\"\n",
    "    count = 0\n",
    "    fullLen = len(array)\n",
    "    for i in range(fullLen):\n",
    "        if array[i]==1:\n",
    "            continue\n",
    "        if (i==0 or array[i-1]==0) and (i==fullLen-1 or array[i+1]==0):\n",
    "            array[i]=1\n",
    "            count+=1\n",
    "    return count"
   ]
  },
  {
   "cell_type": "code",
   "execution_count": 18,
   "metadata": {
    "collapsed": false
   },
   "outputs": [
    {
     "data": {
      "text/plain": [
       "1"
      ]
     },
     "execution_count": 18,
     "metadata": {},
     "output_type": "execute_result"
    }
   ],
   "source": [
    "canPlaceFlowers([0,1,0,0])"
   ]
  },
  {
   "cell_type": "markdown",
   "metadata": {},
   "source": [
    "### 6. Shortest unsorted continuous subarray\n",
    "___"
   ]
  },
  {
   "cell_type": "code",
   "execution_count": 20,
   "metadata": {
    "collapsed": false
   },
   "outputs": [],
   "source": [
    "def findShortest(array):\n",
    "    fullLen = len(array)\n",
    "    if fullLen == 0 or fullLen==1:\n",
    "        return 0\n",
    "    start = 0\n",
    "    end = fullLen - 1\n",
    "    while start < fullLen-1:\n",
    "        if array[start]<=array[start+1]:\n",
    "            start+=1\n",
    "        else:\n",
    "            break\n",
    "    if start == fullLen-1:\n",
    "        return 0\n",
    "    while end > 0:\n",
    "        if array[end]>=array[end-1]:\n",
    "            end-=1\n",
    "        else:\n",
    "            break\n",
    "    #if end == 0:\n",
    "    #    return 0\n",
    "    newStart = start\n",
    "    newEnd = end\n",
    "    maxVal = array[end-1]\n",
    "    minVal = array[start+1]\n",
    "    for i in range(start,end+1):\n",
    "        maxVal = max(maxVal,array[i])\n",
    "        minVal = min(minVal,array[i])\n",
    "    while start >= 0:\n",
    "        if array[start]>=minVal:\n",
    "            start-=1\n",
    "        else:\n",
    "            break\n",
    "    while end < fullLen:\n",
    "        if array[end]<=maxVal:\n",
    "            end+=1\n",
    "        else:\n",
    "            break\n",
    "    return end-start-1"
   ]
  },
  {
   "cell_type": "code",
   "execution_count": 22,
   "metadata": {
    "collapsed": false
   },
   "outputs": [
    {
     "data": {
      "text/plain": [
       "5"
      ]
     },
     "execution_count": 22,
     "metadata": {},
     "output_type": "execute_result"
    }
   ],
   "source": [
    "findShortest([4,4,6,5,3,7,8])"
   ]
  },
  {
   "cell_type": "markdown",
   "metadata": {},
   "source": [
    "### 7. Reshape matrix\n",
    "___"
   ]
  },
  {
   "cell_type": "code",
   "execution_count": 27,
   "metadata": {
    "collapsed": false
   },
   "outputs": [],
   "source": [
    "def reshape(matrix,k,l):\n",
    "    \"\"\"\n",
    "    \"\"\"\n",
    "    # some corner case\n",
    "    if len(matrix)==0:\n",
    "        return None\n",
    "    m = len(matrix)\n",
    "    n = len(matrix[0])\n",
    "    if k*l!=m*n:\n",
    "        raise ValueError('Dimension does not match!')\n",
    "    ret = [[0 for _ in range(l)] for _ in range(k)]\n",
    "    for i in range(m):\n",
    "        for j in range(n):\n",
    "            ret[(i*n+j)//l][(i*n+j)%l]=matrix[i][j]\n",
    "    return ret"
   ]
  },
  {
   "cell_type": "code",
   "execution_count": 28,
   "metadata": {
    "collapsed": false
   },
   "outputs": [
    {
     "data": {
      "text/plain": [
       "[[2, 3], [4, 2], [3, 4]]"
      ]
     },
     "execution_count": 28,
     "metadata": {},
     "output_type": "execute_result"
    }
   ],
   "source": [
    "reshape([[2,3,4],[2,3,4]],3,2)"
   ]
  },
  {
   "cell_type": "markdown",
   "metadata": {},
   "source": [
    "### 8. Array partition I\n",
    "___"
   ]
  },
  {
   "cell_type": "code",
   "execution_count": 29,
   "metadata": {
    "collapsed": true
   },
   "outputs": [],
   "source": [
    "# 2n integer, group them to n pairs and make largest of a1[0]+a2[0]+...\n",
    "def partition(array):\n",
    "    array.sort()\n",
    "    ret = 0\n",
    "    for i in range(0,len(array),2):\n",
    "        ret+=array[i]\n",
    "    return ret"
   ]
  },
  {
   "cell_type": "code",
   "execution_count": 30,
   "metadata": {
    "collapsed": false
   },
   "outputs": [
    {
     "data": {
      "text/plain": [
       "4"
      ]
     },
     "execution_count": 30,
     "metadata": {},
     "output_type": "execute_result"
    }
   ],
   "source": [
    "partition([1,2,3,4])"
   ]
  },
  {
   "cell_type": "markdown",
   "metadata": {},
   "source": [
    "### 9. k-diff pairs in array\n",
    "___"
   ]
  },
  {
   "cell_type": "code",
   "execution_count": 33,
   "metadata": {
    "collapsed": false
   },
   "outputs": [],
   "source": [
    "import collections\n",
    "def countKDiff(array,k):\n",
    "    valDic = collections.Counter(array)\n",
    "    count = 0\n",
    "    if k == 0:\n",
    "        for key in valDic:\n",
    "            if valDic[key]>1:\n",
    "                count+=1\n",
    "    else:\n",
    "        for key in valDic:\n",
    "            if key+k in valDic:\n",
    "                count+=1\n",
    "    return count"
   ]
  },
  {
   "cell_type": "code",
   "execution_count": 34,
   "metadata": {
    "collapsed": false
   },
   "outputs": [
    {
     "data": {
      "text/plain": [
       "4"
      ]
     },
     "execution_count": 34,
     "metadata": {},
     "output_type": "execute_result"
    }
   ],
   "source": [
    "countKDiff([1,2,3,4,5],1)"
   ]
  },
  {
   "cell_type": "markdown",
   "metadata": {},
   "source": [
    "### 10. Max consecutive ones\n",
    "___"
   ]
  },
  {
   "cell_type": "code",
   "execution_count": 35,
   "metadata": {
    "collapsed": true
   },
   "outputs": [],
   "source": [
    "def countConOnes(array):\n",
    "    ret = 0\n",
    "    num = 0\n",
    "    for i in range(len(array)):\n",
    "        if array[i]==1:\n",
    "            num+=1\n",
    "            ret = max(ret,num)\n",
    "        else:\n",
    "            num=0\n",
    "    return ret"
   ]
  },
  {
   "cell_type": "code",
   "execution_count": 36,
   "metadata": {
    "collapsed": false
   },
   "outputs": [
    {
     "data": {
      "text/plain": [
       "4"
      ]
     },
     "execution_count": 36,
     "metadata": {},
     "output_type": "execute_result"
    }
   ],
   "source": [
    "countConOnes([1,1,1,1])"
   ]
  },
  {
   "cell_type": "markdown",
   "metadata": {},
   "source": [
    "### 11. Find all numbers disappeared in an array\n",
    "___"
   ]
  },
  {
   "cell_type": "code",
   "execution_count": 37,
   "metadata": {
    "collapsed": true
   },
   "outputs": [],
   "source": [
    "def findDisapper(array):\n",
    "    \"\"\"\n",
    "    two pass, no extra space\n",
    "    \"\"\"\n",
    "    fullLen = len(array)\n",
    "    for i in range(fullLen):\n",
    "        if array[abs(array[i])-1]>0:\n",
    "            array[abs(array[i])-1]*=-1\n",
    "    ret = []\n",
    "    for i in range(fullLen):\n",
    "        if array[i]>0:\n",
    "            ret.append(i+1)\n",
    "    return ret"
   ]
  },
  {
   "cell_type": "code",
   "execution_count": 38,
   "metadata": {
    "collapsed": false
   },
   "outputs": [
    {
     "data": {
      "text/plain": [
       "[3]"
      ]
     },
     "execution_count": 38,
     "metadata": {},
     "output_type": "execute_result"
    }
   ],
   "source": [
    "findDisapper([1,2,2])"
   ]
  },
  {
   "cell_type": "markdown",
   "metadata": {},
   "source": [
    "### 12. move zeros\n",
    "___"
   ]
  },
  {
   "cell_type": "code",
   "execution_count": 40,
   "metadata": {
    "collapsed": false
   },
   "outputs": [],
   "source": [
    "## move all zeros to the end, while maintaining the order of all the other elements\n",
    "## inplace\n",
    "def moveZeros(array):\n",
    "    fullLen = len(array)\n",
    "    i = 0\n",
    "    while i< fullLen and array[i]!=0:\n",
    "        i+=1\n",
    "    start = i\n",
    "    front = start+1\n",
    "    while front < fullLen:\n",
    "        if array[front]==0:\n",
    "            front+=1\n",
    "            continue\n",
    "        array[start],array[front]=array[front],array[start]\n",
    "        start += 1\n",
    "        front += 1\n",
    "    return array"
   ]
  },
  {
   "cell_type": "code",
   "execution_count": 43,
   "metadata": {
    "collapsed": false
   },
   "outputs": [
    {
     "data": {
      "text/plain": [
       "[2, 2, 3, 0, 0, 0]"
      ]
     },
     "execution_count": 43,
     "metadata": {},
     "output_type": "execute_result"
    }
   ],
   "source": [
    "moveZeros([0,0,2,0,2,3])"
   ]
  },
  {
   "cell_type": "markdown",
   "metadata": {},
   "source": [
    "### 13. Shortest word distance\n",
    "___"
   ]
  },
  {
   "cell_type": "code",
   "execution_count": 51,
   "metadata": {
    "collapsed": true
   },
   "outputs": [],
   "source": [
    "def shortestDis(words,word1,word2):\n",
    "    wordDict = {}\n",
    "    for i,word in enumerate(words):\n",
    "        if word in wordDict:\n",
    "            wordDict[word].append(i)\n",
    "        else:\n",
    "            wordDict[word]=[i]\n",
    "    if word1 not in wordDict or word2 not in wordDict:\n",
    "        return -1\n",
    "    minDist = len(words)\n",
    "    i = 0\n",
    "    j = 0\n",
    "    while i < len(wordDict[word1]) and j < len(wordDict[word2]):\n",
    "        # the condition should be careful\n",
    "        if wordDict[word1][i] < wordDict[word2][j]:\n",
    "            minDist = min(-wordDict[word1][i]+wordDict[word2][j],minDist)\n",
    "            i+=1\n",
    "        else:\n",
    "            minDist = min(wordDict[word1][i]-wordDict[word2][j],minDist)\n",
    "            j+=1\n",
    "    return minDist"
   ]
  },
  {
   "cell_type": "code",
   "execution_count": 50,
   "metadata": {
    "collapsed": false
   },
   "outputs": [
    {
     "data": {
      "text/plain": [
       "2"
      ]
     },
     "execution_count": 50,
     "metadata": {},
     "output_type": "execute_result"
    }
   ],
   "source": [
    "shortestDis(['words','ab','k','jb','kk','jb','kk','ab','cd','ab'],'ab','jb')"
   ]
  },
  {
   "cell_type": "markdown",
   "metadata": {},
   "source": [
    "### 14. Summary ranges\n",
    "___"
   ]
  },
  {
   "cell_type": "code",
   "execution_count": 53,
   "metadata": {
    "collapsed": false
   },
   "outputs": [],
   "source": [
    "def printRange(array):\n",
    "    if len(array)==0:\n",
    "        return []\n",
    "    start = 0\n",
    "    end = 1\n",
    "    ret = []\n",
    "    while end < len(array):\n",
    "        if array[end]==array[end-1]+1:\n",
    "            end+=1\n",
    "        else:\n",
    "            if start == end - 1:\n",
    "                ret.append(str(array[start]))\n",
    "            else:\n",
    "                ret.append(str(array[start])+'->'+str(array[end-1]))\n",
    "            start = end\n",
    "            end = end+1\n",
    "    if start == end - 1:\n",
    "        ret.append(str(array[start]))\n",
    "    else:\n",
    "        ret.append(str(array[start])+'->'+str(array[end-1]))\n",
    "    return ret"
   ]
  },
  {
   "cell_type": "code",
   "execution_count": 56,
   "metadata": {
    "collapsed": false
   },
   "outputs": [
    {
     "data": {
      "text/plain": [
       "['1->5', '7->8', '10']"
      ]
     },
     "execution_count": 56,
     "metadata": {},
     "output_type": "execute_result"
    }
   ],
   "source": [
    "printRange([1,2,3,4,5,7,8,10])"
   ]
  },
  {
   "cell_type": "markdown",
   "metadata": {},
   "source": [
    "### 15. contain duplicates\n",
    "___"
   ]
  },
  {
   "cell_type": "code",
   "execution_count": 57,
   "metadata": {
    "collapsed": true
   },
   "outputs": [],
   "source": [
    "def containDupl(array):\n",
    "    setArray = set()\n",
    "    for i in range(len(array)):\n",
    "        if array[i] in setArray:\n",
    "            return True\n",
    "        else:\n",
    "            setArray.add(array[i])\n",
    "    else:\n",
    "        return False"
   ]
  },
  {
   "cell_type": "code",
   "execution_count": 58,
   "metadata": {
    "collapsed": true
   },
   "outputs": [],
   "source": [
    "def containDupl2(array,k):\n",
    "    dictArray = {}\n",
    "    for i in range(len(array)):\n",
    "        if array[i] in dictArray:\n",
    "            if i-dictArray[array[i]][-1]<=k:\n",
    "                return True\n",
    "            else:\n",
    "                dictArray[array[i]].append(i)\n",
    "        else:\n",
    "            dictArray[array[i]]=[i]\n",
    "    else:\n",
    "        return False"
   ]
  },
  {
   "cell_type": "markdown",
   "metadata": {},
   "source": [
    "### 16. Rotate Array\n",
    "___"
   ]
  },
  {
   "cell_type": "code",
   "execution_count": 61,
   "metadata": {
    "collapsed": false
   },
   "outputs": [],
   "source": [
    "def rotate(array,k):\n",
    "    \"\"\"\n",
    "    rotate right\n",
    "    \"\"\"\n",
    "    fullLen = len(array)\n",
    "    k = k%fullLen\n",
    "    if k == 0:\n",
    "        return\n",
    "    start = 0\n",
    "    end = fullLen - k - 1\n",
    "    while start < end:\n",
    "        array[start],array[end] = array[end],array[start]\n",
    "        start+=1\n",
    "        end-=1\n",
    "    start = fullLen-k\n",
    "    end = fullLen - 1\n",
    "    while start < end:\n",
    "        array[start],array[end] = array[end],array[start]\n",
    "        start+=1\n",
    "        end-=1\n",
    "    start = 0\n",
    "    end = fullLen - 1\n",
    "    while start < end:\n",
    "        array[start],array[end] = array[end],array[start]\n",
    "        start+=1\n",
    "        end-=1\n",
    "    return"
   ]
  },
  {
   "cell_type": "code",
   "execution_count": 65,
   "metadata": {
    "collapsed": false
   },
   "outputs": [
    {
     "data": {
      "text/plain": [
       "[2, 4, 1]"
      ]
     },
     "execution_count": 65,
     "metadata": {},
     "output_type": "execute_result"
    }
   ],
   "source": [
    "array = [1,2,4]\n",
    "rotate(array,2)\n",
    "array"
   ]
  },
  {
   "cell_type": "markdown",
   "metadata": {},
   "source": [
    "### 17. Majority element\n",
    "___"
   ]
  },
  {
   "cell_type": "code",
   "execution_count": 73,
   "metadata": {
    "collapsed": true
   },
   "outputs": [],
   "source": [
    "def findMaj(array):\n",
    "    # majority element not always exist\n",
    "    ret = [array[0],1]\n",
    "    for i in range(1,len(array)):\n",
    "        if ret[1]==0:\n",
    "            ret[0]=array[i]\n",
    "            ret[1]=1\n",
    "        else:\n",
    "            if array[i]==ret[0]:\n",
    "                ret[1]+=1\n",
    "            else:\n",
    "                ret[1]-=1\n",
    "    return ret[0]"
   ]
  },
  {
   "cell_type": "code",
   "execution_count": 72,
   "metadata": {
    "collapsed": false
   },
   "outputs": [
    {
     "data": {
      "text/plain": [
       "2"
      ]
     },
     "execution_count": 72,
     "metadata": {},
     "output_type": "execute_result"
    }
   ],
   "source": [
    "findMaj([2,2,2,1,0])"
   ]
  },
  {
   "cell_type": "markdown",
   "metadata": {},
   "source": [
    "### 18. Merge sort array\n",
    "___"
   ]
  },
  {
   "cell_type": "code",
   "execution_count": 88,
   "metadata": {
    "collapsed": true
   },
   "outputs": [],
   "source": [
    "def mergeSort(array1,array2):\n",
    "    ret = array1+array2\n",
    "    i1 = 0\n",
    "    i2 = 0\n",
    "    i3 = 0\n",
    "    #print(ret)\n",
    "    while i3 < len(ret):\n",
    "        if i2==len(array2) or (i1<len(array1) and array1[i1]<array2[i2]):\n",
    "            ret[i3] = array1[i1]\n",
    "            #print(i1)\n",
    "            i1+=1\n",
    "            i3+=1\n",
    "        \n",
    "        elif i1==len(array1) or (i2<len(array2) and array1[i1]>=array2[i2]):\n",
    "            ret[i3]=array2[i2]\n",
    "            #print(i2)\n",
    "            i2+=1\n",
    "            i3+=1\n",
    "    return ret"
   ]
  },
  {
   "cell_type": "code",
   "execution_count": 89,
   "metadata": {
    "collapsed": false
   },
   "outputs": [
    {
     "data": {
      "text/plain": [
       "[1, 2, 3, 4, 4]"
      ]
     },
     "execution_count": 89,
     "metadata": {},
     "output_type": "execute_result"
    }
   ],
   "source": [
    "mergeSort([1,3,4],[2,4])"
   ]
  },
  {
   "cell_type": "markdown",
   "metadata": {},
   "source": [
    "### 19. Plus one\n",
    "___"
   ]
  },
  {
   "cell_type": "code",
   "execution_count": 90,
   "metadata": {
    "collapsed": true
   },
   "outputs": [],
   "source": [
    "def plusOne(array):\n",
    "    for i in reversed(range(len(array))):\n",
    "        if array[i]!=9:\n",
    "            array[i]+=1\n",
    "            return array\n",
    "    else:\n",
    "        return [1]+[0 for _ in range(len(array))]"
   ]
  },
  {
   "cell_type": "code",
   "execution_count": 91,
   "metadata": {
    "collapsed": false
   },
   "outputs": [
    {
     "data": {
      "text/plain": [
       "[1, 0, 0, 0]"
      ]
     },
     "execution_count": 91,
     "metadata": {},
     "output_type": "execute_result"
    }
   ],
   "source": [
    "plusOne([9,9,9])"
   ]
  },
  {
   "cell_type": "markdown",
   "metadata": {},
   "source": [
    "### 20. Remove elements\n",
    "___"
   ]
  },
  {
   "cell_type": "code",
   "execution_count": 136,
   "metadata": {
    "collapsed": true
   },
   "outputs": [],
   "source": [
    "def rmElem(array,val):\n",
    "    start = 0\n",
    "    end = len(array)-1\n",
    "    while start < end:\n",
    "        if array[start]!=val:\n",
    "            start+=1\n",
    "        else:\n",
    "            while start<end and array[end]==val:\n",
    "                end-=1\n",
    "            if start>=end:\n",
    "                break\n",
    "            else:\n",
    "                array[start],array[end] = array[end],array[start]\n",
    "                end -= 1\n",
    "                start+=1\n",
    "    print(array)\n",
    "    return start"
   ]
  },
  {
   "cell_type": "code",
   "execution_count": 137,
   "metadata": {
    "collapsed": false
   },
   "outputs": [
    {
     "name": "stdout",
     "output_type": "stream",
     "text": [
      "[2, 1, 1, 1, 1, 1]\n"
     ]
    },
    {
     "data": {
      "text/plain": [
       "1"
      ]
     },
     "execution_count": 137,
     "metadata": {},
     "output_type": "execute_result"
    }
   ],
   "source": [
    "rmElem([1,1,1,1,1,2],1)"
   ]
  },
  {
   "cell_type": "code",
   "execution_count": 142,
   "metadata": {
    "collapsed": true
   },
   "outputs": [],
   "source": [
    "def rmElem2(array,val):\n",
    "    istart = 0\n",
    "    index = 0\n",
    "    while index < len(array):\n",
    "        if array[index]!=val:\n",
    "            array[istart]=array[index]\n",
    "            istart += 1\n",
    "            index +=1\n",
    "        else:\n",
    "            index+=1\n",
    "    print(array)\n",
    "    return istart"
   ]
  },
  {
   "cell_type": "code",
   "execution_count": 144,
   "metadata": {
    "collapsed": false
   },
   "outputs": [
    {
     "name": "stdout",
     "output_type": "stream",
     "text": [
      "[2, 3, 1, 1, 1, 2, 3]\n"
     ]
    },
    {
     "data": {
      "text/plain": [
       "2"
      ]
     },
     "execution_count": 144,
     "metadata": {},
     "output_type": "execute_result"
    }
   ],
   "source": [
    "rmElem2([1,1,1,1,1,2,3],1)"
   ]
  },
  {
   "cell_type": "markdown",
   "metadata": {},
   "source": [
    "### 21. Remove duplicated from sorted array\n",
    "___"
   ]
  },
  {
   "cell_type": "code",
   "execution_count": 145,
   "metadata": {
    "collapsed": true
   },
   "outputs": [],
   "source": [
    "def rmDup(array):\n",
    "    istart = 1\n",
    "    index = 1\n",
    "    while index < len(array):\n",
    "        if array[index]==array[index-1]:\n",
    "            index+=1\n",
    "        else:\n",
    "            array[istart] = array[index]\n",
    "            istart+=1\n",
    "            index+=1\n",
    "    print(array)\n",
    "    return istart"
   ]
  },
  {
   "cell_type": "code",
   "execution_count": 146,
   "metadata": {
    "collapsed": false
   },
   "outputs": [
    {
     "name": "stdout",
     "output_type": "stream",
     "text": [
      "[1, 2, 3, 2, 2, 2, 3, 3, 3]\n"
     ]
    },
    {
     "data": {
      "text/plain": [
       "3"
      ]
     },
     "execution_count": 146,
     "metadata": {},
     "output_type": "execute_result"
    }
   ],
   "source": [
    "rmDup([1,1,1,2,2,2,3,3,3])"
   ]
  },
  {
   "cell_type": "markdown",
   "metadata": {},
   "source": [
    "___\n",
    "## Medium problems\n",
    "___"
   ]
  },
  {
   "cell_type": "markdown",
   "metadata": {},
   "source": [
    "### 1. Maximum swap\n",
    "___"
   ]
  },
  {
   "cell_type": "code",
   "execution_count": 168,
   "metadata": {
    "collapsed": false
   },
   "outputs": [],
   "source": [
    "## return the maximum value if you can swap two digits at most\n",
    "def swap(num):\n",
    "    # first change num to a array\n",
    "    # time: o(n_digit^2)\n",
    "    # space o(n_digit)\n",
    "    num_list=list(map(int,list(str(num))))\n",
    "    for i in range(len(num_list)-1):\n",
    "        max_val = num_list[i]\n",
    "        index = i\n",
    "        for j in range(i+1,len(num_list)):\n",
    "            if num_list[j]>=max_val:\n",
    "                index = j\n",
    "                max_val = num_list[j]\n",
    "                #print(index)\n",
    "        if num_list[i]<num_list[index]:\n",
    "            num_list[i],num_list[index] = num_list[index],num_list[i]\n",
    "            return int(''.join(list(map(str,num_list))))\n",
    "    return num"
   ]
  },
  {
   "cell_type": "code",
   "execution_count": 169,
   "metadata": {
    "collapsed": false
   },
   "outputs": [
    {
     "data": {
      "text/plain": [
       "9973"
      ]
     },
     "execution_count": 169,
     "metadata": {},
     "output_type": "execute_result"
    }
   ],
   "source": [
    "swap(9973)"
   ]
  },
  {
   "cell_type": "code",
   "execution_count": 151,
   "metadata": {
    "collapsed": false
   },
   "outputs": [
    {
     "data": {
      "text/plain": [
       "[5, 4]"
      ]
     },
     "execution_count": 151,
     "metadata": {},
     "output_type": "execute_result"
    }
   ],
   "source": [
    "list(map(int,list(str(54))))"
   ]
  },
  {
   "cell_type": "markdown",
   "metadata": {},
   "source": [
    "### 2. Beautiful arrangement 2\n",
    "___"
   ]
  },
  {
   "cell_type": "code",
   "execution_count": null,
   "metadata": {
    "collapsed": true
   },
   "outputs": [],
   "source": []
  }
 ],
 "metadata": {
  "kernelspec": {
   "display_name": "Python [conda root]",
   "language": "python",
   "name": "conda-root-py"
  },
  "language_info": {
   "codemirror_mode": {
    "name": "ipython",
    "version": 3
   },
   "file_extension": ".py",
   "mimetype": "text/x-python",
   "name": "python",
   "nbconvert_exporter": "python",
   "pygments_lexer": "ipython3",
   "version": "3.5.2"
  }
 },
 "nbformat": 4,
 "nbformat_minor": 2
}
