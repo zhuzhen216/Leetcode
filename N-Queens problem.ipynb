{
 "cells": [
  {
   "cell_type": "code",
   "execution_count": 110,
   "metadata": {
    "collapsed": true
   },
   "outputs": [],
   "source": [
    "def isAttacked(x,y,board):\n",
    "    # check rows and columns\n",
    "    if board[x][y]==1:\n",
    "        return True\n",
    "    for i in range(len(board)):\n",
    "        if board[x][i]==1:\n",
    "            return True\n",
    "        if board[i][y]==1:\n",
    "            return True\n",
    "    # check diagonals\n",
    "    for i in range(len(board)):\n",
    "        for j in range(len(board)):\n",
    "            if i+j==x+y and board[i][j]==1:\n",
    "                return True\n",
    "            if i-j==x-y and board[i][j]==1:\n",
    "                return True\n",
    "    return False"
   ]
  },
  {
   "cell_type": "code",
   "execution_count": 153,
   "metadata": {
    "collapsed": true
   },
   "outputs": [],
   "source": [
    "def N_Queens(board, N):\n",
    "    #print(len(board))\n",
    "    if N == 0:\n",
    "        #print(board)\n",
    "        return True\n",
    "    #print(len(board))\n",
    "    for i in range(len(board)):\n",
    "        for j in range(len(board)):\n",
    "            if isAttacked(i,j,board):\n",
    "                continue\n",
    "            board[i][j]=1\n",
    "            #print(board)\n",
    "            if N_Queens(board,N-1):\n",
    "                #print(board)\n",
    "                return True\n",
    "            board[i][j]=0\n",
    "    return False"
   ]
  },
  {
   "cell_type": "code",
   "execution_count": 154,
   "metadata": {
    "collapsed": false
   },
   "outputs": [],
   "source": [
    "board = [[0 for _ in range(6)] for _ in range(6)]"
   ]
  },
  {
   "cell_type": "code",
   "execution_count": 155,
   "metadata": {
    "collapsed": false
   },
   "outputs": [
    {
     "data": {
      "text/plain": [
       "[[0, 0, 0, 0, 0, 0],\n",
       " [0, 0, 0, 0, 0, 0],\n",
       " [0, 0, 0, 0, 0, 0],\n",
       " [0, 0, 0, 0, 0, 0],\n",
       " [0, 0, 0, 0, 0, 0],\n",
       " [0, 0, 0, 0, 0, 0]]"
      ]
     },
     "execution_count": 155,
     "metadata": {},
     "output_type": "execute_result"
    }
   ],
   "source": [
    "board"
   ]
  },
  {
   "cell_type": "code",
   "execution_count": 156,
   "metadata": {
    "collapsed": true
   },
   "outputs": [],
   "source": [
    "#board[2][2]=1"
   ]
  },
  {
   "cell_type": "code",
   "execution_count": 157,
   "metadata": {
    "collapsed": false
   },
   "outputs": [
    {
     "data": {
      "text/plain": [
       "True"
      ]
     },
     "execution_count": 157,
     "metadata": {},
     "output_type": "execute_result"
    }
   ],
   "source": [
    "N_Queens(board,6)"
   ]
  },
  {
   "cell_type": "code",
   "execution_count": 158,
   "metadata": {
    "collapsed": false
   },
   "outputs": [
    {
     "data": {
      "text/plain": [
       "[[0, 1, 0, 0, 0, 0],\n",
       " [0, 0, 0, 1, 0, 0],\n",
       " [0, 0, 0, 0, 0, 1],\n",
       " [1, 0, 0, 0, 0, 0],\n",
       " [0, 0, 1, 0, 0, 0],\n",
       " [0, 0, 0, 0, 1, 0]]"
      ]
     },
     "execution_count": 158,
     "metadata": {},
     "output_type": "execute_result"
    }
   ],
   "source": [
    "board"
   ]
  },
  {
   "cell_type": "code",
   "execution_count": 22,
   "metadata": {
    "collapsed": false
   },
   "outputs": [],
   "source": [
    "n=4\n",
    "board_array = [[['.' for _ in range(n)] for _ in range(n)] for _ in range(n)]\n",
    "#board_array = [board for _ in range(n)]\n",
    "for i in range(n):\n",
    "    #board[i][0]='Q'\n",
    "    #print(board)\n",
    "    board_array[i][i][0]='Q'"
   ]
  },
  {
   "cell_type": "code",
   "execution_count": 23,
   "metadata": {
    "collapsed": false
   },
   "outputs": [
    {
     "data": {
      "text/plain": [
       "[[['Q', '.', '.', '.'],\n",
       "  ['.', '.', '.', '.'],\n",
       "  ['.', '.', '.', '.'],\n",
       "  ['.', '.', '.', '.']],\n",
       " [['.', '.', '.', '.'],\n",
       "  ['Q', '.', '.', '.'],\n",
       "  ['.', '.', '.', '.'],\n",
       "  ['.', '.', '.', '.']],\n",
       " [['.', '.', '.', '.'],\n",
       "  ['.', '.', '.', '.'],\n",
       "  ['Q', '.', '.', '.'],\n",
       "  ['.', '.', '.', '.']],\n",
       " [['.', '.', '.', '.'],\n",
       "  ['.', '.', '.', '.'],\n",
       "  ['.', '.', '.', '.'],\n",
       "  ['Q', '.', '.', '.']]]"
      ]
     },
     "execution_count": 23,
     "metadata": {},
     "output_type": "execute_result"
    }
   ],
   "source": [
    "board_array"
   ]
  },
  {
   "cell_type": "code",
   "execution_count": 45,
   "metadata": {
    "collapsed": true
   },
   "outputs": [],
   "source": [
    "s=[[['a','b'],['c','d']],[['a','b'],['c','d']]]"
   ]
  },
  {
   "cell_type": "code",
   "execution_count": 46,
   "metadata": {
    "collapsed": false
   },
   "outputs": [
    {
     "data": {
      "text/plain": [
       "[['a', 'b'], ['c', 'd']]"
      ]
     },
     "execution_count": 46,
     "metadata": {},
     "output_type": "execute_result"
    }
   ],
   "source": [
    "s[1]"
   ]
  },
  {
   "cell_type": "code",
   "execution_count": 47,
   "metadata": {
    "collapsed": false
   },
   "outputs": [
    {
     "data": {
      "text/plain": [
       "[['ab', 'cd'], ['ab', 'cd']]"
      ]
     },
     "execution_count": 47,
     "metadata": {},
     "output_type": "execute_result"
    }
   ],
   "source": [
    "[[''.join(s[i][j]) for j in range(2)] for i in range(2)]"
   ]
  },
  {
   "cell_type": "code",
   "execution_count": 31,
   "metadata": {
    "collapsed": false
   },
   "outputs": [
    {
     "ename": "IndexError",
     "evalue": "string index out of range",
     "output_type": "error",
     "traceback": [
      "\u001b[0;31m---------------------------------------------------------------------------\u001b[0m",
      "\u001b[0;31mIndexError\u001b[0m                                Traceback (most recent call last)",
      "\u001b[0;32m<ipython-input-31-87c048d36cef>\u001b[0m in \u001b[0;36m<module>\u001b[0;34m()\u001b[0m\n\u001b[0;32m----> 1\u001b[0;31m \u001b[0ms\u001b[0m\u001b[0;34m[\u001b[0m\u001b[0;36m1\u001b[0m\u001b[0;34m]\u001b[0m\u001b[0;34m[\u001b[0m\u001b[0;36m1\u001b[0m\u001b[0;34m]\u001b[0m\u001b[0;34m\u001b[0m\u001b[0m\n\u001b[0m",
      "\u001b[0;31mIndexError\u001b[0m: string index out of range"
     ]
    }
   ],
   "source": [
    "s[1][1]"
   ]
  },
  {
   "cell_type": "code",
   "execution_count": 49,
   "metadata": {
    "collapsed": true
   },
   "outputs": [],
   "source": [
    "board = [['.' for _ in range(4)] for _ in range(4)]"
   ]
  },
  {
   "cell_type": "code",
   "execution_count": 51,
   "metadata": {
    "collapsed": false
   },
   "outputs": [],
   "source": [
    "board[1][1]='Q'"
   ]
  },
  {
   "cell_type": "code",
   "execution_count": 52,
   "metadata": {
    "collapsed": false
   },
   "outputs": [
    {
     "data": {
      "text/plain": [
       "[['.', '.', '.', '.'],\n",
       " ['.', 'Q', '.', '.'],\n",
       " ['.', '.', '.', '.'],\n",
       " ['.', '.', '.', '.']]"
      ]
     },
     "execution_count": 52,
     "metadata": {},
     "output_type": "execute_result"
    }
   ],
   "source": [
    "board"
   ]
  },
  {
   "cell_type": "code",
   "execution_count": 9,
   "metadata": {
    "collapsed": false
   },
   "outputs": [],
   "source": [
    "import copy\n",
    "def solveNQueens(n):\n",
    "    \"\"\"\n",
    "    :type n: int\n",
    "    :rtype: List[List[str]]\n",
    "    \"\"\"\n",
    "    return_str = []\n",
    "    def isAttacked(x,y,board):\n",
    "        for i in range(len(board)):\n",
    "            for j in range(len(board)):\n",
    "                if board[i][j]=='Q':\n",
    "                    if x == i or y == j or x+y==i+j or x-y==i-j:\n",
    "                        return True\n",
    "        return False\n",
    "    def solveNQueens(row,n):\n",
    "        #count = 0\n",
    "        nonlocal count\n",
    "        #nonlocal board\n",
    "        #nonlocal return_str\n",
    "        if row == n:\n",
    "            return_str.append(copy.deepcopy(board))\n",
    "            #print(restr)\n",
    "            #print(board)\n",
    "            count = count + 1\n",
    "            return\n",
    "        for j in range(n):\n",
    "            if not isAttacked(row,j,board):\n",
    "                #continue\n",
    "                board[row][j]='Q'\n",
    "                solveNQueens(row+1,n)\n",
    "                board[row][j]='.'\n",
    "    board = [['.' for _ in range(n)] for _ in range(n)]\n",
    "    count = 0\n",
    "    solveNQueens(0,n)\n",
    "    print(count)\n",
    "    #print(res)\n",
    "    #print(board)\n",
    "    return [[''.join(return_str[i][j]) for j in range(n)] for i in range(len(return_str))]"
   ]
  },
  {
   "cell_type": "code",
   "execution_count": 10,
   "metadata": {
    "collapsed": false
   },
   "outputs": [
    {
     "name": "stdout",
     "output_type": "stream",
     "text": [
      "2\n"
     ]
    },
    {
     "data": {
      "text/plain": [
       "[['.Q..', '...Q', 'Q...', '..Q.'], ['..Q.', 'Q...', '...Q', '.Q..']]"
      ]
     },
     "execution_count": 10,
     "metadata": {},
     "output_type": "execute_result"
    }
   ],
   "source": [
    "solveNQueens(4)"
   ]
  },
  {
   "cell_type": "code",
   "execution_count": 1,
   "metadata": {
    "collapsed": false
   },
   "outputs": [
    {
     "data": {
      "text/plain": [
       "4"
      ]
     },
     "execution_count": 1,
     "metadata": {},
     "output_type": "execute_result"
    }
   ],
   "source": [
    "for i in range(5):\n",
    "    continue\n",
    "i"
   ]
  },
  {
   "cell_type": "code",
   "execution_count": null,
   "metadata": {
    "collapsed": true
   },
   "outputs": [],
   "source": []
  }
 ],
 "metadata": {
  "kernelspec": {
   "display_name": "Python [conda root]",
   "language": "python",
   "name": "conda-root-py"
  },
  "language_info": {
   "codemirror_mode": {
    "name": "ipython",
    "version": 3
   },
   "file_extension": ".py",
   "mimetype": "text/x-python",
   "name": "python",
   "nbconvert_exporter": "python",
   "pygments_lexer": "ipython3",
   "version": "3.5.2"
  }
 },
 "nbformat": 4,
 "nbformat_minor": 2
}
