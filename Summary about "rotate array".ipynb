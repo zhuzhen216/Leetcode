{
 "cells": [
  {
   "cell_type": "markdown",
   "metadata": {},
   "source": [
    "### 189. Rotate Array\n",
    "Rotate an array of n elements to the right by k steps.\n",
    "\n",
    "For example, with n = 7 and k = 3, the array [1,2,3,4,5,6,7] is rotated to [5,6,7,1,2,3,4].\n",
    "\n",
    "Basic idea: step 1: reverse the entire array; 2: reverse the first k elements; 3: reverse the left elements"
   ]
  },
  {
   "cell_type": "code",
   "execution_count": 48,
   "metadata": {
    "collapsed": true
   },
   "outputs": [],
   "source": [
    "def rotateArray(array,k):\n",
    "    #\n",
    "    # note: 1. do not pass nums[0:k] to the reverse function; does not work\n",
    "    #       2. instead: reverse(nums,start,end)\n",
    "    def reverse(nums,start,end):\n",
    "        #if len(nums)==0:\n",
    "        #    return\n",
    "        if start >= end:\n",
    "            return\n",
    "        #start = 0\n",
    "        #end = len(nums)-1\n",
    "        while start < end:\n",
    "            nums[start],nums[end]=nums[end],nums[start]\n",
    "            start += 1\n",
    "            end -= 1\n",
    "    k = k%len(array)\n",
    "    if k == 0:\n",
    "        return\n",
    "    if len(array)==0:\n",
    "        return\n",
    "    reverse(array,0,len(array)-1)\n",
    "    reverse(array,0,k-1)\n",
    "    reverse(array,k,len(array)-1)"
   ]
  },
  {
   "cell_type": "code",
   "execution_count": 49,
   "metadata": {
    "collapsed": true
   },
   "outputs": [],
   "source": [
    "nums=[1,2,3,4,5]"
   ]
  },
  {
   "cell_type": "code",
   "execution_count": 50,
   "metadata": {
    "collapsed": false
   },
   "outputs": [],
   "source": [
    "rotateArray(nums,2)"
   ]
  },
  {
   "cell_type": "markdown",
   "metadata": {},
   "source": [
    "### 153. Find Minimum in Rotated Sorted Array\n",
    "\n",
    "Suppose an array sorted in ascending order is rotated at some pivot unknown to you beforehand.\n",
    "\n",
    "(i.e., 0 1 2 4 5 6 7 might become 4 5 6 7 0 1 2).\n",
    "\n",
    "Find the minimum element.\n",
    "\n",
    "You may assume no duplicate exists in the array."
   ]
  },
  {
   "cell_type": "code",
   "execution_count": 108,
   "metadata": {
    "collapsed": true
   },
   "outputs": [],
   "source": [
    "#\n",
    "# binary sort\n",
    "#\n",
    "def findMin(nums):\n",
    "    if len(nums)==1:\n",
    "        return nums[0]\n",
    "    left = 0\n",
    "    right = len(nums)-1\n",
    "    while left < right:\n",
    "        print(left,right,nums[left],nums[right])\n",
    "        #print(nums[right])\n",
    "        mid = (left+right)//2\n",
    "        #\n",
    "        # if there contains duplicates, we should set '<=' instead of <\n",
    "        #\n",
    "        if nums[mid]<=nums[right]:\n",
    "            right = mid\n",
    "        else:\n",
    "            left = mid + 1\n",
    "    #print(left,right)\n",
    "    return nums[left]"
   ]
  },
  {
   "cell_type": "code",
   "execution_count": 107,
   "metadata": {
    "collapsed": false
   },
   "outputs": [
    {
     "name": "stdout",
     "output_type": "stream",
     "text": [
      "0 48 3 2\n",
      "0 24 3 0\n",
      "13 24 5 0\n",
      "13 18 5 0\n",
      "16 18 7 0\n",
      "16 17 7 0\n",
      "17 17\n"
     ]
    },
    {
     "data": {
      "text/plain": [
       "0"
      ]
     },
     "execution_count": 107,
     "metadata": {},
     "output_type": "execute_result"
    }
   ],
   "source": [
    "nums=[3,3,3,3,3,3,3,3,3,3,3,3,4,5,6,6,7,0,0,0,0,0,0,0,0,0,0,0,0,0,0,0,0,0,0,0,1,1,2,2,2,2,2,2,2,2,2,2,2]\n",
    "findMin(nums)"
   ]
  },
  {
   "cell_type": "markdown",
   "metadata": {},
   "source": [
    "### 48. Rotate Image\n",
    "You are given an n x n 2D matrix representing an image.\n",
    "\n",
    "Rotate the image by 90 degrees (clockwise).\n",
    "\n",
    "Follow up:\n",
    "Could you do this in-place?"
   ]
  },
  {
   "cell_type": "code",
   "execution_count": 55,
   "metadata": {
    "collapsed": true
   },
   "outputs": [],
   "source": [
    "def rotate(matrix):\n",
    "    if matrix is None or len(matrix)==0 or len(matrix)==1:\n",
    "        return\n",
    "    M = len(matrix)\n",
    "    N = len(matrix[0])\n",
    "    for i in range(M//2):\n",
    "        for j in range(N):\n",
    "            matrix[i][j],matrix[M-i-1][j]=matrix[M-i-1][j],matrix[i][j]\n",
    "    \n",
    "    for i in range(M):\n",
    "        for j in range(i):\n",
    "            matrix[i][j],matrix[j][i]=matrix[j][i],matrix[i][j]\n",
    "    \n",
    "    return"
   ]
  },
  {
   "cell_type": "code",
   "execution_count": 56,
   "metadata": {
    "collapsed": true
   },
   "outputs": [],
   "source": [
    "matrix=[[1,2],[3,4]]"
   ]
  },
  {
   "cell_type": "code",
   "execution_count": 57,
   "metadata": {
    "collapsed": true
   },
   "outputs": [],
   "source": [
    "rotate(matrix)"
   ]
  },
  {
   "cell_type": "code",
   "execution_count": 58,
   "metadata": {
    "collapsed": false
   },
   "outputs": [
    {
     "data": {
      "text/plain": [
       "[[3, 1], [4, 2]]"
      ]
     },
     "execution_count": 58,
     "metadata": {},
     "output_type": "execute_result"
    }
   ],
   "source": [
    "matrix"
   ]
  },
  {
   "cell_type": "markdown",
   "metadata": {},
   "source": [
    "### 33. Search in Rotated Sorted Array\n",
    "Suppose an array sorted in ascending order is rotated at some pivot unknown to you beforehand.\n",
    "\n",
    "(i.e., 0 1 2 4 5 6 7 might become 4 5 6 7 0 1 2).\n",
    "\n",
    "You are given a target value to search. If found in the array return its index, otherwise return -1.\n",
    "\n",
    "You may assume no duplicate exists in the array."
   ]
  },
  {
   "cell_type": "code",
   "execution_count": 72,
   "metadata": {
    "collapsed": true
   },
   "outputs": [],
   "source": [
    "def findPivot(nums):\n",
    "    if nums is None or len(nums)==0:\n",
    "        return None\n",
    "    if len(nums)==1:\n",
    "        return nums[0]\n",
    "    left = 0\n",
    "    right = len(nums)-1\n",
    "    while left < right:\n",
    "        mid = (left+right)//2\n",
    "        if nums[mid]<nums[right]:\n",
    "            right = mid\n",
    "        else:\n",
    "            left = mid + 1\n",
    "    return left\n",
    "def binarySearch(nums,target):\n",
    "    if nums is None or len(nums)==0:\n",
    "        return -1\n",
    "    left = 0\n",
    "    right = len(nums)-1\n",
    "    while left < right:\n",
    "        mid = (left+right)//2\n",
    "        if nums[mid]==target:\n",
    "            return mid\n",
    "        elif target < nums[mid]:\n",
    "            right = mid\n",
    "        else:\n",
    "            left = mid + 1\n",
    "    if nums[left]==target:\n",
    "        return left\n",
    "    else:\n",
    "        return -1\n",
    "def searchRotated(nums,target):\n",
    "    pivot=findPivot(nums)\n",
    "    a = binarySearch(nums[0:pivot],target)\n",
    "    b = binarySearch(nums[pivot:],target)\n",
    "    if b!=-1:\n",
    "        return b+pivot\n",
    "    else:\n",
    "        return a"
   ]
  },
  {
   "cell_type": "code",
   "execution_count": 73,
   "metadata": {
    "collapsed": false
   },
   "outputs": [
    {
     "data": {
      "text/plain": [
       "4"
      ]
     },
     "execution_count": 73,
     "metadata": {},
     "output_type": "execute_result"
    }
   ],
   "source": [
    "searchRotated([3,4,5,1,2],2)"
   ]
  },
  {
   "cell_type": "code",
   "execution_count": 75,
   "metadata": {
    "collapsed": false
   },
   "outputs": [
    {
     "data": {
      "text/plain": [
       "1"
      ]
     },
     "execution_count": 75,
     "metadata": {},
     "output_type": "execute_result"
    }
   ],
   "source": [
    "findPivot([2,1])"
   ]
  },
  {
   "cell_type": "code",
   "execution_count": 78,
   "metadata": {
    "collapsed": false
   },
   "outputs": [
    {
     "data": {
      "text/plain": [
       "1"
      ]
     },
     "execution_count": 78,
     "metadata": {},
     "output_type": "execute_result"
    }
   ],
   "source": [
    "1^0^0"
   ]
  },
  {
   "cell_type": "code",
   "execution_count": 87,
   "metadata": {
    "collapsed": true
   },
   "outputs": [],
   "source": [
    "def searchRotated_v2(nums,target):\n",
    "    if nums is None or len(nums)==0:\n",
    "        return -1\n",
    "    left = 0\n",
    "    right = len(nums)-1\n",
    "    while left < right:\n",
    "        print(left)\n",
    "        mid = (left+right)//2\n",
    "        if nums[mid]==target:\n",
    "            return mid\n",
    "        elif (nums[left]<=nums[mid] and nums[mid]>target and nums[left]>target) or (nums[left]<= nums[mid] and nums[mid]<target) or (nums[left]>=nums[mid] and nums[mid]<target and nums[left]>target):\n",
    "            left = mid + 1\n",
    "        else:\n",
    "            right = mid\n",
    "    if nums[left]==target:\n",
    "        return left\n",
    "    else:\n",
    "        return -1"
   ]
  },
  {
   "cell_type": "code",
   "execution_count": 90,
   "metadata": {
    "collapsed": false
   },
   "outputs": [
    {
     "name": "stdout",
     "output_type": "stream",
     "text": [
      "0\n",
      "3\n"
     ]
    },
    {
     "data": {
      "text/plain": [
       "5"
      ]
     },
     "execution_count": 90,
     "metadata": {},
     "output_type": "execute_result"
    }
   ],
   "source": [
    "searchRotated_v2([4,5,6,1,2,3],3)"
   ]
  },
  {
   "cell_type": "markdown",
   "metadata": {},
   "source": [
    "### 81. Search in Rotated Sorted Array II\n",
    "\n",
    "Suppose an array sorted in ascending order is rotated at some pivot unknown to you beforehand.\n",
    "\n",
    "(i.e., 0 1 2 4 5 6 7 might become 4 5 6 7 0 1 2).\n",
    "\n",
    "Write a function to determine if a given target is in the array.\n",
    "\n",
    "The array may contain duplicates."
   ]
  },
  {
   "cell_type": "code",
   "execution_count": 119,
   "metadata": {
    "collapsed": true
   },
   "outputs": [],
   "source": [
    "def findPivot(nums):\n",
    "    if nums is None or len(nums)==0:\n",
    "        return None\n",
    "    if len(nums)==1:\n",
    "        return nums[0]\n",
    "    left = 0\n",
    "    right = len(nums)-1\n",
    "    while left < right:\n",
    "        mid = (left+right)//2\n",
    "        if nums[mid]<=nums[right]:\n",
    "            right = mid\n",
    "        else:\n",
    "            left = mid + 1\n",
    "    return left\n",
    "def binarySearch(nums,target):\n",
    "    \"\"\"\n",
    "    standard method to find a target in a sorted array\n",
    "    \"\"\"\n",
    "    if nums is None or len(nums)==0:\n",
    "        return -1\n",
    "    left = 0\n",
    "    right = len(nums)-1\n",
    "    while left < right:\n",
    "        mid = (left+right)//2\n",
    "        if nums[mid]==target:\n",
    "            return mid\n",
    "        elif target < nums[mid]:\n",
    "            right = mid\n",
    "        else:\n",
    "            left = mid + 1\n",
    "    if nums[left]==target:\n",
    "        return left\n",
    "    else:\n",
    "        return -1\n",
    "def searchRotated_v3(nums,target):\n",
    "    pivot=findPivot(nums)\n",
    "    print(pivot)\n",
    "    a = binarySearch(nums[0:pivot],target)\n",
    "    b = binarySearch(nums[pivot:],target)\n",
    "    if a==-1 and b==-1:\n",
    "        return False\n",
    "    else:\n",
    "        return True"
   ]
  },
  {
   "cell_type": "code",
   "execution_count": 120,
   "metadata": {
    "collapsed": false
   },
   "outputs": [
    {
     "name": "stdout",
     "output_type": "stream",
     "text": [
      "6\n"
     ]
    },
    {
     "data": {
      "text/plain": [
       "True"
      ]
     },
     "execution_count": 120,
     "metadata": {},
     "output_type": "execute_result"
    }
   ],
   "source": [
    "searchRotated_v3([4,4,4,5,6,7,0,0,0,0,0,1,2,2,2,2,4,4],5)"
   ]
  },
  {
   "cell_type": "code",
   "execution_count": 123,
   "metadata": {
    "collapsed": false
   },
   "outputs": [
    {
     "name": "stdout",
     "output_type": "stream",
     "text": [
      "2\n"
     ]
    }
   ],
   "source": [
    "sum = 0\n",
    "for i in range(3):\n",
    "    sum += i\n",
    "print(i)"
   ]
  },
  {
   "cell_type": "code",
   "execution_count": null,
   "metadata": {
    "collapsed": true
   },
   "outputs": [],
   "source": []
  }
 ],
 "metadata": {
  "kernelspec": {
   "display_name": "Python [conda root]",
   "language": "python",
   "name": "conda-root-py"
  },
  "language_info": {
   "codemirror_mode": {
    "name": "ipython",
    "version": 3
   },
   "file_extension": ".py",
   "mimetype": "text/x-python",
   "name": "python",
   "nbconvert_exporter": "python",
   "pygments_lexer": "ipython3",
   "version": "3.5.2"
  }
 },
 "nbformat": 4,
 "nbformat_minor": 2
}
