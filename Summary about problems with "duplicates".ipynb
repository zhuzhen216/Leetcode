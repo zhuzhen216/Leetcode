{
 "cells": [
  {
   "cell_type": "markdown",
   "metadata": {},
   "source": [
    "### 217. Contains Duplicate\n",
    "___\n",
    "Given an array of integers, find if the array contains any duplicates. Your function should return true if any value appears at least twice in the array, and it should return false if every element is distinct."
   ]
  },
  {
   "cell_type": "code",
   "execution_count": 2,
   "metadata": {
    "collapsed": true
   },
   "outputs": [],
   "source": [
    "def findDup(nums):\n",
    "    \"\"\"\n",
    "    use hash table to solve the problem: o(n) time and o(n) space\n",
    "    \"\"\"\n",
    "    if nums is None or len(nums)<=1:\n",
    "        return False\n",
    "    dict = {}\n",
    "    for num in nums:\n",
    "        if num in dict:\n",
    "            return True\n",
    "        else:\n",
    "            dict[num]=1\n",
    "    return False"
   ]
  },
  {
   "cell_type": "markdown",
   "metadata": {},
   "source": [
    "### 26. Remove Duplicates from Sorted Array\n",
    "___\n",
    "Given a sorted array, remove the duplicates in place such that each element appear only once and return the new length.\n",
    "\n",
    "Do not allocate extra space for another array, you must do this in place with constant memory."
   ]
  },
  {
   "cell_type": "code",
   "execution_count": 12,
   "metadata": {
    "collapsed": true
   },
   "outputs": [],
   "source": [
    "def rmDup(nums):\n",
    "    \"\"\"\n",
    "    first, several special cases\n",
    "    o(n) time and in-place modification\n",
    "    \"\"\"\n",
    "    if nums is None or len(nums)==0:\n",
    "        return 0\n",
    "    if len(nums)==1:\n",
    "        return 1\n",
    "    curLen = len(nums)\n",
    "    countDup = 0\n",
    "    i = 1\n",
    "    while i < curLen:\n",
    "        start = i\n",
    "        while i<curLen and nums[i]==nums[i-1]:\n",
    "            countDup += 1\n",
    "            i += 1\n",
    "        if i < curLen:\n",
    "            nums[start]=nums[i]\n",
    "            i += 1\n",
    "            start += 1\n",
    "    return curLen - countDup"
   ]
  },
  {
   "cell_type": "code",
   "execution_count": 10,
   "metadata": {
    "collapsed": false
   },
   "outputs": [
    {
     "data": {
      "text/plain": [
       "4"
      ]
     },
     "execution_count": 10,
     "metadata": {},
     "output_type": "execute_result"
    }
   ],
   "source": [
    "nums = [1,4,5,5,5,5,6]\n",
    "rmDup(nums)"
   ]
  },
  {
   "cell_type": "code",
   "execution_count": 11,
   "metadata": {
    "collapsed": false
   },
   "outputs": [
    {
     "data": {
      "text/plain": [
       "[1, 4, 5, 6, 5, 5, 6]"
      ]
     },
     "execution_count": 11,
     "metadata": {},
     "output_type": "execute_result"
    }
   ],
   "source": [
    "nums"
   ]
  },
  {
   "cell_type": "markdown",
   "metadata": {},
   "source": [
    "### 219. Contains Duplicate II\n",
    "___\n",
    "Given an array of integers and an integer k, find out whether there are two distinct indices i and j in the array such that nums[i] = nums[j] and the absolute difference between i and j is at most k.\n"
   ]
  },
  {
   "cell_type": "code",
   "execution_count": 32,
   "metadata": {
    "collapsed": true
   },
   "outputs": [],
   "source": [
    "def contDup1(nums,k):\n",
    "    \"\"\"\n",
    "    at most k <-> <= k\n",
    "    o(n) time\n",
    "    \"\"\"\n",
    "    if nums is None or len(nums)==0 or len(nums)==1:\n",
    "        return False\n",
    "    count = k\n",
    "    dict = {}\n",
    "    for i,num in enumerate(nums):\n",
    "        if num in dict:\n",
    "            return True\n",
    "        dict[num] = i\n",
    "        if i >=count:\n",
    "            del dict[nums[i-count]]\n",
    "        print(dict)\n",
    "    return False"
   ]
  },
  {
   "cell_type": "code",
   "execution_count": 38,
   "metadata": {
    "collapsed": true
   },
   "outputs": [],
   "source": [
    "nums=[1,2,3,1,4,3]"
   ]
  },
  {
   "cell_type": "code",
   "execution_count": 39,
   "metadata": {
    "collapsed": false
   },
   "outputs": [
    {
     "name": "stdout",
     "output_type": "stream",
     "text": [
      "{1: 0}\n",
      "{1: 0, 2: 1}\n",
      "{2: 1, 3: 2}\n",
      "{1: 3, 3: 2}\n",
      "{1: 3, 4: 4}\n",
      "{3: 5, 4: 4}\n"
     ]
    },
    {
     "data": {
      "text/plain": [
       "False"
      ]
     },
     "execution_count": 39,
     "metadata": {},
     "output_type": "execute_result"
    }
   ],
   "source": [
    "contDup1(nums,2)"
   ]
  },
  {
   "cell_type": "code",
   "execution_count": 42,
   "metadata": {
    "collapsed": true
   },
   "outputs": [],
   "source": [
    "def contDup2(nums,k):\n",
    "    \"\"\"\n",
    "    This method is easier to understand.\n",
    "    1. use hashtable to store the nums as key and the indexes as values\n",
    "    2. walk throught the nums to check whether the elem exists in the dict\n",
    "    3. if yes, we compare the indexes\n",
    "    4. if no, we put the elem into the dict\n",
    "    \"\"\"\n",
    "    if not nums:\n",
    "        return False\n",
    "    dict = {}\n",
    "    for i,elem in enumerate(nums):\n",
    "        if elem not in dict:\n",
    "            dict[elem]=i\n",
    "        else:\n",
    "            if i - dict[elem]<=k:\n",
    "                return True\n",
    "            else:\n",
    "                dict[elem]=i\n",
    "    return False        "
   ]
  },
  {
   "cell_type": "code",
   "execution_count": 41,
   "metadata": {
    "collapsed": false
   },
   "outputs": [
    {
     "data": {
      "text/plain": [
       "False"
      ]
     },
     "execution_count": 41,
     "metadata": {},
     "output_type": "execute_result"
    }
   ],
   "source": [
    "contDup2(nums,2)"
   ]
  },
  {
   "cell_type": "markdown",
   "metadata": {},
   "source": [
    "### 287. Find the Duplicate Number\n",
    "___\n",
    "Given an array nums containing n + 1 integers where each integer is between 1 and n (inclusive), prove that at least one duplicate number must exist. Assume that there is only one duplicate number, find the duplicate one."
   ]
  },
  {
   "cell_type": "code",
   "execution_count": 73,
   "metadata": {
    "collapsed": true
   },
   "outputs": [],
   "source": [
    "def findDup2(nums):\n",
    "    \"\"\"\n",
    "    o(Nlg(N)) binary search, o(1) space\n",
    "    \"\"\"\n",
    "    left = 1\n",
    "    right = len(nums)-1\n",
    "    while left < right:\n",
    "        mid = left+(right-left)//2\n",
    "        count = 0\n",
    "        for i in nums:\n",
    "            if i<=mid:\n",
    "                count += 1\n",
    "        if count <= mid:\n",
    "            left = mid + 1\n",
    "        else:\n",
    "            right = mid\n",
    "    return left"
   ]
  },
  {
   "cell_type": "code",
   "execution_count": 74,
   "metadata": {
    "collapsed": false
   },
   "outputs": [
    {
     "data": {
      "text/plain": [
       "2"
      ]
     },
     "execution_count": 74,
     "metadata": {},
     "output_type": "execute_result"
    }
   ],
   "source": [
    "findDup2([1,2,3,4,2,5])"
   ]
  },
  {
   "cell_type": "code",
   "execution_count": 70,
   "metadata": {
    "collapsed": false
   },
   "outputs": [
    {
     "data": {
      "text/plain": [
       "2"
      ]
     },
     "execution_count": 70,
     "metadata": {},
     "output_type": "execute_result"
    }
   ],
   "source": [
    "findDuplicate([1,2,3,4,2,5])"
   ]
  },
  {
   "cell_type": "code",
   "execution_count": 78,
   "metadata": {
    "collapsed": true
   },
   "outputs": [],
   "source": [
    "def findDup2_v2(nums):\n",
    "    \"\"\"\n",
    "    o(n) time and o(n) space\n",
    "    \"\"\"\n",
    "    dict = {}\n",
    "    for i in nums:\n",
    "        if i in dict:\n",
    "            return i\n",
    "        else:\n",
    "            dict[i]=1"
   ]
  },
  {
   "cell_type": "code",
   "execution_count": 79,
   "metadata": {
    "collapsed": false
   },
   "outputs": [
    {
     "data": {
      "text/plain": [
       "2"
      ]
     },
     "execution_count": 79,
     "metadata": {},
     "output_type": "execute_result"
    }
   ],
   "source": [
    "findDup2_v2([1,2,3,4,2,5])"
   ]
  },
  {
   "cell_type": "code",
   "execution_count": 80,
   "metadata": {
    "collapsed": true
   },
   "outputs": [],
   "source": [
    "def findDup2_v3(nums):\n",
    "    \"\"\"\n",
    "    o(n) time and o(1) space\n",
    "    \"\"\"\n",
    "    slow = nums[0]\n",
    "    fast = nums[nums[0]]\n",
    "    while slow != fast:\n",
    "        slow = nums[slow]\n",
    "        fast = nums[nums[fast]]\n",
    "    fast = 0\n",
    "    while slow != fast:\n",
    "        slow = nums[slow]\n",
    "        fast = nums[fast]\n",
    "    return fast"
   ]
  },
  {
   "cell_type": "code",
   "execution_count": 81,
   "metadata": {
    "collapsed": false
   },
   "outputs": [
    {
     "data": {
      "text/plain": [
       "2"
      ]
     },
     "execution_count": 81,
     "metadata": {},
     "output_type": "execute_result"
    }
   ],
   "source": [
    "findDup2_v3([1,2,3,4,2,5])"
   ]
  },
  {
   "cell_type": "markdown",
   "metadata": {},
   "source": [
    "### 442. Find All Duplicates in an Array\n",
    "___\n",
    "Given an array of integers, 1 ≤ a[i] ≤ n (n = size of array), some elements appear twice and others appear once.\n",
    "\n",
    "Find all the elements that appear twice in this array.\n",
    "\n",
    "Could you do it without extra space and in O(n) runtime?"
   ]
  },
  {
   "cell_type": "code",
   "execution_count": 82,
   "metadata": {
    "collapsed": true
   },
   "outputs": [],
   "source": [
    "# first method: use dictionary\n",
    "# o(n) time, but o(n) space\n",
    "def findDup3(nums):\n",
    "    dict = {}\n",
    "    ret = []\n",
    "    for i in nums:\n",
    "        if i in dict:\n",
    "            ret.append(i)\n",
    "        else:\n",
    "            dict[i]=1\n",
    "    return ret"
   ]
  },
  {
   "cell_type": "code",
   "execution_count": 83,
   "metadata": {
    "collapsed": false
   },
   "outputs": [
    {
     "data": {
      "text/plain": [
       "[2, 3, 5]"
      ]
     },
     "execution_count": 83,
     "metadata": {},
     "output_type": "execute_result"
    }
   ],
   "source": [
    "findDup3([1,2,2,3,3,4,5,5])"
   ]
  },
  {
   "cell_type": "code",
   "execution_count": 88,
   "metadata": {
    "collapsed": true
   },
   "outputs": [],
   "source": [
    "# second method: array management\n",
    "def findDup3_v2(nums):\n",
    "    ret = []\n",
    "    for i in range(len(nums)):\n",
    "        if nums[abs(nums[i])-1]<0:\n",
    "            ret.append(abs(nums[i]))\n",
    "        else:\n",
    "            nums[abs(nums[i])-1] = -nums[abs(nums[i])-1]\n",
    "    print(nums)\n",
    "    return ret"
   ]
  },
  {
   "cell_type": "code",
   "execution_count": 90,
   "metadata": {
    "collapsed": false
   },
   "outputs": [
    {
     "name": "stdout",
     "output_type": "stream",
     "text": [
      "[-1, -2, -2, -3, -3, 4, 5, 1]\n"
     ]
    },
    {
     "data": {
      "text/plain": [
       "[2, 3, 1]"
      ]
     },
     "execution_count": 90,
     "metadata": {},
     "output_type": "execute_result"
    }
   ],
   "source": [
    "findDup3_v2([1,2,2,3,3,4,5,1])"
   ]
  },
  {
   "cell_type": "code",
   "execution_count": null,
   "metadata": {
    "collapsed": true
   },
   "outputs": [],
   "source": []
  }
 ],
 "metadata": {
  "anaconda-cloud": {},
  "kernelspec": {
   "display_name": "Python [conda root]",
   "language": "python",
   "name": "conda-root-py"
  },
  "language_info": {
   "codemirror_mode": {
    "name": "ipython",
    "version": 3
   },
   "file_extension": ".py",
   "mimetype": "text/x-python",
   "name": "python",
   "nbconvert_exporter": "python",
   "pygments_lexer": "ipython3",
   "version": "3.5.2"
  }
 },
 "nbformat": 4,
 "nbformat_minor": 2
}
