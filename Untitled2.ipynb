{
 "cells": [
  {
   "cell_type": "code",
   "execution_count": 11,
   "metadata": {
    "collapsed": true
   },
   "outputs": [],
   "source": [
    "def solve(board):\n",
    "    \"\"\"\n",
    "    :type board: List[List[str]]\n",
    "    :rtype: void Do not return anything, modify board in-place instead.\n",
    "    \"\"\"\n",
    "    #\n",
    "    # BFS\n",
    "    #\n",
    "    newboard = [[board[i][j] for j in range(len(board[0]))] for i in range(len(board))]\n",
    "    if board is None or len(board)==0:\n",
    "        return None\n",
    "    d = [1,0,-1,0,1]\n",
    "    queue = []\n",
    "    M = len(board)\n",
    "    N = len(board[0])\n",
    "    for i in range(M):\n",
    "        if newboard[i][0]=='O':\n",
    "            queue.append((i,0))\n",
    "        if newboard[i][N-1]=='O':\n",
    "            queue.append((i,N-1))\n",
    "    for j in range(1,N-1):\n",
    "        if newboard[0][j]=='O':\n",
    "            queue.append((0,j))\n",
    "        if newboard[M-1][j]=='O':\n",
    "            queue.append((M-1,j))\n",
    "    \n",
    "    while len(queue)!=0:\n",
    "        cur=queue.pop(0)\n",
    "        newboard[cur[0]][cur[1]]='*'\n",
    "        for k in range(len(d)-1):\n",
    "            p = cur[0]+d[k]\n",
    "            q = cur[1]+d[k+1]\n",
    "            if p>=0 and p<M and q>=0 and q<N and newboard[p][q]=='O':\n",
    "                queue.append((p,q))\n",
    "    print(newboard)\n",
    "    \n",
    "    for i in range(M):\n",
    "        for j in range(N):\n",
    "            if newboard[i][j]=='O':\n",
    "                newboard[i][j]='X'\n",
    "            elif newboard[i][j]=='*':\n",
    "                newboard[i][j]='O'\n",
    "    print(newboard)\n",
    "    for i in range(M):\n",
    "        board[i]=''.join(newboard[i])\n",
    "    #board = [''.join(newboard[i]) for i in range(M)]"
   ]
  },
  {
   "cell_type": "code",
   "execution_count": 12,
   "metadata": {
    "collapsed": false
   },
   "outputs": [
    {
     "name": "stdout",
     "output_type": "stream",
     "text": [
      "[['X', 'X', 'X', 'X'], ['X', 'O', 'O', 'X'], ['X', 'X', 'O', 'X'], ['X', '*', 'X', 'X']]\n",
      "[['X', 'X', 'X', 'X'], ['X', 'X', 'X', 'X'], ['X', 'X', 'X', 'X'], ['X', 'O', 'X', 'X']]\n"
     ]
    }
   ],
   "source": [
    "board = [\"XXXX\",\"XOOX\",\"XXOX\",\"XOXX\"]\n",
    "solve(board)"
   ]
  },
  {
   "cell_type": "code",
   "execution_count": 13,
   "metadata": {
    "collapsed": false
   },
   "outputs": [
    {
     "data": {
      "text/plain": [
       "['XXXX', 'XXXX', 'XXXX', 'XOXX']"
      ]
     },
     "execution_count": 13,
     "metadata": {},
     "output_type": "execute_result"
    }
   ],
   "source": [
    "board"
   ]
  },
  {
   "cell_type": "code",
   "execution_count": null,
   "metadata": {
    "collapsed": true
   },
   "outputs": [],
   "source": []
  }
 ],
 "metadata": {
  "anaconda-cloud": {},
  "kernelspec": {
   "display_name": "Python [conda root]",
   "language": "python",
   "name": "conda-root-py"
  },
  "language_info": {
   "codemirror_mode": {
    "name": "ipython",
    "version": 3
   },
   "file_extension": ".py",
   "mimetype": "text/x-python",
   "name": "python",
   "nbconvert_exporter": "python",
   "pygments_lexer": "ipython3",
   "version": "3.5.2"
  }
 },
 "nbformat": 4,
 "nbformat_minor": 2
}
