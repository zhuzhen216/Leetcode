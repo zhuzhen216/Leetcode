{
 "cells": [
  {
   "cell_type": "code",
   "execution_count": 1,
   "metadata": {
    "collapsed": true
   },
   "outputs": [],
   "source": [
    "class Node:\n",
    "    def __init__(self,val):\n",
    "        self.key = val\n",
    "        self.left = None\n",
    "        self.right = None"
   ]
  },
  {
   "cell_type": "code",
   "execution_count": 3,
   "metadata": {
    "collapsed": true
   },
   "outputs": [],
   "source": [
    "from collections import deque\n",
    "def addNode(node,root):\n",
    "    if root is None:\n",
    "        raise ValueError('root cannot be None.')\n",
    "    \n",
    "    nodeFound = deque(root)\n",
    "    \n",
    "    while len(nodeFound)>0:\n",
    "        \n",
    "        curNode = nodeFound.popleft()\n",
    "        \n",
    "        if curNode.left is None:\n",
    "            curNode.left = node\n",
    "            break\n",
    "        if curNode.right is None:\n",
    "            curNode.right = node\n",
    "            break\n",
    "        \n",
    "        nodeFound.append(curNode.left)\n",
    "        nodeFound.append(curNode.right)\n"
   ]
  },
  {
   "cell_type": "code",
   "execution_count": 6,
   "metadata": {
    "collapsed": true
   },
   "outputs": [],
   "source": [
    "def isBinarySearchTree(root):\n",
    "    def isBSF(root,minVal,maxVal):\n",
    "        if root.val <= minVal:\n",
    "            return False\n",
    "        if root.val >= maxVal:\n",
    "            return False\n",
    "        \n",
    "        leftOK = True\n",
    "        rightOK = True\n",
    "        \n",
    "        if root.left is not None:\n",
    "            leftOk = isBSF(root.left,minVal,root.val)\n",
    "        if root.right is not None:\n",
    "            rightOK = isBSF(root.right,root.val,maxVal)\n",
    "        \n",
    "        return leftOK and rightOK\n",
    "    if root is None:\n",
    "        return True\n",
    "    return isBSF(root,float('-inf'),float('inf'))"
   ]
  },
  {
   "cell_type": "code",
   "execution_count": null,
   "metadata": {
    "collapsed": true
   },
   "outputs": [],
   "source": []
  }
 ],
 "metadata": {
  "anaconda-cloud": {},
  "kernelspec": {
   "display_name": "Python [conda root]",
   "language": "python",
   "name": "conda-root-py"
  },
  "language_info": {
   "codemirror_mode": {
    "name": "ipython",
    "version": 3
   },
   "file_extension": ".py",
   "mimetype": "text/x-python",
   "name": "python",
   "nbconvert_exporter": "python",
   "pygments_lexer": "ipython3",
   "version": "3.5.2"
  }
 },
 "nbformat": 4,
 "nbformat_minor": 2
}
