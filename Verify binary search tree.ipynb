{
 "cells": [
  {
   "cell_type": "code",
   "execution_count": 3,
   "metadata": {
    "collapsed": true
   },
   "outputs": [],
   "source": [
    "class Node:\n",
    "    def __init__(self,val):\n",
    "        self.key = val\n",
    "        self.left = None\n",
    "        self.right = None"
   ]
  },
  {
   "cell_type": "code",
   "execution_count": 4,
   "metadata": {
    "collapsed": true
   },
   "outputs": [],
   "source": [
    "from collections import deque\n",
    "def addNode(node,root):\n",
    "    if root is None:\n",
    "        raise ValueError('root cannot be None.')\n",
    "    \n",
    "    nodeFound = deque(root)\n",
    "    \n",
    "    while len(nodeFound)>0:\n",
    "        \n",
    "        curNode = nodeFound.popleft()\n",
    "        \n",
    "        if curNode.left is None:\n",
    "            curNode.left = node\n",
    "            break\n",
    "        if curNode.right is None:\n",
    "            curNode.right = node\n",
    "            break\n",
    "        \n",
    "        nodeFound.append(curNode.left)\n",
    "        nodeFound.append(curNode.right)\n"
   ]
  },
  {
   "cell_type": "code",
   "execution_count": 5,
   "metadata": {
    "collapsed": true
   },
   "outputs": [],
   "source": [
    "def isBinarySearchTree(root):\n",
    "    def isBSF(root,minVal,maxVal):\n",
    "        if root.val <= minVal:\n",
    "            return False\n",
    "        if root.val >= maxVal:\n",
    "            return False\n",
    "        \n",
    "        leftOK = True\n",
    "        rightOK = True\n",
    "        \n",
    "        if root.left is not None:\n",
    "            leftOk = isBSF(root.left,minVal,root.val)\n",
    "        if root.right is not None:\n",
    "            rightOK = isBSF(root.right,root.val,maxVal)\n",
    "        \n",
    "        return leftOK and rightOK\n",
    "    if root is None:\n",
    "        return True\n",
    "    return isBSF(root,float('-inf'),float('inf'))"
   ]
  },
  {
   "cell_type": "code",
   "execution_count": 6,
   "metadata": {
    "collapsed": false
   },
   "outputs": [
    {
     "data": {
      "text/plain": [
       "'\\nclass TreeNode:\\n    def __init__(self,val):\\n        self.val = val\\n        self.left = None\\n        self.right = None\\n'"
      ]
     },
     "execution_count": 6,
     "metadata": {},
     "output_type": "execute_result"
    }
   ],
   "source": [
    "\"\"\"\n",
    "class TreeNode:\n",
    "    def __init__(self,val):\n",
    "        self.val = val\n",
    "        self.left = None\n",
    "        self.right = None\n",
    "\"\"\""
   ]
  },
  {
   "cell_type": "code",
   "execution_count": 7,
   "metadata": {
    "collapsed": true
   },
   "outputs": [],
   "source": [
    "def morrisTrav(root):\n",
    "    current = root\n",
    "    while current:\n",
    "        if not current.left:\n",
    "            print(current.val)\n",
    "            current = current.right\n",
    "        else:\n",
    "            pre = current.left\n",
    "            while pre.right and pre.right!=current:\n",
    "                pre = pre.right\n",
    "            if not pre.right:\n",
    "                pre.right = current\n",
    "                current = current.left\n",
    "            else:\n",
    "                pre.right = None\n",
    "                print(current.val)\n",
    "                current = current.right"
   ]
  },
  {
   "cell_type": "markdown",
   "metadata": {},
   "source": [
    "### 6. iterative preorder tranversal\n",
    "___"
   ]
  },
  {
   "cell_type": "code",
   "execution_count": 20,
   "metadata": {
    "collapsed": true
   },
   "outputs": [],
   "source": [
    "def iterPreorder(root):\n",
    "    \"\"\"\n",
    "    use stack to achieve preorder tranversal\n",
    "    1. stack = [root]\n",
    "    2. stack.pop(), then push right node, then push left node\n",
    "    \"\"\"\n",
    "    if not root:\n",
    "        return\n",
    "    stack = [root]\n",
    "    while stack:\n",
    "        curNode = stack.pop()\n",
    "        print(curNode.key,end = ' ')\n",
    "        if curNode.right:\n",
    "            stack.append(curNode.right)\n",
    "        if curNode.left:\n",
    "            stack.append(curNode.left)\n",
    "    return"
   ]
  },
  {
   "cell_type": "code",
   "execution_count": 21,
   "metadata": {
    "collapsed": true
   },
   "outputs": [],
   "source": [
    "testNode = Node(0)\n",
    "testNode.left = Node(1)\n",
    "testNode.left.left = Node(2)\n",
    "testNode.left.right = Node(3)\n",
    "testNode.right = Node(4)\n",
    "testNode.right.right = Node(5)\n",
    "testNode.right.left = Node(6)"
   ]
  },
  {
   "cell_type": "code",
   "execution_count": 22,
   "metadata": {
    "collapsed": false
   },
   "outputs": [
    {
     "name": "stdout",
     "output_type": "stream",
     "text": [
      "0 1 2 3 4 6 5 "
     ]
    }
   ],
   "source": [
    "iterPreorder(testNode)"
   ]
  },
  {
   "cell_type": "markdown",
   "metadata": {},
   "source": [
    "### 7. Morris preorder tranversal\n",
    "___"
   ]
  },
  {
   "cell_type": "code",
   "execution_count": 24,
   "metadata": {
    "collapsed": true
   },
   "outputs": [],
   "source": [
    "def MorrisPreOrder(root):\n",
    "    while root:\n",
    "        if not root.left:\n",
    "            print(root.val,end=' ')\n",
    "            root = root.right\n",
    "        else:\n",
    "            pre = root.left\n",
    "            while pre.right and pre.right!=root:\n",
    "                pre = pre.right\n",
    "            if not pre.right:\n",
    "                print(root,end=' ')\n",
    "                pre.right = root\n",
    "                root = root.left\n",
    "            else:\n",
    "                pre.right = None\n",
    "                root = root.right"
   ]
  },
  {
   "cell_type": "code",
   "execution_count": null,
   "metadata": {
    "collapsed": true
   },
   "outputs": [],
   "source": []
  }
 ],
 "metadata": {
  "anaconda-cloud": {},
  "kernelspec": {
   "display_name": "Python [conda root]",
   "language": "python",
   "name": "conda-root-py"
  },
  "language_info": {
   "codemirror_mode": {
    "name": "ipython",
    "version": 3
   },
   "file_extension": ".py",
   "mimetype": "text/x-python",
   "name": "python",
   "nbconvert_exporter": "python",
   "pygments_lexer": "ipython3",
   "version": "3.5.2"
  }
 },
 "nbformat": 4,
 "nbformat_minor": 2
}
