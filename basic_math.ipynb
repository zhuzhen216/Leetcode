{
 "cells": [
  {
   "cell_type": "code",
   "execution_count": 30,
   "metadata": {
    "collapsed": false
   },
   "outputs": [],
   "source": [
    "def comp(string,nums):\n",
    "    newVal = nums[0]\n",
    "    if len(string)==0 or string is None:\n",
    "        return newVal\n",
    "    \n",
    "    countOper = 0\n",
    "    countPara = 0\n",
    "    queue = []\n",
    "    i = 0\n",
    "    while string[i]!=')':\n",
    "        if string[i]!='(':\n",
    "            countOper += 1\n",
    "            curOper = string[i]\n",
    "        i += 1\n",
    "    #print(countOper)\n",
    "    if countOper==0:\n",
    "        return newVal\n",
    "    if curOper == '+':\n",
    "        newVal = nums[countOper-1] + nums[countOper]\n",
    "    elif curOper == '-':\n",
    "        newVal = nums[countOper-1] - nums[countOper]\n",
    "    elif curOper == '*':\n",
    "        newVal = nums[countOper-1] * nums[countOper]\n",
    "    elif curOper == '/':\n",
    "        newVal = nums[countOper-1] / nums[countOper]\n",
    "    print(i)\n",
    "    return comp(string[0:i-2]+string[i+1:],nums[0:countOper-1]+[newVal]+nums[countOper+1:])    "
   ]
  },
  {
   "cell_type": "code",
   "execution_count": 33,
   "metadata": {
    "collapsed": true
   },
   "outputs": [],
   "source": [
    "nums=[1,2,3,4]\n",
    "#operation = ['+','-']\n",
    "string=('(((+)*)/)')"
   ]
  },
  {
   "cell_type": "code",
   "execution_count": 34,
   "metadata": {
    "collapsed": false
   },
   "outputs": [
    {
     "name": "stdout",
     "output_type": "stream",
     "text": [
      "4\n",
      "3\n",
      "2\n"
     ]
    },
    {
     "data": {
      "text/plain": [
       "2.25"
      ]
     },
     "execution_count": 34,
     "metadata": {},
     "output_type": "execute_result"
    }
   ],
   "source": [
    "comp(string,nums)"
   ]
  },
  {
   "cell_type": "code",
   "execution_count": null,
   "metadata": {
    "collapsed": true
   },
   "outputs": [],
   "source": [
    "def validPara(operList):\n",
    "    queue = []\n",
    "    if len(operList)==1:\n",
    "        return ['('+operList[0]+')']\n",
    "    for i in range(len(operList)):\n",
    "        \n",
    "    "
   ]
  },
  {
   "cell_type": "code",
   "execution_count": 35,
   "metadata": {
    "collapsed": false
   },
   "outputs": [
    {
     "data": {
      "text/plain": [
       "1"
      ]
     },
     "execution_count": 35,
     "metadata": {},
     "output_type": "execute_result"
    }
   ],
   "source": [
    "int('01')"
   ]
  },
  {
   "cell_type": "code",
   "execution_count": 36,
   "metadata": {
    "collapsed": false
   },
   "outputs": [
    {
     "data": {
      "text/plain": [
       "True"
      ]
     },
     "execution_count": 36,
     "metadata": {},
     "output_type": "execute_result"
    }
   ],
   "source": [
    "None == None"
   ]
  },
  {
   "cell_type": "code",
   "execution_count": 38,
   "metadata": {
    "collapsed": false
   },
   "outputs": [],
   "source": [
    "a=[None,None]"
   ]
  },
  {
   "cell_type": "code",
   "execution_count": 39,
   "metadata": {
    "collapsed": false
   },
   "outputs": [
    {
     "data": {
      "text/plain": [
       "True"
      ]
     },
     "execution_count": 39,
     "metadata": {},
     "output_type": "execute_result"
    }
   ],
   "source": [
    "a[0]==a[1]"
   ]
  },
  {
   "cell_type": "code",
   "execution_count": null,
   "metadata": {
    "collapsed": true
   },
   "outputs": [],
   "source": []
  }
 ],
 "metadata": {
  "anaconda-cloud": {},
  "kernelspec": {
   "display_name": "Python [conda root]",
   "language": "python",
   "name": "conda-root-py"
  },
  "language_info": {
   "codemirror_mode": {
    "name": "ipython",
    "version": 3
   },
   "file_extension": ".py",
   "mimetype": "text/x-python",
   "name": "python",
   "nbconvert_exporter": "python",
   "pygments_lexer": "ipython3",
   "version": "3.5.2"
  }
 },
 "nbformat": 4,
 "nbformat_minor": 2
}
