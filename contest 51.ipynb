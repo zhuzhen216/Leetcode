{
 "cells": [
  {
   "cell_type": "code",
   "execution_count": 6,
   "metadata": {
    "collapsed": true
   },
   "outputs": [],
   "source": [
    "def findFlowers(array,k):\n",
    "    if k + 2 > len(array):\n",
    "        return -1\n",
    "    pos = [0 for _ in range(len(array))]\n",
    "    for i in range(len(array)):\n",
    "        pos[array[i]-1]=i+1\n",
    "    print(pos)\n",
    "    \n",
    "    ret = []\n",
    "    \n",
    "    i = 0\n",
    "    while i<len(array)-k-1:\n",
    "        min1 = pos[i]\n",
    "        min2 = pos[i+k+1]\n",
    "        start = i + 1\n",
    "        while start < i+k+1:\n",
    "            if pos[start]<min1 or pos[start]<min2:\n",
    "                break\n",
    "            start += 1\n",
    "        \n",
    "        if start == i+k+1:\n",
    "            ret.append(max(min1,min2))\n",
    "            i = i + k + 1\n",
    "        else:\n",
    "            i = start\n",
    "    if len(ret)==0:\n",
    "        return -1\n",
    "    else:\n",
    "        return min(ret)"
   ]
  },
  {
   "cell_type": "code",
   "execution_count": 7,
   "metadata": {
    "collapsed": false
   },
   "outputs": [
    {
     "name": "stdout",
     "output_type": "stream",
     "text": [
      "[5, 3, 1, 9, 8, 6, 10, 4, 2, 7]\n"
     ]
    },
    {
     "data": {
      "text/plain": [
       "6"
      ]
     },
     "execution_count": 7,
     "metadata": {},
     "output_type": "execute_result"
    }
   ],
   "source": [
    "findFlowers([3,9,2,8,1,6,10,5,4,7],1)"
   ]
  },
  {
   "cell_type": "code",
   "execution_count": 8,
   "metadata": {
    "collapsed": true
   },
   "outputs": [],
   "source": [
    "def calPoints(ops):\n",
    "        \"\"\"\n",
    "        :type ops: List[str]\n",
    "        :rtype: int\n",
    "        \"\"\"\n",
    "        ret = []\n",
    "        oper = {'+','C','D'}\n",
    "        for elem in ops:\n",
    "            if elem not in oper:\n",
    "                ret.append(int(elem))\n",
    "            else:\n",
    "                if elem == 'C':\n",
    "                    ret.pop()\n",
    "                elif elem == 'D':\n",
    "                    ret.append(ret[-1]*2)\n",
    "                else:\n",
    "                    ret.append(ret[-1]+ret[-2])\n",
    "        return sum(ret)"
   ]
  },
  {
   "cell_type": "code",
   "execution_count": 10,
   "metadata": {
    "collapsed": false
   },
   "outputs": [
    {
     "data": {
      "text/plain": [
       "27"
      ]
     },
     "execution_count": 10,
     "metadata": {},
     "output_type": "execute_result"
    }
   ],
   "source": [
    "calPoints([\"5\",\"-2\",\"4\",\"C\",\"D\",\"9\",\"+\",\"+\"])"
   ]
  },
  {
   "cell_type": "code",
   "execution_count": 11,
   "metadata": {
    "collapsed": true
   },
   "outputs": [],
   "source": [
    "def func(*num):\n",
    "    sum_val = 0\n",
    "    for i in num:\n",
    "        sum_val += i\n",
    "    return sum_val"
   ]
  },
  {
   "cell_type": "code",
   "execution_count": 16,
   "metadata": {
    "collapsed": false
   },
   "outputs": [
    {
     "data": {
      "text/plain": [
       "15"
      ]
     },
     "execution_count": 16,
     "metadata": {},
     "output_type": "execute_result"
    }
   ],
   "source": [
    "num = [1,2,3,4,5]\n",
    "func(1,2,3,4,5)"
   ]
  },
  {
   "cell_type": "code",
   "execution_count": 17,
   "metadata": {
    "collapsed": true
   },
   "outputs": [],
   "source": [
    "def func2(**dict_num):\n",
    "    for key in dict_num:\n",
    "        print(key,dict_num[key])"
   ]
  },
  {
   "cell_type": "code",
   "execution_count": 20,
   "metadata": {
    "collapsed": false
   },
   "outputs": [
    {
     "name": "stdout",
     "output_type": "stream",
     "text": [
      "val 3\n",
      "name keyword\n"
     ]
    }
   ],
   "source": [
    "func2(name='keyword',val=3)"
   ]
  },
  {
   "cell_type": "code",
   "execution_count": null,
   "metadata": {
    "collapsed": true
   },
   "outputs": [],
   "source": []
  }
 ],
 "metadata": {
  "anaconda-cloud": {},
  "kernelspec": {
   "display_name": "Python [conda root]",
   "language": "python",
   "name": "conda-root-py"
  },
  "language_info": {
   "codemirror_mode": {
    "name": "ipython",
    "version": 3
   },
   "file_extension": ".py",
   "mimetype": "text/x-python",
   "name": "python",
   "nbconvert_exporter": "python",
   "pygments_lexer": "ipython3",
   "version": "3.5.2"
  }
 },
 "nbformat": 4,
 "nbformat_minor": 2
}
