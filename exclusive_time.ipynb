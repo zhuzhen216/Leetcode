{
 "cells": [
  {
   "cell_type": "code",
   "execution_count": 1,
   "metadata": {
    "collapsed": true
   },
   "outputs": [],
   "source": [
    "def exclusiveTime(n, logs):\n",
    "        \"\"\"\n",
    "        :type n: int\n",
    "        :type logs: List[str]\n",
    "        :rtype: List[int]\n",
    "        \"\"\"\n",
    "        ret = [0 for _ in range(n)]\n",
    "        #dict_function = {}\n",
    "        for i in range(1,len(logs)):\n",
    "            prev = logs[i-1].split(':')\n",
    "            cur = logs[i].split(':')\n",
    "            if prev[1]=='start' and cur[1]=='start':\n",
    "                ret[int(prev[0])]+=int(cur[2])-int(prev[2])\n",
    "            if prev[1]=='start' and cur[1]=='end':\n",
    "                ret[int(prev[0])]+=int(cur[2])-int(prev[2])+1\n",
    "            if prev[1]=='end' and cur[1]=='end':\n",
    "                ret[int(cur[0])]+=int(cur[2])-int(prev[2])\n",
    "        return ret"
   ]
  },
  {
   "cell_type": "code",
   "execution_count": 2,
   "metadata": {
    "collapsed": false
   },
   "outputs": [
    {
     "data": {
      "text/plain": [
       "[3, 4]"
      ]
     },
     "execution_count": 2,
     "metadata": {},
     "output_type": "execute_result"
    }
   ],
   "source": [
    "exclusiveTime(2,[\"0:start:0\",\n",
    " \"1:start:2\",\n",
    " \"1:end:5\",\n",
    " \"0:end:6\"])"
   ]
  },
  {
   "cell_type": "code",
   "execution_count": null,
   "metadata": {
    "collapsed": true
   },
   "outputs": [],
   "source": []
  }
 ],
 "metadata": {
  "anaconda-cloud": {},
  "kernelspec": {
   "display_name": "Python [conda root]",
   "language": "python",
   "name": "conda-root-py"
  },
  "language_info": {
   "codemirror_mode": {
    "name": "ipython",
    "version": 3
   },
   "file_extension": ".py",
   "mimetype": "text/x-python",
   "name": "python",
   "nbconvert_exporter": "python",
   "pygments_lexer": "ipython3",
   "version": "3.5.2"
  }
 },
 "nbformat": 4,
 "nbformat_minor": 2
}
